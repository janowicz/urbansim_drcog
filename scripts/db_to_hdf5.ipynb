{
 "metadata": {
  "name": ""
 },
 "nbformat": 3,
 "nbformat_minor": 0,
 "worksheets": [
  {
   "cells": [
    {
     "cell_type": "code",
     "collapsed": false,
     "input": [
      "import os, psycopg2, pandas as pd\n",
      "import cStringIO\n",
      "import pandas.io.sql as sql, numpy as np"
     ],
     "language": "python",
     "metadata": {},
     "outputs": [],
     "prompt_number": 1
    },
    {
     "cell_type": "code",
     "collapsed": false,
     "input": [
      "conn_string = \"host=localhost port= 5432 dbname='drcog' user='postgres' password='postgres'\"\n",
      "conn = psycopg2.connect(conn_string)\n",
      "cursor = conn.cursor()"
     ],
     "language": "python",
     "metadata": {},
     "outputs": [],
     "prompt_number": 2
    },
    {
     "cell_type": "code",
     "collapsed": false,
     "input": [
      "zoning_btype = sql.read_frame('select * from zoning_building_type_id',conn)\n",
      "zoning_btype.gid = 1\n",
      "zoning = pd.pivot_table(zoning_btype,rows=['zoning_id'],cols=['building_type_id']).gid\n",
      "new_columns = []\n",
      "for i in range(1,26):\n",
      "    if i <> 13:\n",
      "        col = 'type' + str(i)\n",
      "        new_columns.append(col)\n",
      "zoning.columns = new_columns\n",
      "zoning = zoning.fillna(0)\n",
      "#zoning = zoning.astype('bool')"
     ],
     "language": "python",
     "metadata": {},
     "outputs": [],
     "prompt_number": 3
    },
    {
     "cell_type": "code",
     "collapsed": false,
     "input": [
      "travel_data = sql.read_frame('select * from travel_data',conn)"
     ],
     "language": "python",
     "metadata": {},
     "outputs": [],
     "prompt_number": 4
    },
    {
     "cell_type": "code",
     "collapsed": false,
     "input": [
      "travel_data = travel_data.set_index([\"from_zone_id\",\"to_zone_id\"])"
     ],
     "language": "python",
     "metadata": {},
     "outputs": [],
     "prompt_number": 5
    },
    {
     "cell_type": "code",
     "collapsed": false,
     "input": [
      "#####Uncomment once I have coded a generic allocation to building module!!  For now, load from cache\n",
      "##households = sql.read_frame('select * from households_synthesized',conn)\n",
      "import misc\n",
      "households = misc.cache_to_df('c://opus//data//drcog//base_year_data//2010//households')"
     ],
     "language": "python",
     "metadata": {},
     "outputs": [],
     "prompt_number": 6
    },
    {
     "cell_type": "code",
     "collapsed": false,
     "input": [
      "import misc\n",
      "target_vacancies = misc.cache_to_df('c://opus//data//drcog//base_year_data//2010//target_vacancies')\n",
      "#del target_vacancies['gid']\n",
      "target_vacancies = target_vacancies.set_index(['year','building_type_id'])"
     ],
     "language": "python",
     "metadata": {},
     "outputs": [],
     "prompt_number": 7
    },
    {
     "cell_type": "code",
     "collapsed": false,
     "input": [
      "zones = sql.read_frame('select * from zones',conn)\n",
      "\n",
      "establishments = sql.read_frame('select * from establishments',conn)\n",
      "del establishments['gid']\n",
      "\n",
      "households_for_estimation = sql.read_frame('select * from households_for_estimation',conn)\n",
      "\n",
      "establishments['employees'] = establishments.number_of_jobs\n",
      "del establishments['number_of_jobs']"
     ],
     "language": "python",
     "metadata": {},
     "outputs": [],
     "prompt_number": 8
    },
    {
     "cell_type": "code",
     "collapsed": false,
     "input": [
      "query = \"select building_id, building_type_id, improvement_value, land_area, non_residential_sqft, parcel_id, residential_units, sqft_per_unit, stories, tax_exempt, year_built, bldg_sq_ft from buildings\"\n",
      "buildings = sql.read_frame(query,conn)\n",
      "buildings = buildings.replace(-1,0)\n",
      "buildings['unit_price_non_residential'] = 0.0\n",
      "buildings['unit_price_residential'] = 0.0\n",
      "buildings.unit_price_residential[buildings.residential_units>0] = buildings.improvement_value[buildings.residential_units>0]/buildings.residential_units[buildings.residential_units>0]\n",
      "buildings.unit_price_non_residential[buildings.non_residential_sqft>0] = buildings.improvement_value[buildings.non_residential_sqft>0]/buildings.non_residential_sqft[buildings.non_residential_sqft>0]"
     ],
     "language": "python",
     "metadata": {},
     "outputs": [],
     "prompt_number": 9
    },
    {
     "cell_type": "code",
     "collapsed": false,
     "input": [
      "annual_employment_control_totals = sql.read_frame('select * from annual_employment_control_totals',conn)\n",
      "del annual_employment_control_totals['gid']\n",
      "annual_household_control_totals = sql.read_frame('select * from annual_household_control_totals',conn)\n",
      "del annual_household_control_totals['gid']"
     ],
     "language": "python",
     "metadata": {},
     "outputs": [],
     "prompt_number": 10
    },
    {
     "cell_type": "code",
     "collapsed": false,
     "input": [
      "annual_household_relocation_rates = sql.read_frame('select * from annual_household_relocation_rates',conn)\n",
      "del annual_household_relocation_rates['gid']\n",
      "annual_job_relocation_rates = sql.read_frame('select * from annual_job_relocation_rates',conn)\n",
      "del annual_job_relocation_rates['gid']\n",
      "sectors = sql.read_frame('select * from employment_sectors',conn)\n",
      "building_types = sql.read_frame('select * from building_types',conn)"
     ],
     "language": "python",
     "metadata": {},
     "outputs": [],
     "prompt_number": 11
    },
    {
     "cell_type": "code",
     "collapsed": false,
     "input": [
      "employment_sectors_six_category = sql.read_frame('select * from employment_sectors_six_category',conn)"
     ],
     "language": "python",
     "metadata": {},
     "outputs": [],
     "prompt_number": 12
    },
    {
     "cell_type": "code",
     "collapsed": false,
     "input": [
      "building_sqft_per_job = sql.read_frame('select * from building_sqft_per_job',conn)\n",
      "building_sqft_per_job = building_sqft_per_job.set_index(['zone_id','building_type_id'])\n",
      "del building_sqft_per_job['gid']\n",
      "fars = sql.read_frame('select * from fars',conn)\n",
      "fars = fars.set_index('far_id')\n",
      "zoning_building_type = sql.read_frame('select * from zoning_building_type_id',conn)\n",
      "del zoning_building_type['gid']"
     ],
     "language": "python",
     "metadata": {},
     "outputs": [],
     "prompt_number": 13
    },
    {
     "cell_type": "code",
     "collapsed": false,
     "input": [
      "query = \"\"\"SELECT a.county_id, a.parcel_sqft, a.land_value, a.parcel_id, a.zone_id, a.city_id, a.gen_lu_type_id, a.lu_type_id, a.tax_exempt_flag, a.school_district, a.zoning_id,\n",
      "b.dist_bus, b.dist_rail, b.in_ugb, b.in_uga, b.env_constr_park, b.env_constr_lake, b.env_constr_floodplain, b.env_constr_river, b.env_constr_landslide, b.far_id\n",
      "FROM parcels a join parcels_spatial b on a.parcel_id = b.parcel_id\"\"\"\n",
      "parcels = sql.read_frame(query,conn)\n",
      "parcels.far_id[np.isnan(parcels.far_id)] = 0\n",
      "parcels = parcels.set_index('parcel_id')\n",
      "parcels['prop_constrained'] = parcels.env_constr_park + parcels.env_constr_lake + parcels.env_constr_floodplain + parcels.env_constr_river + parcels.env_constr_landslide\n",
      "parcels.prop_constrained[parcels.prop_constrained>1] = 1"
     ],
     "language": "python",
     "metadata": {},
     "outputs": [],
     "prompt_number": 14
    },
    {
     "cell_type": "code",
     "collapsed": false,
     "input": [
      "annual_job_relocation_rates = annual_job_relocation_rates[['job_relocation_probability','sector_id']]\n",
      "annual_job_relocation_rates = annual_job_relocation_rates.set_index('sector_id')"
     ],
     "language": "python",
     "metadata": {},
     "outputs": [],
     "prompt_number": 15
    },
    {
     "cell_type": "code",
     "collapsed": false,
     "input": [
      "annual_employment_control_totals = annual_employment_control_totals[['total_number_of_jobs','sector_id_six','year','home_based_status']]\n",
      "annual_employment_control_totals = annual_employment_control_totals.set_index('year')"
     ],
     "language": "python",
     "metadata": {},
     "outputs": [],
     "prompt_number": 16
    },
    {
     "cell_type": "code",
     "collapsed": false,
     "input": [
      "establishments.establishment_id = establishments.establishment_id.astype('int')\n",
      "establishments = establishments.set_index('establishment_id')"
     ],
     "language": "python",
     "metadata": {},
     "outputs": [],
     "prompt_number": 17
    },
    {
     "cell_type": "code",
     "collapsed": false,
     "input": [
      "households = households.set_index('household_id')\n",
      "buildings = buildings.set_index('building_id')\n",
      "buildings = buildings.replace(-1,0)\n",
      "zones = zones.set_index('zone_id')\n",
      "households_for_estimation = households_for_estimation.set_index('household_id')"
     ],
     "language": "python",
     "metadata": {},
     "outputs": [],
     "prompt_number": 18
    },
    {
     "cell_type": "code",
     "collapsed": false,
     "input": [
      "annual_household_control_totals = annual_household_control_totals.set_index('year')"
     ],
     "language": "python",
     "metadata": {},
     "outputs": [],
     "prompt_number": 19
    },
    {
     "cell_type": "code",
     "collapsed": false,
     "input": [
      "os.chdir('c:\\\\Users\\\\janowicz\\\\dropbox\\\\repos\\\\urbansim_drcog\\\\data')\n",
      "store = pd.HDFStore('drcog.h5')"
     ],
     "language": "python",
     "metadata": {},
     "outputs": [],
     "prompt_number": 20
    },
    {
     "cell_type": "code",
     "collapsed": false,
     "input": [
      "store['target_vacancies'] = target_vacancies"
     ],
     "language": "python",
     "metadata": {},
     "outputs": [],
     "prompt_number": 21
    },
    {
     "cell_type": "code",
     "collapsed": false,
     "input": [
      "store['households'] = households\n",
      "store['households_for_estimation'] = households_for_estimation\n",
      "store['buildings'] = buildings\n",
      "store['zones'] = zones\n",
      "store['annual_household_relocation_rates'] = annual_household_relocation_rates\n",
      "store['establishments'] = establishments\n",
      "store['building_sqft_per_job'] = building_sqft_per_job\n",
      "store['annual_job_relocation_rates'] = annual_job_relocation_rates\n",
      "store['parcels'] = parcels\n",
      "store['fars'] = fars\n",
      "store['zoning_building_type'] = zoning_building_type\n",
      "store['zoning'] = zoning"
     ],
     "language": "python",
     "metadata": {},
     "outputs": [],
     "prompt_number": 22
    },
    {
     "cell_type": "code",
     "collapsed": false,
     "input": [
      "store['annual_employment_control_totals'] = annual_employment_control_totals\n",
      "store['annual_household_control_totals'] = annual_household_control_totals"
     ],
     "language": "python",
     "metadata": {},
     "outputs": [],
     "prompt_number": 23
    },
    {
     "cell_type": "code",
     "collapsed": false,
     "input": [
      "store['travel_data'] = travel_data"
     ],
     "language": "python",
     "metadata": {},
     "outputs": [],
     "prompt_number": 24
    },
    {
     "cell_type": "code",
     "collapsed": false,
     "input": [
      "for table in store.keys():\n",
      "    tbl = store[table]\n",
      "    newtbl = pd.DataFrame(index=tbl.index)\n",
      "    for colname in tbl.columns:\n",
      "        if tbl[colname].dtype == np.float64: newtbl[colname] = tbl[colname].astype('float32') \n",
      "        elif tbl[colname].dtype == np.int64: newtbl[colname] = tbl[colname].astype('int32')\n",
      "        else: newtbl[colname] = tbl[colname]\n",
      "    df = newtbl\n",
      "    #print df\n",
      "    store[table] = df"
     ],
     "language": "python",
     "metadata": {},
     "outputs": [],
     "prompt_number": 25
    },
    {
     "cell_type": "code",
     "collapsed": false,
     "input": [
      "store.close()"
     ],
     "language": "python",
     "metadata": {},
     "outputs": [],
     "prompt_number": 26
    },
    {
     "cell_type": "code",
     "collapsed": false,
     "input": [
      "store = pd.HDFStore('c:\\\\Users\\\\janowicz\\\\dropbox\\\\repos\\\\urbansim_drcog\\\\data\\\\drcog.h5')"
     ],
     "language": "python",
     "metadata": {},
     "outputs": [],
     "prompt_number": 27
    },
    {
     "cell_type": "code",
     "collapsed": false,
     "input": [
      "store"
     ],
     "language": "python",
     "metadata": {},
     "outputs": [
      {
       "metadata": {},
       "output_type": "pyout",
       "prompt_number": 28,
       "text": [
        "<class 'pandas.io.pytables.HDFStore'>\n",
        "File path: c:\\Users\\janowicz\\dropbox\\repos\\urbansim_drcog\\data\\drcog.h5\n",
        "/annual_employment_control_totals             frame        (shape->[492,3])     \n",
        "/annual_household_control_totals              frame        (shape->[41,2])      \n",
        "/annual_household_relocation_rates            frame        (shape->[21,5])      \n",
        "/annual_job_relocation_rates                  frame        (shape->[31,1])      \n",
        "/building_sqft_per_job                        frame        (shape->[67296,1])   \n",
        "/buildings                                    frame        (shape->[881751,13]) \n",
        "/establishments                               frame        (shape->[202193,6])  \n",
        "/fars                                         frame        (shape->[2336,3])    \n",
        "/households                                   frame        (shape->[1160387,11])\n",
        "/households_for_estimation                    frame        (shape->[1442,10])   \n",
        "/parcels                                      frame        (shape->[949484,21]) \n",
        "/target_vacancies                             frame        (shape->[154,1])     \n",
        "/travel_data                                  frame        (shape->[7862416,10])\n",
        "/zones                                        frame        (shape->[2804,32])   \n",
        "/zoning                                       frame        (shape->[32,24])     \n",
        "/zoning_building_type                         frame        (shape->[352,2])     "
       ]
      }
     ],
     "prompt_number": 28
    },
    {
     "cell_type": "code",
     "collapsed": false,
     "input": [
      "import pandas as pd, os\n",
      "store = pd.HDFStore('c:\\\\Users\\\\janowicz\\\\dropbox\\\\repos\\\\urbansim_drcog\\\\data\\\\drcog.h5')\n",
      "store"
     ],
     "language": "python",
     "metadata": {},
     "outputs": [
      {
       "metadata": {},
       "output_type": "pyout",
       "prompt_number": 29,
       "text": [
        "<class 'pandas.io.pytables.HDFStore'>\n",
        "File path: c:\\Users\\janowicz\\dropbox\\repos\\urbansim_drcog\\data\\drcog.h5\n",
        "/annual_employment_control_totals             frame        (shape->[492,3])     \n",
        "/annual_household_control_totals              frame        (shape->[41,2])      \n",
        "/annual_household_relocation_rates            frame        (shape->[21,5])      \n",
        "/annual_job_relocation_rates                  frame        (shape->[31,1])      \n",
        "/building_sqft_per_job                        frame        (shape->[67296,1])   \n",
        "/buildings                                    frame        (shape->[881751,13]) \n",
        "/establishments                               frame        (shape->[202193,6])  \n",
        "/fars                                         frame        (shape->[2336,3])    \n",
        "/households                                   frame        (shape->[1160387,11])\n",
        "/households_for_estimation                    frame        (shape->[1442,10])   \n",
        "/parcels                                      frame        (shape->[949484,21]) \n",
        "/target_vacancies                             frame        (shape->[154,1])     \n",
        "/travel_data                                  frame        (shape->[7862416,10])\n",
        "/zones                                        frame        (shape->[2804,32])   \n",
        "/zoning                                       frame        (shape->[32,24])     \n",
        "/zoning_building_type                         frame        (shape->[352,2])     "
       ]
      }
     ],
     "prompt_number": 29
    },
    {
     "cell_type": "code",
     "collapsed": false,
     "input": [
      "store.fars.head()"
     ],
     "language": "python",
     "metadata": {},
     "outputs": [
      {
       "html": [
        "<div style=\"max-height:1000px;max-width:1500px;overflow:auto;\">\n",
        "<table border=\"1\" class=\"dataframe\">\n",
        "  <thead>\n",
        "    <tr style=\"text-align: right;\">\n",
        "      <th></th>\n",
        "      <th>far</th>\n",
        "      <th>place_description</th>\n",
        "      <th>far_flag</th>\n",
        "    </tr>\n",
        "    <tr>\n",
        "      <th>far_id</th>\n",
        "      <th></th>\n",
        "      <th></th>\n",
        "      <th></th>\n",
        "    </tr>\n",
        "  </thead>\n",
        "  <tbody>\n",
        "    <tr>\n",
        "      <th>2836024    </th>\n",
        "      <td> 0.16</td>\n",
        "      <td>                Frederick Zoning ID 24</td>\n",
        "      <td> 3</td>\n",
        "    </tr>\n",
        "    <tr>\n",
        "      <th>99990812310</th>\n",
        "      <td> 0.00</td>\n",
        "      <td>      Unincorporated Weld Zoning ID 10</td>\n",
        "      <td> 0</td>\n",
        "    </tr>\n",
        "    <tr>\n",
        "      <th>99990805915</th>\n",
        "      <td> 0.17</td>\n",
        "      <td> Unincorporated Jefferson Zoning ID 15</td>\n",
        "      <td> 1</td>\n",
        "    </tr>\n",
        "    <tr>\n",
        "      <th>99990805910</th>\n",
        "      <td> 0.00</td>\n",
        "      <td> Unincorporated Jefferson Zoning ID 10</td>\n",
        "      <td> 0</td>\n",
        "    </tr>\n",
        "    <tr>\n",
        "      <th>99990805906</th>\n",
        "      <td> 0.02</td>\n",
        "      <td>  Unincorporated Jefferson Zoning ID 6</td>\n",
        "      <td> 1</td>\n",
        "    </tr>\n",
        "  </tbody>\n",
        "</table>\n",
        "</div>"
       ],
       "metadata": {},
       "output_type": "pyout",
       "prompt_number": 30,
       "text": [
        "              far                      place_description  far_flag\n",
        "far_id                                                            \n",
        "2836024      0.16                 Frederick Zoning ID 24         3\n",
        "99990812310  0.00       Unincorporated Weld Zoning ID 10         0\n",
        "99990805915  0.17  Unincorporated Jefferson Zoning ID 15         1\n",
        "99990805910  0.00  Unincorporated Jefferson Zoning ID 10         0\n",
        "99990805906  0.02   Unincorporated Jefferson Zoning ID 6         1"
       ]
      }
     ],
     "prompt_number": 30
    },
    {
     "cell_type": "code",
     "collapsed": false,
     "input": [
      "np.round(store.buildings.residential_units)*1.2"
     ],
     "language": "python",
     "metadata": {},
     "outputs": [
      {
       "metadata": {},
       "output_type": "pyout",
       "prompt_number": 31,
       "text": [
        "building_id\n",
        "55152          28.8\n",
        "920048          1.2\n",
        "920049          1.2\n",
        "920050          1.2\n",
        "920051          1.2\n",
        "920052          1.2\n",
        "920053          1.2\n",
        "920054          1.2\n",
        "920055          1.2\n",
        "920056          1.2\n",
        "920057          1.2\n",
        "920058          1.2\n",
        "920059          1.2\n",
        "920060          1.2\n",
        "920061          1.2\n",
        "...\n",
        "1015755        1.2\n",
        "1015758        1.2\n",
        "1015759        1.2\n",
        "1015760        1.2\n",
        "1015761        1.2\n",
        "1015762        0.0\n",
        "1015763        0.0\n",
        "1015764        0.0\n",
        "1015765        0.0\n",
        "1015766        0.0\n",
        "1015767        0.0\n",
        "1015768        0.0\n",
        "1015769        0.0\n",
        "1015770        0.0\n",
        "1015771        0.0\n",
        "Name: residential_units, Length: 881751, dtype: float64"
       ]
      }
     ],
     "prompt_number": 31
    },
    {
     "cell_type": "code",
     "collapsed": false,
     "input": [
      "store_bay = pd.HDFStore('c:\\\\Users\\\\janowicz\\\\dropbox\\\\repos\\\\urbandeveloper\\\\bayarea.h5')"
     ],
     "language": "python",
     "metadata": {},
     "outputs": [],
     "prompt_number": 32
    },
    {
     "cell_type": "code",
     "collapsed": false,
     "input": [
      "store_bay"
     ],
     "language": "python",
     "metadata": {},
     "outputs": [
      {
       "metadata": {},
       "output_type": "pyout",
       "prompt_number": 33,
       "text": [
        "<class 'pandas.io.pytables.HDFStore'>\n",
        "File path: c:\\Users\\janowicz\\dropbox\\repos\\urbandeveloper\\bayarea.h5\n",
        "/apartments                    frame        (shape->[4327,6])    \n",
        "/bats                          frame        (shape->[215369,20]) \n",
        "/batshh                        frame        (shape->[13191,13])  \n",
        "/buildings                     frame        (shape->[1936259,25])\n",
        "/costar                        frame        (shape->[71520,23])  \n",
        "/homesales                     frame        (shape->[220037,14]) \n",
        "/households                    frame        (shape->[2608023,5]) \n",
        "/nets                          frame        (shape->[633973,7])  \n",
        "/nodes                         frame        (shape->[226060,6])  \n",
        "/parcels                       frame        (shape->[2023915,11])\n",
        "/zones                         frame        (shape->[1454,4])    \n",
        "/zones_buffers                 frame        (shape->[1454,1])    \n",
        "/zoning                        frame        (shape->[42311,19])  \n",
        "/zoning_for_parcels            frame        (shape->[1943555,1]) "
       ]
      }
     ],
     "prompt_number": 33
    },
    {
     "cell_type": "code",
     "collapsed": false,
     "input": [
      "store_bay.zoning"
     ],
     "language": "python",
     "metadata": {},
     "outputs": [
      {
       "html": [
        "<pre>\n",
        "&lt;class 'pandas.core.frame.DataFrame'&gt;\n",
        "Int64Index: 42311 entries, 20223 to 183818\n",
        "Data columns (total 19 columns):\n",
        "name          42311  non-null values\n",
        "max_height    26258  non-null values\n",
        "city          42311  non-null values\n",
        "max_far       34634  non-null values\n",
        "coverage      8988  non-null values\n",
        "type1         42311  non-null values\n",
        "type2         42311  non-null values\n",
        "type3         42311  non-null values\n",
        "type4         42311  non-null values\n",
        "type5         42311  non-null values\n",
        "type6         42311  non-null values\n",
        "type7         42311  non-null values\n",
        "type8         42311  non-null values\n",
        "type9         42311  non-null values\n",
        "type10        42311  non-null values\n",
        "type11        42311  non-null values\n",
        "type12        42311  non-null values\n",
        "type13        42311  non-null values\n",
        "type14        42311  non-null values\n",
        "dtypes: float32(3), int32(1), object(15)\n",
        "</pre>"
       ],
       "metadata": {},
       "output_type": "pyout",
       "prompt_number": 34,
       "text": [
        "<class 'pandas.core.frame.DataFrame'>\n",
        "Int64Index: 42311 entries, 20223 to 183818\n",
        "Data columns (total 19 columns):\n",
        "name          42311  non-null values\n",
        "max_height    26258  non-null values\n",
        "city          42311  non-null values\n",
        "max_far       34634  non-null values\n",
        "coverage      8988  non-null values\n",
        "type1         42311  non-null values\n",
        "type2         42311  non-null values\n",
        "type3         42311  non-null values\n",
        "type4         42311  non-null values\n",
        "type5         42311  non-null values\n",
        "type6         42311  non-null values\n",
        "type7         42311  non-null values\n",
        "type8         42311  non-null values\n",
        "type9         42311  non-null values\n",
        "type10        42311  non-null values\n",
        "type11        42311  non-null values\n",
        "type12        42311  non-null values\n",
        "type13        42311  non-null values\n",
        "type14        42311  non-null values\n",
        "dtypes: float32(3), int32(1), object(15)"
       ]
      }
     ],
     "prompt_number": 34
    },
    {
     "cell_type": "code",
     "collapsed": false,
     "input": [
      "store_bay.zoning.dtypes"
     ],
     "language": "python",
     "metadata": {},
     "outputs": [
      {
       "metadata": {},
       "output_type": "pyout",
       "prompt_number": 35,
       "text": [
        "name           object\n",
        "max_height    float32\n",
        "city            int32\n",
        "max_far       float32\n",
        "coverage      float32\n",
        "type1          object\n",
        "type2          object\n",
        "type3          object\n",
        "type4          object\n",
        "type5          object\n",
        "type6          object\n",
        "type7          object\n",
        "type8          object\n",
        "type9          object\n",
        "type10         object\n",
        "type11         object\n",
        "type12         object\n",
        "type13         object\n",
        "type14         object\n",
        "dtype: object"
       ]
      }
     ],
     "prompt_number": 35
    },
    {
     "cell_type": "code",
     "collapsed": false,
     "input": [
      "store_bay.zoning.head()"
     ],
     "language": "python",
     "metadata": {},
     "outputs": [
      {
       "html": [
        "<div style=\"max-height:1000px;max-width:1500px;overflow:auto;\">\n",
        "<table border=\"1\" class=\"dataframe\">\n",
        "  <thead>\n",
        "    <tr style=\"text-align: right;\">\n",
        "      <th></th>\n",
        "      <th>name</th>\n",
        "      <th>max_height</th>\n",
        "      <th>city</th>\n",
        "      <th>max_far</th>\n",
        "      <th>coverage</th>\n",
        "      <th>type1</th>\n",
        "      <th>type2</th>\n",
        "      <th>type3</th>\n",
        "      <th>type4</th>\n",
        "      <th>type5</th>\n",
        "      <th>type6</th>\n",
        "      <th>type7</th>\n",
        "      <th>type8</th>\n",
        "      <th>type9</th>\n",
        "      <th>type10</th>\n",
        "      <th>type11</th>\n",
        "      <th>type12</th>\n",
        "      <th>type13</th>\n",
        "      <th>type14</th>\n",
        "    </tr>\n",
        "    <tr>\n",
        "      <th>id</th>\n",
        "      <th></th>\n",
        "      <th></th>\n",
        "      <th></th>\n",
        "      <th></th>\n",
        "      <th></th>\n",
        "      <th></th>\n",
        "      <th></th>\n",
        "      <th></th>\n",
        "      <th></th>\n",
        "      <th></th>\n",
        "      <th></th>\n",
        "      <th></th>\n",
        "      <th></th>\n",
        "      <th></th>\n",
        "      <th></th>\n",
        "      <th></th>\n",
        "      <th></th>\n",
        "      <th></th>\n",
        "      <th></th>\n",
        "    </tr>\n",
        "  </thead>\n",
        "  <tbody>\n",
        "    <tr>\n",
        "      <th>20223</th>\n",
        "      <td>    SEE MISSION BAY SOUTH REDEVELOPMENT PLAN-MB-RA</td>\n",
        "      <td>  0</td>\n",
        "      <td> 101</td>\n",
        "      <td> NaN</td>\n",
        "      <td>NaN</td>\n",
        "      <td> f</td>\n",
        "      <td> f</td>\n",
        "      <td> f</td>\n",
        "      <td> f</td>\n",
        "      <td> f</td>\n",
        "      <td> f</td>\n",
        "      <td> f</td>\n",
        "      <td> f</td>\n",
        "      <td> f</td>\n",
        "      <td> f</td>\n",
        "      <td> f</td>\n",
        "      <td> f</td>\n",
        "      <td> f</td>\n",
        "      <td> f</td>\n",
        "    </tr>\n",
        "    <tr>\n",
        "      <th>11404</th>\n",
        "      <td>                                Mixed Housing Type</td>\n",
        "      <td> 30</td>\n",
        "      <td>  94</td>\n",
        "      <td> 5.0</td>\n",
        "      <td>NaN</td>\n",
        "      <td> t</td>\n",
        "      <td> t</td>\n",
        "      <td> t</td>\n",
        "      <td> f</td>\n",
        "      <td> f</td>\n",
        "      <td> t</td>\n",
        "      <td> f</td>\n",
        "      <td> f</td>\n",
        "      <td> f</td>\n",
        "      <td> t</td>\n",
        "      <td> f</td>\n",
        "      <td> f</td>\n",
        "      <td> f</td>\n",
        "      <td> f</td>\n",
        "    </tr>\n",
        "    <tr>\n",
        "      <th>2    </th>\n",
        "      <td> MODERATE SCALE NEIGHBORHOOD COMMERCIAL TRANSIT...</td>\n",
        "      <td>  0</td>\n",
        "      <td> 101</td>\n",
        "      <td> 0.0</td>\n",
        "      <td>NaN</td>\n",
        "      <td> f</td>\n",
        "      <td> f</td>\n",
        "      <td> f</td>\n",
        "      <td> f</td>\n",
        "      <td> f</td>\n",
        "      <td> f</td>\n",
        "      <td> f</td>\n",
        "      <td> f</td>\n",
        "      <td> f</td>\n",
        "      <td> f</td>\n",
        "      <td> f</td>\n",
        "      <td> f</td>\n",
        "      <td> f</td>\n",
        "      <td> f</td>\n",
        "    </tr>\n",
        "    <tr>\n",
        "      <th>3    </th>\n",
        "      <td> MODERATE SCALE NEIGHBORHOOD COMMERCIAL TRANSIT...</td>\n",
        "      <td> 85</td>\n",
        "      <td> 101</td>\n",
        "      <td> 3.6</td>\n",
        "      <td>NaN</td>\n",
        "      <td> f</td>\n",
        "      <td> f</td>\n",
        "      <td> f</td>\n",
        "      <td> f</td>\n",
        "      <td> f</td>\n",
        "      <td> f</td>\n",
        "      <td> f</td>\n",
        "      <td> f</td>\n",
        "      <td> f</td>\n",
        "      <td> f</td>\n",
        "      <td> f</td>\n",
        "      <td> f</td>\n",
        "      <td> f</td>\n",
        "      <td> f</td>\n",
        "    </tr>\n",
        "    <tr>\n",
        "      <th>4    </th>\n",
        "      <td> MODERATE SCALE NEIGHBORHOOD COMMERCIAL TRANSIT...</td>\n",
        "      <td> 68</td>\n",
        "      <td> 101</td>\n",
        "      <td> 3.6</td>\n",
        "      <td>NaN</td>\n",
        "      <td> f</td>\n",
        "      <td> f</td>\n",
        "      <td> f</td>\n",
        "      <td> f</td>\n",
        "      <td> f</td>\n",
        "      <td> f</td>\n",
        "      <td> f</td>\n",
        "      <td> f</td>\n",
        "      <td> f</td>\n",
        "      <td> f</td>\n",
        "      <td> f</td>\n",
        "      <td> f</td>\n",
        "      <td> f</td>\n",
        "      <td> f</td>\n",
        "    </tr>\n",
        "  </tbody>\n",
        "</table>\n",
        "</div>"
       ],
       "metadata": {},
       "output_type": "pyout",
       "prompt_number": 36,
       "text": [
        "                                                    name  max_height  city  \\\n",
        "id                                                                           \n",
        "20223     SEE MISSION BAY SOUTH REDEVELOPMENT PLAN-MB-RA           0   101   \n",
        "11404                                 Mixed Housing Type          30    94   \n",
        "2      MODERATE SCALE NEIGHBORHOOD COMMERCIAL TRANSIT...           0   101   \n",
        "3      MODERATE SCALE NEIGHBORHOOD COMMERCIAL TRANSIT...          85   101   \n",
        "4      MODERATE SCALE NEIGHBORHOOD COMMERCIAL TRANSIT...          68   101   \n",
        "\n",
        "       max_far  coverage type1 type2 type3 type4 type5 type6 type7 type8  \\\n",
        "id                                                                         \n",
        "20223      NaN       NaN     f     f     f     f     f     f     f     f   \n",
        "11404      5.0       NaN     t     t     t     f     f     t     f     f   \n",
        "2          0.0       NaN     f     f     f     f     f     f     f     f   \n",
        "3          3.6       NaN     f     f     f     f     f     f     f     f   \n",
        "4          3.6       NaN     f     f     f     f     f     f     f     f   \n",
        "\n",
        "      type9 type10 type11 type12 type13 type14  \n",
        "id                                              \n",
        "20223     f      f      f      f      f      f  \n",
        "11404     f      t      f      f      f      f  \n",
        "2         f      f      f      f      f      f  \n",
        "3         f      f      f      f      f      f  \n",
        "4         f      f      f      f      f      f  "
       ]
      }
     ],
     "prompt_number": 36
    },
    {
     "cell_type": "code",
     "collapsed": false,
     "input": [
      "store_bay.zoning_for_parcels.head()"
     ],
     "language": "python",
     "metadata": {},
     "outputs": [
      {
       "html": [
        "<div style=\"max-height:1000px;max-width:1500px;overflow:auto;\">\n",
        "<table border=\"1\" class=\"dataframe\">\n",
        "  <thead>\n",
        "    <tr style=\"text-align: right;\">\n",
        "      <th></th>\n",
        "      <th>zoning</th>\n",
        "    </tr>\n",
        "    <tr>\n",
        "      <th>parcel</th>\n",
        "      <th></th>\n",
        "    </tr>\n",
        "  </thead>\n",
        "  <tbody>\n",
        "    <tr>\n",
        "      <th>1078702</th>\n",
        "      <td> 2318</td>\n",
        "    </tr>\n",
        "    <tr>\n",
        "      <th>1221102</th>\n",
        "      <td> 2331</td>\n",
        "    </tr>\n",
        "    <tr>\n",
        "      <th>1081652</th>\n",
        "      <td> 2307</td>\n",
        "    </tr>\n",
        "    <tr>\n",
        "      <th>906235 </th>\n",
        "      <td> 2307</td>\n",
        "    </tr>\n",
        "    <tr>\n",
        "      <th>913082 </th>\n",
        "      <td> 2307</td>\n",
        "    </tr>\n",
        "  </tbody>\n",
        "</table>\n",
        "</div>"
       ],
       "metadata": {},
       "output_type": "pyout",
       "prompt_number": 37,
       "text": [
        "         zoning\n",
        "parcel         \n",
        "1078702    2318\n",
        "1221102    2331\n",
        "1081652    2307\n",
        "906235     2307\n",
        "913082     2307"
       ]
      }
     ],
     "prompt_number": 37
    },
    {
     "cell_type": "code",
     "collapsed": false,
     "input": [
      "store.close()"
     ],
     "language": "python",
     "metadata": {},
     "outputs": [],
     "prompt_number": 38
    },
    {
     "cell_type": "code",
     "collapsed": false,
     "input": [
      "# import misc\n",
      "# hh = misc.cache_to_df('c://opus_backup3//data//drcog//base_year_data//2010//households_for_estimation')\n",
      "# b = misc.cache_to_df('c://opus_backup3//data//drcog//base_year_data//2010//buildings')"
     ],
     "language": "python",
     "metadata": {},
     "outputs": [],
     "prompt_number": 39
    }
   ],
   "metadata": {}
  }
 ]
}