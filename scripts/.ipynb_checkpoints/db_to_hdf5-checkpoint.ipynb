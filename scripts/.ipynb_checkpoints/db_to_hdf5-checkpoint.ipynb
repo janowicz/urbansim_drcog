{
 "metadata": {
  "name": ""
 },
 "nbformat": 3,
 "nbformat_minor": 0,
 "worksheets": [
  {
   "cells": [
    {
     "cell_type": "code",
     "collapsed": false,
     "input": [
      "import os, psycopg2, pandas as pd\n",
      "import cStringIO\n",
      "import pandas.io.sql as sql, numpy as np"
     ],
     "language": "python",
     "metadata": {},
     "outputs": [],
     "prompt_number": 1
    },
    {
     "cell_type": "code",
     "collapsed": false,
     "input": [
      "conn_string = \"host=localhost port= 5432 dbname='drcog' user='postgres' password='postgres'\"\n",
      "conn = psycopg2.connect(conn_string)\n",
      "cursor = conn.cursor()"
     ],
     "language": "python",
     "metadata": {},
     "outputs": [],
     "prompt_number": 2
    },
    {
     "cell_type": "code",
     "collapsed": false,
     "input": [
      "travel_data = sql.read_frame('select * from travel_data',conn)"
     ],
     "language": "python",
     "metadata": {},
     "outputs": [],
     "prompt_number": 3
    },
    {
     "cell_type": "code",
     "collapsed": false,
     "input": [
      "travel_data = travel_data.set_index([\"from_zone_id\",\"to_zone_id\"])"
     ],
     "language": "python",
     "metadata": {},
     "outputs": [],
     "prompt_number": 4
    },
    {
     "cell_type": "code",
     "collapsed": false,
     "input": [
      "#####Uncomment once I have coded a generic allocation to building module!!  For now, load from cache\n",
      "##households = sql.read_frame('select * from households_synthesized',conn)\n",
      "import misc\n",
      "households = misc.cache_to_df('c://opus//data//drcog//base_year_data//2010//households')"
     ],
     "language": "python",
     "metadata": {},
     "outputs": [],
     "prompt_number": 5
    },
    {
     "cell_type": "code",
     "collapsed": false,
     "input": [
      "import misc\n",
      "target_vacancies = misc.cache_to_df('c://opus//data//drcog//base_year_data//2010//target_vacancies')\n",
      "#del target_vacancies['gid']\n",
      "target_vacancies = target_vacancies.set_index(['year','building_type_id'])"
     ],
     "language": "python",
     "metadata": {},
     "outputs": [],
     "prompt_number": 6
    },
    {
     "cell_type": "code",
     "collapsed": false,
     "input": [
      "zones = sql.read_frame('select * from zones',conn)\n",
      "\n",
      "establishments = sql.read_frame('select * from establishments',conn)\n",
      "del establishments['gid']\n",
      "\n",
      "households_for_estimation = sql.read_frame('select * from households_for_estimation',conn)\n",
      "\n",
      "establishments['employees'] = establishments.number_of_jobs\n",
      "del establishments['number_of_jobs']"
     ],
     "language": "python",
     "metadata": {},
     "outputs": [],
     "prompt_number": 7
    },
    {
     "cell_type": "code",
     "collapsed": false,
     "input": [
      "query = \"select building_id, building_type_id, improvement_value, land_area, non_residential_sqft, parcel_id, residential_units, sqft_per_unit, stories, tax_exempt, year_built, bldg_sq_ft from buildings\"\n",
      "buildings = sql.read_frame(query,conn)\n",
      "buildings = buildings.replace(-1,0)\n",
      "buildings['unit_price_non_residential'] = 0.0\n",
      "buildings['unit_price_residential'] = 0.0\n",
      "buildings.unit_price_residential[buildings.residential_units>0] = buildings.improvement_value[buildings.residential_units>0]/buildings.residential_units[buildings.residential_units>0]\n",
      "buildings.unit_price_non_residential[buildings.non_residential_sqft>0] = buildings.improvement_value[buildings.non_residential_sqft>0]/buildings.non_residential_sqft[buildings.non_residential_sqft>0]"
     ],
     "language": "python",
     "metadata": {},
     "outputs": [],
     "prompt_number": 8
    },
    {
     "cell_type": "code",
     "collapsed": false,
     "input": [
      "annual_employment_control_totals = sql.read_frame('select * from annual_employment_control_totals',conn)\n",
      "del annual_employment_control_totals['gid']\n",
      "annual_household_control_totals = sql.read_frame('select * from annual_household_control_totals',conn)\n",
      "del annual_household_control_totals['gid']"
     ],
     "language": "python",
     "metadata": {},
     "outputs": [],
     "prompt_number": 9
    },
    {
     "cell_type": "code",
     "collapsed": false,
     "input": [
      "annual_household_relocation_rates = sql.read_frame('select * from annual_household_relocation_rates',conn)\n",
      "del annual_household_relocation_rates['gid']\n",
      "annual_job_relocation_rates = sql.read_frame('select * from annual_job_relocation_rates',conn)\n",
      "del annual_job_relocation_rates['gid']\n",
      "sectors = sql.read_frame('select * from employment_sectors',conn)\n",
      "target_vacancies = sql.read_frame('select * from target_vacancies',conn)\n",
      "building_types = sql.read_frame('select * from building_types',conn)"
     ],
     "language": "python",
     "metadata": {},
     "outputs": [],
     "prompt_number": 10
    },
    {
     "cell_type": "code",
     "collapsed": false,
     "input": [
      "employment_sectors_six_category = sql.read_frame('select * from employment_sectors_six_category',conn)"
     ],
     "language": "python",
     "metadata": {},
     "outputs": [],
     "prompt_number": 11
    },
    {
     "cell_type": "code",
     "collapsed": false,
     "input": [
      "building_sqft_per_job = sql.read_frame('select * from building_sqft_per_job',conn)\n",
      "building_sqft_per_job = building_sqft_per_job.set_index(['zone_id','building_type_id'])\n",
      "del building_sqft_per_job['gid']\n",
      "fars = sql.read_frame('select * from fars',conn)\n",
      "fars = fars.set_index('far_id')\n",
      "zoning_building_type = sql.read_frame('select * from zoning_building_type_id',conn)\n",
      "del zoning_building_type['gid']"
     ],
     "language": "python",
     "metadata": {},
     "outputs": [],
     "prompt_number": 12
    },
    {
     "cell_type": "code",
     "collapsed": false,
     "input": [
      "query = \"\"\"SELECT a.county_id, a.parcel_sqft, a.land_value, a.parcel_id, a.zone_id, a.city_id, a.gen_lu_type_id, a.lu_type_id, a.tax_exempt_flag, a.school_district, a.zoning_id,\n",
      "b.dist_bus, b.dist_rail, b.in_ugb, b.in_uga, b.env_constr_park, b.env_constr_lake, b.env_constr_floodplain, b.env_constr_river, b.env_constr_landslide, b.far_id\n",
      "FROM parcels a join parcels_spatial b on a.parcel_id = b.parcel_id\"\"\"\n",
      "parcels = sql.read_frame(query,conn)\n",
      "parcels.far_id[np.isnan(parcels.far_id)] = 0\n",
      "parcels = parcels.set_index('parcel_id')\n",
      "parcels['prop_constrained'] = parcels.env_constr_park + parcels.env_constr_lake + parcels.env_constr_floodplain + parcels.env_constr_river + parcels.env_constr_landslide\n",
      "parcels.prop_constrained[parcels.prop_constrained>1] = 1"
     ],
     "language": "python",
     "metadata": {},
     "outputs": [],
     "prompt_number": 13
    },
    {
     "cell_type": "code",
     "collapsed": false,
     "input": [
      "annual_job_relocation_rates = annual_job_relocation_rates[['job_relocation_probability','sector_id']]\n",
      "annual_job_relocation_rates = annual_job_relocation_rates.set_index('sector_id')"
     ],
     "language": "python",
     "metadata": {},
     "outputs": [],
     "prompt_number": 14
    },
    {
     "cell_type": "code",
     "collapsed": false,
     "input": [
      "annual_employment_control_totals = annual_employment_control_totals[['total_number_of_jobs','sector_id_six','year','home_based_status']]\n",
      "annual_employment_control_totals = annual_employment_control_totals.set_index('year')"
     ],
     "language": "python",
     "metadata": {},
     "outputs": [],
     "prompt_number": 15
    },
    {
     "cell_type": "code",
     "collapsed": false,
     "input": [
      "establishments.establishment_id = establishments.establishment_id.astype('int')\n",
      "establishments = establishments.set_index('establishment_id')"
     ],
     "language": "python",
     "metadata": {},
     "outputs": [],
     "prompt_number": 16
    },
    {
     "cell_type": "code",
     "collapsed": false,
     "input": [
      "households = households.set_index('household_id')\n",
      "buildings = buildings.set_index('building_id')\n",
      "buildings = buildings.replace(to_replac-1,0)\n",
      "zones = zones.set_index('zone_id')\n",
      "households_for_estimation = households_for_estimation.set_index('household_id')"
     ],
     "language": "python",
     "metadata": {},
     "outputs": [],
     "prompt_number": 17
    },
    {
     "cell_type": "code",
     "collapsed": false,
     "input": [
      "annual_household_control_totals = annual_household_control_totals.set_index('year')"
     ],
     "language": "python",
     "metadata": {},
     "outputs": [],
     "prompt_number": 18
    },
    {
     "cell_type": "code",
     "collapsed": false,
     "input": [
      "os.chdir('c:\\\\Users\\\\janowicz\\\\dropbox\\\\repos\\\\urbansim_drcog\\\\data')\n",
      "store = pd.HDFStore('drcog.h5')"
     ],
     "language": "python",
     "metadata": {},
     "outputs": [],
     "prompt_number": 19
    },
    {
     "cell_type": "code",
     "collapsed": false,
     "input": [
      "store['target_vacancies'] = target_vacancies"
     ],
     "language": "python",
     "metadata": {},
     "outputs": [],
     "prompt_number": 20
    },
    {
     "cell_type": "code",
     "collapsed": false,
     "input": [
      "store['households'] = households\n",
      "store['households_for_estimation'] = households_for_estimation\n",
      "store['buildings'] = buildings\n",
      "store['zones'] = zones\n",
      "store['annual_household_relocation_rates'] = annual_household_relocation_rates\n",
      "store['establishments'] = establishments\n",
      "store['building_sqft_per_job'] = building_sqft_per_job\n",
      "store['annual_job_relocation_rates'] = annual_job_relocation_rates\n",
      "store['parcels'] = parcels\n",
      "store['fars'] = fars\n",
      "store['zoning_building_type'] = zoning_building_type\n"
     ],
     "language": "python",
     "metadata": {},
     "outputs": [],
     "prompt_number": 21
    },
    {
     "cell_type": "code",
     "collapsed": false,
     "input": [
      "store['annual_employment_control_totals'] = annual_employment_control_totals\n",
      "store['annual_household_control_totals'] = annual_household_control_totals"
     ],
     "language": "python",
     "metadata": {},
     "outputs": [],
     "prompt_number": 22
    },
    {
     "cell_type": "code",
     "collapsed": false,
     "input": [
      "store['travel_data'] = travel_data"
     ],
     "language": "python",
     "metadata": {},
     "outputs": [],
     "prompt_number": 23
    },
    {
     "cell_type": "code",
     "collapsed": false,
     "input": [
      "for table in store.keys():\n",
      "    tbl = store[table]\n",
      "    newtbl = pd.DataFrame(index=tbl.index)\n",
      "    for colname in tbl.columns:\n",
      "        if tbl[colname].dtype == np.float64: newtbl[colname] = tbl[colname].astype('float32') \n",
      "        elif tbl[colname].dtype == np.int64: newtbl[colname] = tbl[colname].astype('int32')\n",
      "        else: newtbl[colname] = tbl[colname]\n",
      "    df = newtbl\n",
      "    #print df\n",
      "    store[table] = df"
     ],
     "language": "python",
     "metadata": {},
     "outputs": [],
     "prompt_number": 24
    },
    {
     "cell_type": "code",
     "collapsed": false,
     "input": [
      "store.close()"
     ],
     "language": "python",
     "metadata": {},
     "outputs": [],
     "prompt_number": 25
    },
    {
     "cell_type": "code",
     "collapsed": false,
     "input": [
      "store = pd.HDFStore('c:\\\\Users\\\\janowicz\\\\dropbox\\\\repos\\\\urbansim_drcog\\\\data\\\\drcog.h5')"
     ],
     "language": "python",
     "metadata": {},
     "outputs": [],
     "prompt_number": 26
    },
    {
     "cell_type": "code",
     "collapsed": false,
     "input": [
      "store"
     ],
     "language": "python",
     "metadata": {},
     "outputs": [
      {
       "metadata": {},
       "output_type": "pyout",
       "prompt_number": 27,
       "text": [
        "<class 'pandas.io.pytables.HDFStore'>\n",
        "File path: c:\\Users\\janowicz\\dropbox\\repos\\urbansim_drcog\\data\\drcog.h5\n",
        "/annual_employment_control_totals             frame        (shape->[492,3])     \n",
        "/annual_household_control_totals              frame        (shape->[41,2])      \n",
        "/annual_household_relocation_rates            frame        (shape->[21,5])      \n",
        "/annual_job_relocation_rates                  frame        (shape->[31,1])      \n",
        "/building_sqft_per_job                        frame        (shape->[67296,1])   \n",
        "/buildings                                    frame        (shape->[881751,13]) \n",
        "/establishments                               frame        (shape->[202193,6])  \n",
        "/fars                                         frame        (shape->[2336,3])    \n",
        "/households                                   frame        (shape->[1160387,11])\n",
        "/households_for_estimation                    frame        (shape->[1442,10])   \n",
        "/parcels                                      frame        (shape->[949484,21]) \n",
        "/target_vacancies                             frame        (shape->[77,4])      \n",
        "/travel_data                                  frame        (shape->[7862416,10])\n",
        "/zones                                        frame        (shape->[2804,32])   \n",
        "/zoning_building_type                         frame        (shape->[352,2])     "
       ]
      }
     ],
     "prompt_number": 27
    },
    {
     "cell_type": "code",
     "collapsed": false,
     "input": [
      "import pandas as pd, os\n",
      "store = pd.HDFStore('c:\\\\Users\\\\janowicz\\\\dropbox\\\\repos\\\\urbansim_drcog\\\\data\\\\drcog.h5')\n",
      "store"
     ],
     "language": "python",
     "metadata": {},
     "outputs": [
      {
       "metadata": {},
       "output_type": "pyout",
       "prompt_number": 28,
       "text": [
        "<class 'pandas.io.pytables.HDFStore'>\n",
        "File path: c:\\Users\\janowicz\\dropbox\\repos\\urbansim_drcog\\data\\drcog.h5\n",
        "/annual_employment_control_totals             frame        (shape->[492,3])     \n",
        "/annual_household_control_totals              frame        (shape->[41,2])      \n",
        "/annual_household_relocation_rates            frame        (shape->[21,5])      \n",
        "/annual_job_relocation_rates                  frame        (shape->[31,1])      \n",
        "/building_sqft_per_job                        frame        (shape->[67296,1])   \n",
        "/buildings                                    frame        (shape->[881751,13]) \n",
        "/establishments                               frame        (shape->[202193,6])  \n",
        "/fars                                         frame        (shape->[2336,3])    \n",
        "/households                                   frame        (shape->[1160387,11])\n",
        "/households_for_estimation                    frame        (shape->[1442,10])   \n",
        "/parcels                                      frame        (shape->[949484,21]) \n",
        "/target_vacancies                             frame        (shape->[77,4])      \n",
        "/travel_data                                  frame        (shape->[7862416,10])\n",
        "/zones                                        frame        (shape->[2804,32])   \n",
        "/zoning_building_type                         frame        (shape->[352,2])     "
       ]
      }
     ],
     "prompt_number": 28
    },
    {
     "cell_type": "code",
     "collapsed": false,
     "input": [
      "store.buildings[store.buildings.residential_units==-1]\n",
      "store.buildings.replace(-1,0).describe()"
     ],
     "language": "python",
     "metadata": {},
     "outputs": [
      {
       "html": [
        "<div style=\"max-height:1000px;max-width:1500px;overflow:auto;\">\n",
        "<table border=\"1\" class=\"dataframe\">\n",
        "  <thead>\n",
        "    <tr style=\"text-align: right;\">\n",
        "      <th></th>\n",
        "      <th>building_type_id</th>\n",
        "      <th>improvement_value</th>\n",
        "      <th>land_area</th>\n",
        "      <th>non_residential_sqft</th>\n",
        "      <th>parcel_id</th>\n",
        "      <th>residential_units</th>\n",
        "      <th>sqft_per_unit</th>\n",
        "      <th>stories</th>\n",
        "      <th>tax_exempt</th>\n",
        "      <th>year_built</th>\n",
        "      <th>bldg_sq_ft</th>\n",
        "      <th>unit_price_non_residential</th>\n",
        "      <th>unit_price_residential</th>\n",
        "    </tr>\n",
        "  </thead>\n",
        "  <tbody>\n",
        "    <tr>\n",
        "      <th>count</th>\n",
        "      <td> 881751.000000</td>\n",
        "      <td> 8.817510e+05</td>\n",
        "      <td>  881751.000000</td>\n",
        "      <td>  881751.000000</td>\n",
        "      <td>  881751.000000</td>\n",
        "      <td> 881751.000000</td>\n",
        "      <td> 881751.000000</td>\n",
        "      <td> 881751.000000</td>\n",
        "      <td> 881751.000000</td>\n",
        "      <td> 881751.000000</td>\n",
        "      <td>  881751.000000</td>\n",
        "      <td>   881751.000000</td>\n",
        "      <td>   881751.000000</td>\n",
        "    </tr>\n",
        "    <tr>\n",
        "      <th>mean</th>\n",
        "      <td>     18.797008</td>\n",
        "      <td>-9.693638e+02</td>\n",
        "      <td>    2341.592502</td>\n",
        "      <td>     989.586607</td>\n",
        "      <td>   -2260.059342</td>\n",
        "      <td>      1.405177</td>\n",
        "      <td>   1940.257701</td>\n",
        "      <td>      1.499276</td>\n",
        "      <td>      0.015251</td>\n",
        "      <td>   1967.886120</td>\n",
        "      <td>   -1379.836714</td>\n",
        "      <td>       60.959804</td>\n",
        "      <td>   182111.404930</td>\n",
        "    </tr>\n",
        "    <tr>\n",
        "      <th>std</th>\n",
        "      <td>      4.566238</td>\n",
        "      <td> 1.521964e+06</td>\n",
        "      <td>    9579.663554</td>\n",
        "      <td>   14542.413810</td>\n",
        "      <td>  322997.548831</td>\n",
        "      <td>      4.780640</td>\n",
        "      <td>   1341.432155</td>\n",
        "      <td>      0.663641</td>\n",
        "      <td>      0.122552</td>\n",
        "      <td>    120.084155</td>\n",
        "      <td>   18817.130018</td>\n",
        "      <td>    27968.429532</td>\n",
        "      <td>   187179.170617</td>\n",
        "    </tr>\n",
        "    <tr>\n",
        "      <th>min</th>\n",
        "      <td>      1.000000</td>\n",
        "      <td> 0.000000e+00</td>\n",
        "      <td>       0.000000</td>\n",
        "      <td>       0.000000</td>\n",
        "      <td>       0.000000</td>\n",
        "      <td>      0.000000</td>\n",
        "      <td>      0.000000</td>\n",
        "      <td>      0.000000</td>\n",
        "      <td>      0.000000</td>\n",
        "      <td>      0.000000</td>\n",
        "      <td>       0.000000</td>\n",
        "      <td>        0.000000</td>\n",
        "      <td>        0.000000</td>\n",
        "    </tr>\n",
        "    <tr>\n",
        "      <th>25%</th>\n",
        "      <td>     20.000000</td>\n",
        "      <td> 1.165260e+05</td>\n",
        "      <td>    1046.000000</td>\n",
        "      <td>       0.000000</td>\n",
        "      <td>  265618.500000</td>\n",
        "      <td>      1.000000</td>\n",
        "      <td>   1120.000000</td>\n",
        "      <td>      1.000000</td>\n",
        "      <td>      0.000000</td>\n",
        "      <td>   1960.000000</td>\n",
        "      <td>    1364.000000</td>\n",
        "      <td>        0.000000</td>\n",
        "      <td>    99609.000000</td>\n",
        "    </tr>\n",
        "    <tr>\n",
        "      <th>50%</th>\n",
        "      <td>     20.000000</td>\n",
        "      <td> 1.673000e+05</td>\n",
        "      <td>    1430.000000</td>\n",
        "      <td>       0.000000</td>\n",
        "      <td>  560884.000000</td>\n",
        "      <td>      1.000000</td>\n",
        "      <td>   1708.000000</td>\n",
        "      <td>      1.000000</td>\n",
        "      <td>      0.000000</td>\n",
        "      <td>   1979.000000</td>\n",
        "      <td>    1959.000000</td>\n",
        "      <td>        0.000000</td>\n",
        "      <td>   151310.000000</td>\n",
        "    </tr>\n",
        "    <tr>\n",
        "      <th>75%</th>\n",
        "      <td>     20.000000</td>\n",
        "      <td> 2.558480e+05</td>\n",
        "      <td>    2030.000000</td>\n",
        "      <td>       0.000000</td>\n",
        "      <td>  822907.500000</td>\n",
        "      <td>      1.000000</td>\n",
        "      <td>   2548.000000</td>\n",
        "      <td>      2.000000</td>\n",
        "      <td>      0.000000</td>\n",
        "      <td>   1996.000000</td>\n",
        "      <td>    2897.000000</td>\n",
        "      <td>        0.000000</td>\n",
        "      <td>   223366.500000</td>\n",
        "    </tr>\n",
        "    <tr>\n",
        "      <th>max</th>\n",
        "      <td>     25.000000</td>\n",
        "      <td> 3.815206e+08</td>\n",
        "      <td> 3000000.000000</td>\n",
        "      <td> 3000000.000000</td>\n",
        "      <td> 1128921.000000</td>\n",
        "      <td>    598.000000</td>\n",
        "      <td>  25610.000000</td>\n",
        "      <td>     56.000000</td>\n",
        "      <td>      1.000000</td>\n",
        "      <td>   2010.000000</td>\n",
        "      <td> 3920840.000000</td>\n",
        "      <td> 25341200.000000</td>\n",
        "      <td> 38541600.000000</td>\n",
        "    </tr>\n",
        "  </tbody>\n",
        "</table>\n",
        "</div>"
       ],
       "metadata": {},
       "output_type": "pyout",
       "prompt_number": 37,
       "text": [
        "       building_type_id  improvement_value       land_area  \\\n",
        "count     881751.000000       8.817510e+05   881751.000000   \n",
        "mean          18.797008      -9.693638e+02     2341.592502   \n",
        "std            4.566238       1.521964e+06     9579.663554   \n",
        "min            1.000000       0.000000e+00        0.000000   \n",
        "25%           20.000000       1.165260e+05     1046.000000   \n",
        "50%           20.000000       1.673000e+05     1430.000000   \n",
        "75%           20.000000       2.558480e+05     2030.000000   \n",
        "max           25.000000       3.815206e+08  3000000.000000   \n",
        "\n",
        "       non_residential_sqft       parcel_id  residential_units  sqft_per_unit  \\\n",
        "count         881751.000000   881751.000000      881751.000000  881751.000000   \n",
        "mean             989.586607    -2260.059342           1.405177    1940.257701   \n",
        "std            14542.413810   322997.548831           4.780640    1341.432155   \n",
        "min                0.000000        0.000000           0.000000       0.000000   \n",
        "25%                0.000000   265618.500000           1.000000    1120.000000   \n",
        "50%                0.000000   560884.000000           1.000000    1708.000000   \n",
        "75%                0.000000   822907.500000           1.000000    2548.000000   \n",
        "max          3000000.000000  1128921.000000         598.000000   25610.000000   \n",
        "\n",
        "             stories     tax_exempt     year_built      bldg_sq_ft  \\\n",
        "count  881751.000000  881751.000000  881751.000000   881751.000000   \n",
        "mean        1.499276       0.015251    1967.886120    -1379.836714   \n",
        "std         0.663641       0.122552     120.084155    18817.130018   \n",
        "min         0.000000       0.000000       0.000000        0.000000   \n",
        "25%         1.000000       0.000000    1960.000000     1364.000000   \n",
        "50%         1.000000       0.000000    1979.000000     1959.000000   \n",
        "75%         2.000000       0.000000    1996.000000     2897.000000   \n",
        "max        56.000000       1.000000    2010.000000  3920840.000000   \n",
        "\n",
        "       unit_price_non_residential  unit_price_residential  \n",
        "count               881751.000000           881751.000000  \n",
        "mean                    60.959804           182111.404930  \n",
        "std                  27968.429532           187179.170617  \n",
        "min                      0.000000                0.000000  \n",
        "25%                      0.000000            99609.000000  \n",
        "50%                      0.000000           151310.000000  \n",
        "75%                      0.000000           223366.500000  \n",
        "max               25341200.000000         38541600.000000  "
       ]
      }
     ],
     "prompt_number": 37
    },
    {
     "cell_type": "code",
     "collapsed": false,
     "input": [
      "store.establishments[(store.establishments.sector_id==1)*(store.establishments.home_based_status==1)]"
     ],
     "language": "python",
     "metadata": {},
     "outputs": [
      {
       "html": [
        "<div style=\"max-height:1000px;max-width:1500px;overflow:auto;\">\n",
        "<table border=\"1\" class=\"dataframe\">\n",
        "  <tbody>\n",
        "    <tr>\n",
        "      <td>Int64Index([], dtype=int64)</td>\n",
        "      <td>Empty DataFrame</td>\n",
        "    </tr>\n",
        "  </tbody>\n",
        "</table>\n",
        "</div>"
       ],
       "metadata": {},
       "output_type": "pyout",
       "prompt_number": 29,
       "text": [
        "Empty DataFrame\n",
        "Columns: [building_id, home_based_status, infogroup_id, qcew_id, sector_id, employees]\n",
        "Index: []"
       ]
      }
     ],
     "prompt_number": 29
    },
    {
     "cell_type": "code",
     "collapsed": false,
     "input": [
      "store.close()"
     ],
     "language": "python",
     "metadata": {},
     "outputs": [],
     "prompt_number": 30
    },
    {
     "cell_type": "code",
     "collapsed": false,
     "input": [
      "# import misc\n",
      "# hh = misc.cache_to_df('c://opus_backup3//data//drcog//base_year_data//2010//households_for_estimation')\n",
      "# b = misc.cache_to_df('c://opus_backup3//data//drcog//base_year_data//2010//buildings')"
     ],
     "language": "python",
     "metadata": {},
     "outputs": [],
     "prompt_number": 31
    }
   ],
   "metadata": {}
  }
 ]
}