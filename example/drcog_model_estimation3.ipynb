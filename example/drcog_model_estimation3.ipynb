{
 "metadata": {
  "name": ""
 },
 "nbformat": 3,
 "nbformat_minor": 0,
 "worksheets": [
  {
   "cells": [
    {
     "cell_type": "heading",
     "level": 1,
     "metadata": {},
     "source": [
      "Paris Model Estimation"
     ]
    },
    {
     "cell_type": "heading",
     "level": 2,
     "metadata": {},
     "source": [
      "Variable Library"
     ]
    },
    {
     "cell_type": "code",
     "collapsed": false,
     "input": [
      "import numpy as np, pandas as pd, os, statsmodels.api as sm\n",
      "import synthicity.urbansim.interaction as interaction\n",
      "from synthicity.utils import misc\n",
      "import dataset, copy, time\n",
      "dset = dataset.DRCOGDataset(os.path.join(misc.data_dir(),'drcog.h5'))\n",
      "#VARIABLE LIBRARY\n",
      "#parcel\n",
      "p = dset.fetch('parcels')\n",
      "p['in_denver'] = (p.county_id==8031).astype('int32')\n",
      "#building\n",
      "b = dset.fetch('buildings')\n",
      "b"
     ],
     "language": "python",
     "metadata": {},
     "outputs": [
      {
       "output_type": "stream",
       "stream": "stdout",
       "text": [
        "Fetching parcels\n",
        "Fetching modify_table\n",
        "Fetching buildings"
       ]
      },
      {
       "output_type": "stream",
       "stream": "stdout",
       "text": [
        "\n",
        "Fetching establishments"
       ]
      },
      {
       "output_type": "stream",
       "stream": "stdout",
       "text": [
        "\n",
        "Fetching modify_table"
       ]
      },
      {
       "output_type": "stream",
       "stream": "stdout",
       "text": [
        "\n",
        "Fetching modify_table"
       ]
      },
      {
       "output_type": "stream",
       "stream": "stdout",
       "text": [
        "\n"
       ]
      },
      {
       "html": [
        "<pre>\n",
        "&lt;class 'pandas.core.frame.DataFrame'&gt;\n",
        "Int64Index: 881751 entries, 55152 to 1015771\n",
        "Data columns (total 18 columns):\n",
        "building_type_id              881751  non-null values\n",
        "improvement_value             881751  non-null values\n",
        "land_area                     881751  non-null values\n",
        "non_residential_sqft          881751  non-null values\n",
        "parcel_id                     881751  non-null values\n",
        "residential_units             881751  non-null values\n",
        "sqft_per_unit                 881751  non-null values\n",
        "stories                       881751  non-null values\n",
        "tax_exempt                    881751  non-null values\n",
        "year_built                    881751  non-null values\n",
        "bldg_sq_ft                    881751  non-null values\n",
        "unit_price_non_residential    881751  non-null values\n",
        "unit_price_residential        881751  non-null values\n",
        "zone_id                       881750  non-null values\n",
        "building_sqft_per_job         881750  non-null values\n",
        "non_residential_units         881750  non-null values\n",
        "base_year_jobs                104226  non-null values\n",
        "all_units                     881750  non-null values\n",
        "dtypes: float32(2), float64(5), int32(11)\n",
        "</pre>"
       ],
       "metadata": {},
       "output_type": "pyout",
       "prompt_number": 1,
       "text": [
        "<class 'pandas.core.frame.DataFrame'>\n",
        "Int64Index: 881751 entries, 55152 to 1015771\n",
        "Data columns (total 18 columns):\n",
        "building_type_id              881751  non-null values\n",
        "improvement_value             881751  non-null values\n",
        "land_area                     881751  non-null values\n",
        "non_residential_sqft          881751  non-null values\n",
        "parcel_id                     881751  non-null values\n",
        "residential_units             881751  non-null values\n",
        "sqft_per_unit                 881751  non-null values\n",
        "stories                       881751  non-null values\n",
        "tax_exempt                    881751  non-null values\n",
        "year_built                    881751  non-null values\n",
        "bldg_sq_ft                    881751  non-null values\n",
        "unit_price_non_residential    881751  non-null values\n",
        "unit_price_residential        881751  non-null values\n",
        "zone_id                       881750  non-null values\n",
        "building_sqft_per_job         881750  non-null values\n",
        "non_residential_units         881750  non-null values\n",
        "base_year_jobs                104226  non-null values\n",
        "all_units                     881750  non-null values\n",
        "dtypes: float32(2), float64(5), int32(11)"
       ]
      }
     ],
     "prompt_number": 1
    },
    {
     "cell_type": "code",
     "collapsed": false,
     "input": [
      "import numpy as np, pandas as pd, os, statsmodels.api as sm\n",
      "import synthicity.urbansim.interaction as interaction\n",
      "from synthicity.utils import misc\n",
      "import dataset, copy, time\n",
      "dset = dataset.DRCOGDataset(os.path.join(misc.data_dir(),'drcog.h5'))\n",
      "#VARIABLE LIBRARY\n",
      "#parcel\n",
      "p = dset.fetch('parcels')\n",
      "p['in_denver'] = (p.county_id==8031).astype('int32')\n",
      "#building\n",
      "b = dset.fetch('buildings')\n",
      "b['zone_id'] = p.zone_id[b.parcel_id].values\n",
      "b['btype'] = 1*(b.building_type_id==2) + 2*(b.building_type_id==3) + 3*(b.building_type_id==20) + 4*(b.building_type_id==24) + 6*np.invert(np.in1d(b.building_type_id,[2,3,20,24]))\n",
      "#household\n",
      "hh_estim = dset.fetch('households_for_estimation')\n",
      "hh = dset.fetch('households')\n",
      "for table in [hh_estim, hh]:\n",
      "    choosers = table\n",
      "    choosers['building_type_id'] = b.building_type_id[choosers.building_id].values\n",
      "    choosers['btype'] = 1*(choosers.building_type_id==2) + 2*(choosers.building_type_id==3) + 3*(choosers.building_type_id==20) + 4*np.invert(np.in1d(choosers.building_type_id,[2,3,20]))\n",
      "#establishment\n",
      "e = dset.fetch('establishments')\n",
      "e['sector_id_six'] = 1*(e.sector_id==61) + 2*(e.sector_id==71) + 3*np.in1d(e.sector_id,[11,21,22,23,31,32,33,42,48,49]) + 4*np.in1d(e.sector_id,[7221,7222,7224]) + 5*np.in1d(e.sector_id,[44,45,7211,7212,7213,7223]) + 6*np.in1d(e.sector_id,[51,52,53,54,55,56,62,81,92])\n",
      "#zone\n",
      "z = dset.fetch('zones')\n",
      "z['residential_units_zone'] = b.groupby('zone_id').residential_units.sum()\n",
      "z['non_residential_sqft_zone'] = b.groupby('zone_id').non_residential_sqft.sum()\n",
      "#merge parcels with zones\n",
      "pz = pd.merge(p,z,left_on='zone_id',right_index=True)\n",
      "#merge buildings with parcels/zones\n",
      "bpz = pd.merge(b,pz,left_on='parcel_id',right_index=True)\n",
      "bpz['residential_units_capacity'] = bpz.parcel_sqft/1500 - bpz.residential_units\n",
      "bpz.residential_units_capacity[bpz.residential_units_capacity<0] = 0\n",
      "dset.d['buildings'] = bpz"
     ],
     "language": "python",
     "metadata": {},
     "outputs": [
      {
       "output_type": "stream",
       "stream": "stdout",
       "text": [
        "Fetching parcels\n",
        "Fetching modify_table\n",
        "Fetching buildings"
       ]
      },
      {
       "output_type": "stream",
       "stream": "stdout",
       "text": [
        "\n",
        "Fetching establishments"
       ]
      },
      {
       "output_type": "stream",
       "stream": "stdout",
       "text": [
        "\n",
        "Fetching modify_table"
       ]
      },
      {
       "output_type": "stream",
       "stream": "stdout",
       "text": [
        "\n",
        "Fetching modify_table"
       ]
      },
      {
       "output_type": "stream",
       "stream": "stdout",
       "text": [
        "\n",
        "Fetching households_for_estimation"
       ]
      },
      {
       "output_type": "stream",
       "stream": "stdout",
       "text": [
        "\n",
        "Fetching modify_table\n",
        "Fetching households\n",
        "Fetching modify_table\n",
        "Fetching zones"
       ]
      },
      {
       "output_type": "stream",
       "stream": "stdout",
       "text": [
        "\n",
        "Fetching modify_table\n"
       ]
      }
     ],
     "prompt_number": 1
    },
    {
     "cell_type": "heading",
     "level": 2,
     "metadata": {},
     "source": [
      "Household Location Choice Model"
     ]
    },
    {
     "cell_type": "code",
     "collapsed": false,
     "input": [
      "depvar = 'building_id'\n",
      "SAMPLE_SIZE=100\n",
      "choosers = dset.fetch('households_for_estimation')\n",
      "#choosers = choosers.ix[np.random.choice(choosers.index, 10000,replace=False)]\n",
      "output_csv, output_title, coeff_name, output_varname = (\"drcog-coeff-hlcm-%s.csv\",\"DRCOG HOUSEHOLD LOCATION CHOICE MODELS (%s)\",\"hh_location_%s\",\"household_building_ids\")\n",
      "\n",
      "#alternatives = dset.buildings[(dset.buildings.residential_units>0)]\n",
      "alternatives = dset.buildings\n",
      "# alts1 = alternatives[alternatives.building_type_id==2]\n",
      "# alts2 = alternatives[alternatives.building_type_id==3]\n",
      "# alts3 = alternatives[alternatives.building_type_id==20]\n",
      "# alts4 = alternatives[alternatives.building_type_id==24]\n",
      "alts1 = alternatives\n",
      "alts2 = alternatives\n",
      "alts3 = alternatives\n",
      "alts4 = alternatives\n",
      "\n",
      "ind_vars1=['residential_units_zone','non_residential_sqft_zone','allpurpose_agglosum','acreage','unit_price_residential','in_denver',]\n",
      "ind_vars2=['residential_units_zone','non_residential_sqft_zone','allpurpose_agglosum','acreage','unit_price_residential','in_denver',]\n",
      "ind_vars3=['residential_units_zone','non_residential_sqft_zone','allpurpose_agglosum','acreage','unit_price_residential','in_denver',]\n",
      "ind_vars4=['residential_units_zone','non_residential_sqft_zone','unit_price_residential','in_denver',] \n",
      "\n",
      "segments = choosers.groupby(['btype',])\n",
      "for name, segment in segments:\n",
      "    if name == 1:\n",
      "        alts = alts1\n",
      "        ind_vars = ind_vars1\n",
      "    if name == 2:\n",
      "        alts = alts2\n",
      "        ind_vars = ind_vars2\n",
      "    if name == 3:\n",
      "        alts = alts3\n",
      "        ind_vars = ind_vars3\n",
      "    if name == 4:\n",
      "        alts = alts4\n",
      "        ind_vars = ind_vars4\n",
      "    name = str(name)\n",
      "    tmp_outcsv, tmp_outtitle, tmp_coeffname = output_csv%name, output_title%name, coeff_name%name\n",
      "    if len(segment.building_id) > 500: #reduce size of segment if too big so things don't bog down\n",
      "        segment = segment.ix[np.random.choice(segment.index, 500,replace=False)]\n",
      "    sample, alternative_sample, est_params = interaction.mnl_interaction_dataset(segment,alts,SAMPLE_SIZE,chosenalts=segment[depvar])\n",
      "    #alternative_sample['high_inc_x_percent_high_inc'] = (alternative_sample.high_inc*alternative_sample.percent_high_income)\n",
      "    #alternative_sample['interaction_test2'] = (alternative_sample.low_inc*alternative_sample.mean_age_of_head)\n",
      "#     if int(name)==1:\n",
      "#         alternative_sample['ln_price1_x_low_income'] = (alternative_sample.ln_average_res_price1*alternative_sample.low_inc)\n",
      "#     if int(name)==2:\n",
      "#         alternative_sample['ln_price2_x_low_income'] = (alternative_sample.ln_average_res_price2*alternative_sample.low_inc)\n",
      "#     if int(name)==3:\n",
      "#         alternative_sample['ln_price3_x_low_income'] = (alternative_sample.ln_average_res_price3*alternative_sample.low_inc)\n",
      "#     if int(name)==4:\n",
      "#         alternative_sample['ln_price4_x_low_income'] = (alternative_sample.ln_average_res_price4*alternative_sample.low_inc)\n",
      "    print \"Estimating parameters for segment = %s, size = %d\" % (name, len(segment.index)) \n",
      "    if len(segment.index) > 50:\n",
      "        est_data = pd.DataFrame(index=alternative_sample.index)\n",
      "        for varname in ind_vars:\n",
      "            est_data[varname] = alternative_sample[varname]\n",
      "        est_data = est_data.fillna(0)\n",
      "        data = est_data.as_matrix()\n",
      "        try:\n",
      "            fit, results = interaction.estimate(data, est_params, SAMPLE_SIZE)\n",
      "            #print fit\n",
      "            #print results\n",
      "            fnames = interaction.add_fnames(ind_vars,est_params)\n",
      "            print misc.resultstotable(fnames,results)\n",
      "            misc.resultstocsv(fit,fnames,results,tmp_outcsv,tblname=tmp_outtitle)\n",
      "            dset.store_coeff(tmp_coeffname,zip(*results)[0],fnames)\n",
      "        except:\n",
      "            print 'SINGULAR MATRIX OR OTHER DATA/ESTIMATION PROBLEM'\n",
      "    else:\n",
      "        print 'SAMPLE SIZE TOO SMALL'"
     ],
     "language": "python",
     "metadata": {},
     "outputs": [
      {
       "output_type": "stream",
       "stream": "stdout",
       "text": [
        "Estimating parameters for segment = 1, size = 231\n",
        "Null Log-liklihood: -1063.794313"
       ]
      },
      {
       "output_type": "stream",
       "stream": "stdout",
       "text": [
        "\n",
        "Log-liklihood at convergence: -790.526730\n",
        "Log-liklihood ratio: 0.256880\n",
        "+---------------------------+-------------+--------+---------+--------------+\n",
        "|         Variables         | Coefficient | Stderr | T-score | Significance |\n",
        "+===========================+=============+========+=========+==============+\n",
        "|    residential units zone |           0 |      0 |  12.460 | ***          |\n",
        "+---------------------------+-------------+--------+---------+--------------+\n",
        "| non residential sqft zone |           0 |      0 |   3.300 | ***          |\n",
        "+---------------------------+-------------+--------+---------+--------------+\n",
        "|       allpurpose agglosum |           0 |  0.010 |   0.140 |              |\n",
        "+---------------------------+-------------+--------+---------+--------------+\n",
        "|                   acreage |      -0.010 |      0 | -43.240 | ***          |\n",
        "+---------------------------+-------------+--------+---------+--------------+\n",
        "|    unit price residential |           0 |      0 | -28.480 | ***          |\n",
        "+---------------------------+-------------+--------+---------+--------------+\n",
        "|                 in denver |           0 |  0.150 |   0.010 |              |\n",
        "+---------------------------+-------------+--------+---------+--------------+\n",
        "Estimating parameters for segment = 2, size = 162"
       ]
      },
      {
       "output_type": "stream",
       "stream": "stdout",
       "text": [
        "\n",
        "Null Log-liklihood: -746.037570"
       ]
      },
      {
       "output_type": "stream",
       "stream": "stdout",
       "text": [
        "\n",
        "Log-liklihood at convergence: -575.031361\n",
        "Log-liklihood ratio: 0.229219\n",
        "+---------------------------+-------------+--------+---------+--------------+\n",
        "|         Variables         | Coefficient | Stderr | T-score | Significance |\n",
        "+===========================+=============+========+=========+==============+\n",
        "|    residential units zone |           0 |      0 |  13.910 | ***          |\n",
        "+---------------------------+-------------+--------+---------+--------------+\n",
        "| non residential sqft zone |           0 |      0 |   0.870 |              |\n",
        "+---------------------------+-------------+--------+---------+--------------+\n",
        "|       allpurpose agglosum |           0 |  0.020 |   0.140 |              |\n",
        "+---------------------------+-------------+--------+---------+--------------+\n",
        "|                   acreage |      -0.010 |      0 | -12.690 | ***          |\n",
        "+---------------------------+-------------+--------+---------+--------------+\n",
        "|    unit price residential |           0 |      0 |   1.780 | *            |\n",
        "+---------------------------+-------------+--------+---------+--------------+\n",
        "|                 in denver |           0 |  0.210 |   0.010 |              |\n",
        "+---------------------------+-------------+--------+---------+--------------+\n",
        "Estimating parameters for segment = 3, size = 500"
       ]
      },
      {
       "output_type": "stream",
       "stream": "stdout",
       "text": [
        "\n",
        "Null Log-liklihood: -2302.585093"
       ]
      },
      {
       "output_type": "stream",
       "stream": "stdout",
       "text": [
        "\n",
        "Log-liklihood at convergence: -2283.704724\n",
        "Log-liklihood ratio: 0.008200\n",
        "+---------------------------+-------------+--------+---------+--------------+\n",
        "|         Variables         | Coefficient | Stderr | T-score | Significance |\n",
        "+===========================+=============+========+=========+==============+\n",
        "|    residential units zone |           0 |      0 |   1.010 |              |\n",
        "+---------------------------+-------------+--------+---------+--------------+\n",
        "| non residential sqft zone |           0 |      0 |  -1.630 | .            |\n",
        "+---------------------------+-------------+--------+---------+--------------+\n",
        "|       allpurpose agglosum |           0 |  0.010 |       0 |              |\n",
        "+---------------------------+-------------+--------+---------+--------------+\n",
        "|                   acreage |           0 |      0 |  -1.400 | .            |\n",
        "+---------------------------+-------------+--------+---------+--------------+\n",
        "|    unit price residential |           0 |      0 |   8.090 | ***          |\n",
        "+---------------------------+-------------+--------+---------+--------------+\n",
        "|                 in denver |           0 |  0.110 |       0 |              |\n",
        "+---------------------------+-------------+--------+---------+--------------+\n",
        "Estimating parameters for segment = 4, size = 162"
       ]
      },
      {
       "output_type": "stream",
       "stream": "stdout",
       "text": [
        "\n",
        "Null Log-liklihood: -746.037570"
       ]
      },
      {
       "output_type": "stream",
       "stream": "stdout",
       "text": [
        "\n",
        "Log-liklihood at convergence: -736.073990\n",
        "Log-liklihood ratio: 0.013355\n",
        "+---------------------------+-------------+--------+---------+--------------+\n",
        "|         Variables         | Coefficient | Stderr | T-score | Significance |\n",
        "+===========================+=============+========+=========+==============+\n",
        "|    residential units zone |           0 |      0 |   0.800 |              |\n",
        "+---------------------------+-------------+--------+---------+--------------+\n",
        "| non residential sqft zone |           0 |      0 |   3.130 | ***          |\n",
        "+---------------------------+-------------+--------+---------+--------------+\n",
        "|    unit price residential |           0 |      0 |  -2.890 | **           |\n",
        "+---------------------------+-------------+--------+---------+--------------+\n",
        "|                 in denver |           0 |  0.170 |       0 |              |\n",
        "+---------------------------+-------------+--------+---------+--------------+\n"
       ]
      }
     ],
     "prompt_number": 2
    },
    {
     "cell_type": "heading",
     "level": 2,
     "metadata": {},
     "source": [
      "Establishment Location Choice Model"
     ]
    },
    {
     "cell_type": "code",
     "collapsed": false,
     "input": [
      "depvar = 'building_id'\n",
      "SAMPLE_SIZE=50\n",
      "choosers = dset.fetch('establishments')\n",
      "choosers = choosers[(choosers.building_id>0)*(choosers.home_based_status==0)]\n",
      "#choosers = choosers.ix[np.random.choice(choosers.index, 150000,replace=False)]\n",
      "output_csv, output_title, coeff_name, output_varname = (\"drcog-coeff-elcm-%s.csv\",\"DRCOG EMPLOYMENT LOCATION CHOICE MODELS (%s)\",\"emp_location_%s\",\"establishment_building_ids\")\n",
      "\n",
      "#alts = dset.buildings[(dset.buildings.non_residential_sqft>0)]\n",
      "alts = dset.buildings\n",
      "ind_vars1=['residential_units_zone','non_residential_sqft_zone','allpurpose_agglosum','acreage','unit_price_non_residential','in_denver',]\n",
      "ind_vars2=['residential_units_zone','non_residential_sqft_zone','allpurpose_agglosum','acreage','unit_price_non_residential','in_denver',]\n",
      "ind_vars3=['residential_units_zone','non_residential_sqft_zone','allpurpose_agglosum','acreage','unit_price_non_residential','in_denver',]\n",
      "ind_vars4=['residential_units_zone','non_residential_sqft_zone','allpurpose_agglosum','acreage','unit_price_non_residential','in_denver',]\n",
      "ind_vars5=['residential_units_zone','non_residential_sqft_zone','allpurpose_agglosum','acreage','unit_price_non_residential','in_denver',]\n",
      "ind_vars6=['residential_units_zone','non_residential_sqft_zone','allpurpose_agglosum','acreage','unit_price_non_residential','in_denver',]\n",
      "segments = choosers.groupby(['sector_id_six',])\n",
      "for name, segment in segments:\n",
      "    print name\n",
      "    if name == 1:\n",
      "        ind_vars = ind_vars1 #interaction w/ employees\n",
      "    if name == 2:\n",
      "        ind_vars = ind_vars2 #big estabs are price sensitive\n",
      "    if name == 3:\n",
      "        ind_vars = ind_vars3 #negative price alone! yay!\n",
      "    if name == 4:\n",
      "        ind_vars = ind_vars4 #big estabs are price sensitive\n",
      "    if name == 5:\n",
      "        ind_vars = ind_vars5 #big estabs are price sensitive\n",
      "    if name == 6:\n",
      "        ind_vars = ind_vars6 #small estabs are price sensitive\n",
      "    name = str(name)\n",
      "    tmp_outcsv, tmp_outtitle, tmp_coeffname = output_csv%name, output_title%name, coeff_name%name\n",
      "    if len(segment.building_id) > 6000: #reduce size of segment if too big so things don't bog down\n",
      "        segment = segment.ix[np.random.choice(segment.index, 6000,replace=False)]\n",
      "    #sample, alternative_sample, est_params = interaction.mnl_interaction_dataset(segment,alts,SAMPLE_SIZE,chosenalts=segment[depvar],weight_var='non_residential_sqft')\n",
      "    sample, alternative_sample, est_params = interaction.mnl_interaction_dataset(segment,alts,SAMPLE_SIZE,chosenalts=segment[depvar])\n",
      "    #alternative_sample['paris_x_employees'] = (alternative_sample.in_paris*alternative_sample.employees)\n",
      "    print \"Estimating parameters for segment = %s, size = %d\" % (name, len(segment.index)) \n",
      "    if len(segment.index) > 50:\n",
      "        est_data = pd.DataFrame(index=alternative_sample.index)\n",
      "        for varname in ind_vars:\n",
      "            est_data[varname] = alternative_sample[varname]\n",
      "        est_data = est_data.fillna(0)\n",
      "        data = est_data.as_matrix()\n",
      "        try:\n",
      "            fit, results = interaction.estimate(data, est_params, SAMPLE_SIZE)\n",
      "            #print fit\n",
      "            #print results\n",
      "            fnames = interaction.add_fnames(ind_vars,est_params)\n",
      "            print misc.resultstotable(fnames,results)\n",
      "            misc.resultstocsv(fit,fnames,results,tmp_outcsv,tblname=tmp_outtitle)\n",
      "            dset.store_coeff(tmp_coeffname,zip(*results)[0],fnames)\n",
      "        except:\n",
      "            print 'SINGULAR MATRIX OR OTHER DATA/ESTIMATION PROBLEM'\n",
      "    else:\n",
      "        print 'SAMPLE SIZE TOO SMALL'"
     ],
     "language": "python",
     "metadata": {},
     "outputs": [
      {
       "output_type": "stream",
       "stream": "stdout",
       "text": [
        "1\n",
        "Estimating parameters for segment = 1, size = 3051"
       ]
      },
      {
       "output_type": "stream",
       "stream": "stdout",
       "text": [
        "\n",
        "Null Log-liklihood: -11935.582190"
       ]
      },
      {
       "output_type": "stream",
       "stream": "stdout",
       "text": [
        "\n",
        "Log-liklihood at convergence: -11359.329220\n",
        "Log-liklihood ratio: 0.048280\n",
        "+----------------------------+-------------+--------+---------+--------------+\n",
        "|         Variables          | Coefficient | Stderr | T-score | Significance |\n",
        "+============================+=============+========+=========+==============+\n",
        "|     residential units zone |           0 |      0 | -19.770 | ***          |\n",
        "+----------------------------+-------------+--------+---------+--------------+\n",
        "|  non residential sqft zone |           0 |      0 |  31.500 | ***          |\n",
        "+----------------------------+-------------+--------+---------+--------------+\n",
        "|        allpurpose agglosum |           0 |      0 |  -0.040 |              |\n",
        "+----------------------------+-------------+--------+---------+--------------+\n",
        "|                    acreage |           0 |      0 | -13.280 | ***          |\n",
        "+----------------------------+-------------+--------+---------+--------------+\n",
        "| unit price non residential |           0 |      0 |   0.180 |              |\n",
        "+----------------------------+-------------+--------+---------+--------------+\n",
        "|                  in denver |           0 |  0.050 |       0 |              |\n",
        "+----------------------------+-------------+--------+---------+--------------+\n",
        "2\n",
        "Estimating parameters for segment = 2, size = 1752"
       ]
      },
      {
       "output_type": "stream",
       "stream": "stdout",
       "text": [
        "\n",
        "Null Log-liklihood: -6853.864306"
       ]
      },
      {
       "output_type": "stream",
       "stream": "stdout",
       "text": [
        "\n",
        "Log-liklihood at convergence: -6474.527475\n",
        "Log-liklihood ratio: 0.055346\n",
        "+----------------------------+-------------+--------+---------+--------------+\n",
        "|         Variables          | Coefficient | Stderr | T-score | Significance |\n",
        "+============================+=============+========+=========+==============+\n",
        "|     residential units zone |           0 |      0 | -24.920 | ***          |\n",
        "+----------------------------+-------------+--------+---------+--------------+\n",
        "|  non residential sqft zone |           0 |      0 |  19.080 | ***          |\n",
        "+----------------------------+-------------+--------+---------+--------------+\n",
        "|        allpurpose agglosum |           0 |      0 |  -0.070 |              |\n",
        "+----------------------------+-------------+--------+---------+--------------+\n",
        "|                    acreage |           0 |      0 |  -2.640 | **           |\n",
        "+----------------------------+-------------+--------+---------+--------------+\n",
        "| unit price non residential |           0 |      0 |  -0.030 |              |\n",
        "+----------------------------+-------------+--------+---------+--------------+\n",
        "|                  in denver |           0 |  0.060 |       0 |              |\n",
        "+----------------------------+-------------+--------+---------+--------------+\n",
        "3\n",
        "Estimating parameters for segment = 3, size = 6000"
       ]
      },
      {
       "output_type": "stream",
       "stream": "stdout",
       "text": [
        "\n",
        "Null Log-liklihood: -23472.138033"
       ]
      },
      {
       "output_type": "stream",
       "stream": "stdout",
       "text": [
        "\n",
        "Log-liklihood at convergence: -21226.054771\n",
        "Log-liklihood ratio: 0.095691\n",
        "+----------------------------+-------------+--------+---------+--------------+\n",
        "|         Variables          | Coefficient | Stderr | T-score | Significance |\n",
        "+============================+=============+========+=========+==============+\n",
        "|     residential units zone |           0 |      0 | -48.810 | ***          |\n",
        "+----------------------------+-------------+--------+---------+--------------+\n",
        "|  non residential sqft zone |           0 |      0 |  61.660 | ***          |\n",
        "+----------------------------+-------------+--------+---------+--------------+\n",
        "|        allpurpose agglosum |           0 |      0 |  -0.160 |              |\n",
        "+----------------------------+-------------+--------+---------+--------------+\n",
        "|                    acreage |           0 |      0 |  -9.520 | ***          |\n",
        "+----------------------------+-------------+--------+---------+--------------+\n",
        "| unit price non residential |           0 |      0 |  -0.030 |              |\n",
        "+----------------------------+-------------+--------+---------+--------------+\n",
        "|                  in denver |           0 |  0.030 |   0.010 |              |\n",
        "+----------------------------+-------------+--------+---------+--------------+\n",
        "4\n",
        "Estimating parameters for segment = 4, size = 6000"
       ]
      },
      {
       "output_type": "stream",
       "stream": "stdout",
       "text": [
        "\n",
        "Null Log-liklihood: -23472.138033"
       ]
      },
      {
       "output_type": "stream",
       "stream": "stdout",
       "text": [
        "\n",
        "Log-liklihood at convergence: -21372.361933\n",
        "Log-liklihood ratio: 0.089458\n",
        "+----------------------------+-------------+--------+---------+--------------+\n",
        "|         Variables          | Coefficient | Stderr | T-score | Significance |\n",
        "+============================+=============+========+=========+==============+\n",
        "|     residential units zone |           0 |      0 |     -42 | ***          |\n",
        "+----------------------------+-------------+--------+---------+--------------+\n",
        "|  non residential sqft zone |           0 |      0 |  56.400 | ***          |\n",
        "+----------------------------+-------------+--------+---------+--------------+\n",
        "|        allpurpose agglosum |           0 |      0 |   0.130 |              |\n",
        "+----------------------------+-------------+--------+---------+--------------+\n",
        "|                    acreage |           0 |      0 | -52.990 | ***          |\n",
        "+----------------------------+-------------+--------+---------+--------------+\n",
        "| unit price non residential |           0 |      0 |   0.070 |              |\n",
        "+----------------------------+-------------+--------+---------+--------------+\n",
        "|                  in denver |           0 |  0.030 |   0.010 |              |\n",
        "+----------------------------+-------------+--------+---------+--------------+\n",
        "5\n",
        "Estimating parameters for segment = 5, size = 6000"
       ]
      },
      {
       "output_type": "stream",
       "stream": "stdout",
       "text": [
        "\n",
        "Null Log-liklihood: -23472.138033"
       ]
      },
      {
       "output_type": "stream",
       "stream": "stdout",
       "text": [
        "\n",
        "Log-liklihood at convergence: -21379.599565\n",
        "Log-liklihood ratio: 0.089150\n",
        "+----------------------------+-------------+--------+---------+--------------+\n",
        "|         Variables          | Coefficient | Stderr | T-score | Significance |\n",
        "+============================+=============+========+=========+==============+\n",
        "|     residential units zone |           0 |      0 | -45.470 | ***          |\n",
        "+----------------------------+-------------+--------+---------+--------------+\n",
        "|  non residential sqft zone |           0 |      0 |  62.540 | ***          |\n",
        "+----------------------------+-------------+--------+---------+--------------+\n",
        "|        allpurpose agglosum |           0 |      0 |  -0.110 |              |\n",
        "+----------------------------+-------------+--------+---------+--------------+\n",
        "|                    acreage |           0 |      0 | -26.780 | ***          |\n",
        "+----------------------------+-------------+--------+---------+--------------+\n",
        "| unit price non residential |           0 |      0 |  -0.050 |              |\n",
        "+----------------------------+-------------+--------+---------+--------------+\n",
        "|                  in denver |           0 |  0.030 |   0.010 |              |\n",
        "+----------------------------+-------------+--------+---------+--------------+\n",
        "6\n",
        "Estimating parameters for segment = 6, size = 6000"
       ]
      },
      {
       "output_type": "stream",
       "stream": "stdout",
       "text": [
        "\n",
        "Null Log-liklihood: -23472.138033"
       ]
      },
      {
       "output_type": "stream",
       "stream": "stdout",
       "text": [
        "\n",
        "Log-liklihood at convergence: -21665.939819\n",
        "Log-liklihood ratio: 0.076951\n",
        "+----------------------------+-------------+--------+---------+--------------+\n",
        "|         Variables          | Coefficient | Stderr | T-score | Significance |\n",
        "+============================+=============+========+=========+==============+\n",
        "|     residential units zone |           0 |      0 | -39.710 | ***          |\n",
        "+----------------------------+-------------+--------+---------+--------------+\n",
        "|  non residential sqft zone |           0 |      0 |  57.440 | ***          |\n",
        "+----------------------------+-------------+--------+---------+--------------+\n",
        "|        allpurpose agglosum |           0 |      0 |  -0.080 |              |\n",
        "+----------------------------+-------------+--------+---------+--------------+\n",
        "|                    acreage |           0 |      0 | -29.350 | ***          |\n",
        "+----------------------------+-------------+--------+---------+--------------+\n",
        "| unit price non residential |           0 |      0 |   0.510 |              |\n",
        "+----------------------------+-------------+--------+---------+--------------+\n",
        "|                  in denver |           0 |  0.030 |   0.010 |              |\n",
        "+----------------------------+-------------+--------+---------+--------------+\n"
       ]
      }
     ],
     "prompt_number": 3
    },
    {
     "cell_type": "heading",
     "level": 2,
     "metadata": {},
     "source": [
      "Development Project Location Choice Model"
     ]
    },
    {
     "cell_type": "code",
     "collapsed": false,
     "input": [
      "depvar = 'parcel_id'\n",
      "SAMPLE_SIZE=100\n",
      "choosers = dset.fetch('buildings')\n",
      "#p_nsqft = choosers.groupby('parcel_id').non_residential_sqft.sum()\n",
      "choosers = choosers[choosers.year_built>2000]\n",
      "#choosers = choosers.ix[np.random.choice(choosers.index, 150000,replace=False)]\n",
      "output_csv, output_title, coeff_name, output_varname = (\"drcog-coeff-dplcm-%s.csv\",\"DRCOG DEVPROJECT LOCATION CHOICE MODELS (%s)\",\"dp_location_%s\",\"devproject_building_ids\")\n",
      "\n",
      "alts = pd.merge(dset.parcels,dset.zones,left_on='zone_id',right_index=True)\n",
      "alts['capacity'] = alts.parcel_sqft\n",
      "# alts1 = alts[alts.building_type_id==1]\n",
      "# alts2 = alts[alts.building_type_id==2]\n",
      "# alts3 = alts[alts.building_type_id==3]\n",
      "# alts4 = alts[alts.building_type_id==4]\n",
      "# alts6 = alts[alts.building_type_id==6]\n",
      "alts1 = alts\n",
      "alts2 = alts\n",
      "alts3 = alts\n",
      "alts4 = alts\n",
      "alts6 = alts\n",
      "\n",
      "ind_vars1=['residential_units_zone','non_residential_sqft_zone','allpurpose_agglosum','acreage','in_denver',]\n",
      "ind_vars2=['residential_units_zone','non_residential_sqft_zone','allpurpose_agglosum','acreage','in_denver',]\n",
      "ind_vars3=['residential_units_zone','non_residential_sqft_zone','allpurpose_agglosum','acreage','in_denver',]\n",
      "ind_vars4=['residential_units_zone','non_residential_sqft_zone','allpurpose_agglosum','acreage','in_denver',]\n",
      "ind_vars5=['residential_units_zone','non_residential_sqft_zone','allpurpose_agglosum','acreage','in_denver',]\n",
      "ind_vars6=['residential_units_zone','non_residential_sqft_zone','allpurpose_agglosum','acreage','in_denver',]\n",
      "\n",
      "segments = choosers.groupby(['btype',])\n",
      "for name, segment in segments:\n",
      "    if name == 1:\n",
      "        alts = alts1\n",
      "        ind_vars = ind_vars1\n",
      "    if name == 2:\n",
      "        alts = alts2\n",
      "        ind_vars = ind_vars2\n",
      "    if name == 3:\n",
      "        alts = alts3\n",
      "        ind_vars = ind_vars3\n",
      "    if name == 4:\n",
      "        alts = alts4\n",
      "        ind_vars = ind_vars4\n",
      "    if name == 6:\n",
      "        alts = alts6\n",
      "        ind_vars = ind_vars6\n",
      "    name = str(name)\n",
      "    tmp_outcsv, tmp_outtitle, tmp_coeffname = output_csv%name, output_title%name, coeff_name%name\n",
      "    if len(segment.parcel_id) > 1000: #reduce size of segment if too big so things don't bog down\n",
      "        segment = segment.ix[np.random.choice(segment.index, 1000,replace=False)]\n",
      "    sample, alternative_sample, est_params = interaction.mnl_interaction_dataset(segment,alts,SAMPLE_SIZE,chosenalts=segment[depvar])\n",
      "    print \"Estimating parameters for segment = %s, size = %d\" % (name, len(segment.index)) \n",
      "    if len(segment.index) > 50:\n",
      "        est_data = pd.DataFrame(index=alternative_sample.index)\n",
      "        for varname in ind_vars:\n",
      "            est_data[varname] = alternative_sample[varname]\n",
      "        est_data = est_data.fillna(0)\n",
      "        data = est_data.as_matrix()\n",
      "#         try:\n",
      "        fit, results = interaction.estimate(data, est_params, SAMPLE_SIZE)\n",
      "        #print fit\n",
      "        #print results\n",
      "        fnames = interaction.add_fnames(ind_vars,est_params)\n",
      "        print misc.resultstotable(fnames,results)\n",
      "        misc.resultstocsv(fit,fnames,results,tmp_outcsv,tblname=tmp_outtitle)\n",
      "        dset.store_coeff(tmp_coeffname,zip(*results)[0],fnames)\n",
      "#         except:\n",
      "#             print 'SINGULAR MATRIX OR OTHER DATA/ESTIMATION PROBLEM'\n",
      "    else:\n",
      "        print 'SAMPLE SIZE TOO SMALL'"
     ],
     "language": "python",
     "metadata": {},
     "outputs": [
      {
       "output_type": "stream",
       "stream": "stdout",
       "text": [
        "Estimating parameters for segment = 1, size = 1000\n",
        "Null Log-liklihood: -4605.170186"
       ]
      },
      {
       "output_type": "stream",
       "stream": "stdout",
       "text": [
        "\n",
        "Log-liklihood at convergence: -4454.740189\n",
        "Log-liklihood ratio: 0.032665\n",
        "+---------------------------+-------------+--------+---------+--------------+\n",
        "|         Variables         | Coefficient | Stderr | T-score | Significance |\n",
        "+===========================+=============+========+=========+==============+\n",
        "|    residential units zone |           0 |      0 |   7.520 | ***          |\n",
        "+---------------------------+-------------+--------+---------+--------------+\n",
        "| non residential sqft zone |           0 |      0 |   6.830 | ***          |\n",
        "+---------------------------+-------------+--------+---------+--------------+\n",
        "|       allpurpose agglosum |       0.120 |  0.010 |  19.660 | ***          |\n",
        "+---------------------------+-------------+--------+---------+--------------+\n",
        "|                   acreage |           0 |      0 |  -8.660 | ***          |\n",
        "+---------------------------+-------------+--------+---------+--------------+\n",
        "|                 in denver |       0.030 |  0.080 |   0.340 |              |\n",
        "+---------------------------+-------------+--------+---------+--------------+\n",
        "Estimating parameters for segment = 2, size = 1000"
       ]
      },
      {
       "output_type": "stream",
       "stream": "stdout",
       "text": [
        "\n",
        "Null Log-liklihood: -4605.170186"
       ]
      },
      {
       "output_type": "stream",
       "stream": "stdout",
       "text": [
        "\n",
        "Log-liklihood at convergence: -4502.761378\n",
        "Log-liklihood ratio: 0.022238\n",
        "+---------------------------+-------------+--------+---------+--------------+\n",
        "|         Variables         | Coefficient | Stderr | T-score | Significance |\n",
        "+===========================+=============+========+=========+==============+\n",
        "|    residential units zone |           0 |      0 |   6.160 | ***          |\n",
        "+---------------------------+-------------+--------+---------+--------------+\n",
        "| non residential sqft zone |           0 |      0 |   2.870 | **           |\n",
        "+---------------------------+-------------+--------+---------+--------------+\n",
        "|       allpurpose agglosum |      -0.050 |  0.010 |  -8.430 | ***          |\n",
        "+---------------------------+-------------+--------+---------+--------------+\n",
        "|                   acreage |           0 |      0 | -28.590 | ***          |\n",
        "+---------------------------+-------------+--------+---------+--------------+\n",
        "|                 in denver |      -0.020 |  0.100 |  -0.190 |              |\n",
        "+---------------------------+-------------+--------+---------+--------------+\n",
        "Estimating parameters for segment = 3, size = 1000"
       ]
      },
      {
       "output_type": "stream",
       "stream": "stdout",
       "text": [
        "\n",
        "Null Log-liklihood: -4605.170186"
       ]
      },
      {
       "output_type": "stream",
       "stream": "stdout",
       "text": [
        "\n",
        "Log-liklihood at convergence: -4511.734186\n",
        "Log-liklihood ratio: 0.020289\n",
        "+---------------------------+-------------+--------+---------+--------------+\n",
        "|         Variables         | Coefficient | Stderr | T-score | Significance |\n",
        "+===========================+=============+========+=========+==============+\n",
        "|    residential units zone |           0 |      0 |   3.020 | **           |\n",
        "+---------------------------+-------------+--------+---------+--------------+\n",
        "| non residential sqft zone |           0 |      0 |  -7.060 | ***          |\n",
        "+---------------------------+-------------+--------+---------+--------------+\n",
        "|       allpurpose agglosum |      -0.150 |  0.010 | -23.470 | ***          |\n",
        "+---------------------------+-------------+--------+---------+--------------+\n",
        "|                   acreage |           0 |      0 |  -2.450 | **           |\n",
        "+---------------------------+-------------+--------+---------+--------------+\n",
        "|                 in denver |      -0.040 |  0.110 |  -0.380 |              |\n",
        "+---------------------------+-------------+--------+---------+--------------+\n",
        "Estimating parameters for segment = 4, size = 1000"
       ]
      },
      {
       "output_type": "stream",
       "stream": "stdout",
       "text": [
        "\n",
        "Null Log-liklihood: -4605.170186"
       ]
      },
      {
       "output_type": "stream",
       "stream": "stdout",
       "text": [
        "\n",
        "Log-liklihood at convergence: -4487.715696\n",
        "Log-liklihood ratio: 0.025505\n",
        "+---------------------------+-------------+--------+---------+--------------+\n",
        "|         Variables         | Coefficient | Stderr | T-score | Significance |\n",
        "+===========================+=============+========+=========+==============+\n",
        "|    residential units zone |           0 |      0 |   8.380 | ***          |\n",
        "+---------------------------+-------------+--------+---------+--------------+\n",
        "| non residential sqft zone |           0 |      0 |   1.910 | *            |\n",
        "+---------------------------+-------------+--------+---------+--------------+\n",
        "|       allpurpose agglosum |           0 |  0.010 |   0.030 |              |\n",
        "+---------------------------+-------------+--------+---------+--------------+\n",
        "|                   acreage |           0 |      0 |  -8.660 | ***          |\n",
        "+---------------------------+-------------+--------+---------+--------------+\n",
        "|                 in denver |           0 |  0.080 |       0 |              |\n",
        "+---------------------------+-------------+--------+---------+--------------+\n",
        "Estimating parameters for segment = 6, size = 1000"
       ]
      },
      {
       "output_type": "stream",
       "stream": "stdout",
       "text": [
        "\n",
        "Null Log-liklihood: -4605.170186"
       ]
      },
      {
       "output_type": "stream",
       "stream": "stdout",
       "text": [
        "\n",
        "Log-liklihood at convergence: -4217.409286\n",
        "Log-liklihood ratio: 0.084201\n",
        "+---------------------------+-------------+--------+---------+--------------+\n",
        "|         Variables         | Coefficient | Stderr | T-score | Significance |\n",
        "+===========================+=============+========+=========+==============+\n",
        "|    residential units zone |           0 |      0 | -21.450 | ***          |\n",
        "+---------------------------+-------------+--------+---------+--------------+\n",
        "| non residential sqft zone |           0 |      0 |  24.370 | ***          |\n",
        "+---------------------------+-------------+--------+---------+--------------+\n",
        "|       allpurpose agglosum |           0 |      0 |  -0.090 |              |\n",
        "+---------------------------+-------------+--------+---------+--------------+\n",
        "|                   acreage |           0 |      0 |   2.370 | **           |\n",
        "+---------------------------+-------------+--------+---------+--------------+\n",
        "|                 in denver |           0 |  0.120 |       0 |              |\n",
        "+---------------------------+-------------+--------+---------+--------------+\n"
       ]
      }
     ],
     "prompt_number": 4
    },
    {
     "cell_type": "code",
     "collapsed": false,
     "input": [
      "dset.coeffs"
     ],
     "language": "python",
     "metadata": {},
     "outputs": [
      {
       "html": [
        "<pre>\n",
        "&lt;class 'pandas.core.frame.DataFrame'&gt;\n",
        "Int64Index: 6 entries, 0 to 5\n",
        "Data columns (total 30 columns):\n",
        "(hh_location_1, coeffs)     6  non-null values\n",
        "(hh_location_1, fnames)     6  non-null values\n",
        "(hh_location_2, coeffs)     6  non-null values\n",
        "(hh_location_2, fnames)     6  non-null values\n",
        "(hh_location_3, coeffs)     6  non-null values\n",
        "(hh_location_3, fnames)     6  non-null values\n",
        "(hh_location_4, coeffs)     4  non-null values\n",
        "(hh_location_4, fnames)     4  non-null values\n",
        "(emp_location_1, coeffs)    6  non-null values\n",
        "(emp_location_1, fnames)    6  non-null values\n",
        "(emp_location_2, coeffs)    6  non-null values\n",
        "(emp_location_2, fnames)    6  non-null values\n",
        "(emp_location_3, coeffs)    6  non-null values\n",
        "(emp_location_3, fnames)    6  non-null values\n",
        "(emp_location_4, coeffs)    6  non-null values\n",
        "(emp_location_4, fnames)    6  non-null values\n",
        "(emp_location_5, coeffs)    6  non-null values\n",
        "(emp_location_5, fnames)    6  non-null values\n",
        "(emp_location_6, coeffs)    6  non-null values\n",
        "(emp_location_6, fnames)    6  non-null values\n",
        "(dp_location_1, coeffs)     5  non-null values\n",
        "(dp_location_1, fnames)     5  non-null values\n",
        "(dp_location_2, coeffs)     5  non-null values\n",
        "(dp_location_2, fnames)     5  non-null values\n",
        "(dp_location_3, coeffs)     5  non-null values\n",
        "(dp_location_3, fnames)     5  non-null values\n",
        "(dp_location_4, coeffs)     5  non-null values\n",
        "(dp_location_4, fnames)     5  non-null values\n",
        "(dp_location_6, coeffs)     5  non-null values\n",
        "(dp_location_6, fnames)     5  non-null values\n",
        "dtypes: float64(15), object(15)\n",
        "</pre>"
       ],
       "metadata": {},
       "output_type": "pyout",
       "prompt_number": 5,
       "text": [
        "<class 'pandas.core.frame.DataFrame'>\n",
        "Int64Index: 6 entries, 0 to 5\n",
        "Data columns (total 30 columns):\n",
        "(hh_location_1, coeffs)     6  non-null values\n",
        "(hh_location_1, fnames)     6  non-null values\n",
        "(hh_location_2, coeffs)     6  non-null values\n",
        "(hh_location_2, fnames)     6  non-null values\n",
        "(hh_location_3, coeffs)     6  non-null values\n",
        "(hh_location_3, fnames)     6  non-null values\n",
        "(hh_location_4, coeffs)     4  non-null values\n",
        "(hh_location_4, fnames)     4  non-null values\n",
        "(emp_location_1, coeffs)    6  non-null values\n",
        "(emp_location_1, fnames)    6  non-null values\n",
        "(emp_location_2, coeffs)    6  non-null values\n",
        "(emp_location_2, fnames)    6  non-null values\n",
        "(emp_location_3, coeffs)    6  non-null values\n",
        "(emp_location_3, fnames)    6  non-null values\n",
        "(emp_location_4, coeffs)    6  non-null values\n",
        "(emp_location_4, fnames)    6  non-null values\n",
        "(emp_location_5, coeffs)    6  non-null values\n",
        "(emp_location_5, fnames)    6  non-null values\n",
        "(emp_location_6, coeffs)    6  non-null values\n",
        "(emp_location_6, fnames)    6  non-null values\n",
        "(dp_location_1, coeffs)     5  non-null values\n",
        "(dp_location_1, fnames)     5  non-null values\n",
        "(dp_location_2, coeffs)     5  non-null values\n",
        "(dp_location_2, fnames)     5  non-null values\n",
        "(dp_location_3, coeffs)     5  non-null values\n",
        "(dp_location_3, fnames)     5  non-null values\n",
        "(dp_location_4, coeffs)     5  non-null values\n",
        "(dp_location_4, fnames)     5  non-null values\n",
        "(dp_location_6, coeffs)     5  non-null values\n",
        "(dp_location_6, fnames)     5  non-null values\n",
        "dtypes: float64(15), object(15)"
       ]
      }
     ],
     "prompt_number": 5
    },
    {
     "cell_type": "heading",
     "level": 2,
     "metadata": {},
     "source": [
      "Real Estate Price Model"
     ]
    },
    {
     "cell_type": "code",
     "collapsed": false,
     "input": [
      "# buildings = dset.fetch('buildings')\n",
      "# buildings = buildings[buildings.estim_index==1]\n",
      "# output_csv, output_title, coeff_name, output_varname = [\"paris-coeff-hedonic.csv\",\"PARIS HEDONIC MODEL\",\"price_%s\",\"price\"]\n",
      "\n",
      "# ind_vars1 = ['in_paris_suburbs','percent_low_income','cpraft90','cprbef15','percent_old','bati',\n",
      "#              'population_density','tco',]\n",
      "# ind_vars2 = ['in_paris','in_paris_suburbs','csubway9','percent_low_income','cpraft90','cprbef15','percent_old','bati',\n",
      "#              'population_density','tco',]\n",
      "# ind_vars3 = ['in_paris_suburbs','csubway9','percent_low_income','cpraft90','cprbef15','percent_old',\n",
      "#              'population_density','tco',]\n",
      "# ind_vars4 = ['in_paris','in_paris_suburbs','csubway9','percent_low_income','cpraft90','cprbef15','percent_old','bati',\n",
      "#              'population_density','tco',]\n",
      "# ind_vars6 = ['in_paris','in_la_defense','in_new_town','in_paris_suburbs','csubway9','percent_low_income','cpraft90','cprbef15','bati',\n",
      "#              'employment_density','tax_on_professionals','tco',]\n",
      "\n",
      "# segments = buildings.groupby('building_type_id')\n",
      "# for name, segment in segments:\n",
      "#     if name == 1:\n",
      "#         indvars = ind_vars1\n",
      "#     if name == 2:\n",
      "#         indvars = ind_vars2\n",
      "#     if name == 3:\n",
      "#         indvars = ind_vars3\n",
      "#     if name == 4:\n",
      "#         indvars = ind_vars4\n",
      "#     if name == 6:\n",
      "#         indvars = ind_vars6\n",
      "#     est_data = pd.DataFrame(index=segment.index)\n",
      "#     for varname in indvars:\n",
      "#         est_data[varname] = segment[varname]\n",
      "#     est_data = est_data.fillna(0)\n",
      "#     est_data = sm.add_constant(est_data,prepend=False)\n",
      "#     tmp_outcsv, tmp_outtitle, tmp_coeffname = output_csv%name, output_title%name, coeff_name%name\n",
      "#     print segment\n",
      "#     depvar = segment['price'].apply(np.log)\n",
      "#     print \"Estimating hedonic for %s with %d observations\" % (name,len(segment.index))\n",
      "#     print est_data.describe()\n",
      "\n",
      "#     model = sm.OLS(depvar,est_data)\n",
      "#     results = model.fit()\n",
      "#     print results.summary()\n",
      "\n",
      "#     tmp_outcsv = output_csv%name\n",
      "#     tmp_outtitle = output_title%name\n",
      "#     misc.resultstocsv((results.rsquared,results.rsquared_adj),est_data.columns,\n",
      "#                         zip(results.params,results.bse,results.tvalues),tmp_outcsv,hedonic=1,\n",
      "#                         tblname=output_title)\n",
      "\n",
      "#     dset.store_coeff(tmp_coeffname,results.params.values,results.params.index)"
     ],
     "language": "python",
     "metadata": {},
     "outputs": [],
     "prompt_number": 6
    },
    {
     "cell_type": "heading",
     "level": 3,
     "metadata": {},
     "source": [
      "Coefficients to HDF5"
     ]
    },
    {
     "cell_type": "code",
     "collapsed": false,
     "input": [
      "##COEFFICIENTS TO HDF5\n",
      "# coeff_store_path = os.path.join(output_dir,'coeffs.h5')\n",
      "# coeff_store = pd.HDFStore(coeff_store_path)\n",
      "# coeff_store['coeffs'] = dset.coeffs\n",
      "# coeff_store.close()"
     ],
     "language": "python",
     "metadata": {},
     "outputs": [],
     "prompt_number": 7
    },
    {
     "cell_type": "code",
     "collapsed": false,
     "input": [
      "            print len(dset.households.index)\n",
      "            print dset.establishments.employees.sum()\n",
      "            print dset.buildings.residential_units.sum()\n",
      "            print dset.buildings.non_residential_sqft.sum()"
     ],
     "language": "python",
     "metadata": {},
     "outputs": [
      {
       "output_type": "stream",
       "stream": "stdout",
       "text": [
        "1160387\n",
        "1606882\n",
        "2703021.0\n",
        "872568980\n"
       ]
      }
     ],
     "prompt_number": 2
    },
    {
     "cell_type": "code",
     "collapsed": false,
     "input": [
      "title = '_ref_base'\n",
      "for scenario in ['baseline',]: #'low_impact','scen0'\n",
      "    print 'Running scenario: ' + scenario\n",
      "    import time\n",
      "    seconds_start = time.time()\n",
      "    print seconds_start\n",
      "    import numpy as np, pandas as pd, os, statsmodels.api as sm\n",
      "    import synthicity.urbansim.interaction as interaction\n",
      "    from synthicity.utils import misc\n",
      "    import dataset, copy, math\n",
      "    np.random.seed(1)\n",
      "    first_year = 2011\n",
      "    last_year = 2015\n",
      "    summary = {'employment':[],'households':[],'non_residential_sqft':[],'residential_units':[],'price':[]}\n",
      "    dset = dataset.DRCOGDataset(os.path.join(misc.data_dir(),'drcog.h5'))\n",
      "    \n",
      "    for sim_year in range(first_year,last_year+1):\n",
      "        print 'Simulating year ' + str(sim_year)\n",
      "\n",
      "    #####Variable calculations\n",
      "        p = dset.fetch('parcels')\n",
      "        p['in_denver'] = (p.county_id==8031).astype('int32')\n",
      "        #building\n",
      "        b = dset.fetch('buildings')\n",
      "        print 'yoyob'\n",
      "        print b\n",
      "        b = b[['building_type_id','improvement_value','land_area','non_residential_sqft','parcel_id','residential_units','sqft_per_unit','stories','tax_exempt','year_built','bldg_sq_ft','unit_price_non_residential','unit_price_residential','building_sqft_per_job','non_residential_units','base_year_jobs','all_units']]\n",
      "        b['zone_id'] = p.zone_id[b.parcel_id].values\n",
      "        b['county_id'] = p.county_id[b.parcel_id].values\n",
      "        b['btype'] = 1*(b.building_type_id==2) + 2*(b.building_type_id==3) + 3*(b.building_type_id==20) + 4*(b.building_type_id==24) + 6*np.invert(np.in1d(b.building_type_id,[2,3,20,24]))\n",
      "        #household\n",
      "        hh_estim = dset.fetch('households_for_estimation')\n",
      "        hh = dset.fetch('households')\n",
      "        for table in [hh_estim, hh]:\n",
      "            choosers = table\n",
      "            choosers['building_type_id'] = b.building_type_id[choosers.building_id].values\n",
      "            choosers['county_id'] = b.county_id[choosers.building_id].values\n",
      "            choosers['btype'] = 1*(choosers.building_type_id==2) + 2*(choosers.building_type_id==3) + 3*(choosers.building_type_id==20) + 4*np.invert(np.in1d(choosers.building_type_id,[2,3,20]))\n",
      "        #establishment\n",
      "        e = dset.fetch('establishments')\n",
      "        e['sector_id_six'] = 1*(e.sector_id==61) + 2*(e.sector_id==71) + 3*np.in1d(e.sector_id,[11,21,22,23,31,32,33,42,48,49]) + 4*np.in1d(e.sector_id,[7221,7222,7224]) + 5*np.in1d(e.sector_id,[44,45,7211,7212,7213,7223]) + 6*np.in1d(e.sector_id,[51,52,53,54,55,56,62,81,92])\n",
      "        e['county_id'] = b.county_id[e.building_id].values\n",
      "        #zone\n",
      "        z = dset.fetch('zones')\n",
      "        z['residential_units_zone'] = b.groupby('zone_id').residential_units.sum()\n",
      "        z['non_residential_sqft_zone'] = b.groupby('zone_id').non_residential_sqft.sum()\n",
      "        #merge parcels with zones\n",
      "        pz = pd.merge(p,z,left_on='zone_id',right_index=True)\n",
      "        #merge buildings with parcels/zones\n",
      "        dset.d['buildings'] = pd.merge(b,pz,left_on='parcel_id',right_index=True)\n",
      "        \n",
      "        #Record base values for temporal comparison\n",
      "        if sim_year==first_year:\n",
      "            summary['employment'].append(e[e.building_id>0].employees.sum())\n",
      "            summary['households'].append(len(hh[hh.building_id>0].building_id))\n",
      "            summary['non_residential_sqft'].append(b.non_residential_sqft.sum())\n",
      "            summary['residential_units'].append(b.residential_units.sum())\n",
      "            print len(dset.households.index)\n",
      "            print dset.establishments.employees.sum()\n",
      "            print dset.buildings.residential_units.sum()\n",
      "            print dset.buildings.non_residential_sqft.sum()\n",
      "            base_hh_county = hh.groupby('county_id').size()\n",
      "            base_emp_county = e.groupby('county_id').employees.sum()\n",
      "            base_ru_county = b.groupby('county_id').residential_units.sum()\n",
      "            base_nr_county = b.groupby('county_id').non_residential_sqft.sum()\n",
      "\n",
      "    ############     ELCM\n",
      "        output_csv, output_title, coeff_name, output_varname = (\"drcog-coeff-elcm-%s.csv\",\"DRCOG EMPLOYMENT LOCATION CHOICE MODELS (%s)\",\"emp_location_%s\",\"establishment_building_ids\")\n",
      "        dset.establishments['home_based_status']=0\n",
      "        if scenario == 'baseline':\n",
      "            new_dev = {\"table\": \"dset.buildings\",\"writetotmp\": \"buildings\",\"model\": \"transitionmodel\",\"first_year\": 2010,\"vacancy_targets\": {\"targets\": \"dset.target_vacancies\",\n",
      "                       \"supply\": \"dset.buildings.groupby('building_type_id').all_units.sum()\",\n",
      "                       \"demands\": [\"dset.households.groupby(dset.buildings.building_type_id[dset.households.building_id].values).size()\",\n",
      "                       \"dset.establishments.groupby(dset.buildings.building_type_id[dset.establishments.building_id].values).employees.sum()\"]},\"size_field\": \"all_units\",\"geography_field\": \"parcel_id\"}\n",
      "\n",
      "        import synthicity.urbansim.transitionmodel as transitionmodel\n",
      "        print 'PRE'\n",
      "        print dset.buildings.residential_units.sum()\n",
      "        print dset.buildings.non_residential_sqft.sum()\n",
      "        print dset.buildings\n",
      "        transitionmodel.simulate(dset,new_dev,year=sim_year,show=True)\n",
      "        print 'POST'\n",
      "        b = dset.fetch('buildings')\n",
      "        print b\n",
      "        print b.residential_units.sum()\n",
      "        print b.non_residential_sqft.sum()"
     ],
     "language": "python",
     "metadata": {},
     "outputs": [
      {
       "output_type": "stream",
       "stream": "stdout",
       "text": [
        "Running scenario: baseline\n",
        "1389925367.13\n",
        "Simulating year 2011"
       ]
      },
      {
       "output_type": "stream",
       "stream": "stdout",
       "text": [
        "\n",
        "Fetching parcels\n",
        "Fetching modify_table\n",
        "Fetching buildings"
       ]
      },
      {
       "output_type": "stream",
       "stream": "stdout",
       "text": [
        "\n",
        "Fetching establishments"
       ]
      },
      {
       "output_type": "stream",
       "stream": "stdout",
       "text": [
        "\n",
        "Fetching modify_table"
       ]
      },
      {
       "output_type": "stream",
       "stream": "stdout",
       "text": [
        "\n",
        "Fetching modify_table"
       ]
      },
      {
       "output_type": "stream",
       "stream": "stdout",
       "text": [
        "\n",
        "yoyob\n",
        "<class 'pandas.core.frame.DataFrame'>\n",
        "Int64Index: 881751 entries, 55152 to 1015771\n",
        "Data columns (total 18 columns):\n",
        "building_type_id              881751  non-null values\n",
        "improvement_value             881751  non-null values\n",
        "land_area                     881751  non-null values\n",
        "non_residential_sqft          881751  non-null values\n",
        "parcel_id                     881751  non-null values\n",
        "residential_units             881751  non-null values\n",
        "sqft_per_unit                 881751  non-null values\n",
        "stories                       881751  non-null values\n",
        "tax_exempt                    881751  non-null values\n",
        "year_built                    881751  non-null values\n",
        "bldg_sq_ft                    881751  non-null values\n",
        "unit_price_non_residential    881751  non-null values\n",
        "unit_price_residential        881751  non-null values\n",
        "zone_id                       881750  non-null values\n",
        "building_sqft_per_job         881750  non-null values\n",
        "non_residential_units         881750  non-null values\n",
        "base_year_jobs                104226  non-null values\n",
        "all_units                     881750  non-null values\n",
        "dtypes: float32(2), float64(5), int32(11)"
       ]
      },
      {
       "output_type": "stream",
       "stream": "stdout",
       "text": [
        "\n",
        "Fetching households_for_estimation"
       ]
      },
      {
       "output_type": "stream",
       "stream": "stdout",
       "text": [
        "\n",
        "Fetching modify_table\n",
        "Fetching households\n",
        "Fetching modify_table\n",
        "Fetching zones"
       ]
      },
      {
       "output_type": "stream",
       "stream": "stdout",
       "text": [
        "\n",
        "Fetching modify_table\n",
        "1160387"
       ]
      },
      {
       "output_type": "stream",
       "stream": "stdout",
       "text": [
        "\n",
        "1606882\n",
        "1239015\n",
        "872568980\n",
        "PRE"
       ]
      },
      {
       "output_type": "stream",
       "stream": "stdout",
       "text": [
        "\n",
        "1239015\n",
        "872568980\n",
        "<class 'pandas.core.frame.DataFrame'>\n",
        "Int64Index: 881750 entries, 55152 to 1015771\n",
        "Data columns (total 76 columns):\n",
        "building_type_id              881750  non-null values\n",
        "improvement_value             881750  non-null values\n",
        "land_area                     881750  non-null values\n",
        "non_residential_sqft          881750  non-null values\n",
        "parcel_id                     881750  non-null values\n",
        "residential_units             881750  non-null values\n",
        "sqft_per_unit                 881750  non-null values\n",
        "stories                       881750  non-null values\n",
        "tax_exempt                    881750  non-null values\n",
        "year_built                    881750  non-null values\n",
        "bldg_sq_ft                    881750  non-null values\n",
        "unit_price_non_residential    881750  non-null values\n",
        "unit_price_residential        881750  non-null values\n",
        "building_sqft_per_job         881750  non-null values\n",
        "non_residential_units         881750  non-null values\n",
        "base_year_jobs                104226  non-null values\n",
        "all_units                     881750  non-null values\n",
        "zone_id_x                     881750  non-null values\n",
        "county_id_x                   881750  non-null values\n",
        "btype                         881750  non-null values\n",
        "county_id_y                   881750  non-null values\n",
        "parcel_sqft                   881750  non-null values\n",
        "land_value                    881750  non-null values\n",
        "zone_id_y                     881750  non-null values\n",
        "city_id                       881750  non-null values\n",
        "gen_lu_type_id                881750  non-null values\n",
        "lu_type_id                    881750  non-null values\n",
        "tax_exempt_flag               881750  non-null values\n",
        "school_district               881750  non-null values\n",
        "zoning_id                     881750  non-null values\n",
        "dist_bus                      881750  non-null values\n",
        "dist_rail                     881750  non-null values\n",
        "in_ugb                        881750  non-null values\n",
        "in_uga                        881750  non-null values\n",
        "env_constr_park               881750  non-null values\n",
        "env_constr_lake               881750  non-null values\n",
        "env_constr_floodplain         881750  non-null values\n",
        "env_constr_river              881750  non-null values\n",
        "env_constr_landslide          881750  non-null values\n",
        "far_id                        881750  non-null values\n",
        "prop_constrained              881750  non-null values\n",
        "in_denver                     881750  non-null values\n",
        "external_zone_id              881750  non-null values\n",
        "area                          881750  non-null values\n",
        "acreage                       881750  non-null values\n",
        "modelarea                     881750  non-null values\n",
        "area_type                     881750  non-null values\n",
        "zonecentroid_x                881750  non-null values\n",
        "zonecentroid_y                881750  non-null values\n",
        "county                        881750  non-null values\n",
        "numtransstops                 881750  non-null values\n",
        "averagedailyparkingcost       881750  non-null values\n",
        "intrdenshhbuffer              881750  non-null values\n",
        "intrdensempbuffer             881750  non-null values\n",
        "private_pk8enrollment         881750  non-null values\n",
        "public_pk8enrollment          881750  non-null values\n",
        "total_pk8enrollment           881750  non-null values\n",
        "private_912enrollment         881750  non-null values\n",
        "public_912enrollment          881750  non-null values\n",
        "total_912enrollment           881750  non-null values\n",
        "universityenrollment          881750  non-null values\n",
        "schooldistrictzone            881750  non-null values\n",
        "schooldistrictname            881750  non-null values\n",
        "newdistrictname               881750  non-null values\n",
        "newdistrictid                 881750  non-null values\n",
        "totalzonalenrollment          881750  non-null values\n",
        "escort_agglogsum              881750  non-null values\n",
        "persbus_agglogsum             881750  non-null values\n",
        "shop_agglogsum                881750  non-null values\n",
        "meal_agglogsum                881750  non-null values\n",
        "socrec_agglogsum              881750  non-null values\n",
        "workbasedsubtour_agglogsum    881750  non-null values\n",
        "allpurpose_agglosum           881750  non-null values\n",
        "school_district_id            881750  non-null values\n",
        "residential_units_zone        881750  non-null values\n",
        "non_residential_sqft_zone     881750  non-null values\n",
        "dtypes: float32(23), float64(8), int32(42), object(3)"
       ]
      },
      {
       "output_type": "stream",
       "stream": "stdout",
       "text": [
        "\n",
        "Fetching target_vacancies"
       ]
      },
      {
       "output_type": "stream",
       "stream": "stdout",
       "text": [
        "\n",
        "Fetching modify_table\n",
        "New units to build (vacancy_diff * denom):\n",
        "building_type_id\n",
        "2                    5646.942503\n",
        "17                   1453.972060\n",
        "20                  49757.375373\n",
        "dtype: float64\n",
        "                             0\n",
        "building_type_id              \n",
        "2                  5646.942503\n",
        "17                 1453.972060\n",
        "20                49757.375373\n",
        "Adding agents to match target of 56858 \n",
        "action\n",
        "5646.9425035\n",
        "action"
       ]
      },
      {
       "output_type": "stream",
       "stream": "stdout",
       "text": [
        "\n",
        "1453.97205968\n",
        "action"
       ]
      },
      {
       "output_type": "stream",
       "stream": "stdout",
       "text": [
        "\n",
        "49757.3753733\n",
        "Histogram of agents by year:\n"
       ]
      },
      {
       "output_type": "stream",
       "stream": "stdout",
       "text": [
        "2011    41626\n",
        "dtype: int64\n",
        "POST\n",
        "<class 'pandas.core.frame.DataFrame'>\n",
        "Int64Index: 923376 entries, 55152 to 1057397\n",
        "Data columns (total 77 columns):\n",
        "_year_added_                  41626  non-null values\n",
        "acreage                       923376  non-null values\n",
        "all_units                     923376  non-null values\n",
        "allpurpose_agglosum           923376  non-null values\n",
        "area                          923376  non-null values\n",
        "area_type                     923376  non-null values\n",
        "averagedailyparkingcost       923376  non-null values\n",
        "base_year_jobs                108167  non-null values\n",
        "bldg_sq_ft                    923376  non-null values\n",
        "btype                         923376  non-null values\n",
        "building_sqft_per_job         923376  non-null values\n",
        "building_type_id              923376  non-null values\n",
        "city_id                       923376  non-null values\n",
        "county                        923376  non-null values\n",
        "county_id_x                   923376  non-null values\n",
        "county_id_y                   923376  non-null values\n",
        "dist_bus                      923376  non-null values\n",
        "dist_rail                     923376  non-null values\n",
        "env_constr_floodplain         923376  non-null values\n",
        "env_constr_lake               923376  non-null values\n",
        "env_constr_landslide          923376  non-null values\n",
        "env_constr_park               923376  non-null values\n",
        "env_constr_river              923376  non-null values\n",
        "escort_agglogsum              923376  non-null values\n",
        "external_zone_id              923376  non-null values\n",
        "far_id                        923376  non-null values\n",
        "gen_lu_type_id                923376  non-null values\n",
        "improvement_value             923376  non-null values\n",
        "in_denver                     923376  non-null values\n",
        "in_uga                        923376  non-null values\n",
        "in_ugb                        923376  non-null values\n",
        "intrdensempbuffer             923376  non-null values\n",
        "intrdenshhbuffer              923376  non-null values\n",
        "land_area                     923376  non-null values\n",
        "land_value                    923376  non-null values\n",
        "lu_type_id                    923376  non-null values\n",
        "meal_agglogsum                923376  non-null values\n",
        "modelarea                     923376  non-null values\n",
        "newdistrictid                 923376  non-null values\n",
        "newdistrictname               923376  non-null values\n",
        "non_residential_sqft          923376  non-null values\n",
        "non_residential_sqft_zone     923376  non-null values\n",
        "non_residential_units         923376  non-null values\n",
        "numtransstops                 923376  non-null values\n",
        "parcel_id                     923376  non-null values\n",
        "parcel_sqft                   923376  non-null values\n",
        "persbus_agglogsum             923376  non-null values\n",
        "private_912enrollment         923376  non-null values\n",
        "private_pk8enrollment         923376  non-null values\n",
        "prop_constrained              923376  non-null values\n",
        "public_912enrollment          923376  non-null values\n",
        "public_pk8enrollment          923376  non-null values\n",
        "residential_units             923376  non-null values\n",
        "residential_units_zone        923376  non-null values\n",
        "school_district               923376  non-null values\n",
        "school_district_id            923376  non-null values\n",
        "schooldistrictname            923376  non-null values\n",
        "schooldistrictzone            923376  non-null values\n",
        "shop_agglogsum                923376  non-null values\n",
        "socrec_agglogsum              923376  non-null values\n",
        "sqft_per_unit                 923376  non-null values\n",
        "stories                       923376  non-null values\n",
        "tax_exempt                    923376  non-null values\n",
        "tax_exempt_flag               923376  non-null values\n",
        "total_912enrollment           923376  non-null values\n",
        "total_pk8enrollment           923376  non-null values\n",
        "totalzonalenrollment          923376  non-null values\n",
        "unit_price_non_residential    923376  non-null values\n",
        "unit_price_residential        923376  non-null values\n",
        "universityenrollment          923376  non-null values\n",
        "workbasedsubtour_agglogsum    923376  non-null values\n",
        "year_built                    923376  non-null values\n",
        "zone_id_x                     923376  non-null values\n",
        "zone_id_y                     923376  non-null values\n",
        "zonecentroid_x                923376  non-null values\n",
        "zonecentroid_y                923376  non-null values\n",
        "zoning_id                     923376  non-null values\n",
        "dtypes: float32(23), float64(9), int32(41), int64(1), object(3)"
       ]
      },
      {
       "output_type": "stream",
       "stream": "stdout",
       "text": [
        "\n",
        "1285546\n",
        "872816205\n",
        "Simulating year 2012\n",
        "yoyob\n",
        "<class 'pandas.core.frame.DataFrame'>\n",
        "Int64Index: 923376 entries, 55152 to 1057397\n",
        "Data columns (total 77 columns):\n",
        "_year_added_                  41626  non-null values\n",
        "acreage                       923376  non-null values\n",
        "all_units                     923376  non-null values\n",
        "allpurpose_agglosum           923376  non-null values\n",
        "area                          923376  non-null values\n",
        "area_type                     923376  non-null values\n",
        "averagedailyparkingcost       923376  non-null values\n",
        "base_year_jobs                108167  non-null values\n",
        "bldg_sq_ft                    923376  non-null values\n",
        "btype                         923376  non-null values\n",
        "building_sqft_per_job         923376  non-null values\n",
        "building_type_id              923376  non-null values\n",
        "city_id                       923376  non-null values\n",
        "county                        923376  non-null values\n",
        "county_id_x                   923376  non-null values\n",
        "county_id_y                   923376  non-null values\n",
        "dist_bus                      923376  non-null values\n",
        "dist_rail                     923376  non-null values\n",
        "env_constr_floodplain         923376  non-null values\n",
        "env_constr_lake               923376  non-null values\n",
        "env_constr_landslide          923376  non-null values\n",
        "env_constr_park               923376  non-null values\n",
        "env_constr_river              923376  non-null values\n",
        "escort_agglogsum              923376  non-null values\n",
        "external_zone_id              923376  non-null values\n",
        "far_id                        923376  non-null values\n",
        "gen_lu_type_id                923376  non-null values\n",
        "improvement_value             923376  non-null values\n",
        "in_denver                     923376  non-null values\n",
        "in_uga                        923376  non-null values\n",
        "in_ugb                        923376  non-null values\n",
        "intrdensempbuffer             923376  non-null values\n",
        "intrdenshhbuffer              923376  non-null values\n",
        "land_area                     923376  non-null values\n",
        "land_value                    923376  non-null values\n",
        "lu_type_id                    923376  non-null values\n",
        "meal_agglogsum                923376  non-null values\n",
        "modelarea                     923376  non-null values\n",
        "newdistrictid                 923376  non-null values\n",
        "newdistrictname               923376  non-null values\n",
        "non_residential_sqft          923376  non-null values\n",
        "non_residential_sqft_zone     923376  non-null values\n",
        "non_residential_units         923376  non-null values\n",
        "numtransstops                 923376  non-null values\n",
        "parcel_id                     923376  non-null values\n",
        "parcel_sqft                   923376  non-null values\n",
        "persbus_agglogsum             923376  non-null values\n",
        "private_912enrollment         923376  non-null values\n",
        "private_pk8enrollment         923376  non-null values\n",
        "prop_constrained              923376  non-null values\n",
        "public_912enrollment          923376  non-null values\n",
        "public_pk8enrollment          923376  non-null values\n",
        "residential_units             923376  non-null values\n",
        "residential_units_zone        923376  non-null values\n",
        "school_district               923376  non-null values\n",
        "school_district_id            923376  non-null values\n",
        "schooldistrictname            923376  non-null values\n",
        "schooldistrictzone            923376  non-null values\n",
        "shop_agglogsum                923376  non-null values\n",
        "socrec_agglogsum              923376  non-null values\n",
        "sqft_per_unit                 923376  non-null values\n",
        "stories                       923376  non-null values\n",
        "tax_exempt                    923376  non-null values\n",
        "tax_exempt_flag               923376  non-null values\n",
        "total_912enrollment           923376  non-null values\n",
        "total_pk8enrollment           923376  non-null values\n",
        "totalzonalenrollment          923376  non-null values\n",
        "unit_price_non_residential    923376  non-null values\n",
        "unit_price_residential        923376  non-null values\n",
        "universityenrollment          923376  non-null values\n",
        "workbasedsubtour_agglogsum    923376  non-null values\n",
        "year_built                    923376  non-null values\n",
        "zone_id_x                     923376  non-null values\n",
        "zone_id_y                     923376  non-null values\n",
        "zonecentroid_x                923376  non-null values\n",
        "zonecentroid_y                923376  non-null values\n",
        "zoning_id                     923376  non-null values\n",
        "dtypes: float32(23), float64(9), int32(41), int64(1), object(3)"
       ]
      },
      {
       "output_type": "stream",
       "stream": "stdout",
       "text": [
        "\n",
        "PRE"
       ]
      },
      {
       "output_type": "stream",
       "stream": "stdout",
       "text": [
        "\n",
        "1239015\n",
        "872568980\n",
        "<class 'pandas.core.frame.DataFrame'>\n",
        "Int64Index: 881750 entries, 55152 to 1015771\n",
        "Data columns (total 76 columns):\n",
        "building_type_id              881750  non-null values\n",
        "improvement_value             881750  non-null values\n",
        "land_area                     881750  non-null values\n",
        "non_residential_sqft          881750  non-null values\n",
        "parcel_id                     881750  non-null values\n",
        "residential_units             881750  non-null values\n",
        "sqft_per_unit                 881750  non-null values\n",
        "stories                       881750  non-null values\n",
        "tax_exempt                    881750  non-null values\n",
        "year_built                    881750  non-null values\n",
        "bldg_sq_ft                    881750  non-null values\n",
        "unit_price_non_residential    881750  non-null values\n",
        "unit_price_residential        881750  non-null values\n",
        "building_sqft_per_job         881750  non-null values\n",
        "non_residential_units         881750  non-null values\n",
        "base_year_jobs                104226  non-null values\n",
        "all_units                     881750  non-null values\n",
        "zone_id_x                     881750  non-null values\n",
        "county_id_x                   881750  non-null values\n",
        "btype                         881750  non-null values\n",
        "county_id_y                   881750  non-null values\n",
        "parcel_sqft                   881750  non-null values\n",
        "land_value                    881750  non-null values\n",
        "zone_id_y                     881750  non-null values\n",
        "city_id                       881750  non-null values\n",
        "gen_lu_type_id                881750  non-null values\n",
        "lu_type_id                    881750  non-null values\n",
        "tax_exempt_flag               881750  non-null values\n",
        "school_district               881750  non-null values\n",
        "zoning_id                     881750  non-null values\n",
        "dist_bus                      881750  non-null values\n",
        "dist_rail                     881750  non-null values\n",
        "in_ugb                        881750  non-null values\n",
        "in_uga                        881750  non-null values\n",
        "env_constr_park               881750  non-null values\n",
        "env_constr_lake               881750  non-null values\n",
        "env_constr_floodplain         881750  non-null values\n",
        "env_constr_river              881750  non-null values\n",
        "env_constr_landslide          881750  non-null values\n",
        "far_id                        881750  non-null values\n",
        "prop_constrained              881750  non-null values\n",
        "in_denver                     881750  non-null values\n",
        "external_zone_id              881750  non-null values\n",
        "area                          881750  non-null values\n",
        "acreage                       881750  non-null values\n",
        "modelarea                     881750  non-null values\n",
        "area_type                     881750  non-null values\n",
        "zonecentroid_x                881750  non-null values\n",
        "zonecentroid_y                881750  non-null values\n",
        "county                        881750  non-null values\n",
        "numtransstops                 881750  non-null values\n",
        "averagedailyparkingcost       881750  non-null values\n",
        "intrdenshhbuffer              881750  non-null values\n",
        "intrdensempbuffer             881750  non-null values\n",
        "private_pk8enrollment         881750  non-null values\n",
        "public_pk8enrollment          881750  non-null values\n",
        "total_pk8enrollment           881750  non-null values\n",
        "private_912enrollment         881750  non-null values\n",
        "public_912enrollment          881750  non-null values\n",
        "total_912enrollment           881750  non-null values\n",
        "universityenrollment          881750  non-null values\n",
        "schooldistrictzone            881750  non-null values\n",
        "schooldistrictname            881750  non-null values\n",
        "newdistrictname               881750  non-null values\n",
        "newdistrictid                 881750  non-null values\n",
        "totalzonalenrollment          881750  non-null values\n",
        "escort_agglogsum              881750  non-null values\n",
        "persbus_agglogsum             881750  non-null values\n",
        "shop_agglogsum                881750  non-null values\n",
        "meal_agglogsum                881750  non-null values\n",
        "socrec_agglogsum              881750  non-null values\n",
        "workbasedsubtour_agglogsum    881750  non-null values\n",
        "allpurpose_agglosum           881750  non-null values\n",
        "school_district_id            881750  non-null values\n",
        "residential_units_zone        881750  non-null values\n",
        "non_residential_sqft_zone     881750  non-null values\n",
        "dtypes: float32(23), float64(8), int32(41), int64(1), object(3)"
       ]
      },
      {
       "output_type": "stream",
       "stream": "stdout",
       "text": [
        "\n",
        "New units to build (vacancy_diff * denom):\n"
       ]
      },
      {
       "output_type": "stream",
       "stream": "stdout",
       "text": [
        "building_type_id\n",
        "2                    5646.942503\n",
        "17                   1453.972060\n",
        "20                  49757.375373\n",
        "dtype: float64\n",
        "                             0\n",
        "building_type_id              \n",
        "2                  5646.942503\n",
        "17                 1453.972060\n",
        "20                49757.375373\n",
        "Adding agents to match target of 56858 \n",
        "action\n",
        "5646.9425035\n",
        "action"
       ]
      },
      {
       "output_type": "stream",
       "stream": "stdout",
       "text": [
        "\n",
        "1453.97205968\n",
        "action"
       ]
      },
      {
       "output_type": "stream",
       "stream": "stdout",
       "text": [
        "\n",
        "49757.3753733\n",
        "Histogram of agents by year:\n"
       ]
      },
      {
       "output_type": "stream",
       "stream": "stdout",
       "text": [
        "2012    40687\n",
        "dtype: int64\n",
        "POST\n",
        "<class 'pandas.core.frame.DataFrame'>\n",
        "Int64Index: 922437 entries, 55152 to 1056458\n",
        "Data columns (total 77 columns):\n",
        "_year_added_                  40687  non-null values\n",
        "acreage                       922437  non-null values\n",
        "all_units                     922437  non-null values\n",
        "allpurpose_agglosum           922437  non-null values\n",
        "area                          922437  non-null values\n",
        "area_type                     922437  non-null values\n",
        "averagedailyparkingcost       922437  non-null values\n",
        "base_year_jobs                108133  non-null values\n",
        "bldg_sq_ft                    922437  non-null values\n",
        "btype                         922437  non-null values\n",
        "building_sqft_per_job         922437  non-null values\n",
        "building_type_id              922437  non-null values\n",
        "city_id                       922437  non-null values\n",
        "county                        922437  non-null values\n",
        "county_id_x                   922437  non-null values\n",
        "county_id_y                   922437  non-null values\n",
        "dist_bus                      922437  non-null values\n",
        "dist_rail                     922437  non-null values\n",
        "env_constr_floodplain         922437  non-null values\n",
        "env_constr_lake               922437  non-null values\n",
        "env_constr_landslide          922437  non-null values\n",
        "env_constr_park               922437  non-null values\n",
        "env_constr_river              922437  non-null values\n",
        "escort_agglogsum              922437  non-null values\n",
        "external_zone_id              922437  non-null values\n",
        "far_id                        922437  non-null values\n",
        "gen_lu_type_id                922437  non-null values\n",
        "improvement_value             922437  non-null values\n",
        "in_denver                     922437  non-null values\n",
        "in_uga                        922437  non-null values\n",
        "in_ugb                        922437  non-null values\n",
        "intrdensempbuffer             922437  non-null values\n",
        "intrdenshhbuffer              922437  non-null values\n",
        "land_area                     922437  non-null values\n",
        "land_value                    922437  non-null values\n",
        "lu_type_id                    922437  non-null values\n",
        "meal_agglogsum                922437  non-null values\n",
        "modelarea                     922437  non-null values\n",
        "newdistrictid                 922437  non-null values\n",
        "newdistrictname               922437  non-null values\n",
        "non_residential_sqft          922437  non-null values\n",
        "non_residential_sqft_zone     922437  non-null values\n",
        "non_residential_units         922437  non-null values\n",
        "numtransstops                 922437  non-null values\n",
        "parcel_id                     922437  non-null values\n",
        "parcel_sqft                   922437  non-null values\n",
        "persbus_agglogsum             922437  non-null values\n",
        "private_912enrollment         922437  non-null values\n",
        "private_pk8enrollment         922437  non-null values\n",
        "prop_constrained              922437  non-null values\n",
        "public_912enrollment          922437  non-null values\n",
        "public_pk8enrollment          922437  non-null values\n",
        "residential_units             922437  non-null values\n",
        "residential_units_zone        922437  non-null values\n",
        "school_district               922437  non-null values\n",
        "school_district_id            922437  non-null values\n",
        "schooldistrictname            922437  non-null values\n",
        "schooldistrictzone            922437  non-null values\n",
        "shop_agglogsum                922437  non-null values\n",
        "socrec_agglogsum              922437  non-null values\n",
        "sqft_per_unit                 922437  non-null values\n",
        "stories                       922437  non-null values\n",
        "tax_exempt                    922437  non-null values\n",
        "tax_exempt_flag               922437  non-null values\n",
        "total_912enrollment           922437  non-null values\n",
        "total_pk8enrollment           922437  non-null values\n",
        "totalzonalenrollment          922437  non-null values\n",
        "unit_price_non_residential    922437  non-null values\n",
        "unit_price_residential        922437  non-null values\n",
        "universityenrollment          922437  non-null values\n",
        "workbasedsubtour_agglogsum    922437  non-null values\n",
        "year_built                    922437  non-null values\n",
        "zone_id_x                     922437  non-null values\n",
        "zone_id_y                     922437  non-null values\n",
        "zonecentroid_x                922437  non-null values\n",
        "zonecentroid_y                922437  non-null values\n",
        "zoning_id                     922437  non-null values\n",
        "dtypes: float32(23), float64(9), int32(41), int64(1), object(3)"
       ]
      },
      {
       "output_type": "stream",
       "stream": "stdout",
       "text": [
        "\n",
        "1284671\n",
        "872787801\n",
        "Simulating year 2013\n",
        "yoyob\n",
        "<class 'pandas.core.frame.DataFrame'>\n",
        "Int64Index: 922437 entries, 55152 to 1056458\n",
        "Data columns (total 77 columns):\n",
        "_year_added_                  40687  non-null values\n",
        "acreage                       922437  non-null values\n",
        "all_units                     922437  non-null values\n",
        "allpurpose_agglosum           922437  non-null values\n",
        "area                          922437  non-null values\n",
        "area_type                     922437  non-null values\n",
        "averagedailyparkingcost       922437  non-null values\n",
        "base_year_jobs                108133  non-null values\n",
        "bldg_sq_ft                    922437  non-null values\n",
        "btype                         922437  non-null values\n",
        "building_sqft_per_job         922437  non-null values\n",
        "building_type_id              922437  non-null values\n",
        "city_id                       922437  non-null values\n",
        "county                        922437  non-null values\n",
        "county_id_x                   922437  non-null values\n",
        "county_id_y                   922437  non-null values\n",
        "dist_bus                      922437  non-null values\n",
        "dist_rail                     922437  non-null values\n",
        "env_constr_floodplain         922437  non-null values\n",
        "env_constr_lake               922437  non-null values\n",
        "env_constr_landslide          922437  non-null values\n",
        "env_constr_park               922437  non-null values\n",
        "env_constr_river              922437  non-null values\n",
        "escort_agglogsum              922437  non-null values\n",
        "external_zone_id              922437  non-null values\n",
        "far_id                        922437  non-null values\n",
        "gen_lu_type_id                922437  non-null values\n",
        "improvement_value             922437  non-null values\n",
        "in_denver                     922437  non-null values\n",
        "in_uga                        922437  non-null values\n",
        "in_ugb                        922437  non-null values\n",
        "intrdensempbuffer             922437  non-null values\n",
        "intrdenshhbuffer              922437  non-null values\n",
        "land_area                     922437  non-null values\n",
        "land_value                    922437  non-null values\n",
        "lu_type_id                    922437  non-null values\n",
        "meal_agglogsum                922437  non-null values\n",
        "modelarea                     922437  non-null values\n",
        "newdistrictid                 922437  non-null values\n",
        "newdistrictname               922437  non-null values\n",
        "non_residential_sqft          922437  non-null values\n",
        "non_residential_sqft_zone     922437  non-null values\n",
        "non_residential_units         922437  non-null values\n",
        "numtransstops                 922437  non-null values\n",
        "parcel_id                     922437  non-null values\n",
        "parcel_sqft                   922437  non-null values\n",
        "persbus_agglogsum             922437  non-null values\n",
        "private_912enrollment         922437  non-null values\n",
        "private_pk8enrollment         922437  non-null values\n",
        "prop_constrained              922437  non-null values\n",
        "public_912enrollment          922437  non-null values\n",
        "public_pk8enrollment          922437  non-null values\n",
        "residential_units             922437  non-null values\n",
        "residential_units_zone        922437  non-null values\n",
        "school_district               922437  non-null values\n",
        "school_district_id            922437  non-null values\n",
        "schooldistrictname            922437  non-null values\n",
        "schooldistrictzone            922437  non-null values\n",
        "shop_agglogsum                922437  non-null values\n",
        "socrec_agglogsum              922437  non-null values\n",
        "sqft_per_unit                 922437  non-null values\n",
        "stories                       922437  non-null values\n",
        "tax_exempt                    922437  non-null values\n",
        "tax_exempt_flag               922437  non-null values\n",
        "total_912enrollment           922437  non-null values\n",
        "total_pk8enrollment           922437  non-null values\n",
        "totalzonalenrollment          922437  non-null values\n",
        "unit_price_non_residential    922437  non-null values\n",
        "unit_price_residential        922437  non-null values\n",
        "universityenrollment          922437  non-null values\n",
        "workbasedsubtour_agglogsum    922437  non-null values\n",
        "year_built                    922437  non-null values\n",
        "zone_id_x                     922437  non-null values\n",
        "zone_id_y                     922437  non-null values\n",
        "zonecentroid_x                922437  non-null values\n",
        "zonecentroid_y                922437  non-null values\n",
        "zoning_id                     922437  non-null values\n",
        "dtypes: float32(23), float64(9), int32(41), int64(1), object(3)"
       ]
      },
      {
       "output_type": "stream",
       "stream": "stdout",
       "text": [
        "\n",
        "PRE"
       ]
      },
      {
       "output_type": "stream",
       "stream": "stdout",
       "text": [
        "\n",
        "1239015\n",
        "872568980\n",
        "<class 'pandas.core.frame.DataFrame'>\n",
        "Int64Index: 881750 entries, 55152 to 1015771\n",
        "Data columns (total 76 columns):\n",
        "building_type_id              881750  non-null values\n",
        "improvement_value             881750  non-null values\n",
        "land_area                     881750  non-null values\n",
        "non_residential_sqft          881750  non-null values\n",
        "parcel_id                     881750  non-null values\n",
        "residential_units             881750  non-null values\n",
        "sqft_per_unit                 881750  non-null values\n",
        "stories                       881750  non-null values\n",
        "tax_exempt                    881750  non-null values\n",
        "year_built                    881750  non-null values\n",
        "bldg_sq_ft                    881750  non-null values\n",
        "unit_price_non_residential    881750  non-null values\n",
        "unit_price_residential        881750  non-null values\n",
        "building_sqft_per_job         881750  non-null values\n",
        "non_residential_units         881750  non-null values\n",
        "base_year_jobs                104226  non-null values\n",
        "all_units                     881750  non-null values\n",
        "zone_id_x                     881750  non-null values\n",
        "county_id_x                   881750  non-null values\n",
        "btype                         881750  non-null values\n",
        "county_id_y                   881750  non-null values\n",
        "parcel_sqft                   881750  non-null values\n",
        "land_value                    881750  non-null values\n",
        "zone_id_y                     881750  non-null values\n",
        "city_id                       881750  non-null values\n",
        "gen_lu_type_id                881750  non-null values\n",
        "lu_type_id                    881750  non-null values\n",
        "tax_exempt_flag               881750  non-null values\n",
        "school_district               881750  non-null values\n",
        "zoning_id                     881750  non-null values\n",
        "dist_bus                      881750  non-null values\n",
        "dist_rail                     881750  non-null values\n",
        "in_ugb                        881750  non-null values\n",
        "in_uga                        881750  non-null values\n",
        "env_constr_park               881750  non-null values\n",
        "env_constr_lake               881750  non-null values\n",
        "env_constr_floodplain         881750  non-null values\n",
        "env_constr_river              881750  non-null values\n",
        "env_constr_landslide          881750  non-null values\n",
        "far_id                        881750  non-null values\n",
        "prop_constrained              881750  non-null values\n",
        "in_denver                     881750  non-null values\n",
        "external_zone_id              881750  non-null values\n",
        "area                          881750  non-null values\n",
        "acreage                       881750  non-null values\n",
        "modelarea                     881750  non-null values\n",
        "area_type                     881750  non-null values\n",
        "zonecentroid_x                881750  non-null values\n",
        "zonecentroid_y                881750  non-null values\n",
        "county                        881750  non-null values\n",
        "numtransstops                 881750  non-null values\n",
        "averagedailyparkingcost       881750  non-null values\n",
        "intrdenshhbuffer              881750  non-null values\n",
        "intrdensempbuffer             881750  non-null values\n",
        "private_pk8enrollment         881750  non-null values\n",
        "public_pk8enrollment          881750  non-null values\n",
        "total_pk8enrollment           881750  non-null values\n",
        "private_912enrollment         881750  non-null values\n",
        "public_912enrollment          881750  non-null values\n",
        "total_912enrollment           881750  non-null values\n",
        "universityenrollment          881750  non-null values\n",
        "schooldistrictzone            881750  non-null values\n",
        "schooldistrictname            881750  non-null values\n",
        "newdistrictname               881750  non-null values\n",
        "newdistrictid                 881750  non-null values\n",
        "totalzonalenrollment          881750  non-null values\n",
        "escort_agglogsum              881750  non-null values\n",
        "persbus_agglogsum             881750  non-null values\n",
        "shop_agglogsum                881750  non-null values\n",
        "meal_agglogsum                881750  non-null values\n",
        "socrec_agglogsum              881750  non-null values\n",
        "workbasedsubtour_agglogsum    881750  non-null values\n",
        "allpurpose_agglosum           881750  non-null values\n",
        "school_district_id            881750  non-null values\n",
        "residential_units_zone        881750  non-null values\n",
        "non_residential_sqft_zone     881750  non-null values\n",
        "dtypes: float32(23), float64(8), int32(41), int64(1), object(3)"
       ]
      },
      {
       "output_type": "stream",
       "stream": "stdout",
       "text": [
        "\n",
        "New units to build (vacancy_diff * denom):\n"
       ]
      },
      {
       "output_type": "stream",
       "stream": "stdout",
       "text": [
        "building_type_id\n",
        "2                    5646.942503\n",
        "17                   1453.972060\n",
        "20                  49757.375373\n",
        "dtype: float64\n",
        "                             0\n",
        "building_type_id              \n",
        "2                  5646.942503\n",
        "17                 1453.972060\n",
        "20                49757.375373\n",
        "Adding agents to match target of 56858 \n",
        "action\n",
        "5646.9425035\n",
        "action"
       ]
      },
      {
       "output_type": "stream",
       "stream": "stdout",
       "text": [
        "\n",
        "1453.97205968\n",
        "action"
       ]
      },
      {
       "output_type": "stream",
       "stream": "stdout",
       "text": [
        "\n",
        "49757.3753733\n",
        "Histogram of agents by year:\n"
       ]
      },
      {
       "output_type": "stream",
       "stream": "stdout",
       "text": [
        "2013    41304\n",
        "dtype: int64\n",
        "POST\n",
        "<class 'pandas.core.frame.DataFrame'>\n",
        "Int64Index: 923054 entries, 55152 to 1057075\n",
        "Data columns (total 77 columns):\n",
        "_year_added_                  41304  non-null values\n",
        "acreage                       923054  non-null values\n",
        "all_units                     923054  non-null values\n",
        "allpurpose_agglosum           923054  non-null values\n",
        "area                          923054  non-null values\n",
        "area_type                     923054  non-null values\n",
        "averagedailyparkingcost       923054  non-null values\n",
        "base_year_jobs                108158  non-null values\n",
        "bldg_sq_ft                    923054  non-null values\n",
        "btype                         923054  non-null values\n",
        "building_sqft_per_job         923054  non-null values\n",
        "building_type_id              923054  non-null values\n",
        "city_id                       923054  non-null values\n",
        "county                        923054  non-null values\n",
        "county_id_x                   923054  non-null values\n",
        "county_id_y                   923054  non-null values\n",
        "dist_bus                      923054  non-null values\n",
        "dist_rail                     923054  non-null values\n",
        "env_constr_floodplain         923054  non-null values\n",
        "env_constr_lake               923054  non-null values\n",
        "env_constr_landslide          923054  non-null values\n",
        "env_constr_park               923054  non-null values\n",
        "env_constr_river              923054  non-null values\n",
        "escort_agglogsum              923054  non-null values\n",
        "external_zone_id              923054  non-null values\n",
        "far_id                        923054  non-null values\n",
        "gen_lu_type_id                923054  non-null values\n",
        "improvement_value             923054  non-null values\n",
        "in_denver                     923054  non-null values\n",
        "in_uga                        923054  non-null values\n",
        "in_ugb                        923054  non-null values\n",
        "intrdensempbuffer             923054  non-null values\n",
        "intrdenshhbuffer              923054  non-null values\n",
        "land_area                     923054  non-null values\n",
        "land_value                    923054  non-null values\n",
        "lu_type_id                    923054  non-null values\n",
        "meal_agglogsum                923054  non-null values\n",
        "modelarea                     923054  non-null values\n",
        "newdistrictid                 923054  non-null values\n",
        "newdistrictname               923054  non-null values\n",
        "non_residential_sqft          923054  non-null values\n",
        "non_residential_sqft_zone     923054  non-null values\n",
        "non_residential_units         923054  non-null values\n",
        "numtransstops                 923054  non-null values\n",
        "parcel_id                     923054  non-null values\n",
        "parcel_sqft                   923054  non-null values\n",
        "persbus_agglogsum             923054  non-null values\n",
        "private_912enrollment         923054  non-null values\n",
        "private_pk8enrollment         923054  non-null values\n",
        "prop_constrained              923054  non-null values\n",
        "public_912enrollment          923054  non-null values\n",
        "public_pk8enrollment          923054  non-null values\n",
        "residential_units             923054  non-null values\n",
        "residential_units_zone        923054  non-null values\n",
        "school_district               923054  non-null values\n",
        "school_district_id            923054  non-null values\n",
        "schooldistrictname            923054  non-null values\n",
        "schooldistrictzone            923054  non-null values\n",
        "shop_agglogsum                923054  non-null values\n",
        "socrec_agglogsum              923054  non-null values\n",
        "sqft_per_unit                 923054  non-null values\n",
        "stories                       923054  non-null values\n",
        "tax_exempt                    923054  non-null values\n",
        "tax_exempt_flag               923054  non-null values\n",
        "total_912enrollment           923054  non-null values\n",
        "total_pk8enrollment           923054  non-null values\n",
        "totalzonalenrollment          923054  non-null values\n",
        "unit_price_non_residential    923054  non-null values\n",
        "unit_price_residential        923054  non-null values\n",
        "universityenrollment          923054  non-null values\n",
        "workbasedsubtour_agglogsum    923054  non-null values\n",
        "year_built                    923054  non-null values\n",
        "zone_id_x                     923054  non-null values\n",
        "zone_id_y                     923054  non-null values\n",
        "zonecentroid_x                923054  non-null values\n",
        "zonecentroid_y                923054  non-null values\n",
        "zoning_id                     923054  non-null values\n",
        "dtypes: float32(23), float64(9), int32(41), int64(1), object(3)"
       ]
      },
      {
       "output_type": "stream",
       "stream": "stdout",
       "text": [
        "\n",
        "1285256\n",
        "872740723\n",
        "Simulating year 2014\n",
        "yoyob\n",
        "<class 'pandas.core.frame.DataFrame'>\n",
        "Int64Index: 923054 entries, 55152 to 1057075\n",
        "Data columns (total 77 columns):\n",
        "_year_added_                  41304  non-null values\n",
        "acreage                       923054  non-null values\n",
        "all_units                     923054  non-null values\n",
        "allpurpose_agglosum           923054  non-null values\n",
        "area                          923054  non-null values\n",
        "area_type                     923054  non-null values\n",
        "averagedailyparkingcost       923054  non-null values\n",
        "base_year_jobs                108158  non-null values\n",
        "bldg_sq_ft                    923054  non-null values\n",
        "btype                         923054  non-null values\n",
        "building_sqft_per_job         923054  non-null values\n",
        "building_type_id              923054  non-null values\n",
        "city_id                       923054  non-null values\n",
        "county                        923054  non-null values\n",
        "county_id_x                   923054  non-null values\n",
        "county_id_y                   923054  non-null values\n",
        "dist_bus                      923054  non-null values\n",
        "dist_rail                     923054  non-null values\n",
        "env_constr_floodplain         923054  non-null values\n",
        "env_constr_lake               923054  non-null values\n",
        "env_constr_landslide          923054  non-null values\n",
        "env_constr_park               923054  non-null values\n",
        "env_constr_river              923054  non-null values\n",
        "escort_agglogsum              923054  non-null values\n",
        "external_zone_id              923054  non-null values\n",
        "far_id                        923054  non-null values\n",
        "gen_lu_type_id                923054  non-null values\n",
        "improvement_value             923054  non-null values\n",
        "in_denver                     923054  non-null values\n",
        "in_uga                        923054  non-null values\n",
        "in_ugb                        923054  non-null values\n",
        "intrdensempbuffer             923054  non-null values\n",
        "intrdenshhbuffer              923054  non-null values\n",
        "land_area                     923054  non-null values\n",
        "land_value                    923054  non-null values\n",
        "lu_type_id                    923054  non-null values\n",
        "meal_agglogsum                923054  non-null values\n",
        "modelarea                     923054  non-null values\n",
        "newdistrictid                 923054  non-null values\n",
        "newdistrictname               923054  non-null values\n",
        "non_residential_sqft          923054  non-null values\n",
        "non_residential_sqft_zone     923054  non-null values\n",
        "non_residential_units         923054  non-null values\n",
        "numtransstops                 923054  non-null values\n",
        "parcel_id                     923054  non-null values\n",
        "parcel_sqft                   923054  non-null values\n",
        "persbus_agglogsum             923054  non-null values\n",
        "private_912enrollment         923054  non-null values\n",
        "private_pk8enrollment         923054  non-null values\n",
        "prop_constrained              923054  non-null values\n",
        "public_912enrollment          923054  non-null values\n",
        "public_pk8enrollment          923054  non-null values\n",
        "residential_units             923054  non-null values\n",
        "residential_units_zone        923054  non-null values\n",
        "school_district               923054  non-null values\n",
        "school_district_id            923054  non-null values\n",
        "schooldistrictname            923054  non-null values\n",
        "schooldistrictzone            923054  non-null values\n",
        "shop_agglogsum                923054  non-null values\n",
        "socrec_agglogsum              923054  non-null values\n",
        "sqft_per_unit                 923054  non-null values\n",
        "stories                       923054  non-null values\n",
        "tax_exempt                    923054  non-null values\n",
        "tax_exempt_flag               923054  non-null values\n",
        "total_912enrollment           923054  non-null values\n",
        "total_pk8enrollment           923054  non-null values\n",
        "totalzonalenrollment          923054  non-null values\n",
        "unit_price_non_residential    923054  non-null values\n",
        "unit_price_residential        923054  non-null values\n",
        "universityenrollment          923054  non-null values\n",
        "workbasedsubtour_agglogsum    923054  non-null values\n",
        "year_built                    923054  non-null values\n",
        "zone_id_x                     923054  non-null values\n",
        "zone_id_y                     923054  non-null values\n",
        "zonecentroid_x                923054  non-null values\n",
        "zonecentroid_y                923054  non-null values\n",
        "zoning_id                     923054  non-null values\n",
        "dtypes: float32(23), float64(9), int32(41), int64(1), object(3)"
       ]
      },
      {
       "output_type": "stream",
       "stream": "stdout",
       "text": [
        "\n",
        "PRE"
       ]
      },
      {
       "output_type": "stream",
       "stream": "stdout",
       "text": [
        "\n",
        "1239015\n",
        "872568980\n",
        "<class 'pandas.core.frame.DataFrame'>\n",
        "Int64Index: 881750 entries, 55152 to 1015771\n",
        "Data columns (total 76 columns):\n",
        "building_type_id              881750  non-null values\n",
        "improvement_value             881750  non-null values\n",
        "land_area                     881750  non-null values\n",
        "non_residential_sqft          881750  non-null values\n",
        "parcel_id                     881750  non-null values\n",
        "residential_units             881750  non-null values\n",
        "sqft_per_unit                 881750  non-null values\n",
        "stories                       881750  non-null values\n",
        "tax_exempt                    881750  non-null values\n",
        "year_built                    881750  non-null values\n",
        "bldg_sq_ft                    881750  non-null values\n",
        "unit_price_non_residential    881750  non-null values\n",
        "unit_price_residential        881750  non-null values\n",
        "building_sqft_per_job         881750  non-null values\n",
        "non_residential_units         881750  non-null values\n",
        "base_year_jobs                104226  non-null values\n",
        "all_units                     881750  non-null values\n",
        "zone_id_x                     881750  non-null values\n",
        "county_id_x                   881750  non-null values\n",
        "btype                         881750  non-null values\n",
        "county_id_y                   881750  non-null values\n",
        "parcel_sqft                   881750  non-null values\n",
        "land_value                    881750  non-null values\n",
        "zone_id_y                     881750  non-null values\n",
        "city_id                       881750  non-null values\n",
        "gen_lu_type_id                881750  non-null values\n",
        "lu_type_id                    881750  non-null values\n",
        "tax_exempt_flag               881750  non-null values\n",
        "school_district               881750  non-null values\n",
        "zoning_id                     881750  non-null values\n",
        "dist_bus                      881750  non-null values\n",
        "dist_rail                     881750  non-null values\n",
        "in_ugb                        881750  non-null values\n",
        "in_uga                        881750  non-null values\n",
        "env_constr_park               881750  non-null values\n",
        "env_constr_lake               881750  non-null values\n",
        "env_constr_floodplain         881750  non-null values\n",
        "env_constr_river              881750  non-null values\n",
        "env_constr_landslide          881750  non-null values\n",
        "far_id                        881750  non-null values\n",
        "prop_constrained              881750  non-null values\n",
        "in_denver                     881750  non-null values\n",
        "external_zone_id              881750  non-null values\n",
        "area                          881750  non-null values\n",
        "acreage                       881750  non-null values\n",
        "modelarea                     881750  non-null values\n",
        "area_type                     881750  non-null values\n",
        "zonecentroid_x                881750  non-null values\n",
        "zonecentroid_y                881750  non-null values\n",
        "county                        881750  non-null values\n",
        "numtransstops                 881750  non-null values\n",
        "averagedailyparkingcost       881750  non-null values\n",
        "intrdenshhbuffer              881750  non-null values\n",
        "intrdensempbuffer             881750  non-null values\n",
        "private_pk8enrollment         881750  non-null values\n",
        "public_pk8enrollment          881750  non-null values\n",
        "total_pk8enrollment           881750  non-null values\n",
        "private_912enrollment         881750  non-null values\n",
        "public_912enrollment          881750  non-null values\n",
        "total_912enrollment           881750  non-null values\n",
        "universityenrollment          881750  non-null values\n",
        "schooldistrictzone            881750  non-null values\n",
        "schooldistrictname            881750  non-null values\n",
        "newdistrictname               881750  non-null values\n",
        "newdistrictid                 881750  non-null values\n",
        "totalzonalenrollment          881750  non-null values\n",
        "escort_agglogsum              881750  non-null values\n",
        "persbus_agglogsum             881750  non-null values\n",
        "shop_agglogsum                881750  non-null values\n",
        "meal_agglogsum                881750  non-null values\n",
        "socrec_agglogsum              881750  non-null values\n",
        "workbasedsubtour_agglogsum    881750  non-null values\n",
        "allpurpose_agglosum           881750  non-null values\n",
        "school_district_id            881750  non-null values\n",
        "residential_units_zone        881750  non-null values\n",
        "non_residential_sqft_zone     881750  non-null values\n",
        "dtypes: float32(23), float64(8), int32(41), int64(1), object(3)"
       ]
      },
      {
       "output_type": "stream",
       "stream": "stdout",
       "text": [
        "\n",
        "New units to build (vacancy_diff * denom):\n"
       ]
      },
      {
       "output_type": "stream",
       "stream": "stdout",
       "text": [
        "building_type_id\n",
        "2                    5646.942503\n",
        "17                   1453.972060\n",
        "20                  49757.375373\n",
        "dtype: float64\n",
        "                             0\n",
        "building_type_id              \n",
        "2                  5646.942503\n",
        "17                 1453.972060\n",
        "20                49757.375373\n",
        "Adding agents to match target of 56858 \n",
        "action\n",
        "5646.9425035\n",
        "action"
       ]
      },
      {
       "output_type": "stream",
       "stream": "stdout",
       "text": [
        "\n",
        "1453.97205968\n",
        "action"
       ]
      },
      {
       "output_type": "stream",
       "stream": "stdout",
       "text": [
        "\n",
        "49757.3753733\n",
        "Histogram of agents by year:\n"
       ]
      },
      {
       "output_type": "stream",
       "stream": "stdout",
       "text": [
        "2014    40938\n",
        "dtype: int64\n",
        "POST\n",
        "<class 'pandas.core.frame.DataFrame'>\n",
        "Int64Index: 922688 entries, 55152 to 1056709\n",
        "Data columns (total 77 columns):\n",
        "_year_added_                  40938  non-null values\n",
        "acreage                       922688  non-null values\n",
        "all_units                     922688  non-null values\n",
        "allpurpose_agglosum           922688  non-null values\n",
        "area                          922688  non-null values\n",
        "area_type                     922688  non-null values\n",
        "averagedailyparkingcost       922688  non-null values\n",
        "base_year_jobs                108079  non-null values\n",
        "bldg_sq_ft                    922688  non-null values\n",
        "btype                         922688  non-null values\n",
        "building_sqft_per_job         922688  non-null values\n",
        "building_type_id              922688  non-null values\n",
        "city_id                       922688  non-null values\n",
        "county                        922688  non-null values\n",
        "county_id_x                   922688  non-null values\n",
        "county_id_y                   922688  non-null values\n",
        "dist_bus                      922688  non-null values\n",
        "dist_rail                     922688  non-null values\n",
        "env_constr_floodplain         922688  non-null values\n",
        "env_constr_lake               922688  non-null values\n",
        "env_constr_landslide          922688  non-null values\n",
        "env_constr_park               922688  non-null values\n",
        "env_constr_river              922688  non-null values\n",
        "escort_agglogsum              922688  non-null values\n",
        "external_zone_id              922688  non-null values\n",
        "far_id                        922688  non-null values\n",
        "gen_lu_type_id                922688  non-null values\n",
        "improvement_value             922688  non-null values\n",
        "in_denver                     922688  non-null values\n",
        "in_uga                        922688  non-null values\n",
        "in_ugb                        922688  non-null values\n",
        "intrdensempbuffer             922688  non-null values\n",
        "intrdenshhbuffer              922688  non-null values\n",
        "land_area                     922688  non-null values\n",
        "land_value                    922688  non-null values\n",
        "lu_type_id                    922688  non-null values\n",
        "meal_agglogsum                922688  non-null values\n",
        "modelarea                     922688  non-null values\n",
        "newdistrictid                 922688  non-null values\n",
        "newdistrictname               922688  non-null values\n",
        "non_residential_sqft          922688  non-null values\n",
        "non_residential_sqft_zone     922688  non-null values\n",
        "non_residential_units         922688  non-null values\n",
        "numtransstops                 922688  non-null values\n",
        "parcel_id                     922688  non-null values\n",
        "parcel_sqft                   922688  non-null values\n",
        "persbus_agglogsum             922688  non-null values\n",
        "private_912enrollment         922688  non-null values\n",
        "private_pk8enrollment         922688  non-null values\n",
        "prop_constrained              922688  non-null values\n",
        "public_912enrollment          922688  non-null values\n",
        "public_pk8enrollment          922688  non-null values\n",
        "residential_units             922688  non-null values\n",
        "residential_units_zone        922688  non-null values\n",
        "school_district               922688  non-null values\n",
        "school_district_id            922688  non-null values\n",
        "schooldistrictname            922688  non-null values\n",
        "schooldistrictzone            922688  non-null values\n",
        "shop_agglogsum                922688  non-null values\n",
        "socrec_agglogsum              922688  non-null values\n",
        "sqft_per_unit                 922688  non-null values\n",
        "stories                       922688  non-null values\n",
        "tax_exempt                    922688  non-null values\n",
        "tax_exempt_flag               922688  non-null values\n",
        "total_912enrollment           922688  non-null values\n",
        "total_pk8enrollment           922688  non-null values\n",
        "totalzonalenrollment          922688  non-null values\n",
        "unit_price_non_residential    922688  non-null values\n",
        "unit_price_residential        922688  non-null values\n",
        "universityenrollment          922688  non-null values\n",
        "workbasedsubtour_agglogsum    922688  non-null values\n",
        "year_built                    922688  non-null values\n",
        "zone_id_x                     922688  non-null values\n",
        "zone_id_y                     922688  non-null values\n",
        "zonecentroid_x                922688  non-null values\n",
        "zonecentroid_y                922688  non-null values\n",
        "zoning_id                     922688  non-null values\n",
        "dtypes: float32(23), float64(9), int32(41), int64(1), object(3)"
       ]
      },
      {
       "output_type": "stream",
       "stream": "stdout",
       "text": [
        "\n",
        "1284749\n",
        "872743735\n",
        "Simulating year 2015\n",
        "yoyob\n",
        "<class 'pandas.core.frame.DataFrame'>\n",
        "Int64Index: 922688 entries, 55152 to 1056709\n",
        "Data columns (total 77 columns):\n",
        "_year_added_                  40938  non-null values\n",
        "acreage                       922688  non-null values\n",
        "all_units                     922688  non-null values\n",
        "allpurpose_agglosum           922688  non-null values\n",
        "area                          922688  non-null values\n",
        "area_type                     922688  non-null values\n",
        "averagedailyparkingcost       922688  non-null values\n",
        "base_year_jobs                108079  non-null values\n",
        "bldg_sq_ft                    922688  non-null values\n",
        "btype                         922688  non-null values\n",
        "building_sqft_per_job         922688  non-null values\n",
        "building_type_id              922688  non-null values\n",
        "city_id                       922688  non-null values\n",
        "county                        922688  non-null values\n",
        "county_id_x                   922688  non-null values\n",
        "county_id_y                   922688  non-null values\n",
        "dist_bus                      922688  non-null values\n",
        "dist_rail                     922688  non-null values\n",
        "env_constr_floodplain         922688  non-null values\n",
        "env_constr_lake               922688  non-null values\n",
        "env_constr_landslide          922688  non-null values\n",
        "env_constr_park               922688  non-null values\n",
        "env_constr_river              922688  non-null values\n",
        "escort_agglogsum              922688  non-null values\n",
        "external_zone_id              922688  non-null values\n",
        "far_id                        922688  non-null values\n",
        "gen_lu_type_id                922688  non-null values\n",
        "improvement_value             922688  non-null values\n",
        "in_denver                     922688  non-null values\n",
        "in_uga                        922688  non-null values\n",
        "in_ugb                        922688  non-null values\n",
        "intrdensempbuffer             922688  non-null values\n",
        "intrdenshhbuffer              922688  non-null values\n",
        "land_area                     922688  non-null values\n",
        "land_value                    922688  non-null values\n",
        "lu_type_id                    922688  non-null values\n",
        "meal_agglogsum                922688  non-null values\n",
        "modelarea                     922688  non-null values\n",
        "newdistrictid                 922688  non-null values\n",
        "newdistrictname               922688  non-null values\n",
        "non_residential_sqft          922688  non-null values\n",
        "non_residential_sqft_zone     922688  non-null values\n",
        "non_residential_units         922688  non-null values\n",
        "numtransstops                 922688  non-null values\n",
        "parcel_id                     922688  non-null values\n",
        "parcel_sqft                   922688  non-null values\n",
        "persbus_agglogsum             922688  non-null values\n",
        "private_912enrollment         922688  non-null values\n",
        "private_pk8enrollment         922688  non-null values\n",
        "prop_constrained              922688  non-null values\n",
        "public_912enrollment          922688  non-null values\n",
        "public_pk8enrollment          922688  non-null values\n",
        "residential_units             922688  non-null values\n",
        "residential_units_zone        922688  non-null values\n",
        "school_district               922688  non-null values\n",
        "school_district_id            922688  non-null values\n",
        "schooldistrictname            922688  non-null values\n",
        "schooldistrictzone            922688  non-null values\n",
        "shop_agglogsum                922688  non-null values\n",
        "socrec_agglogsum              922688  non-null values\n",
        "sqft_per_unit                 922688  non-null values\n",
        "stories                       922688  non-null values\n",
        "tax_exempt                    922688  non-null values\n",
        "tax_exempt_flag               922688  non-null values\n",
        "total_912enrollment           922688  non-null values\n",
        "total_pk8enrollment           922688  non-null values\n",
        "totalzonalenrollment          922688  non-null values\n",
        "unit_price_non_residential    922688  non-null values\n",
        "unit_price_residential        922688  non-null values\n",
        "universityenrollment          922688  non-null values\n",
        "workbasedsubtour_agglogsum    922688  non-null values\n",
        "year_built                    922688  non-null values\n",
        "zone_id_x                     922688  non-null values\n",
        "zone_id_y                     922688  non-null values\n",
        "zonecentroid_x                922688  non-null values\n",
        "zonecentroid_y                922688  non-null values\n",
        "zoning_id                     922688  non-null values\n",
        "dtypes: float32(23), float64(9), int32(41), int64(1), object(3)"
       ]
      },
      {
       "output_type": "stream",
       "stream": "stdout",
       "text": [
        "\n",
        "PRE"
       ]
      },
      {
       "output_type": "stream",
       "stream": "stdout",
       "text": [
        "\n",
        "1239015\n",
        "872568980\n",
        "<class 'pandas.core.frame.DataFrame'>\n",
        "Int64Index: 881750 entries, 55152 to 1015771\n",
        "Data columns (total 76 columns):\n",
        "building_type_id              881750  non-null values\n",
        "improvement_value             881750  non-null values\n",
        "land_area                     881750  non-null values\n",
        "non_residential_sqft          881750  non-null values\n",
        "parcel_id                     881750  non-null values\n",
        "residential_units             881750  non-null values\n",
        "sqft_per_unit                 881750  non-null values\n",
        "stories                       881750  non-null values\n",
        "tax_exempt                    881750  non-null values\n",
        "year_built                    881750  non-null values\n",
        "bldg_sq_ft                    881750  non-null values\n",
        "unit_price_non_residential    881750  non-null values\n",
        "unit_price_residential        881750  non-null values\n",
        "building_sqft_per_job         881750  non-null values\n",
        "non_residential_units         881750  non-null values\n",
        "base_year_jobs                104226  non-null values\n",
        "all_units                     881750  non-null values\n",
        "zone_id_x                     881750  non-null values\n",
        "county_id_x                   881750  non-null values\n",
        "btype                         881750  non-null values\n",
        "county_id_y                   881750  non-null values\n",
        "parcel_sqft                   881750  non-null values\n",
        "land_value                    881750  non-null values\n",
        "zone_id_y                     881750  non-null values\n",
        "city_id                       881750  non-null values\n",
        "gen_lu_type_id                881750  non-null values\n",
        "lu_type_id                    881750  non-null values\n",
        "tax_exempt_flag               881750  non-null values\n",
        "school_district               881750  non-null values\n",
        "zoning_id                     881750  non-null values\n",
        "dist_bus                      881750  non-null values\n",
        "dist_rail                     881750  non-null values\n",
        "in_ugb                        881750  non-null values\n",
        "in_uga                        881750  non-null values\n",
        "env_constr_park               881750  non-null values\n",
        "env_constr_lake               881750  non-null values\n",
        "env_constr_floodplain         881750  non-null values\n",
        "env_constr_river              881750  non-null values\n",
        "env_constr_landslide          881750  non-null values\n",
        "far_id                        881750  non-null values\n",
        "prop_constrained              881750  non-null values\n",
        "in_denver                     881750  non-null values\n",
        "external_zone_id              881750  non-null values\n",
        "area                          881750  non-null values\n",
        "acreage                       881750  non-null values\n",
        "modelarea                     881750  non-null values\n",
        "area_type                     881750  non-null values\n",
        "zonecentroid_x                881750  non-null values\n",
        "zonecentroid_y                881750  non-null values\n",
        "county                        881750  non-null values\n",
        "numtransstops                 881750  non-null values\n",
        "averagedailyparkingcost       881750  non-null values\n",
        "intrdenshhbuffer              881750  non-null values\n",
        "intrdensempbuffer             881750  non-null values\n",
        "private_pk8enrollment         881750  non-null values\n",
        "public_pk8enrollment          881750  non-null values\n",
        "total_pk8enrollment           881750  non-null values\n",
        "private_912enrollment         881750  non-null values\n",
        "public_912enrollment          881750  non-null values\n",
        "total_912enrollment           881750  non-null values\n",
        "universityenrollment          881750  non-null values\n",
        "schooldistrictzone            881750  non-null values\n",
        "schooldistrictname            881750  non-null values\n",
        "newdistrictname               881750  non-null values\n",
        "newdistrictid                 881750  non-null values\n",
        "totalzonalenrollment          881750  non-null values\n",
        "escort_agglogsum              881750  non-null values\n",
        "persbus_agglogsum             881750  non-null values\n",
        "shop_agglogsum                881750  non-null values\n",
        "meal_agglogsum                881750  non-null values\n",
        "socrec_agglogsum              881750  non-null values\n",
        "workbasedsubtour_agglogsum    881750  non-null values\n",
        "allpurpose_agglosum           881750  non-null values\n",
        "school_district_id            881750  non-null values\n",
        "residential_units_zone        881750  non-null values\n",
        "non_residential_sqft_zone     881750  non-null values\n",
        "dtypes: float32(23), float64(8), int32(41), int64(1), object(3)"
       ]
      },
      {
       "output_type": "stream",
       "stream": "stdout",
       "text": [
        "\n",
        "New units to build (vacancy_diff * denom):\n"
       ]
      },
      {
       "output_type": "stream",
       "stream": "stdout",
       "text": [
        "building_type_id\n",
        "2                    5646.942503\n",
        "17                   1453.972060\n",
        "20                  49757.375373\n",
        "dtype: float64\n",
        "                             0\n",
        "building_type_id              \n",
        "2                  5646.942503\n",
        "17                 1453.972060\n",
        "20                49757.375373\n",
        "Adding agents to match target of 56858 \n",
        "action\n",
        "5646.9425035\n",
        "action"
       ]
      },
      {
       "output_type": "stream",
       "stream": "stdout",
       "text": [
        "\n",
        "1453.97205968\n",
        "action"
       ]
      },
      {
       "output_type": "stream",
       "stream": "stdout",
       "text": [
        "\n",
        "49757.3753733\n",
        "Histogram of agents by year:\n"
       ]
      },
      {
       "output_type": "stream",
       "stream": "stdout",
       "text": [
        "2015    41421\n",
        "dtype: int64\n",
        "POST\n",
        "<class 'pandas.core.frame.DataFrame'>\n",
        "Int64Index: 923171 entries, 55152 to 1057192\n",
        "Data columns (total 77 columns):\n",
        "_year_added_                  41421  non-null values\n",
        "acreage                       923171  non-null values\n",
        "all_units                     923171  non-null values\n",
        "allpurpose_agglosum           923171  non-null values\n",
        "area                          923171  non-null values\n",
        "area_type                     923171  non-null values\n",
        "averagedailyparkingcost       923171  non-null values\n",
        "base_year_jobs                108155  non-null values\n",
        "bldg_sq_ft                    923171  non-null values\n",
        "btype                         923171  non-null values\n",
        "building_sqft_per_job         923171  non-null values\n",
        "building_type_id              923171  non-null values\n",
        "city_id                       923171  non-null values\n",
        "county                        923171  non-null values\n",
        "county_id_x                   923171  non-null values\n",
        "county_id_y                   923171  non-null values\n",
        "dist_bus                      923171  non-null values\n",
        "dist_rail                     923171  non-null values\n",
        "env_constr_floodplain         923171  non-null values\n",
        "env_constr_lake               923171  non-null values\n",
        "env_constr_landslide          923171  non-null values\n",
        "env_constr_park               923171  non-null values\n",
        "env_constr_river              923171  non-null values\n",
        "escort_agglogsum              923171  non-null values\n",
        "external_zone_id              923171  non-null values\n",
        "far_id                        923171  non-null values\n",
        "gen_lu_type_id                923171  non-null values\n",
        "improvement_value             923171  non-null values\n",
        "in_denver                     923171  non-null values\n",
        "in_uga                        923171  non-null values\n",
        "in_ugb                        923171  non-null values\n",
        "intrdensempbuffer             923171  non-null values\n",
        "intrdenshhbuffer              923171  non-null values\n",
        "land_area                     923171  non-null values\n",
        "land_value                    923171  non-null values\n",
        "lu_type_id                    923171  non-null values\n",
        "meal_agglogsum                923171  non-null values\n",
        "modelarea                     923171  non-null values\n",
        "newdistrictid                 923171  non-null values\n",
        "newdistrictname               923171  non-null values\n",
        "non_residential_sqft          923171  non-null values\n",
        "non_residential_sqft_zone     923171  non-null values\n",
        "non_residential_units         923171  non-null values\n",
        "numtransstops                 923171  non-null values\n",
        "parcel_id                     923171  non-null values\n",
        "parcel_sqft                   923171  non-null values\n",
        "persbus_agglogsum             923171  non-null values\n",
        "private_912enrollment         923171  non-null values\n",
        "private_pk8enrollment         923171  non-null values\n",
        "prop_constrained              923171  non-null values\n",
        "public_912enrollment          923171  non-null values\n",
        "public_pk8enrollment          923171  non-null values\n",
        "residential_units             923171  non-null values\n",
        "residential_units_zone        923171  non-null values\n",
        "school_district               923171  non-null values\n",
        "school_district_id            923171  non-null values\n",
        "schooldistrictname            923171  non-null values\n",
        "schooldistrictzone            923171  non-null values\n",
        "shop_agglogsum                923171  non-null values\n",
        "socrec_agglogsum              923171  non-null values\n",
        "sqft_per_unit                 923171  non-null values\n",
        "stories                       923171  non-null values\n",
        "tax_exempt                    923171  non-null values\n",
        "tax_exempt_flag               923171  non-null values\n",
        "total_912enrollment           923171  non-null values\n",
        "total_pk8enrollment           923171  non-null values\n",
        "totalzonalenrollment          923171  non-null values\n",
        "unit_price_non_residential    923171  non-null values\n",
        "unit_price_residential        923171  non-null values\n",
        "universityenrollment          923171  non-null values\n",
        "workbasedsubtour_agglogsum    923171  non-null values\n",
        "year_built                    923171  non-null values\n",
        "zone_id_x                     923171  non-null values\n",
        "zone_id_y                     923171  non-null values\n",
        "zonecentroid_x                923171  non-null values\n",
        "zonecentroid_y                923171  non-null values\n",
        "zoning_id                     923171  non-null values\n",
        "dtypes: float32(23), float64(9), int32(41), int64(1), object(3)"
       ]
      },
      {
       "output_type": "stream",
       "stream": "stdout",
       "text": [
        "\n",
        "1285312\n",
        "872752065\n"
       ]
      }
     ],
     "prompt_number": 1
    },
    {
     "cell_type": "code",
     "collapsed": false,
     "input": [
      "title = '_ref_base'\n",
      "for scenario in ['baseline',]: #'low_impact','scen0'\n",
      "    print 'Running scenario: ' + scenario\n",
      "    import time\n",
      "    seconds_start = time.time()\n",
      "    print seconds_start\n",
      "    import numpy as np, pandas as pd, os, statsmodels.api as sm\n",
      "    import synthicity.urbansim.interaction as interaction\n",
      "    from synthicity.utils import misc\n",
      "    import dataset, copy, math\n",
      "    np.random.seed(1)\n",
      "    first_year = 2010\n",
      "    last_year = 2020\n",
      "    summary = {'employment':[],'households':[],'non_residential_sqft':[],'residential_units':[],'price':[]}\n",
      "#     dset = dataset.DRCOGDataset(os.path.join(misc.data_dir(),'drcog.h5'))\n",
      "    \n",
      "    for sim_year in range(first_year,last_year+1):\n",
      "        print 'Simulating year ' + str(sim_year)\n",
      "\n",
      "    #####Variable calculations\n",
      "        p = dset.fetch('parcels')\n",
      "        p['in_denver'] = (p.county_id==8031).astype('int32')\n",
      "        #building\n",
      "        b = dset.fetch('buildings')\n",
      "        b = b[['building_type_id','improvement_value','land_area','non_residential_sqft','parcel_id','residential_units','sqft_per_unit','stories','tax_exempt','year_built','bldg_sq_ft','unit_price_non_residential','unit_price_residential']]\n",
      "        b['zone_id'] = p.zone_id[b.parcel_id].values\n",
      "        b['county_id'] = p.county_id[b.parcel_id].values\n",
      "        b['btype'] = 1*(b.building_type_id==2) + 2*(b.building_type_id==3) + 3*(b.building_type_id==20) + 4*(b.building_type_id==24) + 6*np.invert(np.in1d(b.building_type_id,[2,3,20,24]))\n",
      "        b.residential_units = np.round(b.residential_units*1.1)\n",
      "        b.residential_units[b.btype>2] = np.round(b.residential_units[b.btype>2]*1.15)\n",
      "        #household\n",
      "        hh_estim = dset.fetch('households_for_estimation')\n",
      "        hh = dset.fetch('households')\n",
      "        for table in [hh_estim, hh]:\n",
      "            choosers = table\n",
      "            choosers['building_type_id'] = b.building_type_id[choosers.building_id].values\n",
      "            choosers['county_id'] = b.county_id[choosers.building_id].values\n",
      "            choosers['btype'] = 1*(choosers.building_type_id==2) + 2*(choosers.building_type_id==3) + 3*(choosers.building_type_id==20) + 4*np.invert(np.in1d(choosers.building_type_id,[2,3,20]))\n",
      "        #establishment\n",
      "        e = dset.fetch('establishments')\n",
      "        e['sector_id_six'] = 1*(e.sector_id==61) + 2*(e.sector_id==71) + 3*np.in1d(e.sector_id,[11,21,22,23,31,32,33,42,48,49]) + 4*np.in1d(e.sector_id,[7221,7222,7224]) + 5*np.in1d(e.sector_id,[44,45,7211,7212,7213,7223]) + 6*np.in1d(e.sector_id,[51,52,53,54,55,56,62,81,92])\n",
      "        e['county_id'] = b.county_id[e.building_id].values\n",
      "        #zone\n",
      "        z = dset.fetch('zones')\n",
      "        z['residential_units_zone'] = b.groupby('zone_id').residential_units.sum()\n",
      "        z['non_residential_sqft_zone'] = b.groupby('zone_id').non_residential_sqft.sum()\n",
      "        #merge parcels with zones\n",
      "        pz = pd.merge(p,z,left_on='zone_id',right_index=True)\n",
      "        #merge buildings with parcels/zones\n",
      "        dset.d['buildings'] = pd.merge(b,pz,left_on='parcel_id',right_index=True)\n",
      "        \n",
      "        #Record base values for temporal comparison\n",
      "        if sim_year==first_year:\n",
      "            summary['employment'].append(e[e.building_id>0].employees.sum())\n",
      "            summary['households'].append(len(hh[hh.building_id>0].building_id))\n",
      "            summary['non_residential_sqft'].append(b.non_residential_sqft.sum())\n",
      "            summary['residential_units'].append(b.residential_units.sum())\n",
      "            print len(dset.households.index)\n",
      "            print dset.establishments.employees.sum()\n",
      "            print dset.buildings.residential_units.sum()\n",
      "            print dset.buildings.non_residential_sqft.sum()\n",
      "            base_hh_county = hh.groupby('county_id').size()\n",
      "            base_emp_county = e.groupby('county_id').employees.sum()\n",
      "            base_ru_county = b.groupby('county_id').residential_units.sum()\n",
      "            base_nr_county = b.groupby('county_id').non_residential_sqft.sum()\n",
      "\n",
      "    ############     ELCM\n",
      "        output_csv, output_title, coeff_name, output_varname = (\"drcog-coeff-elcm-%s.csv\",\"DRCOG EMPLOYMENT LOCATION CHOICE MODELS (%s)\",\"emp_location_%s\",\"establishment_building_ids\")\n",
      "        dset.establishments['home_based_status']=0\n",
      "        if scenario == 'baseline':\n",
      "            new_jobs = {\"table\": \"dset.establishments\",\"writetotmp\": \"establishments\",\"model\": \"transitionmodel\",\"first_year\": 2010,\"control_totals\": \"dset.annual_employment_control_totals\",\n",
      "                        \"geography_field\": \"building_id\",\"amount_field\": \"total_number_of_jobs\",\"size_field\":\"employees\"}\n",
      "        import synthicity.urbansim.transitionmodel as transitionmodel\n",
      "        transitionmodel.simulate(dset,new_jobs,year=sim_year,show=True)\n",
      "        year = sim_year\n",
      "        choosers = dset.fetch('establishments')\n",
      "        depvar = 'building_id'\n",
      "    #     rate_table = dset.annual_job_relocation_rates\n",
      "    #     rate_table = rate_table*.1\n",
      "    #     rate_field = \"job_relocation_probability\"\n",
      "    #     movers = dset.relocation_rates(choosers,rate_table,rate_field)\n",
      "    #     choosers[depvar].ix[movers] = -1\n",
      "        movers = choosers[choosers[depvar]==-1]\n",
      "        print \"Total new agents and movers = %d\" % len(movers.index)\n",
      "        alternatives = dset.buildings[(dset.buildings.non_residential_sqft>0)]\n",
      "        alternatives['building_sqft_per_job'] = 250\n",
      "        alternatives['job_spaces'] = alternatives.non_residential_sqft/alternatives.building_sqft_per_job\n",
      "        empty_units = alternatives.job_spaces.sub(choosers.groupby('building_id').employees.sum(),fill_value=0).astype('int')\n",
      "        alts = alternatives.ix[empty_units.index]\n",
      "        alts[\"supply\"] = empty_units\n",
      "        lotterychoices = True\n",
      "        pdf = pd.DataFrame(index=alts.index)\n",
      "        segments = movers.groupby(['sector_id_six',])\n",
      "        \n",
      "        ind_vars1=['residential_units_zone','non_residential_sqft_zone','allpurpose_agglosum','acreage','unit_price_non_residential','in_denver',]\n",
      "        ind_vars2=['residential_units_zone','non_residential_sqft_zone','allpurpose_agglosum','acreage','unit_price_non_residential','in_denver',]\n",
      "        ind_vars3=['residential_units_zone','non_residential_sqft_zone','allpurpose_agglosum','acreage','unit_price_non_residential','in_denver',]\n",
      "        ind_vars4=['residential_units_zone','non_residential_sqft_zone','allpurpose_agglosum','acreage','unit_price_non_residential','in_denver',]\n",
      "        ind_vars5=['residential_units_zone','non_residential_sqft_zone','allpurpose_agglosum','acreage','unit_price_non_residential','in_denver',]\n",
      "        ind_vars6=['residential_units_zone','non_residential_sqft_zone','allpurpose_agglosum','acreage','unit_price_non_residential','in_denver',]\n",
      "        \n",
      "        for name, segment in segments:\n",
      "            if name == 1:\n",
      "                ind_vars = ind_vars1 \n",
      "            if name == 2:\n",
      "                ind_vars = ind_vars2\n",
      "            if name == 3:\n",
      "                ind_vars = ind_vars3\n",
      "            if name == 4:\n",
      "                ind_vars = ind_vars4\n",
      "            if name == 5:\n",
      "                ind_vars = ind_vars5\n",
      "            if name == 6:\n",
      "                ind_vars = ind_vars6\n",
      "             \n",
      "            segment = segment.head(1)\n",
      "            name_coeff= str(name)\n",
      "            name = str(name)\n",
      "            tmp_outcsv, tmp_outtitle, tmp_coeffname = output_csv%name, output_title%name, coeff_name%name_coeff\n",
      "            SAMPLE_SIZE = alts.index.size \n",
      "            numchoosers = segment.shape[0]\n",
      "            numalts = alts.shape[0]\n",
      "            sample = np.tile(alts.index.values,numchoosers)\n",
      "            alts_sample = alts #sample#alternatives\n",
      "            alts_sample['join_index'] = np.repeat(segment.index,SAMPLE_SIZE)\n",
      "            alts_sample = pd.merge(alts_sample,segment,left_on='join_index',right_index=True,suffixes=('','_r'))\n",
      "            chosen = np.zeros((numchoosers,SAMPLE_SIZE))\n",
      "            chosen[:,0] = 1\n",
      "            sample, alternative_sample, est_params = sample, alts_sample, ('mnl',chosen)\n",
      "#             alternative_sample['ln_nonres_price_x_more_than_10_employees'] = (alternative_sample.ln_average_nonres_price6*alternative_sample.more_than_10_employees)\n",
      "            est_data = pd.DataFrame(index=alternative_sample.index)\n",
      "            for varname in ind_vars:\n",
      "                est_data[varname] = alternative_sample[varname]\n",
      "            est_data = est_data.fillna(0)\n",
      "            data = est_data\n",
      "            data = data.as_matrix()\n",
      "            coeff = dset.load_coeff(tmp_coeffname)\n",
      "            probs = interaction.mnl_simulate(data,coeff,numalts=SAMPLE_SIZE,returnprobs=1)\n",
      "            pdf['segment%s'%name] = pd.Series(probs.flatten(),index=alts.index) \n",
      "                \n",
      "        new_homes = pd.Series(np.ones(len(movers.index))*-1,index=movers.index)\n",
      "        mask = np.zeros(len(alts.index),dtype='bool')\n",
      "        \n",
      "        for name, segment in segments:\n",
      "            name = str(name)\n",
      "            print \"Assigning units to %d agents of segment %s\" % (len(segment.index),name)\n",
      "            p=pdf['segment%s'%name].values\n",
      "            #p=pdf['segment%s'%name].values\n",
      "            def choose(p,mask,alternatives,segment,new_homes,minsize=None):\n",
      "                p = copy.copy(p)\n",
      "                p[alternatives.supply<minsize] = 0\n",
      "                #print \"Choosing from %d nonzero alts\" % np.count_nonzero(p)\n",
      "                try: \n",
      "                  indexes = np.random.choice(len(alternatives.index),len(segment.index),replace=False,p=p/p.sum())\n",
      "                except:\n",
      "                  print \"WARNING: not enough options to fit agents, will result in unplaced agents\"\n",
      "                  return mask,new_homes\n",
      "                new_homes.ix[segment.index] = alternatives.index.values[indexes]\n",
      "                alternatives[\"supply\"].ix[alternatives.index.values[indexes]] -= minsize\n",
      "                return mask,new_homes\n",
      "            tmp = segment['employees']\n",
      "            #tmp /= 100.0 ##If scaling demand amount is desired\n",
      "            for name, subsegment in reversed(list(segment.groupby(tmp.astype('int')))):\n",
      "                #print \"Running subsegment with size = %s, num agents = %d\" % (name, len(subsegment.index))\n",
      "                mask,new_homes = choose(p,mask,alts,subsegment,new_homes,minsize=int(name))\n",
      "        \n",
      "        build_cnts = new_homes.value_counts()  #num estabs place in each building\n",
      "        print \"Assigned %d agents to %d locations with %d unplaced\" % (new_homes.size,build_cnts.size,build_cnts.get(-1,0))\n",
      "        \n",
      "        table = dset.establishments # need to go back to the whole dataset\n",
      "        table[depvar].ix[new_homes.index] = new_homes.values.astype('int32')\n",
      "        dset.store_attr(output_varname,year,copy.deepcopy(table[depvar]))\n",
      "        \n",
      "        \n",
      "    #################     HLCM\n",
      "        output_csv, output_title, coeff_name, output_varname = (\"drcog-coeff-hlcm-%s.csv\",\"DRCOG HOUSEHOLD LOCATION CHOICE MODELS (%s)\",\"hh_location_%s\",\"household_building_ids\")\n",
      "        if scenario == 'baseline':\n",
      "            new_hhlds = {\"table\": \"dset.households\",\"writetotmp\": \"households\",\"model\": \"transitionmodel\",\"first_year\": 2010,\"control_totals\": \"dset.annual_household_control_totals\",\n",
      "                         \"geography_field\": \"building_id\",\"amount_field\": \"total_number_of_households\"}\n",
      "        import synthicity.urbansim.transitionmodel as transitionmodel\n",
      "        transitionmodel.simulate(dset,new_hhlds,year=sim_year,show=True,subtract=True)\n",
      "        year = sim_year\n",
      "        choosers = dset.fetch('households')\n",
      "        depvar = 'building_id'\n",
      "        rate_table = dset.annual_household_relocation_rates.copy()\n",
      "        rate_field = \"probability_of_relocating\"\n",
      "        rate_table[rate_field] = rate_table[rate_field]*.1\n",
      "#         print rate_table\n",
      "        movers = dset.relocation_rates(choosers,rate_table,rate_field)\n",
      "        choosers[depvar].ix[movers] = -1\n",
      "        movers = choosers[choosers[depvar]==-1]\n",
      "        print \"Total new agents and movers = %d\" % len(movers.index)\n",
      "        alternatives = dset.buildings[(dset.buildings.residential_units>0)]\n",
      "        empty_units = dset.buildings[(dset.buildings.residential_units>0)].residential_units.sub(choosers.groupby('building_id').size(),fill_value=0)\n",
      "        empty_units = empty_units[empty_units>0].order(ascending=False)\n",
      "#         print 'empty_units'\n",
      "#         print empty_units\n",
      "#         print empty_units.sum()\n",
      "        alternatives = alternatives.ix[np.repeat(empty_units.index,empty_units.values.astype('int'))]\n",
      "        alts1 = alternatives[alternatives.btype==1]\n",
      "        alts2 = alternatives[alternatives.btype==2]\n",
      "        alts3 = alternatives[alternatives.btype==3]\n",
      "        alts4 = alternatives[alternatives.btype==4]\n",
      "        pdf1 = pd.DataFrame(index=alts1.index)\n",
      "        pdf2 = pd.DataFrame(index=alts2.index) \n",
      "        pdf3 = pd.DataFrame(index=alts3.index)\n",
      "        pdf4 = pd.DataFrame(index=alts4.index)\n",
      "        \n",
      "        #segments = movers.groupby(['btype_tenure',])\n",
      "        #choosers.groupby(['btype_tenure','income_cat','age_cat','sex_of_head'])\n",
      "        segments = movers.groupby(['btype',])\n",
      "        \n",
      "        ind_vars1=['residential_units_zone','non_residential_sqft_zone','allpurpose_agglosum','acreage','unit_price_residential','in_denver',]\n",
      "        ind_vars2=['residential_units_zone','non_residential_sqft_zone','allpurpose_agglosum','acreage','unit_price_residential','in_denver',]\n",
      "        ind_vars3=['residential_units_zone','non_residential_sqft_zone','allpurpose_agglosum','acreage','unit_price_residential','in_denver',]\n",
      "        ind_vars4=['residential_units_zone','non_residential_sqft_zone','unit_price_residential','in_denver',] \n",
      "    \n",
      "        for name, segment in segments:\n",
      "            #if type(name) is np.int64:  name = (name,0)\n",
      "            if name == 1:\n",
      "                alts = alts1\n",
      "                ind_vars = ind_vars1\n",
      "            if name == 2:\n",
      "                alts = alts2\n",
      "                ind_vars = ind_vars2\n",
      "            if name == 3:\n",
      "                alts = alts3\n",
      "                ind_vars = ind_vars3\n",
      "            if name == 4:\n",
      "                alts = alts4\n",
      "                ind_vars = ind_vars4\n",
      "            segment = segment.head(1)\n",
      "            name_coeff = str(name)\n",
      "            name = str(name)\n",
      "            tmp_outcsv, tmp_outtitle, tmp_coeffname = output_csv%name, output_title%name, coeff_name%name_coeff\n",
      "            SAMPLE_SIZE = alts.index.size \n",
      "            numchoosers = segment.shape[0]\n",
      "            numalts = alts.shape[0]\n",
      "            sample = np.tile(alts.index.values,numchoosers)\n",
      "            alts_sample = alts #sample#alternatives\n",
      "            alts_sample['join_index'] = np.repeat(segment.index,SAMPLE_SIZE)\n",
      "            alts_sample = pd.merge(alts_sample,segment,left_on='join_index',right_index=True,suffixes=('','_r'))\n",
      "            chosen = np.zeros((numchoosers,SAMPLE_SIZE))\n",
      "            chosen[:,0] = 1\n",
      "            sample, alternative_sample, est_params = sample, alts_sample, ('mnl',chosen)\n",
      "#             alternative_sample['high_inc_x_percent_high_inc'] = (alternative_sample.high_inc*alternative_sample.percent_high_income)\n",
      "            #alternative_sample['same_dpt_as_previous'] = (alternative_sample.previous_dpt==alternative_sample.dept_id).astype('int32')\n",
      "#             if int(name_coeff)==1:\n",
      "#                 alternative_sample['ln_price1_x_low_income'] = (alternative_sample.ln_average_res_price1*alternative_sample.low_inc)\n",
      "#                 alternative_sample['ln_price1_x_mid_income'] = (alternative_sample.ln_average_res_price1*alternative_sample.mid_inc)\n",
      "#                 alternative_sample['ln_price1_x_high_income'] = (alternative_sample.ln_average_res_price1*alternative_sample.high_inc)\n",
      "            est_data = pd.DataFrame(index=alternative_sample.index)\n",
      "            for varname in ind_vars:\n",
      "                est_data[varname] = alternative_sample[varname]\n",
      "            est_data = est_data.fillna(0)\n",
      "            data = est_data\n",
      "            data = data.as_matrix()\n",
      "            coeff = dset.load_coeff(tmp_coeffname)\n",
      "            probs = interaction.mnl_simulate(data,coeff,numalts=SAMPLE_SIZE,returnprobs=1)\n",
      "            if int(name_coeff) == 1:\n",
      "                pdf1['segment%s'%name] = pd.Series(probs.flatten(),index=alts.index)  \n",
      "            if int(name_coeff) == 2:\n",
      "                pdf2['segment%s'%name] = pd.Series(probs.flatten(),index=alts.index) \n",
      "            if int(name_coeff) == 3:\n",
      "                pdf3['segment%s'%name] = pd.Series(probs.flatten(),index=alts.index) \n",
      "            if int(name_coeff) == 4:\n",
      "                pdf4['segment%s'%name] = pd.Series(probs.flatten(),index=alts.index) \n",
      "     \n",
      "        new_homes = pd.Series(np.ones(len(movers.index))*-1,index=movers.index)\n",
      "        #mask = np.zeros(len(alternatives.index),dtype='bool')\n",
      "        for name, segment in segments:\n",
      "#             if type(name) is np.int64:  name = (name,0)\n",
      "#             name_coeff = str(name[0])\n",
      "            name_coeff = str(name)\n",
      "            name = str(name)\n",
      "            if int(name_coeff) == 1:\n",
      "                p=pdf1['segment%s'%name].values\n",
      "                mask = np.zeros(len(alts1.index),dtype='bool')\n",
      "            if int(name_coeff) == 2:\n",
      "                p=pdf2['segment%s'%name].values \n",
      "                mask = np.zeros(len(alts2.index),dtype='bool')\n",
      "            if int(name_coeff) == 3:\n",
      "                p=pdf3['segment%s'%name].values \n",
      "                mask = np.zeros(len(alts3.index),dtype='bool')\n",
      "            if int(name_coeff) == 4:\n",
      "                p=pdf4['segment%s'%name].values\n",
      "                mask = np.zeros(len(alts4.index),dtype='bool')\n",
      "            print \"Assigning units to %d agents of segment %s\" % (len(segment.index),name)\n",
      "            #p=pdf['segment%s'%name].values\n",
      "         \n",
      "            def choose(p,mask,alternatives,segment,new_homes,minsize=None):\n",
      "                p = copy.copy(p)\n",
      "                p[mask] = 0 # already chosen\n",
      "                #print \"Choosing from %d nonzero alts\" % np.count_nonzero(p)\n",
      "                print 'num alts'\n",
      "                print len(alternatives.index)\n",
      "                print 'num segments'\n",
      "                print len(segment.index)\n",
      "                #indexes = np.random.choice(len(alternatives.index),len(segment.index),replace=False,p=p/p.sum())\n",
      "                try: \n",
      "                  indexes = np.random.choice(len(alternatives.index),len(segment.index),replace=False,p=p/p.sum())\n",
      "                except:\n",
      "                  print \"WARNING: not enough options to fit agents, will result in unplaced agents\"\n",
      "                  return mask,new_homes\n",
      "                new_homes.ix[segment.index] = alternatives.index.values[indexes]\n",
      "                mask[indexes] = 1\n",
      "              \n",
      "                return mask,new_homes\n",
      "            if int(name_coeff) == 1:\n",
      "                mask,new_homes = choose(p,mask,alts1,segment,new_homes)\n",
      "            if int(name_coeff) == 2:\n",
      "                mask,new_homes = choose(p,mask,alts2,segment,new_homes)\n",
      "            if int(name_coeff) == 3:\n",
      "                mask,new_homes = choose(p,mask,alts3,segment,new_homes)\n",
      "            if int(name_coeff) == 4:\n",
      "                mask,new_homes = choose(p,mask,alts4,segment,new_homes)\n",
      "            \n",
      "        build_cnts = new_homes.value_counts()  #num households place in each building\n",
      "        print \"Assigned %d agents to %d locations with %d unplaced\" % (new_homes.size,build_cnts.size,build_cnts.get(-1,0))\n",
      "        \n",
      "        table = dset.households # need to go back to the whole dataset\n",
      "        table[depvar].ix[new_homes.index] = new_homes.values.astype('int32')\n",
      "        dset.store_attr(output_varname,year,copy.deepcopy(table[depvar]))\n",
      "        \n",
      "        #####SUMMARIES\n",
      "        #########################\n",
      "        print len(dset.households.index)\n",
      "        print dset.establishments.employees.sum()\n",
      "        print dset.buildings.residential_units.sum()\n",
      "        print dset.buildings.non_residential_sqft.sum()\n",
      "        \n",
      "        if sim_year == last_year:\n",
      "            print summary\n",
      "            b = dset.fetch('buildings')\n",
      "            e = dset.fetch('establishments')\n",
      "            hh = dset.fetch('households')\n",
      "            p = dset.fetch('parcels')\n",
      "            b['county_id'] = p.county_id[b.parcel_id].values\n",
      "            hh['county_id'] = b.county_id[hh.building_id].values\n",
      "            e['county_id'] = b.county_id[e.building_id].values\n",
      "            sim_hh_county = hh.groupby('county_id').size()\n",
      "            sim_emp_county = e.groupby('county_id').employees.sum()\n",
      "            sim_ru_county = b.groupby('county_id').residential_units.sum()\n",
      "            sim_nr_county = b.groupby('county_id').non_residential_sqft.sum()\n",
      "            hh_diff_county = sim_hh_county - base_hh_county\n",
      "            emp_diff_county = sim_emp_county - base_emp_county\n",
      "            ru_diff_county = sim_ru_county - base_ru_county\n",
      "            nr_diff_county = sim_nr_county - base_nr_county\n",
      "            print 'Household diffs'\n",
      "            print hh_diff_county\n",
      "            print 'Employment diffs'\n",
      "            print emp_diff_county\n",
      "            print 'Resunit diffs'\n",
      "            print ru_diff_county\n",
      "            print 'NR sqft diffs'\n",
      "            print nr_diff_county\n",
      "            \n",
      "    elapsed = time.time() - seconds_start\n",
      "    print \"TOTAL elapsed time: \" + str(elapsed) + \" seconds.\"\n",
      "    \n",
      "print 'Done running all three scenarios.'"
     ],
     "language": "python",
     "metadata": {},
     "outputs": [
      {
       "output_type": "stream",
       "stream": "stdout",
       "text": [
        "Running scenario: baseline\n",
        "1389846269.95\n",
        "Simulating year 2010\n",
        "1160387"
       ]
      },
      {
       "output_type": "stream",
       "stream": "stdout",
       "text": [
        "\n",
        "1606882\n",
        "1293154.0\n",
        "872568980\n",
        "Total new agents and movers = 1849"
       ]
      },
      {
       "output_type": "stream",
       "stream": "stdout",
       "text": [
        "\n",
        "Assigning units to 20 agents of segment 1"
       ]
      },
      {
       "output_type": "stream",
       "stream": "stdout",
       "text": [
        "\n",
        "Assigning units to 53 agents of segment 2\n",
        "Assigning units to 667 agents of segment 3\n",
        "Assigning units to 2 agents of segment 4\n",
        "Assigning units to 100 agents of segment 5\n",
        "Assigning units to 1007 agents of segment 6\n",
        "Assigned 1849 agents to 1651 locations with 0 unplaced\n",
        "Fetching annual_household_relocation_rates"
       ]
      },
      {
       "output_type": "stream",
       "stream": "stdout",
       "text": [
        "\n",
        "Fetching modify_table\n",
        "Histogram of relocation rates:"
       ]
      },
      {
       "output_type": "stream",
       "stream": "stdout",
       "text": [
        "\n",
        "0.0148    153792\n",
        "0.0000    148576\n",
        "0.0309    126137\n",
        "0.0274    124192\n",
        "0.0145    111425\n",
        "0.0311     73881\n",
        "0.0183     62880\n",
        "0.0348     57917\n",
        "0.0540     54238\n",
        "0.0184     48129\n",
        "0.0110     38269\n",
        "0.0220     30130\n",
        "0.0402     26160\n",
        "0.0099     19318\n",
        "0.0130     16762\n",
        "0.0124     16254\n",
        "0.0199     12650\n",
        "0.0111     11921\n",
        "0.0132     11878\n",
        "0.0117      9452\n",
        "0.0222      6426\n",
        "dtype: int64"
       ]
      },
      {
       "output_type": "stream",
       "stream": "stdout",
       "text": [
        "\n",
        "24024 agents are moving"
       ]
      },
      {
       "output_type": "stream",
       "stream": "stdout",
       "text": [
        "\n",
        "Total new agents and movers = 24024\n",
        "Assigning units to 5943 agents of segment 1"
       ]
      },
      {
       "output_type": "stream",
       "stream": "stdout",
       "text": [
        "\n",
        "num alts\n",
        "60588\n",
        "num segments\n",
        "5943\n",
        "Assigning units to 2241 agents of segment 2\n",
        "num alts\n",
        "35364\n",
        "num segments\n",
        "2241\n",
        "Assigning units to 14197 agents of segment 3\n",
        "num alts\n",
        "85478\n",
        "num segments\n",
        "14197\n",
        "Assigning units to 1643 agents of segment 4\n",
        "num alts\n",
        "17087\n",
        "num segments\n",
        "1643\n",
        "Assigned 24024 agents to 19183 locations with 0 unplaced\n",
        "1160387\n",
        "1606882\n",
        "1293154.0\n",
        "872568980\n",
        "Simulating year 2011\n",
        "<class 'pandas.core.frame.DataFrame'>\n",
        "Int64Index: 202193 entries, 1057290 to 406857397\n",
        "Data columns (total 9 columns):\n",
        "building_id          202193  non-null values\n",
        "home_based_status    202193  non-null values\n",
        "infogroup_id         202193  non-null values\n",
        "qcew_id              202193  non-null values\n",
        "sector_id            202193  non-null values\n",
        "employees            202193  non-null values\n",
        "sector_id_six        202193  non-null values\n",
        "county_id            202190  non-null values\n",
        "_year_added_         202193  non-null values\n",
        "dtypes: float64(1), int32(6), int64(1), object(1)"
       ]
      },
      {
       "output_type": "stream",
       "stream": "stdout",
       "text": [
        "\n",
        "Fetching annual_employment_control_totals\n",
        "Fetching modify_table\n",
        "                                 total_number_of_jobs\n",
        "sector_id_six home_based_status                      \n",
        "1             1                                  7276\n",
        "2             1                                 23908\n",
        "3             1                                  5197\n",
        "4             1                                 10395\n",
        "5             1                                 13513\n",
        "6             1                                 62368\n",
        "1             0                                 95218\n",
        "2             0                                312859\n",
        "3             0                                 68013\n",
        "4             0                                136026\n",
        "5             0                                176833\n",
        "6             0                                816154\n",
        "Adding agents to match target of 1727760 \n",
        "action\n",
        "-17256\n",
        "action"
       ]
      },
      {
       "output_type": "stream",
       "stream": "stdout",
       "text": [
        "\n",
        "279241\n",
        "action"
       ]
      },
      {
       "output_type": "stream",
       "stream": "stdout",
       "text": [
        "\n",
        "-287067\n",
        "action"
       ]
      },
      {
       "output_type": "stream",
       "stream": "stdout",
       "text": [
        "\n",
        "10696\n",
        "action\n",
        "-18043\n",
        "action"
       ]
      },
      {
       "output_type": "stream",
       "stream": "stdout",
       "text": [
        "\n",
        "30650\n",
        "Histogram of agents by year:\n"
       ]
      },
      {
       "output_type": "stream",
       "stream": "stdout",
       "text": [
        "2010    172202\n",
        "2011     27285\n",
        "dtype: int64\n",
        "Total new agents and movers = 27285\n",
        "Assigning units to 21705 agents of segment 2"
       ]
      },
      {
       "output_type": "stream",
       "stream": "stdout",
       "text": [
        "\n",
        "Assigning units to 755 agents of segment 4"
       ]
      },
      {
       "output_type": "stream",
       "stream": "stdout",
       "text": [
        "\n",
        "Assigning units to 4825 agents of segment 6"
       ]
      },
      {
       "output_type": "stream",
       "stream": "stdout",
       "text": [
        "\n",
        "Assigned 27285 agents to 17861 locations with 0 unplaced"
       ]
      },
      {
       "output_type": "stream",
       "stream": "stdout",
       "text": [
        "\n",
        "<class 'pandas.core.frame.DataFrame'>\n",
        "Int64Index: 1160387 entries, 16 to 1160387\n",
        "Data columns (total 16 columns):\n",
        "age_of_head         1160387  non-null values\n",
        "building_id         1160387  non-null values\n",
        "cars                1160387  non-null values\n",
        "children            1160387  non-null values\n",
        "county              1160387  non-null values\n",
        "income              1160387  non-null values\n",
        "income_group_id     1160387  non-null values\n",
        "persons             1160387  non-null values\n",
        "race_id             1160387  non-null values\n",
        "tenure              1160387  non-null values\n",
        "workers             1160387  non-null values\n",
        "building_type_id    1160385  non-null values\n",
        "btype               1160387  non-null values\n",
        "county_id           1160385  non-null values\n",
        "_year_added_        1160387  non-null values\n",
        "relocation_rate     1160387  non-null values\n",
        "dtypes: float32(1), float64(2), int32(13)"
       ]
      },
      {
       "output_type": "stream",
       "stream": "stdout",
       "text": [
        "\n",
        "Fetching annual_household_control_totals\n",
        "Fetching modify_table\n",
        "total_number_of_households    23538\n",
        "persons                       45227\n",
        "dtype: int32\n",
        "Adding agents to match target of 68765 \n",
        "Histogram of agents by year:\n"
       ]
      },
      {
       "output_type": "stream",
       "stream": "stdout",
       "text": [
        "2010    1160387\n",
        "2011      23538\n",
        "dtype: int64\n",
        "Histogram of relocation rates:"
       ]
      },
      {
       "output_type": "stream",
       "stream": "stdout",
       "text": [
        "\n",
        "0.0148    156839\n",
        "0.0000    151607\n",
        "0.0309    128642\n",
        "0.0274    126784\n",
        "0.0145    113698\n",
        "0.0311     75374\n",
        "0.0183     64146\n",
        "0.0348     59077\n",
        "0.0540     55336\n",
        "0.0184     49123\n",
        "0.0110     39096\n",
        "0.0220     30750\n",
        "0.0402     26722\n",
        "0.0099     19691\n",
        "0.0130     17122\n",
        "0.0124     16586\n",
        "0.0199     12896\n",
        "0.0111     12143\n",
        "0.0132     12107\n",
        "0.0117      9642\n",
        "0.0222      6544\n",
        "dtype: int64"
       ]
      },
      {
       "output_type": "stream",
       "stream": "stdout",
       "text": [
        "\n",
        "24543 agents are moving\n",
        "Total new agents and movers = 47598"
       ]
      },
      {
       "output_type": "stream",
       "stream": "stdout",
       "text": [
        "\n",
        "Assigning units to 10944 agents of segment 1"
       ]
      },
      {
       "output_type": "stream",
       "stream": "stdout",
       "text": [
        "\n",
        "num alts\n",
        "84294\n",
        "num segments\n",
        "10944\n",
        "Assigning units to 4613 agents of segment 2\n",
        "num alts\n",
        "47135\n",
        "num segments\n",
        "4613\n",
        "Assigning units to 28804 agents of segment 3\n",
        "num alts\n",
        "83644\n",
        "num segments\n",
        "28804\n",
        "Assigning units to 3237 agents of segment 4\n",
        "num alts\n",
        "26882\n",
        "num segments\n",
        "3237\n",
        "Assigned 47598 agents to 38089 locations with 0 unplaced"
       ]
      },
      {
       "output_type": "stream",
       "stream": "stdout",
       "text": [
        "\n",
        "1183925\n",
        "1697986"
       ]
      },
      {
       "output_type": "stream",
       "stream": "stdout",
       "text": [
        "\n",
        "1356176.0\n",
        "872568980\n",
        "Simulating year 2012\n",
        "<class 'pandas.core.frame.DataFrame'>\n",
        "Int64Index: 199487 entries, 1057290 to 998957998\n",
        "Data columns (total 9 columns):\n",
        "building_id          199487  non-null values\n",
        "home_based_status    199487  non-null values\n",
        "infogroup_id         199487  non-null values\n",
        "qcew_id              199487  non-null values\n",
        "sector_id            199487  non-null values\n",
        "employees            199487  non-null values\n",
        "sector_id_six        199487  non-null values\n",
        "county_id            199485  non-null values\n",
        "_year_added_         199487  non-null values\n",
        "dtypes: float64(1), int32(5), int64(2), object(1)"
       ]
      },
      {
       "output_type": "stream",
       "stream": "stdout",
       "text": [
        "\n",
        "                                 total_number_of_jobs\n",
        "sector_id_six home_based_status                      \n",
        "1             1                                  7434\n",
        "2             1                                 24426\n",
        "3             1                                  5310\n",
        "4             1                                 10620\n",
        "5             1                                 13806\n",
        "6             1                                 63719\n",
        "1             0                                 97281\n",
        "2             0                                319637\n",
        "3             0                                 69486\n",
        "4             0                                138972\n",
        "5             0                                180664\n",
        "6             0                                833835\n",
        "Adding agents to match target of 1765190 \n",
        "action\n",
        "636\n",
        "action"
       ]
      },
      {
       "output_type": "stream",
       "stream": "stdout",
       "text": [
        "\n",
        "6797\n",
        "action\n",
        "-89473\n",
        "action"
       ]
      },
      {
       "output_type": "stream",
       "stream": "stdout",
       "text": [
        "\n",
        "2947\n",
        "action\n",
        "3134\n",
        "action"
       ]
      },
      {
       "output_type": "stream",
       "stream": "stdout",
       "text": [
        "\n",
        "17848\n",
        "Histogram of agents by year:\n",
        "2010    162425\n",
        "2011     27285\n",
        "2012      3274\n",
        "dtype: int64"
       ]
      },
      {
       "output_type": "stream",
       "stream": "stdout",
       "text": [
        "\n",
        "Total new agents and movers = 3274\n",
        "Assigning units to 31 agents of segment 1"
       ]
      },
      {
       "output_type": "stream",
       "stream": "stdout",
       "text": [
        "\n",
        "Assigning units to 428 agents of segment 2"
       ]
      },
      {
       "output_type": "stream",
       "stream": "stdout",
       "text": [
        "\n",
        "Assigning units to 213 agents of segment 4"
       ]
      },
      {
       "output_type": "stream",
       "stream": "stdout",
       "text": [
        "\n",
        "Assigning units to 375 agents of segment 5"
       ]
      },
      {
       "output_type": "stream",
       "stream": "stdout",
       "text": [
        "\n",
        "Assigning units to 2227 agents of segment 6"
       ]
      },
      {
       "output_type": "stream",
       "stream": "stdout",
       "text": [
        "\n",
        "Assigned 3274 agents to 2807 locations with 0 unplaced"
       ]
      },
      {
       "output_type": "stream",
       "stream": "stdout",
       "text": [
        "\n",
        "<class 'pandas.core.frame.DataFrame'>\n",
        "Int64Index: 1183925 entries, 16 to 1183925\n",
        "Data columns (total 16 columns):\n",
        "age_of_head         1183925  non-null values\n",
        "building_id         1183925  non-null values\n",
        "cars                1183925  non-null values\n",
        "children            1183925  non-null values\n",
        "county              1183925  non-null values\n",
        "income              1183925  non-null values\n",
        "income_group_id     1183925  non-null values\n",
        "persons             1183925  non-null values\n",
        "race_id             1183925  non-null values\n",
        "tenure              1183925  non-null values\n",
        "workers             1183925  non-null values\n",
        "building_type_id    1183923  non-null values\n",
        "btype               1183925  non-null values\n",
        "county_id           1183923  non-null values\n",
        "_year_added_        1183925  non-null values\n",
        "relocation_rate     1183925  non-null values\n",
        "dtypes: float32(1), float64(2), int32(12), int64(1)"
       ]
      },
      {
       "output_type": "stream",
       "stream": "stdout",
       "text": [
        "\n",
        "total_number_of_households    23537\n",
        "persons                       45228\n",
        "dtype: int32\n",
        "Adding agents to match target of 68765 \n",
        "Histogram of agents by year:\n"
       ]
      },
      {
       "output_type": "stream",
       "stream": "stdout",
       "text": [
        "2010    1160387\n",
        "2011      23538\n",
        "2012      23537\n",
        "dtype: int64\n",
        "Histogram of relocation rates:"
       ]
      },
      {
       "output_type": "stream",
       "stream": "stdout",
       "text": [
        "\n",
        "0.0148    159933\n",
        "0.0000    154676\n",
        "0.0309    131236\n",
        "0.0274    129273\n",
        "0.0145    115966\n",
        "0.0311     76866\n",
        "0.0183     65486\n",
        "0.0348     60258\n",
        "0.0540     56442\n",
        "0.0184     50063\n",
        "0.0110     39891\n",
        "0.0220     31354\n",
        "0.0402     27206\n",
        "0.0099     20081\n",
        "0.0130     17440\n",
        "0.0124     16948\n",
        "0.0199     13152\n",
        "0.0111     12367\n",
        "0.0132     12329\n",
        "0.0117      9805\n",
        "0.0222      6690\n",
        "dtype: int64"
       ]
      },
      {
       "output_type": "stream",
       "stream": "stdout",
       "text": [
        "\n",
        "24905 agents are moving\n",
        "Total new agents and movers = 47942"
       ]
      },
      {
       "output_type": "stream",
       "stream": "stdout",
       "text": [
        "\n",
        "Assigning units to 10953 agents of segment 1"
       ]
      },
      {
       "output_type": "stream",
       "stream": "stdout",
       "text": [
        "\n",
        "num alts\n",
        "105792\n",
        "num segments\n",
        "10953\n",
        "Assigning units to 4584 agents of segment 2\n",
        "num alts\n",
        "57516\n",
        "num segments\n",
        "4584\n",
        "Assigning units to 29068 agents of segment 3\n",
        "num alts\n",
        "67568\n",
        "num segments\n",
        "29068\n",
        "Assigning units to 3337 agents of segment 4\n",
        "num alts\n",
        "37377\n",
        "num segments\n",
        "3337\n",
        "Assigned 47942 agents to 38679 locations with 0 unplaced"
       ]
      },
      {
       "output_type": "stream",
       "stream": "stdout",
       "text": [
        "\n",
        "1207462"
       ]
      },
      {
       "output_type": "stream",
       "stream": "stdout",
       "text": [
        "\n",
        "1661789\n",
        "1427248.0\n",
        "872568980\n",
        "Simulating year 2013\n",
        "<class 'pandas.core.frame.DataFrame'>\n",
        "Int64Index: 192984 entries, 1057290 to 998961272\n",
        "Data columns (total 9 columns):\n",
        "building_id          192984  non-null values\n",
        "home_based_status    192984  non-null values\n",
        "infogroup_id         192984  non-null values\n",
        "qcew_id              192984  non-null values\n",
        "sector_id            192984  non-null values\n",
        "employees            192984  non-null values\n",
        "sector_id_six        192984  non-null values\n",
        "county_id            192982  non-null values\n",
        "_year_added_         192984  non-null values\n",
        "dtypes: float64(1), int32(5), int64(2), object(1)"
       ]
      },
      {
       "output_type": "stream",
       "stream": "stdout",
       "text": [
        "\n",
        "                                 total_number_of_jobs\n",
        "sector_id_six home_based_status                      \n",
        "1             1                                  7592\n",
        "2             1                                 24944\n",
        "3             1                                  5423\n",
        "4             1                                 10845\n",
        "5             1                                 14099\n",
        "6             1                                 65070\n",
        "1             0                                 99343\n",
        "2             0                                326414\n",
        "3             0                                 70960\n",
        "4             0                                141919\n",
        "5             0                                184495\n",
        "6             0                                851515\n",
        "Adding agents to match target of 1802619 \n",
        "action\n",
        "2197\n",
        "action"
       ]
      },
      {
       "output_type": "stream",
       "stream": "stdout",
       "text": [
        "\n",
        "6873\n",
        "action\n",
        "-20680\n",
        "action"
       ]
      },
      {
       "output_type": "stream",
       "stream": "stdout",
       "text": [
        "\n",
        "2952\n",
        "action\n",
        "3832\n",
        "action"
       ]
      },
      {
       "output_type": "stream",
       "stream": "stdout",
       "text": [
        "\n",
        "17683\n",
        "Histogram of agents by year:\n"
       ]
      },
      {
       "output_type": "stream",
       "stream": "stdout",
       "text": [
        "2010    159759\n",
        "2011     27285\n",
        "2012      3274\n",
        "2013      3070\n",
        "dtype: int64\n",
        "Total new agents and movers = 3070\n",
        "Assigning units to 13 agents of segment 1"
       ]
      },
      {
       "output_type": "stream",
       "stream": "stdout",
       "text": [
        "\n",
        "Assigning units to 445 agents of segment 2\n",
        "Assigning units to 194 agents of segment 4"
       ]
      },
      {
       "output_type": "stream",
       "stream": "stdout",
       "text": [
        "\n",
        "Assigning units to 361 agents of segment 5"
       ]
      },
      {
       "output_type": "stream",
       "stream": "stdout",
       "text": [
        "\n",
        "Assigning units to 2057 agents of segment 6"
       ]
      },
      {
       "output_type": "stream",
       "stream": "stdout",
       "text": [
        "\n",
        "Assigned 3070 agents to 2666 locations with 0 unplaced"
       ]
      },
      {
       "output_type": "stream",
       "stream": "stdout",
       "text": [
        "\n",
        "<class 'pandas.core.frame.DataFrame'>\n",
        "Int64Index: 1207462 entries, 16 to 1207462\n",
        "Data columns (total 16 columns):\n",
        "age_of_head         1207462  non-null values\n",
        "building_id         1207462  non-null values\n",
        "cars                1207462  non-null values\n",
        "children            1207462  non-null values\n",
        "county              1207462  non-null values\n",
        "income              1207462  non-null values\n",
        "income_group_id     1207462  non-null values\n",
        "persons             1207462  non-null values\n",
        "race_id             1207462  non-null values\n",
        "tenure              1207462  non-null values\n",
        "workers             1207462  non-null values\n",
        "building_type_id    1207460  non-null values\n",
        "btype               1207462  non-null values\n",
        "county_id           1207460  non-null values\n",
        "_year_added_        1207462  non-null values\n",
        "relocation_rate     1207462  non-null values\n",
        "dtypes: float32(1), float64(2), int32(12), int64(1)"
       ]
      },
      {
       "output_type": "stream",
       "stream": "stdout",
       "text": [
        "\n",
        "total_number_of_households    23537\n",
        "persons                       45227\n",
        "dtype: int32\n",
        "Adding agents to match target of 68764 \n",
        "Histogram of agents by year:\n"
       ]
      },
      {
       "output_type": "stream",
       "stream": "stdout",
       "text": [
        "2010    1160387\n",
        "2011      23538\n",
        "2013      23537\n",
        "2012      23537\n",
        "dtype: int64\n",
        "Histogram of relocation rates:"
       ]
      },
      {
       "output_type": "stream",
       "stream": "stdout",
       "text": [
        "\n",
        "0.0148    163005\n",
        "0.0000    157639\n",
        "0.0309    133779\n",
        "0.0274    131786\n",
        "0.0145    118190\n",
        "0.0311     78382\n",
        "0.0183     66792\n",
        "0.0348     61406\n",
        "0.0540     57540\n",
        "0.0184     51071\n",
        "0.0110     40691\n",
        "0.0220     31977\n",
        "0.0402     27783\n",
        "0.0099     20475\n",
        "0.0130     17824\n",
        "0.0124     17270\n",
        "0.0199     13409\n",
        "0.0111     12619\n",
        "0.0132     12575\n",
        "0.0117      9963\n",
        "0.0222      6823\n",
        "dtype: int64"
       ]
      },
      {
       "output_type": "stream",
       "stream": "stdout",
       "text": [
        "\n",
        "25351 agents are moving\n",
        "Total new agents and movers = 48410"
       ]
      },
      {
       "output_type": "stream",
       "stream": "stdout",
       "text": [
        "\n",
        "Assigning units to 11098 agents of segment 1"
       ]
      },
      {
       "output_type": "stream",
       "stream": "stdout",
       "text": [
        "\n",
        "num alts\n",
        "130043\n",
        "num segments\n",
        "11098\n",
        "Assigning units to 4485 agents of segment 2\n",
        "num alts\n",
        "68823\n",
        "num segments\n",
        "4485\n",
        "Assigning units to 29477 agents of segment 3\n",
        "num alts\n",
        "51543\n",
        "num segments\n",
        "29477\n",
        "Assigning units to 3350 agents of segment 4\n",
        "num alts\n",
        "51208\n",
        "num segments\n",
        "3350\n",
        "Assigned 48410 agents to 38877 locations with 0 unplaced"
       ]
      },
      {
       "output_type": "stream",
       "stream": "stdout",
       "text": [
        "\n",
        "1230999"
       ]
      },
      {
       "output_type": "stream",
       "stream": "stdout",
       "text": [
        "\n",
        "1674532\n",
        "1509050.0\n",
        "872568980\n",
        "Simulating year 2014\n",
        "<class 'pandas.core.frame.DataFrame'>\n",
        "Int64Index: 193388 entries, 1057290 to 998964342\n",
        "Data columns (total 9 columns):\n",
        "building_id          193388  non-null values\n",
        "home_based_status    193388  non-null values\n",
        "infogroup_id         193388  non-null values\n",
        "qcew_id              193388  non-null values\n",
        "sector_id            193388  non-null values\n",
        "employees            193388  non-null values\n",
        "sector_id_six        193388  non-null values\n",
        "county_id            193386  non-null values\n",
        "_year_added_         193388  non-null values\n",
        "dtypes: float64(1), int32(5), int64(2), object(1)"
       ]
      },
      {
       "output_type": "stream",
       "stream": "stdout",
       "text": [
        "\n",
        "                                 total_number_of_jobs\n",
        "sector_id_six home_based_status                      \n",
        "1             1                                  7749\n",
        "2             1                                 25462\n",
        "3             1                                  5535\n",
        "4             1                                 11070\n",
        "5             1                                 14391\n",
        "6             1                                 66421\n",
        "1             0                                101406\n",
        "2             0                                333192\n",
        "3             0                                 72433\n",
        "4             0                                144866\n",
        "5             0                                188326\n",
        "6             0                                869196\n",
        "Adding agents to match target of 1840047 \n",
        "action\n",
        "4011\n",
        "action"
       ]
      },
      {
       "output_type": "stream",
       "stream": "stdout",
       "text": [
        "\n",
        "6779\n",
        "action\n",
        "-371\n",
        "action"
       ]
      },
      {
       "output_type": "stream",
       "stream": "stdout",
       "text": [
        "\n",
        "2950\n",
        "action\n",
        "3834\n",
        "action"
       ]
      },
      {
       "output_type": "stream",
       "stream": "stdout",
       "text": [
        "\n",
        "17684\n",
        "Histogram of agents by year:\n",
        "2010    159673\n",
        "2011     27285\n",
        "2014      3481\n",
        "2012      3274\n",
        "2013      3070\n",
        "dtype: int64"
       ]
      },
      {
       "output_type": "stream",
       "stream": "stdout",
       "text": [
        "\n",
        "Total new agents and movers = 3481\n",
        "Assigning units to 99 agents of segment 1"
       ]
      },
      {
       "output_type": "stream",
       "stream": "stdout",
       "text": [
        "\n",
        "Assigning units to 378 agents of segment 2"
       ]
      },
      {
       "output_type": "stream",
       "stream": "stdout",
       "text": [
        "\n",
        "Assigning units to 219 agents of segment 4"
       ]
      },
      {
       "output_type": "stream",
       "stream": "stdout",
       "text": [
        "\n",
        "Assigning units to 495 agents of segment 5"
       ]
      },
      {
       "output_type": "stream",
       "stream": "stdout",
       "text": [
        "\n",
        "Assigning units to 2290 agents of segment 6"
       ]
      },
      {
       "output_type": "stream",
       "stream": "stdout",
       "text": [
        "\n",
        "Assigned 3481 agents to 3050 locations with 0 unplaced"
       ]
      },
      {
       "output_type": "stream",
       "stream": "stdout",
       "text": [
        "\n",
        "<class 'pandas.core.frame.DataFrame'>\n",
        "Int64Index: 1230999 entries, 16 to 1230999\n",
        "Data columns (total 16 columns):\n",
        "age_of_head         1230999  non-null values\n",
        "building_id         1230999  non-null values\n",
        "cars                1230999  non-null values\n",
        "children            1230999  non-null values\n",
        "county              1230999  non-null values\n",
        "income              1230999  non-null values\n",
        "income_group_id     1230999  non-null values\n",
        "persons             1230999  non-null values\n",
        "race_id             1230999  non-null values\n",
        "tenure              1230999  non-null values\n",
        "workers             1230999  non-null values\n",
        "building_type_id    1230997  non-null values\n",
        "btype               1230999  non-null values\n",
        "county_id           1230997  non-null values\n",
        "_year_added_        1230999  non-null values\n",
        "relocation_rate     1230999  non-null values\n",
        "dtypes: float32(1), float64(2), int32(12), int64(1)"
       ]
      },
      {
       "output_type": "stream",
       "stream": "stdout",
       "text": [
        "\n",
        "total_number_of_households    23537\n",
        "persons                       45227\n",
        "dtype: int32\n",
        "Adding agents to match target of 68764 \n",
        "Histogram of agents by year:\n"
       ]
      },
      {
       "output_type": "stream",
       "stream": "stdout",
       "text": [
        "2010    1160387\n",
        "2011      23538\n",
        "2014      23537\n",
        "2013      23537\n",
        "2012      23537\n",
        "dtype: int64\n",
        "Histogram of relocation rates:"
       ]
      },
      {
       "output_type": "stream",
       "stream": "stdout",
       "text": [
        "\n",
        "0.0148    166143\n",
        "0.0000    160641\n",
        "0.0309    136365\n",
        "0.0274    134287\n",
        "0.0145    120477\n",
        "0.0311     79831\n",
        "0.0183     68074\n",
        "0.0348     62578\n",
        "0.0540     58642\n",
        "0.0184     52066\n",
        "0.0110     41485\n",
        "0.0220     32569\n",
        "0.0402     28324\n",
        "0.0099     20871\n",
        "0.0130     18144\n",
        "0.0124     17587\n",
        "0.0199     13639\n",
        "0.0111     12887\n",
        "0.0132     12821\n",
        "0.0117     10173\n",
        "0.0222      6932\n",
        "dtype: int64"
       ]
      },
      {
       "output_type": "stream",
       "stream": "stdout",
       "text": [
        "\n",
        "26150 agents are moving\n",
        "Total new agents and movers = 49172"
       ]
      },
      {
       "output_type": "stream",
       "stream": "stdout",
       "text": [
        "\n",
        "Assigning units to 11250 agents of segment 1"
       ]
      },
      {
       "output_type": "stream",
       "stream": "stdout",
       "text": [
        "\n",
        "num alts\n",
        "157750\n",
        "num segments\n",
        "11250\n",
        "Assigning units to 4749 agents of segment 2\n",
        "num alts\n",
        "81903\n",
        "num segments\n",
        "4749\n",
        "Assigning units to 29745 agents of segment 3\n",
        "num alts\n",
        "35515\n",
        "num segments\n",
        "29745\n",
        "Assigning units to 3428 agents of segment 4\n",
        "num alts\n",
        "68292\n",
        "num segments\n",
        "3428\n",
        "Assigned 49172 agents to 39052 locations with 0 unplaced"
       ]
      },
      {
       "output_type": "stream",
       "stream": "stdout",
       "text": [
        "\n",
        "1254536"
       ]
      },
      {
       "output_type": "stream",
       "stream": "stdout",
       "text": [
        "\n",
        "1707433\n",
        "1604376.0\n",
        "872568980\n",
        "Simulating year 2015\n",
        "<class 'pandas.core.frame.DataFrame'>\n",
        "Int64Index: 196783 entries, 1057290 to 998967823\n",
        "Data columns (total 9 columns):\n",
        "building_id          196783  non-null values\n",
        "home_based_status    196783  non-null values\n",
        "infogroup_id         196783  non-null values\n",
        "qcew_id              196783  non-null values\n",
        "sector_id            196783  non-null values\n",
        "employees            196783  non-null values\n",
        "sector_id_six        196783  non-null values\n",
        "county_id            196781  non-null values\n",
        "_year_added_         196783  non-null values\n",
        "dtypes: float64(1), int32(5), int64(2), object(1)"
       ]
      },
      {
       "output_type": "stream",
       "stream": "stdout",
       "text": [
        "\n",
        "                                 total_number_of_jobs\n",
        "sector_id_six home_based_status                      \n",
        "1             1                                  7907\n",
        "2             1                                 25979\n",
        "3             1                                  5648\n",
        "4             1                                 11295\n",
        "5             1                                 14684\n",
        "6             1                                 67772\n",
        "1             0                                103469\n",
        "2             0                                339969\n",
        "3             0                                 73906\n",
        "4             0                                147813\n",
        "5             0                                192157\n",
        "6             0                                886877\n",
        "Adding agents to match target of 1877476 \n",
        "action\n",
        "3687\n",
        "action"
       ]
      },
      {
       "output_type": "stream",
       "stream": "stdout",
       "text": [
        "\n",
        "7126\n",
        "action\n",
        "1472\n",
        "action\n",
        "2954\n",
        "action"
       ]
      },
      {
       "output_type": "stream",
       "stream": "stdout",
       "text": [
        "\n",
        "3836\n",
        "action\n",
        "17683\n",
        "Histogram of agents by year:\n"
       ]
      },
      {
       "output_type": "stream",
       "stream": "stdout",
       "text": [
        "2010    159673\n",
        "2011     27285\n",
        "2015      4575\n",
        "2014      3481\n",
        "2012      3274\n",
        "2013      3070\n",
        "dtype: int64\n",
        "Total new agents and movers = 4575\n",
        "Assigning units to 126 agents of segment 1"
       ]
      },
      {
       "output_type": "stream",
       "stream": "stdout",
       "text": [
        "\n",
        "Assigning units to 442 agents of segment 2"
       ]
      },
      {
       "output_type": "stream",
       "stream": "stdout",
       "text": [
        "\n",
        "Assigning units to 224 agents of segment 3"
       ]
      },
      {
       "output_type": "stream",
       "stream": "stdout",
       "text": [
        "\n",
        "Assigning units to 179 agents of segment 4"
       ]
      },
      {
       "output_type": "stream",
       "stream": "stdout",
       "text": [
        "\n",
        "Assigning units to 524 agents of segment 5"
       ]
      },
      {
       "output_type": "stream",
       "stream": "stdout",
       "text": [
        "\n",
        "Assigning units to 3080 agents of segment 6"
       ]
      },
      {
       "output_type": "stream",
       "stream": "stdout",
       "text": [
        "\n",
        "Assigned 4575 agents to 3922 locations with 0 unplaced"
       ]
      },
      {
       "output_type": "stream",
       "stream": "stdout",
       "text": [
        "\n",
        "<class 'pandas.core.frame.DataFrame'>\n",
        "Int64Index: 1254536 entries, 16 to 1254536\n",
        "Data columns (total 16 columns):\n",
        "age_of_head         1254536  non-null values\n",
        "building_id         1254536  non-null values\n",
        "cars                1254536  non-null values\n",
        "children            1254536  non-null values\n",
        "county              1254536  non-null values\n",
        "income              1254536  non-null values\n",
        "income_group_id     1254536  non-null values\n",
        "persons             1254536  non-null values\n",
        "race_id             1254536  non-null values\n",
        "tenure              1254536  non-null values\n",
        "workers             1254536  non-null values\n",
        "building_type_id    1254534  non-null values\n",
        "btype               1254536  non-null values\n",
        "county_id           1254534  non-null values\n",
        "_year_added_        1254536  non-null values\n",
        "relocation_rate     1254536  non-null values\n",
        "dtypes: float32(1), float64(2), int32(12), int64(1)"
       ]
      },
      {
       "output_type": "stream",
       "stream": "stdout",
       "text": [
        "\n",
        "total_number_of_households    23538\n",
        "persons                       45227\n",
        "dtype: int32\n",
        "Adding agents to match target of 68765 \n",
        "Histogram of agents by year:\n"
       ]
      },
      {
       "output_type": "stream",
       "stream": "stdout",
       "text": [
        "2010    1160387\n",
        "2015      23538\n",
        "2011      23538\n",
        "2014      23537\n",
        "2013      23537\n",
        "2012      23537\n",
        "dtype: int64\n",
        "Histogram of relocation rates:"
       ]
      },
      {
       "output_type": "stream",
       "stream": "stdout",
       "text": [
        "\n",
        "0.0148    169273\n",
        "0.0000    163643\n",
        "0.0309    138922\n",
        "0.0274    136757\n",
        "0.0145    122823\n",
        "0.0311     81307\n",
        "0.0183     69316\n",
        "0.0348     63830\n",
        "0.0540     59731\n",
        "0.0184     52981\n",
        "0.0110     42229\n",
        "0.0220     33149\n",
        "0.0402     28884\n",
        "0.0099     21299\n",
        "0.0130     18484\n",
        "0.0124     17930\n",
        "0.0199     13894\n",
        "0.0111     13157\n",
        "0.0132     13033\n",
        "0.0117     10366\n",
        "0.0222      7066\n",
        "dtype: int64"
       ]
      },
      {
       "output_type": "stream",
       "stream": "stdout",
       "text": [
        "\n",
        "26263 agents are moving\n",
        "Total new agents and movers = 49324"
       ]
      },
      {
       "output_type": "stream",
       "stream": "stdout",
       "text": [
        "\n",
        "Assigning units to 11227 agents of segment 1"
       ]
      },
      {
       "output_type": "stream",
       "stream": "stdout",
       "text": [
        "\n",
        "num alts\n",
        "188969\n",
        "num segments\n",
        "11227\n",
        "Assigning units to 4714 agents of segment 2\n",
        "num alts\n",
        "95857\n",
        "num segments\n",
        "4714\n",
        "Assigning units to 29966 agents of segment 3\n",
        "num alts\n",
        "19466\n",
        "num segments\n",
        "29966\n",
        "WARNING: not enough options to fit agents, will result in unplaced agents\n",
        "Assigning units to 3417 agents of segment 4\n",
        "num alts\n",
        "87931\n",
        "num segments\n",
        "3417\n",
        "Assigned 49324 agents to 8793 locations with 29966 unplaced\n",
        "1278074"
       ]
      },
      {
       "output_type": "stream",
       "stream": "stdout",
       "text": [
        "\n",
        "1743364\n",
        "1714086.0\n",
        "872568980\n",
        "Simulating year 2016\n",
        "<class 'pandas.core.frame.DataFrame'>\n",
        "Int64Index: 201358 entries, 1057290 to 998972398\n",
        "Data columns (total 9 columns):\n",
        "building_id          201358  non-null values\n",
        "home_based_status    201358  non-null values\n",
        "infogroup_id         201358  non-null values\n",
        "qcew_id              201358  non-null values\n",
        "sector_id            201358  non-null values\n",
        "employees            201358  non-null values\n",
        "sector_id_six        201358  non-null values\n",
        "county_id            201356  non-null values\n",
        "_year_added_         201358  non-null values\n",
        "dtypes: float64(1), int32(5), int64(2), object(1)"
       ]
      },
      {
       "output_type": "stream",
       "stream": "stdout",
       "text": [
        "\n",
        "                                 total_number_of_jobs\n",
        "sector_id_six home_based_status                      \n",
        "1             1                                  8023\n",
        "2             1                                 26362\n",
        "3             1                                  5731\n",
        "4             1                                 11462\n",
        "5             1                                 14901\n",
        "6             1                                 68772\n",
        "1             0                                104995\n",
        "2             0                                344982\n",
        "3             0                                 74996\n",
        "4             0                                149992\n",
        "5             0                                194990\n",
        "6             0                                899953\n",
        "Adding agents to match target of 1905159 \n",
        "action\n",
        "1537\n",
        "action"
       ]
      },
      {
       "output_type": "stream",
       "stream": "stdout",
       "text": [
        "\n",
        "5228\n",
        "action\n",
        "1091\n",
        "action\n",
        "2298\n",
        "action"
       ]
      },
      {
       "output_type": "stream",
       "stream": "stdout",
       "text": [
        "\n",
        "2842\n",
        "action\n",
        "13548\n",
        "Histogram of agents by year:\n"
       ]
      },
      {
       "output_type": "stream",
       "stream": "stdout",
       "text": [
        "2010    159673\n",
        "2011     27285\n",
        "2015      4575\n",
        "2014      3481\n",
        "2016      3454\n",
        "2012      3274\n",
        "2013      3070\n",
        "dtype: int64\n",
        "Total new agents and movers = 3454\n",
        "Assigning units to 43 agents of segment 1"
       ]
      },
      {
       "output_type": "stream",
       "stream": "stdout",
       "text": [
        "\n",
        "Assigning units to 384 agents of segment 2"
       ]
      },
      {
       "output_type": "stream",
       "stream": "stdout",
       "text": [
        "\n",
        "Assigning units to 156 agents of segment 3"
       ]
      },
      {
       "output_type": "stream",
       "stream": "stdout",
       "text": [
        "\n",
        "Assigning units to 145 agents of segment 4"
       ]
      },
      {
       "output_type": "stream",
       "stream": "stdout",
       "text": [
        "\n",
        "Assigning units to 269 agents of segment 5"
       ]
      },
      {
       "output_type": "stream",
       "stream": "stdout",
       "text": [
        "\n",
        "Assigning units to 2457 agents of segment 6"
       ]
      },
      {
       "output_type": "stream",
       "stream": "stdout",
       "text": [
        "\n",
        "Assigned 3454 agents to 3059 locations with 0 unplaced"
       ]
      },
      {
       "output_type": "stream",
       "stream": "stdout",
       "text": [
        "\n",
        "<class 'pandas.core.frame.DataFrame'>\n",
        "Int64Index: 1278074 entries, 16 to 1278074\n",
        "Data columns (total 16 columns):\n",
        "age_of_head         1278074  non-null values\n",
        "building_id         1278074  non-null values\n",
        "cars                1278074  non-null values\n",
        "children            1278074  non-null values\n",
        "county              1278074  non-null values\n",
        "income              1278074  non-null values\n",
        "income_group_id     1278074  non-null values\n",
        "persons             1278074  non-null values\n",
        "race_id             1278074  non-null values\n",
        "tenure              1278074  non-null values\n",
        "workers             1278074  non-null values\n",
        "building_type_id    1248106  non-null values\n",
        "btype               1278074  non-null values\n",
        "county_id           1248106  non-null values\n",
        "_year_added_        1278074  non-null values\n",
        "relocation_rate     1278074  non-null values\n",
        "dtypes: float32(1), float64(2), int32(12), int64(1)"
       ]
      },
      {
       "output_type": "stream",
       "stream": "stdout",
       "text": [
        "\n",
        "total_number_of_households    25004\n",
        "persons                       55212\n",
        "dtype: int32\n",
        "Adding agents to match target of 80216 \n",
        "Histogram of agents by year:\n"
       ]
      },
      {
       "output_type": "stream",
       "stream": "stdout",
       "text": [
        "2010    1160387\n",
        "2016      25004\n",
        "2015      23538\n",
        "2011      23538\n",
        "2014      23537\n",
        "2013      23537\n",
        "2012      23537\n",
        "dtype: int64\n",
        "Histogram of relocation rates:"
       ]
      },
      {
       "output_type": "stream",
       "stream": "stdout",
       "text": [
        "\n",
        "0.0148    172576\n",
        "0.0000    166811\n",
        "0.0309    141659\n",
        "0.0274    139421\n",
        "0.0145    125261\n",
        "0.0311     82916\n",
        "0.0183     70657\n",
        "0.0348     65068\n",
        "0.0540     60915\n",
        "0.0184     53980\n",
        "0.0110     43061\n",
        "0.0220     33808\n",
        "0.0402     29409\n",
        "0.0099     21733\n",
        "0.0130     18864\n",
        "0.0124     18271\n",
        "0.0199     14160\n",
        "0.0111     13402\n",
        "0.0132     13305\n",
        "0.0117     10588\n",
        "0.0222      7213\n",
        "dtype: int64"
       ]
      },
      {
       "output_type": "stream",
       "stream": "stdout",
       "text": [
        "\n",
        "26837 agents are moving\n",
        "Total new agents and movers = 80566"
       ]
      },
      {
       "output_type": "stream",
       "stream": "stdout",
       "text": [
        "\n",
        "Assigning units to 11661 agents of segment 1"
       ]
      },
      {
       "output_type": "stream",
       "stream": "stdout",
       "text": [
        "\n",
        "num alts\n",
        "223231\n",
        "num segments\n",
        "11661\n",
        "Assigning units to 4916 agents of segment 2\n",
        "num alts\n",
        "110871\n",
        "num segments\n",
        "4916\n",
        "Assigning units to 29813 agents of segment 3\n",
        "num alts\n",
        "32938\n",
        "num segments\n",
        "29813\n",
        "Assigning units to 34176 agents of segment 4\n",
        "num alts\n",
        "116700\n",
        "num segments\n",
        "34176\n",
        "Assigned 80566 agents to 42353 locations with 0 unplaced"
       ]
      },
      {
       "output_type": "stream",
       "stream": "stdout",
       "text": [
        "\n",
        "1303078"
       ]
      },
      {
       "output_type": "stream",
       "stream": "stdout",
       "text": [
        "\n",
        "1769153\n",
        "1845897.0\n",
        "872568980\n",
        "Simulating year 2017\n",
        "<class 'pandas.core.frame.DataFrame'>\n",
        "Int64Index: 204812 entries, 1057290 to 998975852\n",
        "Data columns (total 9 columns):\n",
        "building_id          204812  non-null values\n",
        "home_based_status    204812  non-null values\n",
        "infogroup_id         204812  non-null values\n",
        "qcew_id              204812  non-null values\n",
        "sector_id            204812  non-null values\n",
        "employees            204812  non-null values\n",
        "sector_id_six        204812  non-null values\n",
        "county_id            204810  non-null values\n",
        "_year_added_         204812  non-null values\n",
        "dtypes: float64(1), int32(5), int64(2), object(1)"
       ]
      },
      {
       "output_type": "stream",
       "stream": "stdout",
       "text": [
        "\n",
        "                                 total_number_of_jobs\n",
        "sector_id_six home_based_status                      \n",
        "1             1                                  8140\n",
        "2             1                                 26746\n",
        "3             1                                  5814\n",
        "4             1                                 11628\n",
        "5             1                                 15117\n",
        "6             1                                 69771\n",
        "1             0                                106520\n",
        "2             0                                349995\n",
        "3             0                                 76086\n",
        "4             0                                152172\n",
        "5             0                                197823\n",
        "6             0                                913029\n",
        "Adding agents to match target of 1932841 \n",
        "action\n",
        "2141\n",
        "action"
       ]
      },
      {
       "output_type": "stream",
       "stream": "stdout",
       "text": [
        "\n",
        "5017\n",
        "action\n",
        "1091\n",
        "action\n",
        "2183\n",
        "action"
       ]
      },
      {
       "output_type": "stream",
       "stream": "stdout",
       "text": [
        "\n",
        "2959\n",
        "action\n",
        "13081\n",
        "Histogram of agents by year:\n"
       ]
      },
      {
       "output_type": "stream",
       "stream": "stdout",
       "text": [
        "2010    159673\n",
        "2011     27285\n",
        "2015      4575\n",
        "2014      3481\n",
        "2016      3454\n",
        "2017      3281\n",
        "2012      3274\n",
        "2013      3070\n",
        "dtype: int64\n",
        "Total new agents and movers = 3281\n",
        "Assigning units to 85 agents of segment 1"
       ]
      },
      {
       "output_type": "stream",
       "stream": "stdout",
       "text": [
        "\n",
        "Assigning units to 441 agents of segment 2"
       ]
      },
      {
       "output_type": "stream",
       "stream": "stdout",
       "text": [
        "\n",
        "Assigning units to 230 agents of segment 3"
       ]
      },
      {
       "output_type": "stream",
       "stream": "stdout",
       "text": [
        "\n",
        "Assigning units to 134 agents of segment 4"
       ]
      },
      {
       "output_type": "stream",
       "stream": "stdout",
       "text": [
        "\n",
        "Assigning units to 338 agents of segment 5"
       ]
      },
      {
       "output_type": "stream",
       "stream": "stdout",
       "text": [
        "\n",
        "Assigning units to 2053 agents of segment 6"
       ]
      },
      {
       "output_type": "stream",
       "stream": "stdout",
       "text": [
        "\n",
        "Assigned 3281 agents to 2942 locations with 0 unplaced"
       ]
      },
      {
       "output_type": "stream",
       "stream": "stdout",
       "text": [
        "\n",
        "<class 'pandas.core.frame.DataFrame'>\n",
        "Int64Index: 1303078 entries, 16 to 1303078\n",
        "Data columns (total 16 columns):\n",
        "age_of_head         1303078  non-null values\n",
        "building_id         1303078  non-null values\n",
        "cars                1303078  non-null values\n",
        "children            1303078  non-null values\n",
        "county              1303078  non-null values\n",
        "income              1303078  non-null values\n",
        "income_group_id     1303078  non-null values\n",
        "persons             1303078  non-null values\n",
        "race_id             1303078  non-null values\n",
        "tenure              1303078  non-null values\n",
        "workers             1303078  non-null values\n",
        "building_type_id    1303076  non-null values\n",
        "btype               1303078  non-null values\n",
        "county_id           1303076  non-null values\n",
        "_year_added_        1303078  non-null values\n",
        "relocation_rate     1303078  non-null values\n",
        "dtypes: float32(1), float64(2), int32(12), int64(1)"
       ]
      },
      {
       "output_type": "stream",
       "stream": "stdout",
       "text": [
        "\n",
        "total_number_of_households    25005\n",
        "persons                       55211\n",
        "dtype: int32\n",
        "Adding agents to match target of 80216 \n",
        "Histogram of agents by year:\n"
       ]
      },
      {
       "output_type": "stream",
       "stream": "stdout",
       "text": [
        "2010    1160387\n",
        "2017      25005\n",
        "2016      25004\n",
        "2015      23538\n",
        "2011      23538\n",
        "2014      23537\n",
        "2013      23537\n",
        "2012      23537\n",
        "dtype: int64\n",
        "Histogram of relocation rates:"
       ]
      },
      {
       "output_type": "stream",
       "stream": "stdout",
       "text": [
        "\n",
        "0.0148    175801\n",
        "0.0000    170014\n",
        "0.0309    144412\n",
        "0.0274    142014\n",
        "0.0145    127642\n",
        "0.0311     84569\n",
        "0.0183     72010\n",
        "0.0348     66348\n",
        "0.0540     62058\n",
        "0.0184     55053\n",
        "0.0110     43849\n",
        "0.0220     34455\n",
        "0.0402     29975\n",
        "0.0099     22182\n",
        "0.0130     19227\n",
        "0.0124     18620\n",
        "0.0199     14467\n",
        "0.0111     13665\n",
        "0.0132     13559\n",
        "0.0117     10816\n",
        "0.0222      7347\n",
        "dtype: int64"
       ]
      },
      {
       "output_type": "stream",
       "stream": "stdout",
       "text": [
        "\n",
        "27519 agents are moving\n",
        "Total new agents and movers = 52014"
       ]
      },
      {
       "output_type": "stream",
       "stream": "stdout",
       "text": [
        "\n",
        "Assigning units to 12027 agents of segment 1"
       ]
      },
      {
       "output_type": "stream",
       "stream": "stdout",
       "text": [
        "\n",
        "num alts\n",
        "261674\n",
        "num segments\n",
        "12027\n",
        "Assigning units to 4907 agents of segment 2\n",
        "num alts\n",
        "127247\n",
        "num segments\n",
        "4907\n",
        "Assigning units to 30224 agents of segment 3\n",
        "num alts\n",
        "16912\n",
        "num segments\n",
        "30224\n",
        "WARNING: not enough options to fit agents, will result in unplaced agents\n",
        "Assigning units to 4856 agents of segment 4\n",
        "num alts\n",
        "122452\n",
        "num segments\n",
        "4856\n",
        "Assigned 52014 agents to 8515 locations with 30224 unplaced\n",
        "1328083"
       ]
      },
      {
       "output_type": "stream",
       "stream": "stdout",
       "text": [
        "\n",
        "1794807\n",
        "2002028.0\n",
        "872568980\n",
        "Simulating year 2018\n",
        "<class 'pandas.core.frame.DataFrame'>\n",
        "Int64Index: 208093 entries, 1057290 to 998979133\n",
        "Data columns (total 9 columns):\n",
        "building_id          208093  non-null values\n",
        "home_based_status    208093  non-null values\n",
        "infogroup_id         208093  non-null values\n",
        "qcew_id              208093  non-null values\n",
        "sector_id            208093  non-null values\n",
        "employees            208093  non-null values\n",
        "sector_id_six        208093  non-null values\n",
        "county_id            208091  non-null values\n",
        "_year_added_         208093  non-null values\n",
        "dtypes: float64(1), int32(5), int64(2), object(1)"
       ]
      },
      {
       "output_type": "stream",
       "stream": "stdout",
       "text": [
        "\n",
        "                                 total_number_of_jobs\n",
        "sector_id_six home_based_status                      \n",
        "1             1                                  8257\n",
        "2             1                                 27129\n",
        "3             1                                  5898\n",
        "4             1                                 11795\n",
        "5             1                                 15334\n",
        "6             1                                 70770\n",
        "1             0                                108046\n",
        "2             0                                355007\n",
        "3             0                                 77175\n",
        "4             0                                154351\n",
        "5             0                                200656\n",
        "6             0                                926106\n",
        "Adding agents to match target of 1960524 \n",
        "action\n",
        "1602\n",
        "action"
       ]
      },
      {
       "output_type": "stream",
       "stream": "stdout",
       "text": [
        "\n",
        "5137\n",
        "action\n",
        "1127\n",
        "action\n",
        "2244\n",
        "action"
       ]
      },
      {
       "output_type": "stream",
       "stream": "stdout",
       "text": [
        "\n",
        "3269\n",
        "action\n",
        "13155\n",
        "Histogram of agents by year:\n"
       ]
      },
      {
       "output_type": "stream",
       "stream": "stdout",
       "text": [
        "2010    159673\n",
        "2011     27285\n",
        "2015      4575\n",
        "2014      3481\n",
        "2016      3454\n",
        "2018      3447\n",
        "2017      3281\n",
        "2012      3274\n",
        "2013      3070\n",
        "dtype: int64\n",
        "Total new agents and movers = 3447\n",
        "Assigning units to 54 agents of segment 1"
       ]
      },
      {
       "output_type": "stream",
       "stream": "stdout",
       "text": [
        "\n",
        "Assigning units to 556 agents of segment 2"
       ]
      },
      {
       "output_type": "stream",
       "stream": "stdout",
       "text": [
        "\n",
        "Assigning units to 202 agents of segment 3"
       ]
      },
      {
       "output_type": "stream",
       "stream": "stdout",
       "text": [
        "\n",
        "Assigning units to 150 agents of segment 4"
       ]
      },
      {
       "output_type": "stream",
       "stream": "stdout",
       "text": [
        "\n",
        "Assigning units to 394 agents of segment 5"
       ]
      },
      {
       "output_type": "stream",
       "stream": "stdout",
       "text": [
        "\n",
        "Assigning units to 2091 agents of segment 6"
       ]
      },
      {
       "output_type": "stream",
       "stream": "stdout",
       "text": [
        "\n",
        "Assigned 3447 agents to 3051 locations with 0 unplaced"
       ]
      },
      {
       "output_type": "stream",
       "stream": "stdout",
       "text": [
        "\n",
        "<class 'pandas.core.frame.DataFrame'>\n",
        "Int64Index: 1328083 entries, 16 to 1328083\n",
        "Data columns (total 16 columns):\n",
        "age_of_head         1328083  non-null values\n",
        "building_id         1328083  non-null values\n",
        "cars                1328083  non-null values\n",
        "children            1328083  non-null values\n",
        "county              1328083  non-null values\n",
        "income              1328083  non-null values\n",
        "income_group_id     1328083  non-null values\n",
        "persons             1328083  non-null values\n",
        "race_id             1328083  non-null values\n",
        "tenure              1328083  non-null values\n",
        "workers             1328083  non-null values\n",
        "building_type_id    1297857  non-null values\n",
        "btype               1328083  non-null values\n",
        "county_id           1297857  non-null values\n",
        "_year_added_        1328083  non-null values\n",
        "relocation_rate     1328083  non-null values\n",
        "dtypes: float32(1), float64(2), int32(12), int64(1)"
       ]
      },
      {
       "output_type": "stream",
       "stream": "stdout",
       "text": [
        "\n",
        "total_number_of_households    25004\n",
        "persons                       55212\n",
        "dtype: int32\n",
        "Adding agents to match target of 80216 \n",
        "Histogram of agents by year:\n"
       ]
      },
      {
       "output_type": "stream",
       "stream": "stdout",
       "text": [
        "2010    1160387\n",
        "2017      25005\n",
        "2018      25004\n",
        "2016      25004\n",
        "2015      23538\n",
        "2011      23538\n",
        "2014      23537\n",
        "2013      23537\n",
        "2012      23537\n",
        "dtype: int64\n",
        "Histogram of relocation rates:"
       ]
      },
      {
       "output_type": "stream",
       "stream": "stdout",
       "text": [
        "\n",
        "0.0148    179063\n",
        "0.0000    173227\n",
        "0.0309    147085\n",
        "0.0274    144666\n",
        "0.0145    130153\n",
        "0.0311     86170\n",
        "0.0183     73344\n",
        "0.0348     67580\n",
        "0.0540     63241\n",
        "0.0184     56070\n",
        "0.0110     44632\n",
        "0.0220     35126\n",
        "0.0402     30561\n",
        "0.0099     22628\n",
        "0.0130     19563\n",
        "0.0124     18958\n",
        "0.0199     14774\n",
        "0.0111     13932\n",
        "0.0132     13846\n",
        "0.0117     11006\n",
        "0.0222      7462\n",
        "dtype: int64"
       ]
      },
      {
       "output_type": "stream",
       "stream": "stdout",
       "text": [
        "\n",
        "28092 agents are moving\n",
        "Total new agents and movers = 82192"
       ]
      },
      {
       "output_type": "stream",
       "stream": "stdout",
       "text": [
        "\n",
        "Assigning units to 12058 agents of segment 1"
       ]
      },
      {
       "output_type": "stream",
       "stream": "stdout",
       "text": [
        "\n",
        "num alts\n",
        "304380\n",
        "num segments\n",
        "12058\n",
        "Assigning units to 5022 agents of segment 2\n",
        "num alts\n",
        "146475\n",
        "num segments\n",
        "5022\n",
        "Assigning units to 29377 agents of segment 3\n",
        "num alts\n",
        "30453\n",
        "num segments\n",
        "29377\n",
        "Assigning units to 35735 agents of segment 4"
       ]
      },
      {
       "output_type": "stream",
       "stream": "stdout",
       "text": [
        "\n",
        "num alts\n",
        "169597\n",
        "num segments\n",
        "35735\n",
        "Assigned 82192 agents to 40177 locations with 0 unplaced\n",
        "1353087"
       ]
      },
      {
       "output_type": "stream",
       "stream": "stdout",
       "text": [
        "\n",
        "1821085\n",
        "2192214.0\n",
        "872568980\n",
        "Simulating year 2019\n",
        "<class 'pandas.core.frame.DataFrame'>\n",
        "Int64Index: 211540 entries, 1057290 to 998982580\n",
        "Data columns (total 9 columns):\n",
        "building_id          211540  non-null values\n",
        "home_based_status    211540  non-null values\n",
        "infogroup_id         211540  non-null values\n",
        "qcew_id              211540  non-null values\n",
        "sector_id            211540  non-null values\n",
        "employees            211540  non-null values\n",
        "sector_id_six        211540  non-null values\n",
        "county_id            211538  non-null values\n",
        "_year_added_         211540  non-null values\n",
        "dtypes: float64(1), int32(5), int64(2), object(1)"
       ]
      },
      {
       "output_type": "stream",
       "stream": "stdout",
       "text": [
        "\n",
        "                                 total_number_of_jobs\n",
        "sector_id_six home_based_status                      \n",
        "1             1                                  8373\n",
        "2             1                                 27512\n",
        "3             1                                  5981\n",
        "4             1                                 11962\n",
        "5             1                                 15550\n",
        "6             1                                 71769\n",
        "1             0                                109571\n",
        "2             0                                360020\n",
        "3             0                                 78265\n",
        "4             0                                156530\n",
        "5             0                                203490\n",
        "6             0                                939182\n",
        "Adding agents to match target of 1988205 \n",
        "action\n",
        "1528\n",
        "action"
       ]
      },
      {
       "output_type": "stream",
       "stream": "stdout",
       "text": [
        "\n",
        "5180\n",
        "action\n",
        "1096\n",
        "action\n",
        "2190\n",
        "action"
       ]
      },
      {
       "output_type": "stream",
       "stream": "stdout",
       "text": [
        "\n",
        "2901\n",
        "action\n",
        "13078\n",
        "Histogram of agents by year:\n"
       ]
      },
      {
       "output_type": "stream",
       "stream": "stdout",
       "text": [
        "2010    159673\n",
        "2011     27285\n",
        "2015      4575\n",
        "2014      3481\n",
        "2019      3471\n",
        "2016      3454\n",
        "2018      3447\n",
        "2017      3281\n",
        "2012      3274\n",
        "2013      3070\n",
        "dtype: int64\n",
        "Total new agents and movers = 3471\n",
        "Assigning units to 91 agents of segment 1"
       ]
      },
      {
       "output_type": "stream",
       "stream": "stdout",
       "text": [
        "\n",
        "Assigning units to 329 agents of segment 2"
       ]
      },
      {
       "output_type": "stream",
       "stream": "stdout",
       "text": [
        "\n",
        "Assigning units to 153 agents of segment 3"
       ]
      },
      {
       "output_type": "stream",
       "stream": "stdout",
       "text": [
        "\n",
        "Assigning units to 143 agents of segment 4"
       ]
      },
      {
       "output_type": "stream",
       "stream": "stdout",
       "text": [
        "\n",
        "Assigning units to 348 agents of segment 5"
       ]
      },
      {
       "output_type": "stream",
       "stream": "stdout",
       "text": [
        "\n",
        "Assigning units to 2407 agents of segment 6"
       ]
      },
      {
       "output_type": "stream",
       "stream": "stdout",
       "text": [
        "\n",
        "Assigned 3471 agents to 3073 locations with 0 unplaced"
       ]
      },
      {
       "output_type": "stream",
       "stream": "stdout",
       "text": [
        "\n",
        "<class 'pandas.core.frame.DataFrame'>\n",
        "Int64Index: 1353087 entries, 16 to 1353087\n",
        "Data columns (total 16 columns):\n",
        "age_of_head         1353087  non-null values\n",
        "building_id         1353087  non-null values\n",
        "cars                1353087  non-null values\n",
        "children            1353087  non-null values\n",
        "county              1353087  non-null values\n",
        "income              1353087  non-null values\n",
        "income_group_id     1353087  non-null values\n",
        "persons             1353087  non-null values\n",
        "race_id             1353087  non-null values\n",
        "tenure              1353087  non-null values\n",
        "workers             1353087  non-null values\n",
        "building_type_id    1353085  non-null values\n",
        "btype               1353087  non-null values\n",
        "county_id           1353085  non-null values\n",
        "_year_added_        1353087  non-null values\n",
        "relocation_rate     1353087  non-null values\n",
        "dtypes: float32(1), float64(2), int32(12), int64(1)"
       ]
      },
      {
       "output_type": "stream",
       "stream": "stdout",
       "text": [
        "\n",
        "total_number_of_households    25005\n",
        "persons                       55212\n",
        "dtype: int32\n",
        "Adding agents to match target of 80217 \n",
        "Histogram of agents by year:\n"
       ]
      },
      {
       "output_type": "stream",
       "stream": "stdout",
       "text": [
        "2010    1160387\n",
        "2019      25005\n",
        "2017      25005\n",
        "2018      25004\n",
        "2016      25004\n",
        "2015      23538\n",
        "2011      23538\n",
        "2014      23537\n",
        "2013      23537\n",
        "2012      23537\n",
        "dtype: int64\n",
        "Histogram of relocation rates:"
       ]
      },
      {
       "output_type": "stream",
       "stream": "stdout",
       "text": [
        "\n",
        "0.0148    182436\n",
        "0.0000    176463\n",
        "0.0309    149764\n",
        "0.0274    147432\n",
        "0.0145    132456\n",
        "0.0311     87719\n",
        "0.0183     74678\n",
        "0.0348     68800\n",
        "0.0540     64358\n",
        "0.0184     57185\n",
        "0.0110     45459\n",
        "0.0220     35741\n",
        "0.0402     31137\n",
        "0.0099     23077\n",
        "0.0130     19934\n",
        "0.0124     19304\n",
        "0.0199     15023\n",
        "0.0111     14204\n",
        "0.0132     14109\n",
        "0.0117     11202\n",
        "0.0222      7611\n",
        "dtype: int64"
       ]
      },
      {
       "output_type": "stream",
       "stream": "stdout",
       "text": [
        "\n",
        "28688 agents are moving\n",
        "Total new agents and movers = 53180"
       ]
      },
      {
       "output_type": "stream",
       "stream": "stdout",
       "text": [
        "\n",
        "Assigning units to 12175 agents of segment 1"
       ]
      },
      {
       "output_type": "stream",
       "stream": "stdout",
       "text": [
        "\n",
        "num alts\n",
        "353467\n",
        "num segments\n",
        "12175\n",
        "Assigning units to 4912 agents of segment 2\n",
        "num alts\n",
        "168266\n",
        "num segments\n",
        "4912\n",
        "Assigning units to 29748 agents of segment 3\n",
        "num alts\n",
        "14880\n",
        "num segments\n",
        "29748\n",
        "WARNING: not enough options to fit agents, will result in unplaced agents\n",
        "Assigning units to 6345 agents of segment 4\n",
        "num alts\n",
        "199843\n",
        "num segments\n",
        "6345\n",
        "Assigned 53180 agents to 7740 locations with 29748 unplaced"
       ]
      },
      {
       "output_type": "stream",
       "stream": "stdout",
       "text": [
        "\n",
        "1378092"
       ]
      },
      {
       "output_type": "stream",
       "stream": "stdout",
       "text": [
        "\n",
        "1846338\n",
        "2423035.0\n",
        "872568980\n",
        "Simulating year 2020\n",
        "<class 'pandas.core.frame.DataFrame'>\n",
        "Int64Index: 215011 entries, 1057290 to 998986051\n",
        "Data columns (total 9 columns):\n",
        "building_id          215011  non-null values\n",
        "home_based_status    215011  non-null values\n",
        "infogroup_id         215011  non-null values\n",
        "qcew_id              215011  non-null values\n",
        "sector_id            215011  non-null values\n",
        "employees            215011  non-null values\n",
        "sector_id_six        215011  non-null values\n",
        "county_id            215009  non-null values\n",
        "_year_added_         215011  non-null values\n",
        "dtypes: float64(1), int32(5), int64(2), object(1)"
       ]
      },
      {
       "output_type": "stream",
       "stream": "stdout",
       "text": [
        "\n",
        "                                 total_number_of_jobs\n",
        "sector_id_six home_based_status                      \n",
        "1             1                                  8490\n",
        "2             1                                 27895\n",
        "3             1                                  6064\n",
        "4             1                                 12128\n",
        "5             1                                 15767\n",
        "6             1                                 72769\n",
        "1             0                                111097\n",
        "2             0                                365033\n",
        "3             0                                 79355\n",
        "4             0                                158710\n",
        "5             0                                206323\n",
        "6             0                                952259\n",
        "Adding agents to match target of 2015890 \n",
        "action\n",
        "1567\n",
        "action"
       ]
      },
      {
       "output_type": "stream",
       "stream": "stdout",
       "text": [
        "\n",
        "5017\n",
        "action\n",
        "1117\n",
        "action"
       ]
      },
      {
       "output_type": "stream",
       "stream": "stdout",
       "text": [
        "\n",
        "2191\n",
        "action\n",
        "2839\n",
        "action"
       ]
      },
      {
       "output_type": "stream",
       "stream": "stdout",
       "text": [
        "\n",
        "13708\n",
        "Histogram of agents by year:\n"
       ]
      },
      {
       "output_type": "stream",
       "stream": "stdout",
       "text": [
        "2010    159673\n",
        "2011     27285\n",
        "2015      4575\n",
        "2014      3481\n",
        "2019      3471\n",
        "2016      3454\n",
        "2018      3447\n",
        "2017      3281\n",
        "2012      3274\n",
        "2013      3070\n",
        "2020      2557\n",
        "dtype: int64\n",
        "Total new agents and movers = 2557\n",
        "Assigning units to 30 agents of segment 1"
       ]
      },
      {
       "output_type": "stream",
       "stream": "stdout",
       "text": [
        "\n",
        "Assigning units to 381 agents of segment 2\n",
        "Assigning units to 215 agents of segment 3"
       ]
      },
      {
       "output_type": "stream",
       "stream": "stdout",
       "text": [
        "\n",
        "Assigning units to 147 agents of segment 4"
       ]
      },
      {
       "output_type": "stream",
       "stream": "stdout",
       "text": [
        "\n",
        "Assigning units to 243 agents of segment 5"
       ]
      },
      {
       "output_type": "stream",
       "stream": "stdout",
       "text": [
        "\n",
        "Assigning units to 1541 agents of segment 6"
       ]
      },
      {
       "output_type": "stream",
       "stream": "stdout",
       "text": [
        "\n",
        "Assigned 2557 agents to 2334 locations with 0 unplaced"
       ]
      },
      {
       "output_type": "stream",
       "stream": "stdout",
       "text": [
        "\n",
        "<class 'pandas.core.frame.DataFrame'>\n",
        "Int64Index: 1378092 entries, 16 to 1378092\n",
        "Data columns (total 16 columns):\n",
        "age_of_head         1378092  non-null values\n",
        "building_id         1378092  non-null values\n",
        "cars                1378092  non-null values\n",
        "children            1378092  non-null values\n",
        "county              1378092  non-null values\n",
        "income              1378092  non-null values\n",
        "income_group_id     1378092  non-null values\n",
        "persons             1378092  non-null values\n",
        "race_id             1378092  non-null values\n",
        "tenure              1378092  non-null values\n",
        "workers             1378092  non-null values\n",
        "building_type_id    1348342  non-null values\n",
        "btype               1378092  non-null values\n",
        "county_id           1348342  non-null values\n",
        "_year_added_        1378092  non-null values\n",
        "relocation_rate     1378092  non-null values\n",
        "dtypes: float32(1), float64(2), int32(12), int64(1)"
       ]
      },
      {
       "output_type": "stream",
       "stream": "stdout",
       "text": [
        "\n",
        "total_number_of_households    25005\n",
        "persons                       55212\n",
        "dtype: int32\n",
        "Adding agents to match target of 80217 \n",
        "Histogram of agents by year:\n"
       ]
      },
      {
       "output_type": "stream",
       "stream": "stdout",
       "text": [
        "2010    1160387\n",
        "2020      25005\n",
        "2019      25005\n",
        "2017      25005\n",
        "2018      25004\n",
        "2016      25004\n",
        "2015      23538\n",
        "2011      23538\n",
        "2014      23537\n",
        "2013      23537\n",
        "2012      23537\n",
        "dtype: int64\n",
        "Histogram of relocation rates:"
       ]
      },
      {
       "output_type": "stream",
       "stream": "stdout",
       "text": [
        "\n",
        "0.0148    185771\n",
        "0.0000    179648\n",
        "0.0309    152505\n",
        "0.0274    150046\n",
        "0.0145    134895\n",
        "0.0311     89306\n",
        "0.0183     76013\n",
        "0.0348     69983\n",
        "0.0540     65568\n",
        "0.0184     58210\n",
        "0.0110     46272\n",
        "0.0220     36403\n",
        "0.0402     31758\n",
        "0.0099     23466\n",
        "0.0130     20272\n",
        "0.0124     19639\n",
        "0.0199     15325\n",
        "0.0111     14473\n",
        "0.0132     14396\n",
        "0.0117     11400\n",
        "0.0222      7748\n",
        "dtype: int64"
       ]
      },
      {
       "output_type": "stream",
       "stream": "stdout",
       "text": [
        "\n",
        "28996 agents are moving\n",
        "Total new agents and movers = 82561"
       ]
      },
      {
       "output_type": "stream",
       "stream": "stdout",
       "text": [
        "\n",
        "Assigning units to 12304 agents of segment 1"
       ]
      },
      {
       "output_type": "stream",
       "stream": "stdout",
       "text": [
        "\n",
        "num alts\n",
        "407502\n",
        "num segments\n",
        "12304\n",
        "Assigning units to 4995 agents of segment 2\n",
        "num alts\n",
        "193241\n",
        "num segments\n",
        "4995\n",
        "Assigning units to 28689 agents of segment 3"
       ]
      },
      {
       "output_type": "stream",
       "stream": "stdout",
       "text": [
        "\n",
        "num alts\n",
        "28376\n",
        "num segments\n",
        "28689\n",
        "WARNING: not enough options to fit agents, will result in unplaced agents\n",
        "Assigning units to 36573 agents of segment 4\n",
        "num alts\n",
        "277058\n",
        "num segments\n",
        "36573\n",
        "Assigned 82561 agents to 9127 locations with 28689 unplaced\n",
        "1403097"
       ]
      },
      {
       "output_type": "stream",
       "stream": "stdout",
       "text": [
        "\n",
        "1871436\n",
        "2703021.0\n",
        "872568980\n",
        "{'households': [1160387], 'price': [], 'non_residential_sqft': [872568980], 'employment': [1605033], 'residential_units': [1293154.0]}\n",
        "Household diffs"
       ]
      },
      {
       "output_type": "stream",
       "stream": "stdout",
       "text": [
        "\n",
        "county_id\n",
        "8001         19995\n",
        "8005          9207\n",
        "8013         17102\n",
        "8014          4686\n",
        "8019           450\n",
        "8031         57949\n",
        "8035         17922\n",
        "8039           333\n",
        "8047           974\n",
        "8059         79783\n",
        "8123          5620\n",
        "dtype: int64\n",
        "Employment diffs\n",
        "county_id\n",
        "8001          35245\n",
        "8005           2864\n",
        "8013          19462\n",
        "8014           1037\n",
        "8019           -505\n",
        "8031         162930\n",
        "8035           1637\n",
        "8039           -409\n",
        "8047           3619\n",
        "8059          33467\n",
        "8123           7058\n",
        "Name: employees, dtype: int32\n",
        "Resunit diffs\n",
        "county_id\n",
        "8001         257668\n",
        "8005         212241\n",
        "8013          99222\n",
        "8014          22256\n",
        "8019           1123\n",
        "8031         426475\n",
        "8035          65539\n",
        "8039            267\n",
        "8047            307\n",
        "8059         320642\n",
        "8123           4127\n",
        "Name: residential_units, dtype: float64\n",
        "NR sqft diffs\n",
        "county_id\n",
        "8001         0\n",
        "8005         0\n",
        "8013         0\n",
        "8014         0\n",
        "8019         0\n",
        "8031         0\n",
        "8035         0\n",
        "8039         0\n",
        "8047         0\n",
        "8059         0\n",
        "8123         0\n",
        "Name: non_residential_sqft, dtype: int32\n",
        "TOTAL elapsed time: 98.3150000572 seconds.\n",
        "Done running all three scenarios.\n"
       ]
      }
     ],
     "prompt_number": 9
    },
    {
     "cell_type": "code",
     "collapsed": false,
     "input": [
      "p"
     ],
     "language": "python",
     "metadata": {},
     "outputs": [
      {
       "html": [
        "<pre>\n",
        "&lt;class 'pandas.core.frame.DataFrame'&gt;\n",
        "Int64Index: 949484 entries, 985323 to 658763\n",
        "Data columns (total 22 columns):\n",
        "county_id                949484  non-null values\n",
        "parcel_sqft              949484  non-null values\n",
        "land_value               949484  non-null values\n",
        "zone_id                  949484  non-null values\n",
        "city_id                  949484  non-null values\n",
        "gen_lu_type_id           949484  non-null values\n",
        "lu_type_id               949484  non-null values\n",
        "tax_exempt_flag          949484  non-null values\n",
        "school_district          949484  non-null values\n",
        "zoning_id                949484  non-null values\n",
        "dist_bus                 949484  non-null values\n",
        "dist_rail                949484  non-null values\n",
        "in_ugb                   949484  non-null values\n",
        "in_uga                   949484  non-null values\n",
        "env_constr_park          949484  non-null values\n",
        "env_constr_lake          949484  non-null values\n",
        "env_constr_floodplain    949484  non-null values\n",
        "env_constr_river         949484  non-null values\n",
        "env_constr_landslide     949484  non-null values\n",
        "far_id                   949484  non-null values\n",
        "prop_constrained         949484  non-null values\n",
        "in_denver                949484  non-null values\n",
        "dtypes: float32(7), int32(15)\n",
        "</pre>"
       ],
       "metadata": {},
       "output_type": "pyout",
       "prompt_number": 10,
       "text": [
        "<class 'pandas.core.frame.DataFrame'>\n",
        "Int64Index: 949484 entries, 985323 to 658763\n",
        "Data columns (total 22 columns):\n",
        "county_id                949484  non-null values\n",
        "parcel_sqft              949484  non-null values\n",
        "land_value               949484  non-null values\n",
        "zone_id                  949484  non-null values\n",
        "city_id                  949484  non-null values\n",
        "gen_lu_type_id           949484  non-null values\n",
        "lu_type_id               949484  non-null values\n",
        "tax_exempt_flag          949484  non-null values\n",
        "school_district          949484  non-null values\n",
        "zoning_id                949484  non-null values\n",
        "dist_bus                 949484  non-null values\n",
        "dist_rail                949484  non-null values\n",
        "in_ugb                   949484  non-null values\n",
        "in_uga                   949484  non-null values\n",
        "env_constr_park          949484  non-null values\n",
        "env_constr_lake          949484  non-null values\n",
        "env_constr_floodplain    949484  non-null values\n",
        "env_constr_river         949484  non-null values\n",
        "env_constr_landslide     949484  non-null values\n",
        "far_id                   949484  non-null values\n",
        "prop_constrained         949484  non-null values\n",
        "in_denver                949484  non-null values\n",
        "dtypes: float32(7), int32(15)"
       ]
      }
     ],
     "prompt_number": 10
    }
   ],
   "metadata": {}
  }
 ]
}