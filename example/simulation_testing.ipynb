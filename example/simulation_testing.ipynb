{
 "metadata": {
  "name": ""
 },
 "nbformat": 3,
 "nbformat_minor": 0,
 "worksheets": [
  {
   "cells": [
    {
     "cell_type": "code",
     "collapsed": false,
     "input": [
      "import numpy as np, pandas as pd, os, statsmodels.api as sm\n",
      "import synthicity.urbansim.interaction as interaction\n",
      "from synthicity.utils import misc\n",
      "import dataset, copy, time, math\n",
      "dset = dataset.DRCOGDataset(os.path.join(misc.data_dir(),'drcog.h5'))\n",
      "np.random.seed(1)\n",
      "sim_year = 2011 ##For testing.  This is first_year, actual_year in the actual simulation code.\n",
      "scenario = 'baseline' ##For testing\n",
      "\n",
      "#VARIABLE LIBRARY\n",
      "#parcel\n",
      "p = dset.fetch('parcels')\n",
      "p['in_denver'] = (p.county_id==8031).astype('int32')\n",
      "#building\n",
      "b = dset.fetch('buildings')\n",
      "b['zone_id'] = p.zone_id[b.parcel_id].values\n",
      "#b['btype_dplcm'] = 1*(b.building_type_id==2) + 2*(b.building_type_id==3) + 3*(b.building_type_id==20) + 4*(b.building_type_id==24) + 6*np.invert(np.in1d(b.building_type_id,[2,3,20,24]))\n",
      "b['btype_hlcm'] = 1*(b.building_type_id==2) + 2*(b.building_type_id==3) + 3*(b.building_type_id==20) + 4*np.invert(np.in1d(b.building_type_id,[2,3,20]))\n",
      "#household\n",
      "hh_estim = dset.fetch('households_for_estimation')\n",
      "hh = dset.fetch('households')\n",
      "for table in [hh_estim, hh]:\n",
      "    choosers = table\n",
      "    choosers['building_type_id'] = b.building_type_id[choosers.building_id].values\n",
      "    choosers['btype'] = 1*(choosers.building_type_id==2) + 2*(choosers.building_type_id==3) + 3*(choosers.building_type_id==20) + 4*np.invert(np.in1d(choosers.building_type_id,[2,3,20]))\n",
      "#establishment\n",
      "e = dset.fetch('establishments')\n",
      "e['sector_id_six'] = 1*(e.sector_id==61) + 2*(e.sector_id==71) + 3*np.in1d(e.sector_id,[11,21,22,23,31,32,33,42,48,49]) + 4*np.in1d(e.sector_id,[7221,7222,7224]) + 5*np.in1d(e.sector_id,[44,45,7211,7212,7213,7223]) + 6*np.in1d(e.sector_id,[51,52,53,54,55,56,62,81,92])\n",
      "#zone\n",
      "z = dset.fetch('zones')\n",
      "z['residential_units_zone'] = b.groupby('zone_id').residential_units.sum()\n",
      "z['non_residential_sqft_zone'] = b.groupby('zone_id').non_residential_sqft.sum()\n",
      "z['percent_sf'] = b[b.btype_hlcm==3].groupby('zone_id').residential_units.sum()*100.0/(b.groupby('zone_id').residential_units.sum())\n",
      "#merge parcels with zones\n",
      "pz = pd.merge(p,z,left_on='zone_id',right_index=True)\n",
      "#merge buildings with parcels/zones\n",
      "bpz = pd.merge(b,pz,left_on='parcel_id',right_index=True)\n",
      "bpz['residential_units_capacity'] = bpz.parcel_sqft/1500 - bpz.residential_units\n",
      "bpz.residential_units_capacity[bpz.residential_units_capacity<0] = 0\n",
      "dset.d['buildings'] = bpz\n",
      "\n",
      "###########################\n",
      "print 'HLCM'\n",
      "##HCLM ESTIMATION\n",
      "\n",
      "depvar = 'building_id'\n",
      "SAMPLE_SIZE=100 ##for alts\n",
      "max_segment_size = 1200 ##for obs\n",
      "estimation_table = 'households_for_estimation'\n",
      "output_csv, output_title, coeff_name, output_varname = (\"drcog-coeff-hlcm-%s.csv\",\"DRCOG HOUSEHOLD LOCATION CHOICE MODELS (%s)\",\"hh_location_%s\",\"household_building_ids\")\n",
      "agents_groupby_txt = ['btype',]\n",
      "\n",
      "choosers = dset.fetch(estimation_table)\n",
      "#Filter on agents\n",
      "\n",
      "#ALTS\n",
      "alternatives = dset.buildings  #alternatives = dset.buildings[(dset.buildings.residential_units>0)]\n",
      "##We have 4 markets-  1. apartment, 2. condo, 3. single family, 4. townhome and other\n",
      "alts1 = alternatives[alternatives.btype_hlcm==1]\n",
      "alts2 = alternatives[alternatives.btype_hlcm==2]\n",
      "alts3 = alternatives[alternatives.btype_hlcm==3]\n",
      "alts4 = alternatives[alternatives.btype_hlcm==4]\n",
      "ind_vars1=['residential_units_zone','non_residential_sqft_zone','allpurpose_agglosum','acreage','unit_price_residential','in_denver']\n",
      "ind_vars2=['residential_units_zone','non_residential_sqft_zone','allpurpose_agglosum','acreage','unit_price_residential','in_denver']\n",
      "ind_vars3=['residential_units_zone','non_residential_sqft_zone','allpurpose_agglosum','acreage','unit_price_residential','in_denver']\n",
      "ind_vars4=['residential_units_zone','non_residential_sqft_zone','allpurpose_agglosum','acreage','unit_price_residential','in_denver']\n",
      "\n",
      "segments = choosers.groupby(agents_groupby_txt)\n",
      "for name, segment in segments:\n",
      "    if name == 1:\n",
      "        alts = alts1\n",
      "        ind_vars = ind_vars1\n",
      "    if name == 2:\n",
      "        alts = alts2\n",
      "        ind_vars = ind_vars2\n",
      "    if name == 3:\n",
      "        alts = alts3\n",
      "        ind_vars = ind_vars3\n",
      "    if name == 4:\n",
      "        alts = alts4\n",
      "        ind_vars = ind_vars4\n",
      "    name = str(name)\n",
      "    tmp_outcsv, tmp_outtitle, tmp_coeffname = output_csv%name, output_title%name, coeff_name%name\n",
      "    if len(segment[depvar]) > max_segment_size: #reduce size of segment if too big so things don't bog down\n",
      "        segment = segment.ix[np.random.choice(segment.index, max_segment_size,replace=False)]\n",
      "    #,weight_var='residential_units')\n",
      "    sample, alternative_sample, est_params = interaction.mnl_interaction_dataset(segment,alts,SAMPLE_SIZE,chosenalts=segment[depvar])\n",
      "    ##Interaction variables defined here\n",
      "    print \"Estimating parameters for segment = %s, size = %d\" % (name, len(segment.index)) \n",
      "    if len(segment.index) > 50:\n",
      "        est_data = pd.DataFrame(index=alternative_sample.index)\n",
      "        for varname in ind_vars:\n",
      "            est_data[varname] = alternative_sample[varname]\n",
      "        est_data = est_data.fillna(0)\n",
      "        data = est_data.as_matrix()\n",
      "        try:\n",
      "            fit, results = interaction.estimate(data, est_params, SAMPLE_SIZE)\n",
      "            fnames = interaction.add_fnames(ind_vars,est_params)\n",
      "            print misc.resultstotable(fnames,results)\n",
      "            misc.resultstocsv(fit,fnames,results,tmp_outcsv,tblname=tmp_outtitle)\n",
      "            dset.store_coeff(tmp_coeffname,zip(*results)[0],fnames)\n",
      "        except:\n",
      "            print 'SINGULAR MATRIX OR OTHER DATA/ESTIMATION PROBLEM'\n",
      "    else:\n",
      "        print 'SAMPLE SIZE TOO SMALL'\n",
      "        \n",
      "########################\n",
      "print 'ELCM'\n",
      "#ELCM ESTIMATION\n",
      "\n",
      "depvar = 'building_id'\n",
      "SAMPLE_SIZE=100 ##for alts\n",
      "max_segment_size = 1200 ##for obs\n",
      "estimation_table = 'establishments'\n",
      "output_csv, output_title, coeff_name, output_varname = (\"drcog-coeff-elcm-%s.csv\",\"DRCOG EMPLOYMENT LOCATION CHOICE MODELS (%s)\",\"emp_location_%s\",\"establishment_building_ids\")\n",
      "agents_groupby_txt = ['sector_id_six',]\n",
      "\n",
      "choosers = dset.fetch(estimation_table)\n",
      "#Filter on agents\n",
      "choosers = choosers[(choosers.building_id>0)*(choosers.home_based_status==0)]\n",
      "#ALTS\n",
      "alts = dset.buildings  #alts = dset.buildings[(dset.buildings.non_residential_sqft>0)]\n",
      "ind_vars1=['residential_units_zone','non_residential_sqft_zone','allpurpose_agglosum','acreage','unit_price_non_residential','in_denver',]\n",
      "ind_vars2=['residential_units_zone','non_residential_sqft_zone','allpurpose_agglosum','acreage','unit_price_non_residential','in_denver',]\n",
      "ind_vars3=['residential_units_zone','non_residential_sqft_zone','allpurpose_agglosum','acreage','unit_price_non_residential','in_denver',]\n",
      "ind_vars4=['residential_units_zone','non_residential_sqft_zone','allpurpose_agglosum','acreage','unit_price_non_residential','in_denver',]\n",
      "ind_vars5=['residential_units_zone','non_residential_sqft_zone','allpurpose_agglosum','acreage','unit_price_non_residential','in_denver',]\n",
      "ind_vars6=['residential_units_zone','non_residential_sqft_zone','allpurpose_agglosum','acreage','unit_price_non_residential','in_denver',]\n",
      "\n",
      "segments = choosers.groupby(agents_groupby_txt)\n",
      "for name, segment in segments:\n",
      "    print name\n",
      "    if name == 1:\n",
      "        ind_vars = ind_vars1\n",
      "    if name == 2:\n",
      "        ind_vars = ind_vars2\n",
      "    if name == 3:\n",
      "        ind_vars = ind_vars3\n",
      "    if name == 4:\n",
      "        ind_vars = ind_vars4\n",
      "    if name == 5:\n",
      "        ind_vars = ind_vars5\n",
      "    if name == 6:\n",
      "        ind_vars = ind_vars6\n",
      "    name = str(name)\n",
      "    tmp_outcsv, tmp_outtitle, tmp_coeffname = output_csv%name, output_title%name, coeff_name%name\n",
      "    if len(segment[depvar]) > max_segment_size: #reduce size of segment if too big so things don't bog down\n",
      "        segment = segment.ix[np.random.choice(segment.index, max_segment_size,replace=False)]\n",
      "    #,weight_var='non_residential_sqft')\n",
      "    sample, alternative_sample, est_params = interaction.mnl_interaction_dataset(segment,alts,SAMPLE_SIZE,chosenalts=segment[depvar])\n",
      "    ##Interaction variables defined here\n",
      "    print \"Estimating parameters for segment = %s, size = %d\" % (name, len(segment.index)) \n",
      "    if len(segment.index) > 50:\n",
      "        est_data = pd.DataFrame(index=alternative_sample.index)\n",
      "        for varname in ind_vars:\n",
      "            est_data[varname] = alternative_sample[varname]\n",
      "        est_data = est_data.fillna(0)\n",
      "        data = est_data.as_matrix()\n",
      "        try:\n",
      "            fit, results = interaction.estimate(data, est_params, SAMPLE_SIZE)\n",
      "            fnames = interaction.add_fnames(ind_vars,est_params)\n",
      "            print misc.resultstotable(fnames,results)\n",
      "            misc.resultstocsv(fit,fnames,results,tmp_outcsv,tblname=tmp_outtitle)\n",
      "            dset.store_coeff(tmp_coeffname,zip(*results)[0],fnames)\n",
      "        except:\n",
      "            print 'SINGULAR MATRIX OR OTHER DATA/ESTIMATION PROBLEM'\n",
      "    else:\n",
      "        print 'SAMPLE SIZE TOO SMALL'\n",
      "        \n",
      "\n",
      "######################\n",
      "print 'RDPLCM'\n",
      "##RDPLCM ESTIMATION\n",
      "\n",
      "depvar = 'parcel_id'\n",
      "SAMPLE_SIZE=100 ##for alts\n",
      "max_segment_size = 1200 ##for obs\n",
      "estimation_table = 'buildings'\n",
      "output_csv, output_title, coeff_name, output_varname = (\"drcog-coeff-rdplcm-%s.csv\",\"DRCOG RES DEVPROJECT LOCATION CHOICE MODELS (%s)\",\"rdp_location_%s\",\"resbuilding_parcel_ids\")\n",
      "agents_groupby_txt = ['building_type_id',]\n",
      "\n",
      "choosers = dset.store[estimation_table]\n",
      "#Filter on agents\n",
      "choosers = choosers[(np.in1d(choosers.building_type_id,[2,3,20,24]))*(choosers.year_built>2002)]\n",
      "#ALTS\n",
      "alternatives = dset.parcels  #alternatives = dset.buildings[(dset.buildings.residential_units>0)]\n",
      "##We have 4 markets-  1. apartment, 2. condo, 3. single family, 4. townhome and other\n",
      "# alts1 = alternatives[alternatives.btype_hlcm==1]\n",
      "# alts2 = alternatives[alternatives.btype_hlcm==2]\n",
      "# alts3 = alternatives[alternatives.btype_hlcm==3]\n",
      "# alts4 = alternatives[alternatives.btype_hlcm==4]\n",
      "##Need to break alternatives down by allowable use during simulation\n",
      "alts1 = alternatives\n",
      "alts2 = alternatives\n",
      "alts3 = alternatives\n",
      "alts4 = alternatives\n",
      "ind_vars1=['parcel_sqft','dist_bus','dist_rail','land_value']\n",
      "ind_vars2=['parcel_sqft','dist_bus','dist_rail','land_value']\n",
      "ind_vars3=['parcel_sqft','dist_bus','dist_rail','land_value']\n",
      "ind_vars4=['parcel_sqft','dist_bus','dist_rail','land_value']\n",
      "\n",
      "segments = choosers.groupby(agents_groupby_txt)\n",
      "for name, segment in segments:\n",
      "    if name == 2:\n",
      "        alts = alts1\n",
      "        ind_vars = ind_vars1\n",
      "    if name == 3:\n",
      "        alts = alts2\n",
      "        ind_vars = ind_vars2\n",
      "    if name == 20:\n",
      "        alts = alts3\n",
      "        ind_vars = ind_vars3\n",
      "    if name == 24:\n",
      "        alts = alts4\n",
      "        ind_vars = ind_vars4\n",
      "    name = str(name)\n",
      "    tmp_outcsv, tmp_outtitle, tmp_coeffname = output_csv%name, output_title%name, coeff_name%name\n",
      "    if len(segment[depvar]) > max_segment_size: #reduce size of segment if too big so things don't bog down\n",
      "        segment = segment.ix[np.random.choice(segment.index, max_segment_size,replace=False)]\n",
      "    #,weight_var='parcel_sqft')\n",
      "    sample, alternative_sample, est_params = interaction.mnl_interaction_dataset(segment,alts,SAMPLE_SIZE,chosenalts=segment[depvar])\n",
      "    ##Interaction variables defined here\n",
      "    print \"Estimating parameters for segment = %s, size = %d\" % (name, len(segment.index)) \n",
      "    if len(segment.index) > 50:\n",
      "        est_data = pd.DataFrame(index=alternative_sample.index)\n",
      "        for varname in ind_vars:\n",
      "            est_data[varname] = alternative_sample[varname]\n",
      "        est_data = est_data.fillna(0)\n",
      "        data = est_data.as_matrix()\n",
      "        try:\n",
      "            fit, results = interaction.estimate(data, est_params, SAMPLE_SIZE)\n",
      "            fnames = interaction.add_fnames(ind_vars,est_params)\n",
      "            print misc.resultstotable(fnames,results)\n",
      "            misc.resultstocsv(fit,fnames,results,tmp_outcsv,tblname=tmp_outtitle)\n",
      "            dset.store_coeff(tmp_coeffname,zip(*results)[0],fnames)\n",
      "        except:\n",
      "            print 'SINGULAR MATRIX OR OTHER DATA/ESTIMATION PROBLEM'\n",
      "    else:\n",
      "        print 'SAMPLE SIZE TOO SMALL'\n",
      "\n",
      "\n",
      "###########################\n",
      "print 'NRDPLCM'\n",
      "##NRDPLCM ESTIMATION\n",
      "\n",
      "depvar = 'parcel_id'\n",
      "SAMPLE_SIZE=100 ##for alts\n",
      "max_segment_size = 1200 ##for obs\n",
      "estimation_table = 'buildings'\n",
      "output_csv, output_title, coeff_name, output_varname = (\"drcog-coeff-nrdplcm-%s.csv\",\"DRCOG NONRES DEVPROJECT LOCATION CHOICE MODELS (%s)\",\"nrdp_location_%s\",\"nonresbuilding_parcel_ids\")\n",
      "agents_groupby_txt = ['building_type_id',]\n",
      "\n",
      "choosers = dset.store[estimation_table]\n",
      "#Filter on agents\n",
      "##Commercial\n",
      "choosers = choosers[(np.in1d(choosers.building_type_id,[5,8,11,16,17,18,21,23,9,22]))*(choosers.year_built>2000)] ##9 and 22 are industrial and should have different allowable parcels\n",
      "#ALTS\n",
      "alternatives = dset.parcels  #alternatives = dset.buildings[(dset.buildings.residential_units>0)]\n",
      "##We have 4 markets-  1. apartment, 2. condo, 3. single family, 4. townhome and other\n",
      "# alts1 = alternatives[alternatives.btype_hlcm==1]\n",
      "# alts2 = alternatives[alternatives.btype_hlcm==2]\n",
      "# alts3 = alternatives[alternatives.btype_hlcm==3]\n",
      "# alts4 = alternatives[alternatives.btype_hlcm==4]\n",
      "##Need to break alternatives down by allowable use during simulation\n",
      "alts1 = alternatives\n",
      "alts2 = alternatives\n",
      "alts3 = alternatives\n",
      "alts4 = alternatives\n",
      "alts5 = alternatives\n",
      "alts6 = alternatives\n",
      "alts7 = alternatives\n",
      "alts8 = alternatives\n",
      "alts9 = alternatives\n",
      "alts10 = alternatives\n",
      "ind_vars1=['parcel_sqft','dist_bus','dist_rail','land_value']\n",
      "ind_vars2=['parcel_sqft','dist_bus','dist_rail','land_value']\n",
      "ind_vars3=['parcel_sqft','dist_bus','dist_rail','land_value']\n",
      "ind_vars4=['parcel_sqft','dist_bus','dist_rail','land_value']\n",
      "ind_vars5=['parcel_sqft','dist_bus','dist_rail','land_value']\n",
      "ind_vars6=['parcel_sqft','dist_bus','dist_rail','land_value']\n",
      "ind_vars7=['parcel_sqft','dist_bus','dist_rail','land_value']\n",
      "ind_vars8=['parcel_sqft','dist_bus','dist_rail','land_value']\n",
      "ind_vars9=['parcel_sqft','dist_bus','dist_rail','land_value']\n",
      "ind_vars10=['parcel_sqft','dist_bus','dist_rail','land_value']\n",
      "\n",
      "segments = choosers.groupby(agents_groupby_txt)\n",
      "for name, segment in segments:\n",
      "    if name == 5:\n",
      "        alts = alts1\n",
      "        ind_vars = ind_vars1\n",
      "    if name == 8:\n",
      "        alts = alts2\n",
      "        ind_vars = ind_vars2\n",
      "    if name == 11:\n",
      "        alts = alts3\n",
      "        ind_vars = ind_vars3\n",
      "    if name == 16:\n",
      "        alts = alts4\n",
      "        ind_vars = ind_vars4\n",
      "    if name == 17:\n",
      "        alts = alts5\n",
      "        ind_vars = ind_vars5\n",
      "    if name == 18:\n",
      "        alts = alts6\n",
      "        ind_vars = ind_vars6\n",
      "    if name == 21:\n",
      "        alts = alts7\n",
      "        ind_vars = ind_vars7\n",
      "    if name == 23:\n",
      "        alts = alts8\n",
      "        ind_vars = ind_vars8\n",
      "    if name == 9:\n",
      "        alts = alts9\n",
      "        ind_vars = ind_vars9\n",
      "    if name == 22:\n",
      "        alts = alts10\n",
      "        ind_vars = ind_vars10\n",
      "    name = str(name)\n",
      "    tmp_outcsv, tmp_outtitle, tmp_coeffname = output_csv%name, output_title%name, coeff_name%name\n",
      "    if len(segment[depvar]) > max_segment_size: #reduce size of segment if too big so things don't bog down\n",
      "        segment = segment.ix[np.random.choice(segment.index, max_segment_size,replace=False)]\n",
      "    #,weight_var='parcel_sqft')\n",
      "    sample, alternative_sample, est_params = interaction.mnl_interaction_dataset(segment,alts,SAMPLE_SIZE,chosenalts=segment[depvar])\n",
      "    ##Interaction variables defined here\n",
      "    print \"Estimating parameters for segment = %s, size = %d\" % (name, len(segment.index)) \n",
      "    if len(segment.index) > 50:\n",
      "        est_data = pd.DataFrame(index=alternative_sample.index)\n",
      "        for varname in ind_vars:\n",
      "            est_data[varname] = alternative_sample[varname]\n",
      "        est_data = est_data.fillna(0)\n",
      "        data = est_data.as_matrix()\n",
      "        try:\n",
      "            fit, results = interaction.estimate(data, est_params, SAMPLE_SIZE)\n",
      "            fnames = interaction.add_fnames(ind_vars,est_params)\n",
      "            print misc.resultstotable(fnames,results)\n",
      "            misc.resultstocsv(fit,fnames,results,tmp_outcsv,tblname=tmp_outtitle)\n",
      "            dset.store_coeff(tmp_coeffname,zip(*results)[0],fnames)\n",
      "        except:\n",
      "            print 'SINGULAR MATRIX OR OTHER DATA/ESTIMATION PROBLEM'\n",
      "    else:\n",
      "        print 'SAMPLE SIZE TOO SMALL'"
     ],
     "language": "python",
     "metadata": {},
     "outputs": [
      {
       "output_type": "stream",
       "stream": "stdout",
       "text": [
        "Fetching parcels\n",
        "Fetching modify_table\n",
        "Fetching buildings"
       ]
      },
      {
       "output_type": "stream",
       "stream": "stdout",
       "text": [
        "\n",
        "Fetching establishments"
       ]
      },
      {
       "output_type": "stream",
       "stream": "stdout",
       "text": [
        "\n",
        "Fetching modify_table"
       ]
      },
      {
       "output_type": "stream",
       "stream": "stdout",
       "text": [
        "\n",
        "Fetching modify_table"
       ]
      },
      {
       "output_type": "stream",
       "stream": "stdout",
       "text": [
        "\n",
        "Fetching households_for_estimation"
       ]
      },
      {
       "output_type": "stream",
       "stream": "stdout",
       "text": [
        "\n",
        "Fetching modify_table\n",
        "Fetching households\n",
        "Fetching modify_table"
       ]
      },
      {
       "output_type": "stream",
       "stream": "stdout",
       "text": [
        "\n",
        "Fetching zones"
       ]
      },
      {
       "output_type": "stream",
       "stream": "stdout",
       "text": [
        "\n",
        "Fetching modify_table"
       ]
      },
      {
       "output_type": "stream",
       "stream": "stdout",
       "text": [
        "\n",
        "HLCM"
       ]
      },
      {
       "output_type": "stream",
       "stream": "stdout",
       "text": [
        "\n",
        "Estimating parameters for segment = 1, size = 231"
       ]
      },
      {
       "output_type": "stream",
       "stream": "stdout",
       "text": [
        "\n",
        "Null Log-liklihood: -1063.794313"
       ]
      },
      {
       "output_type": "stream",
       "stream": "stdout",
       "text": [
        "\n",
        "Log-liklihood at convergence: -1054.144792\n",
        "Log-liklihood ratio: 0.009071\n",
        "+---------------------------+-------------+--------+---------+--------------+\n",
        "|         Variables         | Coefficient | Stderr | T-score | Significance |\n",
        "+===========================+=============+========+=========+==============+\n",
        "|    residential units zone |           0 |      0 |   2.980 | **           |\n",
        "+---------------------------+-------------+--------+---------+--------------+\n",
        "| non residential sqft zone |           0 |      0 |   2.750 | **           |\n",
        "+---------------------------+-------------+--------+---------+--------------+\n",
        "|       allpurpose agglosum |           0 |  0.010 |   0.020 |              |\n",
        "+---------------------------+-------------+--------+---------+--------------+\n",
        "|                   acreage |           0 |      0 |  -5.420 | ***          |\n",
        "+---------------------------+-------------+--------+---------+--------------+\n",
        "|    unit price residential |           0 |      0 |   0.420 |              |\n",
        "+---------------------------+-------------+--------+---------+--------------+\n",
        "|                 in denver |           0 |  0.150 |       0 |              |\n",
        "+---------------------------+-------------+--------+---------+--------------+\n",
        "Estimating parameters for segment = 2, size = 162"
       ]
      },
      {
       "output_type": "stream",
       "stream": "stdout",
       "text": [
        "\n",
        "Null Log-liklihood: -746.037570"
       ]
      },
      {
       "output_type": "stream",
       "stream": "stdout",
       "text": [
        "\n",
        "Log-liklihood at convergence: -707.611829\n",
        "Log-liklihood ratio: 0.051506\n",
        "+---------------------------+-------------+--------+---------+--------------+\n",
        "|         Variables         | Coefficient | Stderr | T-score | Significance |\n",
        "+===========================+=============+========+=========+==============+\n",
        "|    residential units zone |           0 |      0 |   5.400 | ***          |\n",
        "+---------------------------+-------------+--------+---------+--------------+\n",
        "| non residential sqft zone |           0 |      0 |   0.360 |              |\n",
        "+---------------------------+-------------+--------+---------+--------------+\n",
        "|       allpurpose agglosum |           0 |  0.020 |   0.080 |              |\n",
        "+---------------------------+-------------+--------+---------+--------------+\n",
        "|                   acreage |           0 |      0 |  -6.880 | ***          |\n",
        "+---------------------------+-------------+--------+---------+--------------+\n",
        "|    unit price residential |           0 |      0 |   2.530 | **           |\n",
        "+---------------------------+-------------+--------+---------+--------------+\n",
        "|                 in denver |           0 |  0.210 |   0.010 |              |\n",
        "+---------------------------+-------------+--------+---------+--------------+\n",
        "Estimating parameters for segment = 3, size = 887"
       ]
      },
      {
       "output_type": "stream",
       "stream": "stdout",
       "text": [
        "\n",
        "Null Log-liklihood: -4084.785955"
       ]
      },
      {
       "output_type": "stream",
       "stream": "stdout",
       "text": [
        "\n",
        "Log-liklihood at convergence: -4065.367622\n",
        "Log-liklihood ratio: 0.004754\n",
        "+---------------------------+-------------+--------+---------+--------------+\n",
        "|         Variables         | Coefficient | Stderr | T-score | Significance |\n",
        "+===========================+=============+========+=========+==============+\n",
        "|    residential units zone |           0 |      0 |   0.330 |              |\n",
        "+---------------------------+-------------+--------+---------+--------------+\n",
        "| non residential sqft zone |           0 |      0 |   0.180 |              |\n",
        "+---------------------------+-------------+--------+---------+--------------+\n",
        "|       allpurpose agglosum |           0 |  0.010 |       0 |              |\n",
        "+---------------------------+-------------+--------+---------+--------------+\n",
        "|                   acreage |           0 |      0 |  -1.460 | .            |\n",
        "+---------------------------+-------------+--------+---------+--------------+\n",
        "|    unit price residential |           0 |      0 |   5.440 | ***          |\n",
        "+---------------------------+-------------+--------+---------+--------------+\n",
        "|                 in denver |           0 |  0.080 |       0 |              |\n",
        "+---------------------------+-------------+--------+---------+--------------+\n",
        "Estimating parameters for segment = 4, size = 162"
       ]
      },
      {
       "output_type": "stream",
       "stream": "stdout",
       "text": [
        "\n",
        "Null Log-liklihood: -746.037570"
       ]
      },
      {
       "output_type": "stream",
       "stream": "stdout",
       "text": [
        "\n",
        "Log-liklihood at convergence: -734.880362\n",
        "Log-liklihood ratio: 0.014955\n",
        "+---------------------------+-------------+--------+---------+--------------+\n",
        "|         Variables         | Coefficient | Stderr | T-score | Significance |\n",
        "+===========================+=============+========+=========+==============+\n",
        "|    residential units zone |           0 |      0 |   3.880 | ***          |\n",
        "+---------------------------+-------------+--------+---------+--------------+\n",
        "| non residential sqft zone |           0 |      0 |  -1.820 | *            |\n",
        "+---------------------------+-------------+--------+---------+--------------+\n",
        "|       allpurpose agglosum |           0 |  0.010 |   0.010 |              |\n",
        "+---------------------------+-------------+--------+---------+--------------+\n",
        "|                   acreage |           0 |      0 |  -0.750 |              |\n",
        "+---------------------------+-------------+--------+---------+--------------+\n",
        "|    unit price residential |           0 |      0 |   1.360 | .            |\n",
        "+---------------------------+-------------+--------+---------+--------------+\n",
        "|                 in denver |           0 |  0.180 |       0 |              |\n",
        "+---------------------------+-------------+--------+---------+--------------+\n",
        "ELCM\n",
        "1\n",
        "Estimating parameters for segment = 1, size = 1200"
       ]
      },
      {
       "output_type": "stream",
       "stream": "stdout",
       "text": [
        "\n",
        "Null Log-liklihood: -5526.204223"
       ]
      },
      {
       "output_type": "stream",
       "stream": "stdout",
       "text": [
        "\n",
        "Log-liklihood at convergence: -5301.832716\n",
        "Log-liklihood ratio: 0.040601\n",
        "+----------------------------+-------------+--------+---------+--------------+\n",
        "|         Variables          | Coefficient | Stderr | T-score | Significance |\n",
        "+============================+=============+========+=========+==============+\n",
        "|     residential units zone |           0 |      0 | -11.520 | ***          |\n",
        "+----------------------------+-------------+--------+---------+--------------+\n",
        "|  non residential sqft zone |           0 |      0 |  22.130 | ***          |\n",
        "+----------------------------+-------------+--------+---------+--------------+\n",
        "|        allpurpose agglosum |           0 |      0 |  -0.040 |              |\n",
        "+----------------------------+-------------+--------+---------+--------------+\n",
        "|                    acreage |           0 |      0 |  -8.320 | ***          |\n",
        "+----------------------------+-------------+--------+---------+--------------+\n",
        "| unit price non residential |           0 |      0 |   0.590 |              |\n",
        "+----------------------------+-------------+--------+---------+--------------+\n",
        "|                  in denver |           0 |  0.070 |       0 |              |\n",
        "+----------------------------+-------------+--------+---------+--------------+\n",
        "2\n",
        "Estimating parameters for segment = 2, size = 1200"
       ]
      },
      {
       "output_type": "stream",
       "stream": "stdout",
       "text": [
        "\n",
        "Null Log-liklihood: -5526.204223"
       ]
      },
      {
       "output_type": "stream",
       "stream": "stdout",
       "text": [
        "\n",
        "Log-liklihood at convergence: -5235.624769\n",
        "Log-liklihood ratio: 0.052582\n",
        "+----------------------------+-------------+--------+---------+--------------+\n",
        "|         Variables          | Coefficient | Stderr | T-score | Significance |\n",
        "+============================+=============+========+=========+==============+\n",
        "|     residential units zone |           0 |      0 | -21.540 | ***          |\n",
        "+----------------------------+-------------+--------+---------+--------------+\n",
        "|  non residential sqft zone |           0 |      0 |  15.460 | ***          |\n",
        "+----------------------------+-------------+--------+---------+--------------+\n",
        "|        allpurpose agglosum |           0 |      0 |   0.070 |              |\n",
        "+----------------------------+-------------+--------+---------+--------------+\n",
        "|                    acreage |           0 |      0 |  -3.270 | ***          |\n",
        "+----------------------------+-------------+--------+---------+--------------+\n",
        "| unit price non residential |           0 |      0 |   0.090 |              |\n",
        "+----------------------------+-------------+--------+---------+--------------+\n",
        "|                  in denver |           0 |  0.070 |       0 |              |\n",
        "+----------------------------+-------------+--------+---------+--------------+\n",
        "3\n",
        "Estimating parameters for segment = 3, size = 1200"
       ]
      },
      {
       "output_type": "stream",
       "stream": "stdout",
       "text": [
        "\n",
        "Null Log-liklihood: -5526.204223"
       ]
      },
      {
       "output_type": "stream",
       "stream": "stdout",
       "text": [
        "\n",
        "Log-liklihood at convergence: -5005.382520\n",
        "Log-liklihood ratio: 0.094246\n",
        "+----------------------------+-------------+--------+---------+--------------+\n",
        "|         Variables          | Coefficient | Stderr | T-score | Significance |\n",
        "+============================+=============+========+=========+==============+\n",
        "|     residential units zone |           0 |      0 | -24.590 | ***          |\n",
        "+----------------------------+-------------+--------+---------+--------------+\n",
        "|  non residential sqft zone |           0 |      0 |  28.940 | ***          |\n",
        "+----------------------------+-------------+--------+---------+--------------+\n",
        "|        allpurpose agglosum |           0 |      0 |  -0.020 |              |\n",
        "+----------------------------+-------------+--------+---------+--------------+\n",
        "|                    acreage |           0 |      0 |  -4.590 | ***          |\n",
        "+----------------------------+-------------+--------+---------+--------------+\n",
        "| unit price non residential |           0 |      0 |  -0.010 |              |\n",
        "+----------------------------+-------------+--------+---------+--------------+\n",
        "|                  in denver |           0 |  0.070 |       0 |              |\n",
        "+----------------------------+-------------+--------+---------+--------------+\n",
        "4\n",
        "Estimating parameters for segment = 4, size = 1200"
       ]
      },
      {
       "output_type": "stream",
       "stream": "stdout",
       "text": [
        "\n",
        "Null Log-liklihood: -5526.204223"
       ]
      },
      {
       "output_type": "stream",
       "stream": "stdout",
       "text": [
        "\n",
        "Log-liklihood at convergence: -5063.956041\n",
        "Log-liklihood ratio: 0.083647\n",
        "+----------------------------+-------------+--------+---------+--------------+\n",
        "|         Variables          | Coefficient | Stderr | T-score | Significance |\n",
        "+============================+=============+========+=========+==============+\n",
        "|     residential units zone |           0 |      0 | -18.850 | ***          |\n",
        "+----------------------------+-------------+--------+---------+--------------+\n",
        "|  non residential sqft zone |           0 |      0 |  27.560 | ***          |\n",
        "+----------------------------+-------------+--------+---------+--------------+\n",
        "|        allpurpose agglosum |       0.090 |      0 |  21.870 | ***          |\n",
        "+----------------------------+-------------+--------+---------+--------------+\n",
        "|                    acreage |           0 |      0 | -14.220 | ***          |\n",
        "+----------------------------+-------------+--------+---------+--------------+\n",
        "| unit price non residential |           0 |      0 |  -0.020 |              |\n",
        "+----------------------------+-------------+--------+---------+--------------+\n",
        "|                  in denver |       0.030 |  0.070 |   0.440 |              |\n",
        "+----------------------------+-------------+--------+---------+--------------+\n",
        "5\n",
        "Estimating parameters for segment = 5, size = 1200"
       ]
      },
      {
       "output_type": "stream",
       "stream": "stdout",
       "text": [
        "\n",
        "Null Log-liklihood: -5526.204223"
       ]
      },
      {
       "output_type": "stream",
       "stream": "stdout",
       "text": [
        "\n",
        "Log-liklihood at convergence: -5030.628918\n",
        "Log-liklihood ratio: 0.089677\n",
        "+----------------------------+-------------+--------+---------+--------------+\n",
        "|         Variables          | Coefficient | Stderr | T-score | Significance |\n",
        "+============================+=============+========+=========+==============+\n",
        "|     residential units zone |           0 |      0 | -24.310 | ***          |\n",
        "+----------------------------+-------------+--------+---------+--------------+\n",
        "|  non residential sqft zone |           0 |      0 |  27.160 | ***          |\n",
        "+----------------------------+-------------+--------+---------+--------------+\n",
        "|        allpurpose agglosum |           0 |      0 |  -0.090 |              |\n",
        "+----------------------------+-------------+--------+---------+--------------+\n",
        "|                    acreage |           0 |      0 | -11.620 | ***          |\n",
        "+----------------------------+-------------+--------+---------+--------------+\n",
        "| unit price non residential |           0 |      0 |  -0.010 |              |\n",
        "+----------------------------+-------------+--------+---------+--------------+\n",
        "|                  in denver |           0 |  0.070 |       0 |              |\n",
        "+----------------------------+-------------+--------+---------+--------------+\n",
        "6\n",
        "Estimating parameters for segment = 6, size = 1200"
       ]
      },
      {
       "output_type": "stream",
       "stream": "stdout",
       "text": [
        "\n",
        "Null Log-liklihood: -5526.204223"
       ]
      },
      {
       "output_type": "stream",
       "stream": "stdout",
       "text": [
        "\n",
        "Log-liklihood at convergence: -5135.420379\n",
        "Log-liklihood ratio: 0.070715\n",
        "+----------------------------+-------------+--------+---------+--------------+\n",
        "|         Variables          | Coefficient | Stderr | T-score | Significance |\n",
        "+============================+=============+========+=========+==============+\n",
        "|     residential units zone |           0 |      0 | -19.290 | ***          |\n",
        "+----------------------------+-------------+--------+---------+--------------+\n",
        "|  non residential sqft zone |           0 |      0 |  27.280 | ***          |\n",
        "+----------------------------+-------------+--------+---------+--------------+\n",
        "|        allpurpose agglosum |           0 |      0 |  -0.050 |              |\n",
        "+----------------------------+-------------+--------+---------+--------------+\n",
        "|                    acreage |           0 |      0 |  -9.870 | ***          |\n",
        "+----------------------------+-------------+--------+---------+--------------+\n",
        "| unit price non residential |           0 |      0 |   0.050 |              |\n",
        "+----------------------------+-------------+--------+---------+--------------+\n",
        "|                  in denver |           0 |  0.070 |       0 |              |\n",
        "+----------------------------+-------------+--------+---------+--------------+\n",
        "RDPLCM\n",
        "Estimating parameters for segment = 2, size = 774"
       ]
      },
      {
       "output_type": "stream",
       "stream": "stdout",
       "text": [
        "\n",
        "Null Log-liklihood: -3564.401724"
       ]
      },
      {
       "output_type": "stream",
       "stream": "stdout",
       "text": [
        "\n",
        "Log-liklihood at convergence: -2868.214700\n",
        "Log-liklihood ratio: 0.195317\n",
        "+-------------+-------------+--------+---------+--------------+\n",
        "|  Variables  | Coefficient | Stderr | T-score | Significance |\n",
        "+=============+=============+========+=========+==============+\n",
        "| parcel sqft |           0 |      0 |  -5.600 | ***          |\n",
        "+-------------+-------------+--------+---------+--------------+\n",
        "|    dist bus |           0 |      0 |  -5.280 | ***          |\n",
        "+-------------+-------------+--------+---------+--------------+\n",
        "|   dist rail |           0 |      0 | -10.140 | ***          |\n",
        "+-------------+-------------+--------+---------+--------------+\n",
        "|  land value |           0 |      0 | 139.540 | ***          |\n",
        "+-------------+-------------+--------+---------+--------------+\n",
        "Estimating parameters for segment = 3, size = 1200"
       ]
      },
      {
       "output_type": "stream",
       "stream": "stdout",
       "text": [
        "\n",
        "Null Log-liklihood: -5526.204223"
       ]
      },
      {
       "output_type": "stream",
       "stream": "stdout",
       "text": [
        "\n",
        "Log-liklihood at convergence: -4878.963294\n",
        "Log-liklihood ratio: 0.117122\n",
        "+-------------+-------------+--------+---------+--------------+\n",
        "|  Variables  | Coefficient | Stderr | T-score | Significance |\n",
        "+=============+=============+========+=========+==============+\n",
        "| parcel sqft |           0 |      0 | -96.420 | ***          |\n",
        "+-------------+-------------+--------+---------+--------------+\n",
        "|    dist bus |           0 |      0 |  -6.050 | ***          |\n",
        "+-------------+-------------+--------+---------+--------------+\n",
        "|   dist rail |           0 |      0 |  -0.260 |              |\n",
        "+-------------+-------------+--------+---------+--------------+\n",
        "|  land value |           0 |      0 | 123.100 | ***          |\n",
        "+-------------+-------------+--------+---------+--------------+\n",
        "Estimating parameters for segment = 20, size = 1200"
       ]
      },
      {
       "output_type": "stream",
       "stream": "stdout",
       "text": [
        "\n",
        "Null Log-liklihood: -5526.204223"
       ]
      },
      {
       "output_type": "stream",
       "stream": "stdout",
       "text": [
        "\n",
        "Log-liklihood at convergence: -5474.859129\n",
        "Log-liklihood ratio: 0.009291\n",
        "+-------------+-------------+--------+---------+--------------+\n",
        "|  Variables  | Coefficient | Stderr | T-score | Significance |\n",
        "+=============+=============+========+=========+==============+\n",
        "| parcel sqft |           0 |      0 |  -3.730 | ***          |\n",
        "+-------------+-------------+--------+---------+--------------+\n",
        "|    dist bus |           0 |      0 |   2.550 | **           |\n",
        "+-------------+-------------+--------+---------+--------------+\n",
        "|   dist rail |           0 |      0 |   8.060 | ***          |\n",
        "+-------------+-------------+--------+---------+--------------+\n",
        "|  land value |           0 |      0 |   0.060 |              |\n",
        "+-------------+-------------+--------+---------+--------------+\n",
        "Estimating parameters for segment = 24, size = 1200"
       ]
      },
      {
       "output_type": "stream",
       "stream": "stdout",
       "text": [
        "\n",
        "Null Log-liklihood: -5526.204223"
       ]
      },
      {
       "output_type": "stream",
       "stream": "stdout",
       "text": [
        "\n",
        "Log-liklihood at convergence: -5422.158979\n",
        "Log-liklihood ratio: 0.018828\n",
        "+-------------+-------------+--------+---------+--------------+\n",
        "|  Variables  | Coefficient | Stderr | T-score | Significance |\n",
        "+=============+=============+========+=========+==============+\n",
        "| parcel sqft |           0 |      0 |  -1.210 |              |\n",
        "+-------------+-------------+--------+---------+--------------+\n",
        "|    dist bus |           0 |      0 |   1.080 |              |\n",
        "+-------------+-------------+--------+---------+--------------+\n",
        "|   dist rail |           0 |      0 | -10.870 | ***          |\n",
        "+-------------+-------------+--------+---------+--------------+\n",
        "|  land value |           0 |      0 |  25.320 | ***          |\n",
        "+-------------+-------------+--------+---------+--------------+\n",
        "NRDPLCM\n",
        "Estimating parameters for segment = 5, size = 1014"
       ]
      },
      {
       "output_type": "stream",
       "stream": "stdout",
       "text": [
        "\n",
        "Null Log-liklihood: -4669.642569"
       ]
      },
      {
       "output_type": "stream",
       "stream": "stdout",
       "text": [
        "\n",
        "Log-liklihood at convergence: -4443.068761\n",
        "Log-liklihood ratio: 0.048521\n",
        "+-------------+-------------+--------+---------+--------------+\n",
        "|  Variables  | Coefficient | Stderr | T-score | Significance |\n",
        "+=============+=============+========+=========+==============+\n",
        "| parcel sqft |           0 |      0 |  -1.100 |              |\n",
        "+-------------+-------------+--------+---------+--------------+\n",
        "|    dist bus |           0 |      0 |  -2.010 | *            |\n",
        "+-------------+-------------+--------+---------+--------------+\n",
        "|   dist rail |           0 |      0 |   0.670 |              |\n",
        "+-------------+-------------+--------+---------+--------------+\n",
        "|  land value |           0 |      0 |  44.600 | ***          |\n",
        "+-------------+-------------+--------+---------+--------------+\n",
        "Estimating parameters for segment = 8, size = 153"
       ]
      },
      {
       "output_type": "stream",
       "stream": "stdout",
       "text": [
        "\n",
        "Null Log-liklihood: -704.591038"
       ]
      },
      {
       "output_type": "stream",
       "stream": "stdout",
       "text": [
        "\n",
        "Log-liklihood at convergence: -626.082669\n",
        "Log-liklihood ratio: 0.111424\n",
        "+-------------+-------------+--------+---------+--------------+\n",
        "|  Variables  | Coefficient | Stderr | T-score | Significance |\n",
        "+=============+=============+========+=========+==============+\n",
        "| parcel sqft |           0 |      0 |   0.280 |              |\n",
        "+-------------+-------------+--------+---------+--------------+\n",
        "|    dist bus |           0 |      0 |  -1.840 | *            |\n",
        "+-------------+-------------+--------+---------+--------------+\n",
        "|   dist rail |           0 |      0 |  -0.580 |              |\n",
        "+-------------+-------------+--------+---------+--------------+\n",
        "|  land value |           0 |      0 |  27.150 | ***          |\n",
        "+-------------+-------------+--------+---------+--------------+\n",
        "Estimating parameters for segment = 9, size = 309"
       ]
      },
      {
       "output_type": "stream",
       "stream": "stdout",
       "text": [
        "\n",
        "Null Log-liklihood: -1422.997587"
       ]
      },
      {
       "output_type": "stream",
       "stream": "stdout",
       "text": [
        "\n",
        "Log-liklihood at convergence: -1370.986780\n",
        "Log-liklihood ratio: 0.036550\n",
        "+-------------+-------------+--------+---------+--------------+\n",
        "|  Variables  | Coefficient | Stderr | T-score | Significance |\n",
        "+=============+=============+========+=========+==============+\n",
        "| parcel sqft |           0 |      0 |  -0.430 |              |\n",
        "+-------------+-------------+--------+---------+--------------+\n",
        "|    dist bus |           0 |      0 |  -0.180 |              |\n",
        "+-------------+-------------+--------+---------+--------------+\n",
        "|   dist rail |           0 |      0 |   6.190 | ***          |\n",
        "+-------------+-------------+--------+---------+--------------+\n",
        "|  land value |           0 |      0 |  13.080 | ***          |\n",
        "+-------------+-------------+--------+---------+--------------+\n",
        "Estimating parameters for segment = 11, size = 130"
       ]
      },
      {
       "output_type": "stream",
       "stream": "stdout",
       "text": [
        "\n",
        "Null Log-liklihood: -598.672124"
       ]
      },
      {
       "output_type": "stream",
       "stream": "stdout",
       "text": [
        "\n",
        "Log-liklihood at convergence: -544.399880\n",
        "Log-liklihood ratio: 0.090654\n",
        "+-------------+-------------+--------+---------+--------------+\n",
        "|  Variables  | Coefficient | Stderr | T-score | Significance |\n",
        "+=============+=============+========+=========+==============+\n",
        "| parcel sqft |           0 |      0 |  -0.150 |              |\n",
        "+-------------+-------------+--------+---------+--------------+\n",
        "|    dist bus |           0 |      0 |  -2.720 | **           |\n",
        "+-------------+-------------+--------+---------+--------------+\n",
        "|   dist rail |           0 |      0 |  16.970 | ***          |\n",
        "+-------------+-------------+--------+---------+--------------+\n",
        "|  land value |           0 |      0 |   7.170 | ***          |\n",
        "+-------------+-------------+--------+---------+--------------+\n",
        "Estimating parameters for segment = 16, size = 396"
       ]
      },
      {
       "output_type": "stream",
       "stream": "stdout",
       "text": [
        "\n",
        "Null Log-liklihood: -1823.647394"
       ]
      },
      {
       "output_type": "stream",
       "stream": "stdout",
       "text": [
        "\n",
        "Log-liklihood at convergence: -1726.354371\n",
        "Log-liklihood ratio: 0.053351\n",
        "+-------------+-------------+--------+---------+--------------+\n",
        "|  Variables  | Coefficient | Stderr | T-score | Significance |\n",
        "+=============+=============+========+=========+==============+\n",
        "| parcel sqft |           0 |      0 |   3.890 | ***          |\n",
        "+-------------+-------------+--------+---------+--------------+\n",
        "|    dist bus |           0 |      0 |   0.850 |              |\n",
        "+-------------+-------------+--------+---------+--------------+\n",
        "|   dist rail |           0 |      0 |  -0.720 |              |\n",
        "+-------------+-------------+--------+---------+--------------+\n",
        "|  land value |           0 |      0 |  29.730 | ***          |\n",
        "+-------------+-------------+--------+---------+--------------+\n",
        "Estimating parameters for segment = 17, size = 390"
       ]
      },
      {
       "output_type": "stream",
       "stream": "stdout",
       "text": [
        "\n",
        "Null Log-liklihood: -1796.016373"
       ]
      },
      {
       "output_type": "stream",
       "stream": "stdout",
       "text": [
        "\n",
        "Log-liklihood at convergence: -1656.629253\n",
        "Log-liklihood ratio: 0.077609\n",
        "+-------------+-------------+--------+---------+--------------+\n",
        "|  Variables  | Coefficient | Stderr | T-score | Significance |\n",
        "+=============+=============+========+=========+==============+\n",
        "| parcel sqft |           0 |      0 |  -9.560 | ***          |\n",
        "+-------------+-------------+--------+---------+--------------+\n",
        "|    dist bus |           0 |      0 |  -6.080 | ***          |\n",
        "+-------------+-------------+--------+---------+--------------+\n",
        "|   dist rail |           0 |      0 |   0.740 |              |\n",
        "+-------------+-------------+--------+---------+--------------+\n",
        "|  land value |           0 |      0 |  26.550 | ***          |\n",
        "+-------------+-------------+--------+---------+--------------+\n",
        "Estimating parameters for segment = 18, size = 1200"
       ]
      },
      {
       "output_type": "stream",
       "stream": "stdout",
       "text": [
        "\n",
        "Null Log-liklihood: -5526.204223"
       ]
      },
      {
       "output_type": "stream",
       "stream": "stdout",
       "text": [
        "\n",
        "Log-liklihood at convergence: -5110.212216\n",
        "Log-liklihood ratio: 0.075276\n",
        "+-------------+-------------+--------+---------+--------------+\n",
        "|  Variables  | Coefficient | Stderr | T-score | Significance |\n",
        "+=============+=============+========+=========+==============+\n",
        "| parcel sqft |           0 |      0 |  -3.520 | ***          |\n",
        "+-------------+-------------+--------+---------+--------------+\n",
        "|    dist bus |           0 |      0 |  -2.670 | **           |\n",
        "+-------------+-------------+--------+---------+--------------+\n",
        "|   dist rail |           0 |      0 |  -1.330 | .            |\n",
        "+-------------+-------------+--------+---------+--------------+\n",
        "|  land value |           0 |      0 |  91.470 | ***          |\n",
        "+-------------+-------------+--------+---------+--------------+\n",
        "Estimating parameters for segment = 21, size = 185"
       ]
      },
      {
       "output_type": "stream",
       "stream": "stdout",
       "text": [
        "\n",
        "Null Log-liklihood: -851.956484"
       ]
      },
      {
       "output_type": "stream",
       "stream": "stdout",
       "text": [
        "\n",
        "Log-liklihood at convergence: -741.712755\n",
        "Log-liklihood ratio: 0.129401\n",
        "+-------------+-------------+--------+---------+--------------+\n",
        "|  Variables  | Coefficient | Stderr | T-score | Significance |\n",
        "+=============+=============+========+=========+==============+\n",
        "| parcel sqft |           0 |      0 |   5.090 | ***          |\n",
        "+-------------+-------------+--------+---------+--------------+\n",
        "|    dist bus |           0 |      0 |  -3.750 | ***          |\n",
        "+-------------+-------------+--------+---------+--------------+\n",
        "|   dist rail |           0 |      0 |  18.500 | ***          |\n",
        "+-------------+-------------+--------+---------+--------------+\n",
        "|  land value |           0 |      0 |   7.320 | ***          |\n",
        "+-------------+-------------+--------+---------+--------------+\n",
        "Estimating parameters for segment = 22, size = 1200"
       ]
      },
      {
       "output_type": "stream",
       "stream": "stdout",
       "text": [
        "\n",
        "Null Log-liklihood: -5526.204223"
       ]
      },
      {
       "output_type": "stream",
       "stream": "stdout",
       "text": [
        "\n",
        "Log-liklihood at convergence: -5380.308019\n",
        "Log-liklihood ratio: 0.026401\n",
        "+-------------+-------------+--------+---------+--------------+\n",
        "|  Variables  | Coefficient | Stderr | T-score | Significance |\n",
        "+=============+=============+========+=========+==============+\n",
        "| parcel sqft |           0 |      0 |   0.070 |              |\n",
        "+-------------+-------------+--------+---------+--------------+\n",
        "|    dist bus |           0 |      0 |   5.680 | ***          |\n",
        "+-------------+-------------+--------+---------+--------------+\n",
        "|   dist rail |           0 |      0 |   2.830 | **           |\n",
        "+-------------+-------------+--------+---------+--------------+\n",
        "|  land value |           0 |      0 |  48.130 | ***          |\n",
        "+-------------+-------------+--------+---------+--------------+\n",
        "Estimating parameters for segment = 23, size = 64"
       ]
      },
      {
       "output_type": "stream",
       "stream": "stdout",
       "text": [
        "\n",
        "Null Log-liklihood: -294.730892\n",
        "Log-liklihood at convergence: -241.157031\n",
        "Log-liklihood ratio: 0.181772\n",
        "+-------------+-------------+--------+---------+--------------+\n",
        "|  Variables  | Coefficient | Stderr | T-score | Significance |\n",
        "+=============+=============+========+=========+==============+\n",
        "| parcel sqft |           0 |      0 |  -0.640 |              |\n",
        "+-------------+-------------+--------+---------+--------------+\n",
        "|    dist bus |           0 |      0 |  -1.270 |              |\n",
        "+-------------+-------------+--------+---------+--------------+\n",
        "|   dist rail |           0 |      0 |   2.210 | *            |\n",
        "+-------------+-------------+--------+---------+--------------+\n",
        "|  land value |           0 |      0 |  17.550 | ***          |\n",
        "+-------------+-------------+--------+---------+--------------+\n"
       ]
      }
     ],
     "prompt_number": 1
    },
    {
     "cell_type": "heading",
     "level": 2,
     "metadata": {},
     "source": [
      "SIMULATION"
     ]
    },
    {
     "cell_type": "code",
     "collapsed": false,
     "input": [
      "title = '_ref_base'\n",
      "for scenario in ['baseline',]: #'low_impact','scen0'\n",
      "    print 'Running scenario: ' + scenario\n",
      "    import time\n",
      "    seconds_start = time.time()\n",
      "    print seconds_start\n",
      "    import numpy as np, pandas as pd, os, statsmodels.api as sm\n",
      "    import synthicity.urbansim.interaction as interaction\n",
      "    from synthicity.utils import misc\n",
      "    import dataset, copy, math\n",
      "    np.random.seed(1)\n",
      "    first_year = 2010\n",
      "    last_year = 2012\n",
      "    summary = {'employment':[],'households':[],'non_residential_sqft':[],'residential_units':[],'price':[]}\n",
      "#     dset = dataset.DRCOGDataset(os.path.join(misc.data_dir(),'drcog.h5'))  ####Note commented out since we do estimation in the same notebook\n",
      "    \n",
      "    for sim_year in range(first_year,last_year+1):\n",
      "        print 'Simulating year ' + str(sim_year)\n",
      "\n",
      "    #####Variable calculations\n",
      "        #parcel\n",
      "        p = dset.fetch('parcels')\n",
      "        p['in_denver'] = (p.county_id==8031).astype('int32')\n",
      "        #building\n",
      "        b = dset.fetch('buildings')\n",
      "        b = b[['building_type_id','improvement_value','land_area','non_residential_sqft','parcel_id','residential_units','sqft_per_unit','stories','tax_exempt','year_built','bldg_sq_ft','unit_price_non_residential','unit_price_residential','building_sqft_per_job','non_residential_units','base_year_jobs','all_units']]\n",
      "        b['zone_id'] = p.zone_id[b.parcel_id].values\n",
      "        b['county_id'] = p.county_id[b.parcel_id].values\n",
      "        #b['btype_dplcm'] = 1*(b.building_type_id==2) + 2*(b.building_type_id==3) + 3*(b.building_type_id==20) + 4*(b.building_type_id==24) + 6*np.invert(np.in1d(b.building_type_id,[2,3,20,24]))\n",
      "        b['btype_hlcm'] = 1*(b.building_type_id==2) + 2*(b.building_type_id==3) + 3*(b.building_type_id==20) + 4*np.invert(np.in1d(b.building_type_id,[2,3,20]))\n",
      "        #household\n",
      "        hh_estim = dset.fetch('households_for_estimation')\n",
      "        hh = dset.fetch('households')\n",
      "        for table in [hh_estim, hh]:\n",
      "            choosers = table\n",
      "            choosers['building_type_id'] = b.building_type_id[choosers.building_id].values\n",
      "            choosers['county_id'] = b.county_id[choosers.building_id].values\n",
      "            choosers['btype'] = 1*(choosers.building_type_id==2) + 2*(choosers.building_type_id==3) + 3*(choosers.building_type_id==20) + 4*np.invert(np.in1d(choosers.building_type_id,[2,3,20]))\n",
      "        #establishment\n",
      "        e = dset.fetch('establishments')\n",
      "        e['county_id'] = b.county_id[e.building_id].values\n",
      "        e['sector_id_six'] = 1*(e.sector_id==61) + 2*(e.sector_id==71) + 3*np.in1d(e.sector_id,[11,21,22,23,31,32,33,42,48,49]) + 4*np.in1d(e.sector_id,[7221,7222,7224]) + 5*np.in1d(e.sector_id,[44,45,7211,7212,7213,7223]) + 6*np.in1d(e.sector_id,[51,52,53,54,55,56,62,81,92])\n",
      "        #zone\n",
      "        z = dset.fetch('zones')\n",
      "        z['residential_units_zone'] = b.groupby('zone_id').residential_units.sum()\n",
      "        z['non_residential_sqft_zone'] = b.groupby('zone_id').non_residential_sqft.sum()\n",
      "        z['percent_sf'] = b[b.btype_hlcm==3].groupby('zone_id').residential_units.sum()*100.0/(b.groupby('zone_id').residential_units.sum())\n",
      "        #merge parcels with zones\n",
      "        pz = pd.merge(p,z,left_on='zone_id',right_index=True)\n",
      "        #merge buildings with parcels/zones\n",
      "        bpz = pd.merge(b,pz,left_on='parcel_id',right_index=True)\n",
      "        bpz['residential_units_capacity'] = bpz.parcel_sqft/1500 - bpz.residential_units\n",
      "        bpz.residential_units_capacity[bpz.residential_units_capacity<0] = 0\n",
      "        dset.d['buildings'] = bpz\n",
      "                \n",
      "        #Record base values for temporal comparison\n",
      "        if sim_year==first_year:\n",
      "            summary['employment'].append(e[e.building_id>0].employees.sum())\n",
      "            summary['households'].append(len(hh[hh.building_id>0].building_id))\n",
      "            summary['non_residential_sqft'].append(b.non_residential_sqft.sum())\n",
      "            summary['residential_units'].append(b.residential_units.sum())\n",
      "            print len(dset.households.index)\n",
      "            print dset.establishments.employees.sum()\n",
      "            print dset.buildings.residential_units.sum()\n",
      "            print dset.buildings.non_residential_sqft.sum()\n",
      "            base_hh_county = hh.groupby('county_id').size()\n",
      "            base_emp_county = e.groupby('county_id').employees.sum()\n",
      "            base_ru_county = b.groupby('county_id').residential_units.sum()\n",
      "            base_nr_county = b.groupby('county_id').non_residential_sqft.sum()\n",
      "\n",
      "############     ELCM SIMULATION\n",
      "\n",
      "        depvar = 'building_id'\n",
      "        simulation_table = 'establishments'\n",
      "        output_csv, output_title, coeff_name, output_varname = (\"drcog-coeff-elcm-%s.csv\",\"DRCOG EMPLOYMENT LOCATION CHOICE MODELS (%s)\",\"emp_location_%s\",\"establishment_building_ids\")\n",
      "        agents_groupby_txt = ['sector_id_six',]\n",
      "        \n",
      "        output_csv, output_title, coeff_name, output_varname = (\"drcog-coeff-elcm-%s.csv\",\"DRCOG EMPLOYMENT LOCATION CHOICE MODELS (%s)\",\"emp_location_%s\",\"establishment_building_ids\")\n",
      "        dset.establishments['home_based_status']=0\n",
      "        if scenario == 'baseline':\n",
      "            new_jobs = {\"table\": \"dset.establishments\",\"writetotmp\": \"establishments\",\"model\": \"transitionmodel\",\"first_year\": 2010,\"control_totals\": \"dset.annual_employment_control_totals\",\n",
      "                        \"geography_field\": \"building_id\",\"amount_field\": \"total_number_of_jobs\",\"size_field\":\"employees\"}\n",
      "        import synthicity.urbansim.transitionmodel as transitionmodel\n",
      "        transitionmodel.simulate(dset,new_jobs,year=sim_year,show=True)\n",
      "        year = sim_year\n",
      "        choosers = dset.fetch(simulation_table)\n",
      "        #     rate_table = dset.annual_job_relocation_rates\n",
      "        #     rate_table = rate_table*.1\n",
      "        #     rate_field = \"job_relocation_probability\"\n",
      "        #     movers = dset.relocation_rates(choosers,rate_table,rate_field)\n",
      "        #     choosers[depvar].ix[movers] = -1\n",
      "        movers = choosers[choosers[depvar]==-1]\n",
      "        print \"Total new agents and movers = %d\" % len(movers.index)\n",
      "        alternatives = dset.buildings[(dset.buildings.non_residential_sqft>0)]\n",
      "        #alternatives['building_sqft_per_job'] = 250\n",
      "        alternatives['job_spaces'] = alternatives.non_residential_sqft/alternatives.building_sqft_per_job\n",
      "        empty_units = alternatives.job_spaces.sub(choosers.groupby('building_id').employees.sum(),fill_value=0).astype('int')\n",
      "        alts = alternatives.ix[empty_units.index]\n",
      "        alts[\"supply\"] = empty_units\n",
      "        lotterychoices = True\n",
      "        pdf = pd.DataFrame(index=alts.index)\n",
      "        segments = movers.groupby(agents_groupby_txt)\n",
      "        \n",
      "        ind_vars1=['residential_units_zone','non_residential_sqft_zone','allpurpose_agglosum','acreage','unit_price_non_residential','in_denver',]\n",
      "        ind_vars2=['residential_units_zone','non_residential_sqft_zone','allpurpose_agglosum','acreage','unit_price_non_residential','in_denver',]\n",
      "        ind_vars3=['residential_units_zone','non_residential_sqft_zone','allpurpose_agglosum','acreage','unit_price_non_residential','in_denver',]\n",
      "        ind_vars4=['residential_units_zone','non_residential_sqft_zone','allpurpose_agglosum','acreage','unit_price_non_residential','in_denver',]\n",
      "        ind_vars5=['residential_units_zone','non_residential_sqft_zone','allpurpose_agglosum','acreage','unit_price_non_residential','in_denver',]\n",
      "        ind_vars6=['residential_units_zone','non_residential_sqft_zone','allpurpose_agglosum','acreage','unit_price_non_residential','in_denver',]\n",
      "        \n",
      "        for name, segment in segments:\n",
      "            if name == 1:\n",
      "                ind_vars = ind_vars1 \n",
      "            if name == 2:\n",
      "                ind_vars = ind_vars2\n",
      "            if name == 3:\n",
      "                ind_vars = ind_vars3\n",
      "            if name == 4:\n",
      "                ind_vars = ind_vars4\n",
      "            if name == 5:\n",
      "                ind_vars = ind_vars5\n",
      "            if name == 6:\n",
      "                ind_vars = ind_vars6\n",
      "             \n",
      "            segment = segment.head(1)\n",
      "            name_coeff= str(name)\n",
      "            name = str(name)\n",
      "            tmp_outcsv, tmp_outtitle, tmp_coeffname = output_csv%name, output_title%name, coeff_name%name_coeff\n",
      "            SAMPLE_SIZE = alts.index.size \n",
      "            numchoosers = segment.shape[0]\n",
      "            numalts = alts.shape[0]\n",
      "            sample = np.tile(alts.index.values,numchoosers)\n",
      "            alts_sample = alts #sample#alternatives\n",
      "            alts_sample['join_index'] = np.repeat(segment.index,SAMPLE_SIZE)\n",
      "            alts_sample = pd.merge(alts_sample,segment,left_on='join_index',right_index=True,suffixes=('','_r'))\n",
      "            chosen = np.zeros((numchoosers,SAMPLE_SIZE))\n",
      "            chosen[:,0] = 1\n",
      "            sample, alternative_sample, est_params = sample, alts_sample, ('mnl',chosen)\n",
      "            ##Define interaction variables here\n",
      "            est_data = pd.DataFrame(index=alternative_sample.index)\n",
      "            for varname in ind_vars:\n",
      "                est_data[varname] = alternative_sample[varname]\n",
      "            est_data = est_data.fillna(0)\n",
      "            data = est_data\n",
      "            data = data.as_matrix()\n",
      "            coeff = dset.load_coeff(tmp_coeffname)\n",
      "            probs = interaction.mnl_simulate(data,coeff,numalts=SAMPLE_SIZE,returnprobs=1)\n",
      "            pdf['segment%s'%name] = pd.Series(probs.flatten(),index=alts.index) \n",
      "                \n",
      "        new_homes = pd.Series(np.ones(len(movers.index))*-1,index=movers.index)\n",
      "        mask = np.zeros(len(alts.index),dtype='bool')\n",
      "        \n",
      "        for name, segment in segments:\n",
      "            name = str(name)\n",
      "            print \"Assigning units to %d agents of segment %s\" % (len(segment.index),name)\n",
      "            p=pdf['segment%s'%name].values\n",
      "            #p=pdf['segment%s'%name].values\n",
      "            def choose(p,mask,alternatives,segment,new_homes,minsize=None):\n",
      "                p = copy.copy(p)\n",
      "                p[alternatives.supply<minsize] = 0\n",
      "                #print \"Choosing from %d nonzero alts\" % np.count_nonzero(p)\n",
      "                try: \n",
      "                  indexes = np.random.choice(len(alternatives.index),len(segment.index),replace=False,p=p/p.sum())\n",
      "                except:\n",
      "                  print \"WARNING: not enough options to fit agents, will result in unplaced agents\"\n",
      "                  return mask,new_homes\n",
      "                new_homes.ix[segment.index] = alternatives.index.values[indexes]\n",
      "                alternatives[\"supply\"].ix[alternatives.index.values[indexes]] -= minsize\n",
      "                return mask,new_homes\n",
      "            tmp = segment['employees']\n",
      "            #tmp /= 100.0 ##If scaling demand amount is desired\n",
      "            for name, subsegment in reversed(list(segment.groupby(tmp.astype('int')))):\n",
      "                #print \"Running subsegment with size = %s, num agents = %d\" % (name, len(subsegment.index))\n",
      "                mask,new_homes = choose(p,mask,alts,subsegment,new_homes,minsize=int(name))\n",
      "        \n",
      "        build_cnts = new_homes.value_counts()  #num estabs place in each building\n",
      "        print \"Assigned %d agents to %d locations with %d unplaced\" % (new_homes.size,build_cnts.size,build_cnts.get(-1,0))\n",
      "        \n",
      "        table = dset.establishments # need to go back to the whole dataset\n",
      "        table[depvar].ix[new_homes.index] = new_homes.values.astype('int32')\n",
      "        dset.store_attr(output_varname,year,copy.deepcopy(table[depvar]))\n",
      "                \n",
      "#################     HLCM simulation\n",
      "        depvar = 'building_id'\n",
      "        simulation_table = 'households'\n",
      "        output_csv, output_title, coeff_name, output_varname = (\"drcog-coeff-hlcm-%s.csv\",\"DRCOG HOUSEHOLD LOCATION CHOICE MODELS (%s)\",\"hh_location_%s\",\"household_building_ids\")\n",
      "        agents_groupby_txt = ['btype',]\n",
      "        \n",
      "        if scenario == 'baseline':\n",
      "            new_hhlds = {\"table\": \"dset.households\",\"writetotmp\": \"households\",\"model\": \"transitionmodel\",\"first_year\": 2010,\"control_totals\": \"dset.annual_household_control_totals\",\n",
      "                         \"geography_field\": \"building_id\",\"amount_field\": \"total_number_of_households\"}\n",
      "        import synthicity.urbansim.transitionmodel as transitionmodel\n",
      "        transitionmodel.simulate(dset,new_hhlds,year=sim_year,show=True,subtract=True)\n",
      "        year = sim_year\n",
      "        choosers = dset.fetch(simulation_table)\n",
      "        rate_table = dset.annual_household_relocation_rates.copy()\n",
      "        rate_field = \"probability_of_relocating\"\n",
      "        rate_table[rate_field] = rate_table[rate_field]*.1\n",
      "        movers = dset.relocation_rates(choosers,rate_table,rate_field)\n",
      "        choosers[depvar].ix[movers] = -1\n",
      "        movers = choosers[choosers[depvar]==-1]\n",
      "        print \"Total new agents and movers = %d\" % len(movers.index)\n",
      "        alternatives = dset.buildings[(dset.buildings.residential_units>0)]\n",
      "        empty_units = dset.buildings[(dset.buildings.residential_units>0)].residential_units.sub(choosers.groupby('building_id').size(),fill_value=0)\n",
      "        empty_units = empty_units[empty_units>0].order(ascending=False)\n",
      "        alternatives = alternatives.ix[np.repeat(empty_units.index,empty_units.values.astype('int'))]\n",
      "        alts1 = alternatives[alternatives.btype_hlcm==1]\n",
      "        alts2 = alternatives[alternatives.btype_hlcm==2]\n",
      "        alts3 = alternatives[alternatives.btype_hlcm==3]\n",
      "        alts4 = alternatives[alternatives.btype_hlcm==4]\n",
      "        pdf1 = pd.DataFrame(index=alts1.index)\n",
      "        pdf2 = pd.DataFrame(index=alts2.index) \n",
      "        pdf3 = pd.DataFrame(index=alts3.index)\n",
      "        pdf4 = pd.DataFrame(index=alts4.index)\n",
      "        \n",
      "        segments = movers.groupby(agents_groupby_txt)\n",
      "        \n",
      "        ind_vars1=['residential_units_zone','non_residential_sqft_zone','allpurpose_agglosum','acreage','unit_price_residential','in_denver',]\n",
      "        ind_vars2=['residential_units_zone','non_residential_sqft_zone','allpurpose_agglosum','acreage','unit_price_residential','in_denver',]\n",
      "        ind_vars3=['residential_units_zone','non_residential_sqft_zone','allpurpose_agglosum','acreage','unit_price_residential','in_denver',]\n",
      "        ind_vars4=['residential_units_zone','non_residential_sqft_zone','allpurpose_agglosum','acreage','unit_price_residential','in_denver',]\n",
      "        \n",
      "        for name, segment in segments:\n",
      "            if name == 1:\n",
      "                alts = alts1\n",
      "                ind_vars = ind_vars1\n",
      "            if name == 2:\n",
      "                alts = alts2\n",
      "                ind_vars = ind_vars2\n",
      "            if name == 3:\n",
      "                alts = alts3\n",
      "                ind_vars = ind_vars3\n",
      "            if name == 4:\n",
      "                alts = alts4\n",
      "                ind_vars = ind_vars4\n",
      "            segment = segment.head(1)\n",
      "            name_coeff = str(name)\n",
      "            name = str(name)\n",
      "            tmp_outcsv, tmp_outtitle, tmp_coeffname = output_csv%name, output_title%name, coeff_name%name_coeff\n",
      "            SAMPLE_SIZE = alts.index.size \n",
      "            numchoosers = segment.shape[0]\n",
      "            numalts = alts.shape[0]\n",
      "            sample = np.tile(alts.index.values,numchoosers)\n",
      "            alts_sample = alts\n",
      "            alts_sample['join_index'] = np.repeat(segment.index,SAMPLE_SIZE)\n",
      "            alts_sample = pd.merge(alts_sample,segment,left_on='join_index',right_index=True,suffixes=('','_r'))\n",
      "            chosen = np.zeros((numchoosers,SAMPLE_SIZE))\n",
      "            chosen[:,0] = 1\n",
      "            sample, alternative_sample, est_params = sample, alts_sample, ('mnl',chosen)\n",
      "            ##Interaction variables defined here\n",
      "            est_data = pd.DataFrame(index=alternative_sample.index)\n",
      "            for varname in ind_vars:\n",
      "                est_data[varname] = alternative_sample[varname]\n",
      "            est_data = est_data.fillna(0)\n",
      "            data = est_data\n",
      "            data = data.as_matrix()\n",
      "            coeff = dset.load_coeff(tmp_coeffname)\n",
      "            probs = interaction.mnl_simulate(data,coeff,numalts=SAMPLE_SIZE,returnprobs=1)\n",
      "            if int(name_coeff) == 1:\n",
      "                pdf1['segment%s'%name] = pd.Series(probs.flatten(),index=alts.index)  \n",
      "            if int(name_coeff) == 2:\n",
      "                pdf2['segment%s'%name] = pd.Series(probs.flatten(),index=alts.index) \n",
      "            if int(name_coeff) == 3:\n",
      "                pdf3['segment%s'%name] = pd.Series(probs.flatten(),index=alts.index) \n",
      "            if int(name_coeff) == 4:\n",
      "                pdf4['segment%s'%name] = pd.Series(probs.flatten(),index=alts.index) \n",
      "        \n",
      "        new_homes = pd.Series(np.ones(len(movers.index))*-1,index=movers.index)\n",
      "        for name, segment in segments:\n",
      "            name_coeff = str(name)\n",
      "            name = str(name)\n",
      "            if int(name_coeff) == 1:\n",
      "                p=pdf1['segment%s'%name].values\n",
      "                mask = np.zeros(len(alts1.index),dtype='bool')\n",
      "            if int(name_coeff) == 2:\n",
      "                p=pdf2['segment%s'%name].values \n",
      "                mask = np.zeros(len(alts2.index),dtype='bool')\n",
      "            if int(name_coeff) == 3:\n",
      "                p=pdf3['segment%s'%name].values \n",
      "                mask = np.zeros(len(alts3.index),dtype='bool')\n",
      "            if int(name_coeff) == 4:\n",
      "                p=pdf4['segment%s'%name].values\n",
      "                mask = np.zeros(len(alts4.index),dtype='bool')\n",
      "            print \"Assigning units to %d agents of segment %s\" % (len(segment.index),name)\n",
      "         \n",
      "            def choose(p,mask,alternatives,segment,new_homes,minsize=None):\n",
      "                p = copy.copy(p)\n",
      "                p[mask] = 0 # already chosen\n",
      "                print 'num alts'\n",
      "                print len(alternatives.index)\n",
      "                print 'num agents'\n",
      "                print len(segment.index)\n",
      "                try: \n",
      "                  indexes = np.random.choice(len(alternatives.index),len(segment.index),replace=False,p=p/p.sum())\n",
      "                except:\n",
      "                  print \"WARNING: not enough options to fit agents, will result in unplaced agents\"\n",
      "                  return mask,new_homes\n",
      "                new_homes.ix[segment.index] = alternatives.index.values[indexes]\n",
      "                mask[indexes] = 1\n",
      "              \n",
      "                return mask,new_homes\n",
      "            if int(name_coeff) == 1:\n",
      "                mask,new_homes = choose(p,mask,alts1,segment,new_homes)\n",
      "            if int(name_coeff) == 2:\n",
      "                mask,new_homes = choose(p,mask,alts2,segment,new_homes)\n",
      "            if int(name_coeff) == 3:\n",
      "                mask,new_homes = choose(p,mask,alts3,segment,new_homes)\n",
      "            if int(name_coeff) == 4:\n",
      "                mask,new_homes = choose(p,mask,alts4,segment,new_homes)\n",
      "            \n",
      "        build_cnts = new_homes.value_counts()  #num households place in each building\n",
      "        print \"Assigned %d agents to %d locations with %d unplaced\" % (new_homes.size,build_cnts.size,build_cnts.get(-1,0))\n",
      "        \n",
      "        table = dset.households # need to go back to the whole dataset\n",
      "        table[depvar].ix[new_homes.index] = new_homes.values.astype('int32')\n",
      "        dset.store_attr(output_varname,year,copy.deepcopy(table[depvar]))\n",
      "    \n",
      "        ############     RDPLCM SIMULATION\n",
      "        depvar = 'parcel_id'\n",
      "        simulation_table = 'buildings'\n",
      "        output_csv, output_title, coeff_name, output_varname = (\"drcog-coeff-rdplcm-%s.csv\",\"DRCOG RES DEVPROJECT LOCATION CHOICE MODELS (%s)\",\"rdp_location_%s\",\"resbuilding_parcel_ids\")\n",
      "        agents_groupby_txt = ['building_type_id',]\n",
      "        \n",
      "        if scenario == 'baseline':\n",
      "            new_dev = {\"table\": \"dset.buildings\",\"writetotmp\": \"buildings\",\"model\": \"transitionmodel\",\"first_year\": 2010,\"vacancy_targets\": {\"targets\": \"dset.target_vacancies\",\n",
      "                       \"supply\": \"dset.buildings.groupby('building_type_id').all_units.sum()\",\n",
      "                       \"demands\": [\"dset.households.groupby(dset.buildings.building_type_id[dset.households.building_id].values).size()\",\n",
      "                       \"dset.establishments.groupby(dset.buildings.building_type_id[dset.establishments.building_id].values).employees.sum()\"]},\"size_field\": \"all_units\",\"geography_field\": \"parcel_id\"}\n",
      "        \n",
      "        import synthicity.urbansim.transitionmodel as transitionmodel\n",
      "        print 'PRE'\n",
      "        print dset.buildings.residential_units.sum()\n",
      "        print dset.buildings.non_residential_sqft.sum()\n",
      "        transitionmodel.simulate(dset,new_dev,year=sim_year,show=True)\n",
      "        print 'POST'\n",
      "        b = dset.fetch('buildings')\n",
      "        print b.residential_units.sum()\n",
      "        print b.non_residential_sqft.sum()\n",
      "        \n",
      "        year = sim_year\n",
      "        choosers = dset.fetch(simulation_table)\n",
      "        choosers = choosers[(np.in1d(choosers.building_type_id,[2,3,20,24]))]\n",
      "        movers = choosers[choosers[depvar]==-1]\n",
      "        print \"Total new agents and movers = %d\" % len(movers.index)\n",
      "        \n",
      "        #ALTS\n",
      "        alternatives = dset.parcels\n",
      "        alts1 = alternatives\n",
      "        alts2 = alternatives\n",
      "        alts3 = alternatives\n",
      "        alts4 = alternatives\n",
      "        \n",
      "        alternatives = dset.parcels[(dset.parcels.parcel_sqft>2000)]\n",
      "        # alts1 = alternatives\n",
      "        # alts2 = alternatives\n",
      "        # alts3 = alternatives\n",
      "        # alts4 = alternatives\n",
      "        alternatives['ru_spaces'] = alternatives.parcel_sqft/2000\n",
      "        empty_units = alternatives.ru_spaces.sub(choosers.groupby('parcel_id').residential_units.sum(),fill_value=0).astype('int')\n",
      "        alts = alternatives.ix[empty_units.index]\n",
      "        alts[\"supply\"] = empty_units\n",
      "        lotterychoices = True\n",
      "        pdf = pd.DataFrame(index=alts.index)\n",
      "        segments = movers.groupby(agents_groupby_txt)\n",
      "        \n",
      "        ind_vars1=['parcel_sqft','dist_bus','dist_rail','land_value']\n",
      "        ind_vars2=['parcel_sqft','dist_bus','dist_rail','land_value']\n",
      "        ind_vars3=['parcel_sqft','dist_bus','dist_rail','land_value']\n",
      "        ind_vars4=['parcel_sqft','dist_bus','dist_rail','land_value']\n",
      "        \n",
      "        for name, segment in segments:\n",
      "            if name == 1:\n",
      "                ind_vars = ind_vars1 \n",
      "            if name == 2:\n",
      "                ind_vars = ind_vars2\n",
      "            if name == 3:\n",
      "                ind_vars = ind_vars3\n",
      "            if name == 4:\n",
      "                ind_vars = ind_vars4\n",
      "             \n",
      "            segment = segment.head(1)\n",
      "            name_coeff= str(name)\n",
      "            name = str(name)\n",
      "            tmp_outcsv, tmp_outtitle, tmp_coeffname = output_csv%name, output_title%name, coeff_name%name_coeff\n",
      "            SAMPLE_SIZE = alts.index.size \n",
      "            numchoosers = segment.shape[0]\n",
      "            numalts = alts.shape[0]\n",
      "            sample = np.tile(alts.index.values,numchoosers)\n",
      "            alts_sample = alts\n",
      "            alts_sample['join_index'] = np.repeat(segment.index,SAMPLE_SIZE)\n",
      "            alts_sample = pd.merge(alts_sample,segment,left_on='join_index',right_index=True,suffixes=('','_r'))\n",
      "            chosen = np.zeros((numchoosers,SAMPLE_SIZE))\n",
      "            chosen[:,0] = 1\n",
      "            sample, alternative_sample, est_params = sample, alts_sample, ('mnl',chosen)\n",
      "            ##Define interaction variables here\n",
      "            est_data = pd.DataFrame(index=alternative_sample.index)\n",
      "            for varname in ind_vars:\n",
      "                est_data[varname] = alternative_sample[varname]\n",
      "            est_data = est_data.fillna(0)\n",
      "            data = est_data\n",
      "            data = data.as_matrix()\n",
      "            coeff = dset.load_coeff(tmp_coeffname)\n",
      "            probs = interaction.mnl_simulate(data,coeff,numalts=SAMPLE_SIZE,returnprobs=1)\n",
      "            pdf['segment%s'%name] = pd.Series(probs.flatten(),index=alts.index) \n",
      "                \n",
      "        new_homes = pd.Series(np.ones(len(movers.index))*-1,index=movers.index)\n",
      "        mask = np.zeros(len(alts.index),dtype='bool')\n",
      "        \n",
      "        for name, segment in segments:\n",
      "            name = str(name)\n",
      "            print \"Assigning units to %d agents of segment %s\" % (len(segment.index),name)\n",
      "            p=pdf['segment%s'%name].values\n",
      "            #p=pdf['segment%s'%name].values\n",
      "            def choose(p,mask,alternatives,segment,new_homes,minsize=None):\n",
      "                p = copy.copy(p)\n",
      "                p[alternatives.supply<minsize] = 0\n",
      "                #print \"Choosing from %d nonzero alts\" % np.count_nonzero(p)\n",
      "                try: \n",
      "                  indexes = np.random.choice(len(alternatives.index),len(segment.index),replace=False,p=p/p.sum())\n",
      "                except:\n",
      "                  print \"WARNING: not enough options to fit agents, will result in unplaced agents\"\n",
      "                  return mask,new_homes\n",
      "                new_homes.ix[segment.index] = alternatives.index.values[indexes]\n",
      "                alternatives[\"supply\"].ix[alternatives.index.values[indexes]] -= minsize\n",
      "                return mask,new_homes\n",
      "            tmp = segment['residential_units']\n",
      "            #tmp /= 100.0 ##If scaling demand amount is desired\n",
      "            for name, subsegment in reversed(list(segment.groupby(tmp.astype('int')))):\n",
      "                #print \"Running subsegment with size = %s, num agents = %d\" % (name, len(subsegment.index))\n",
      "                mask,new_homes = choose(p,mask,alts,subsegment,new_homes,minsize=int(name))\n",
      "        \n",
      "        build_cnts = new_homes.value_counts()  #num estabs place in each building\n",
      "        print \"Assigned %d agents to %d locations with %d unplaced\" % (new_homes.size,build_cnts.size,build_cnts.get(-1,0))\n",
      "        \n",
      "        table = dset.fetch(simulation_table)  # need to go back to the whole dataset, for rdplcm this is buildings\n",
      "        table[depvar].ix[new_homes.index] = new_homes.values.astype('int32')\n",
      "        dset.store_attr(output_varname,year,copy.deepcopy(table[depvar]))\n",
      "    \n",
      "        ############     NRDPLCM SIMULATION\n",
      "        depvar = 'parcel_id'\n",
      "        simulation_table = 'buildings'\n",
      "        output_csv, output_title, coeff_name, output_varname = (\"drcog-coeff-nrdplcm-%s.csv\",\"DRCOG NONRES DEVPROJECT LOCATION CHOICE MODELS (%s)\",\"nrdp_location_%s\",\"nonresbuilding_parcel_ids\")\n",
      "        agents_groupby_txt = ['building_type_id',]\n",
      "        \n",
      "        year = sim_year\n",
      "        choosers = dset.fetch(simulation_table)\n",
      "        choosers = choosers[(np.in1d(choosers.building_type_id,[5,8,11,16,17,18,21,23,9,22]))] ##9 and 22 are industrial and should have different allowable parcels\n",
      "        movers = choosers[choosers[depvar]==-1]\n",
      "        print \"Total new agents and movers = %d\" % len(movers.index)\n",
      "        \n",
      "        #ALTS\n",
      "        alternatives = dset.parcels[(dset.parcels.parcel_sqft>5000)]\n",
      "        alternatives = alternatives.ix[np.random.choice(alternatives.index, 30000,replace=False)]\n",
      "        alternatives['nr_spaces'] = alternatives.parcel_sqft/10\n",
      "        empty_units = alternatives.nr_spaces.sub(choosers.groupby('parcel_id').non_residential_sqft.sum(),fill_value=0).astype('int')\n",
      "        alts = alternatives.ix[empty_units.index]\n",
      "        alts[\"supply\"] = empty_units\n",
      "        lotterychoices = True\n",
      "        pdf = pd.DataFrame(index=alts.index)\n",
      "        segments = movers.groupby(agents_groupby_txt)\n",
      "        \n",
      "        ##Need to break alternatives down by allowable use during simulation\n",
      "        alts1 = alts\n",
      "        alts2 = alts\n",
      "        alts3 = alts\n",
      "        alts4 = alts\n",
      "        alts5 = alts\n",
      "        alts6 = alts\n",
      "        alts7 = alts\n",
      "        alts8 = alts\n",
      "        alts9 = alts\n",
      "        alts10 = alts\n",
      "        ind_vars1=['parcel_sqft','dist_bus','dist_rail','land_value']\n",
      "        ind_vars2=['parcel_sqft','dist_bus','dist_rail','land_value']\n",
      "        ind_vars3=['parcel_sqft','dist_bus','dist_rail','land_value']\n",
      "        ind_vars4=['parcel_sqft','dist_bus','dist_rail','land_value']\n",
      "        ind_vars5=['parcel_sqft','dist_bus','dist_rail','land_value']\n",
      "        ind_vars6=['parcel_sqft','dist_bus','dist_rail','land_value']\n",
      "        ind_vars7=['parcel_sqft','dist_bus','dist_rail','land_value']\n",
      "        ind_vars8=['parcel_sqft','dist_bus','dist_rail','land_value']\n",
      "        ind_vars9=['parcel_sqft','dist_bus','dist_rail','land_value']\n",
      "        ind_vars10=['parcel_sqft','dist_bus','dist_rail','land_value']\n",
      "        \n",
      "        for name, segment in segments:\n",
      "            if name == 5:\n",
      "                alts = alts1\n",
      "                ind_vars = ind_vars1\n",
      "            if name == 8:\n",
      "                alts = alts2\n",
      "                ind_vars = ind_vars2\n",
      "            if name == 11:\n",
      "                alts = alts3\n",
      "                ind_vars = ind_vars3\n",
      "            if name == 16:\n",
      "                alts = alts4\n",
      "                ind_vars = ind_vars4\n",
      "            if name == 17:\n",
      "                alts = alts5\n",
      "                ind_vars = ind_vars5\n",
      "            if name == 18:\n",
      "                alts = alts6\n",
      "                ind_vars = ind_vars6\n",
      "            if name == 21:\n",
      "                alts = alts7\n",
      "                ind_vars = ind_vars7\n",
      "            if name == 23:\n",
      "                alts = alts8\n",
      "                ind_vars = ind_vars8\n",
      "            if name == 9:\n",
      "                alts = alts9\n",
      "                ind_vars = ind_vars9\n",
      "            if name == 22:\n",
      "                alts = alts10\n",
      "                ind_vars = ind_vars10\n",
      "             \n",
      "            segment = segment.head(1)\n",
      "            name_coeff= str(name)\n",
      "            name = str(name)\n",
      "            tmp_outcsv, tmp_outtitle, tmp_coeffname = output_csv%name, output_title%name, coeff_name%name_coeff\n",
      "            SAMPLE_SIZE = alts.index.size \n",
      "            numchoosers = segment.shape[0]\n",
      "            numalts = alts.shape[0]\n",
      "            sample = np.tile(alts.index.values,numchoosers)\n",
      "            alts_sample = alts\n",
      "            alts_sample['join_index'] = np.repeat(segment.index,SAMPLE_SIZE)\n",
      "            alts_sample = pd.merge(alts_sample,segment,left_on='join_index',right_index=True,suffixes=('','_r'))\n",
      "            chosen = np.zeros((numchoosers,SAMPLE_SIZE))\n",
      "            chosen[:,0] = 1\n",
      "            sample, alternative_sample, est_params = sample, alts_sample, ('mnl',chosen)\n",
      "            ##Define interaction variables here\n",
      "            est_data = pd.DataFrame(index=alternative_sample.index)\n",
      "            for varname in ind_vars:\n",
      "                est_data[varname] = alternative_sample[varname]\n",
      "            est_data = est_data.fillna(0)\n",
      "            data = est_data\n",
      "            data = data.as_matrix()\n",
      "            coeff = dset.load_coeff(tmp_coeffname)\n",
      "            probs = interaction.mnl_simulate(data,coeff,numalts=SAMPLE_SIZE,returnprobs=1)\n",
      "            pdf['segment%s'%name] = pd.Series(probs.flatten(),index=alts.index) \n",
      "                \n",
      "        new_homes = pd.Series(np.ones(len(movers.index))*-1,index=movers.index)\n",
      "        mask = np.zeros(len(alts.index),dtype='bool')\n",
      "        \n",
      "        for name, segment in segments:\n",
      "            name = str(name)\n",
      "            print \"Assigning units to %d agents of segment %s\" % (len(segment.index),name)\n",
      "            p=pdf['segment%s'%name].values\n",
      "            #p=pdf['segment%s'%name].values\n",
      "            def choose(p,mask,alternatives,segment,new_homes,minsize=None):\n",
      "                p = copy.copy(p)\n",
      "                p[alternatives.supply<minsize] = 0\n",
      "                #print \"Choosing from %d nonzero alts\" % np.count_nonzero(p)\n",
      "                try: \n",
      "                  indexes = np.random.choice(len(alternatives.index),len(segment.index),replace=False,p=p/p.sum())\n",
      "                except:\n",
      "                  print \"WARNING: not enough options to fit agents, will result in unplaced agents\"\n",
      "                  return mask,new_homes\n",
      "                new_homes.ix[segment.index] = alternatives.index.values[indexes]\n",
      "                alternatives[\"supply\"].ix[alternatives.index.values[indexes]] -= minsize\n",
      "                return mask,new_homes\n",
      "            tmp = segment['non_residential_sqft']\n",
      "            #tmp /= 100.0 ##If scaling demand amount is desired\n",
      "            for name, subsegment in reversed(list(segment.groupby(tmp.astype('int')))):\n",
      "                #print \"Running subsegment with size = %s, num agents = %d\" % (name, len(subsegment.index))\n",
      "                mask,new_homes = choose(p,mask,alts,subsegment,new_homes,minsize=int(name))\n",
      "        \n",
      "        build_cnts = new_homes.value_counts()  #num estabs place in each building\n",
      "        print \"Assigned %d agents to %d locations with %d unplaced\" % (new_homes.size,build_cnts.size,build_cnts.get(-1,0))\n",
      "        \n",
      "        table = dset.fetch(simulation_table)  # need to go back to the whole dataset, for rdplcm this is buildings\n",
      "        table[depvar].ix[new_homes.index] = new_homes.values.astype('int32')\n",
      "        dset.store_attr(output_varname,year,copy.deepcopy(table[depvar]))\n",
      "        \n",
      "        #####SUMMARIES\n",
      "        #########################\n",
      "        print 'Annual totals'\n",
      "        print len(dset.households.index)\n",
      "        print dset.establishments.employees.sum()\n",
      "        print dset.buildings.residential_units.sum()\n",
      "        print dset.buildings.non_residential_sqft.sum()\n",
      "        \n",
      "        if sim_year == last_year:\n",
      "            print summary\n",
      "            b = dset.fetch('buildings')\n",
      "            e = dset.fetch('establishments')\n",
      "            hh = dset.fetch('households')\n",
      "            p = dset.fetch('parcels')\n",
      "            b['county_id'] = p.county_id[b.parcel_id].values\n",
      "            hh['county_id'] = b.county_id[hh.building_id].values\n",
      "            e['county_id'] = b.county_id[e.building_id].values\n",
      "            sim_hh_county = hh.groupby('county_id').size()\n",
      "            sim_emp_county = e.groupby('county_id').employees.sum()\n",
      "            sim_ru_county = b.groupby('county_id').residential_units.sum()\n",
      "            sim_nr_county = b.groupby('county_id').non_residential_sqft.sum()\n",
      "            hh_diff_county = sim_hh_county - base_hh_county\n",
      "            emp_diff_county = sim_emp_county - base_emp_county\n",
      "            ru_diff_county = sim_ru_county - base_ru_county\n",
      "            nr_diff_county = sim_nr_county - base_nr_county\n",
      "            print 'Household diffs'\n",
      "            print hh_diff_county\n",
      "            print 'Employment diffs'\n",
      "            print emp_diff_county\n",
      "            print 'Resunit diffs'\n",
      "            print ru_diff_county\n",
      "            print 'NR sqft diffs'\n",
      "            print nr_diff_county\n",
      "            \n",
      "    elapsed = time.time() - seconds_start\n",
      "    print \"TOTAL elapsed time: \" + str(elapsed) + \" seconds.\"\n",
      "    \n",
      "print 'Done running all three scenarios.'"
     ],
     "language": "python",
     "metadata": {},
     "outputs": [
      {
       "output_type": "stream",
       "stream": "stdout",
       "text": [
        "Running scenario: baseline\n",
        "1390950588.03\n",
        "Simulating year 2010\n",
        "1160387"
       ]
      },
      {
       "output_type": "stream",
       "stream": "stdout",
       "text": [
        "\n",
        "1606882\n",
        "1239015\n",
        "872568980\n",
        "Total new agents and movers = 1849"
       ]
      },
      {
       "output_type": "stream",
       "stream": "stdout",
       "text": [
        "\n",
        "Assigning units to 20 agents of segment 1"
       ]
      },
      {
       "output_type": "stream",
       "stream": "stdout",
       "text": [
        "\n",
        "Assigning units to 53 agents of segment 2\n",
        "Assigning units to 667 agents of segment 3\n",
        "Assigning units to 2 agents of segment 4"
       ]
      },
      {
       "output_type": "stream",
       "stream": "stdout",
       "text": [
        "\n",
        "Assigning units to 100 agents of segment 5\n",
        "Assigning units to 1007 agents of segment 6\n",
        "Assigned 1849 agents to 1681 locations with 0 unplaced\n",
        "Fetching annual_household_relocation_rates"
       ]
      },
      {
       "output_type": "stream",
       "stream": "stdout",
       "text": [
        "\n",
        "Fetching modify_table\n",
        "Histogram of relocation rates:"
       ]
      },
      {
       "output_type": "stream",
       "stream": "stdout",
       "text": [
        "\n",
        "0.0148    153792\n",
        "0.0000    148576\n",
        "0.0309    126137\n",
        "0.0274    124192\n",
        "0.0145    111425\n",
        "0.0311     73881\n",
        "0.0183     62880\n",
        "0.0348     57917\n",
        "0.0540     54238\n",
        "0.0184     48129\n",
        "0.0110     38269\n",
        "0.0220     30130\n",
        "0.0402     26160\n",
        "0.0099     19318\n",
        "0.0130     16762\n",
        "0.0124     16254\n",
        "0.0199     12650\n",
        "0.0111     11921\n",
        "0.0132     11878\n",
        "0.0117      9452\n",
        "0.0222      6426\n",
        "dtype: int64"
       ]
      },
      {
       "output_type": "stream",
       "stream": "stdout",
       "text": [
        "\n",
        "23917 agents are moving"
       ]
      },
      {
       "output_type": "stream",
       "stream": "stdout",
       "text": [
        "\n",
        "Total new agents and movers = 23917\n",
        "Assigning units to 5959 agents of segment 1"
       ]
      },
      {
       "output_type": "stream",
       "stream": "stdout",
       "text": [
        "\n",
        "num alts\n",
        "40268\n",
        "num agents\n",
        "5959\n",
        "Assigning units to 2238 agents of segment 2\n",
        "num alts\n",
        "24821\n",
        "num agents\n",
        "2238\n",
        "Assigning units to 14148 agents of segment 3\n",
        "num alts\n",
        "85388\n",
        "num agents\n",
        "14148\n",
        "Assigning units to 1572 agents of segment 4\n",
        "num alts\n",
        "54613\n",
        "num agents\n",
        "1572\n",
        "Assigned 23917 agents to 19278 locations with 0 unplaced\n",
        "PRE\n",
        "1239015\n",
        "872568980\n",
        "POST"
       ]
      },
      {
       "output_type": "stream",
       "stream": "stdout",
       "text": [
        "\n",
        "1239015\n",
        "872568980\n",
        "Total new agents and movers = 0"
       ]
      },
      {
       "output_type": "stream",
       "stream": "stdout",
       "text": [
        "\n",
        "Assigned 0 agents to 0 locations with 0 unplaced"
       ]
      },
      {
       "output_type": "stream",
       "stream": "stdout",
       "text": [
        "\n",
        "Total new agents and movers = 0"
       ]
      },
      {
       "output_type": "stream",
       "stream": "stdout",
       "text": [
        "\n",
        "Assigned 0 agents to 0 locations with 0 unplaced"
       ]
      },
      {
       "output_type": "stream",
       "stream": "stdout",
       "text": [
        "\n",
        "Annual totals\n",
        "1160387\n",
        "1606882\n",
        "1239015\n",
        "872568980\n",
        "Simulating year 2011\n",
        "Fetching annual_employment_control_totals"
       ]
      },
      {
       "output_type": "stream",
       "stream": "stdout",
       "text": [
        "\n",
        "Fetching modify_table"
       ]
      },
      {
       "output_type": "stream",
       "stream": "stdout",
       "text": [
        "\n",
        "                                 total_number_of_jobs\n",
        "sector_id_six home_based_status                      \n",
        "1             1                                  7276\n",
        "2             1                                 23908\n",
        "3             1                                  5197\n",
        "4             1                                 10395\n",
        "5             1                                 13513\n",
        "6             1                                 62368\n",
        "1             0                                 95218\n",
        "2             0                                312859\n",
        "3             0                                 68013\n",
        "4             0                                136026\n",
        "5             0                                176833\n",
        "6             0                                816154\n",
        "Adding agents to match target of 1727760 \n",
        "action"
       ]
      },
      {
       "output_type": "stream",
       "stream": "stdout",
       "text": [
        "\n",
        "-17256\n",
        "action"
       ]
      },
      {
       "output_type": "stream",
       "stream": "stdout",
       "text": [
        "\n",
        "279241\n",
        "action"
       ]
      },
      {
       "output_type": "stream",
       "stream": "stdout",
       "text": [
        "\n",
        "-287067\n",
        "action"
       ]
      },
      {
       "output_type": "stream",
       "stream": "stdout",
       "text": [
        "\n",
        "10696\n",
        "action\n",
        "-18043\n",
        "action"
       ]
      },
      {
       "output_type": "stream",
       "stream": "stdout",
       "text": [
        "\n",
        "30650\n",
        "Histogram of agents by year:\n"
       ]
      },
      {
       "output_type": "stream",
       "stream": "stdout",
       "text": [
        "2010    172027\n",
        "2011     26443\n",
        "dtype: int64\n",
        "Total new agents and movers = 26443\n",
        "Assigning units to 20830 agents of segment 2"
       ]
      },
      {
       "output_type": "stream",
       "stream": "stdout",
       "text": [
        "\n",
        "Assigning units to 713 agents of segment 4"
       ]
      },
      {
       "output_type": "stream",
       "stream": "stdout",
       "text": [
        "\n",
        "Assigning units to 4900 agents of segment 6"
       ]
      },
      {
       "output_type": "stream",
       "stream": "stdout",
       "text": [
        "\n",
        "WARNING: not enough options to fit agents, will result in unplaced agents\n",
        "Assigned 26443 agents to 16676 locations with 1 unplaced"
       ]
      },
      {
       "output_type": "stream",
       "stream": "stdout",
       "text": [
        "\n",
        "Fetching annual_household_control_totals\n",
        "Fetching modify_table\n",
        "total_number_of_households    23538\n",
        "persons                       45227\n",
        "dtype: int32\n",
        "Adding agents to match target of 68765 \n",
        "Histogram of agents by year:\n"
       ]
      },
      {
       "output_type": "stream",
       "stream": "stdout",
       "text": [
        "2010    1160387\n",
        "2011      23538\n",
        "dtype: int64\n",
        "Histogram of relocation rates:"
       ]
      },
      {
       "output_type": "stream",
       "stream": "stdout",
       "text": [
        "\n",
        "0.0148    156925\n",
        "0.0000    151545\n",
        "0.0309    128630\n",
        "0.0274    126758\n",
        "0.0145    113756\n",
        "0.0311     75374\n",
        "0.0183     64189\n",
        "0.0348     59127\n",
        "0.0540     55306\n",
        "0.0184     49089\n",
        "0.0110     39004\n",
        "0.0220     30777\n",
        "0.0402     26685\n",
        "0.0099     19695\n",
        "0.0130     17123\n",
        "0.0124     16549\n",
        "0.0199     12916\n",
        "0.0111     12169\n",
        "0.0132     12136\n",
        "0.0117      9621\n",
        "0.0222      6551\n",
        "dtype: int64"
       ]
      },
      {
       "output_type": "stream",
       "stream": "stdout",
       "text": [
        "\n",
        "24639 agents are moving\n",
        "Total new agents and movers = 47718"
       ]
      },
      {
       "output_type": "stream",
       "stream": "stdout",
       "text": [
        "\n",
        "Assigning units to 10922 agents of segment 1"
       ]
      },
      {
       "output_type": "stream",
       "stream": "stdout",
       "text": [
        "\n",
        "num alts\n",
        "39079\n",
        "num agents\n",
        "10922\n",
        "Assigning units to 4531 agents of segment 2\n",
        "num alts\n",
        "24333\n",
        "num agents\n",
        "4531\n",
        "Assigning units to 28878 agents of segment 3\n",
        "num alts\n",
        "83659\n",
        "num agents\n",
        "28878\n",
        "Assigning units to 3387 agents of segment 4\n",
        "num alts\n",
        "54200\n",
        "num agents\n",
        "3387\n",
        "Assigned 47718 agents to 37790 locations with 0 unplaced\n",
        "PRE"
       ]
      },
      {
       "output_type": "stream",
       "stream": "stdout",
       "text": [
        "\n",
        "1239015\n",
        "872568980\n",
        "Fetching target_vacancies"
       ]
      },
      {
       "output_type": "stream",
       "stream": "stdout",
       "text": [
        "\n",
        "Fetching modify_table\n",
        "New units to build (vacancy_diff * denom):\n",
        "building_type_id\n",
        "2                    9660.942503\n",
        "17                   1953.972060\n",
        "20                  33619.375373\n",
        "dtype: float64\n",
        "                             0\n",
        "building_type_id              \n",
        "2                  9660.942503\n",
        "17                 1953.972060\n",
        "20                33619.375373\n",
        "Adding agents to match target of 45234 \n",
        "action\n",
        "9660.9425035\n",
        "action"
       ]
      },
      {
       "output_type": "stream",
       "stream": "stdout",
       "text": [
        "\n",
        "1953.97205968\n",
        "action"
       ]
      },
      {
       "output_type": "stream",
       "stream": "stdout",
       "text": [
        "\n",
        "33619.3753733\n",
        "Histogram of agents by year:\n"
       ]
      },
      {
       "output_type": "stream",
       "stream": "stdout",
       "text": [
        "2011    28396\n",
        "dtype: int64\n",
        "POST\n",
        "1275862\n",
        "872846602\n",
        "Total new agents and movers = 28341"
       ]
      },
      {
       "output_type": "stream",
       "stream": "stdout",
       "text": [
        "\n",
        "Assigning units to 832 agents of segment 2"
       ]
      },
      {
       "output_type": "stream",
       "stream": "stdout",
       "text": [
        "\n",
        "Assigning units to 27509 agents of segment 20"
       ]
      },
      {
       "output_type": "stream",
       "stream": "stdout",
       "text": [
        "\n",
        "Assigned 28341 agents to 27764 locations with 0 unplaced"
       ]
      },
      {
       "output_type": "stream",
       "stream": "stdout",
       "text": [
        "\n",
        "Total new agents and movers = 55"
       ]
      },
      {
       "output_type": "stream",
       "stream": "stdout",
       "text": [
        "\n",
        "Assigning units to 55 agents of segment 17"
       ]
      },
      {
       "output_type": "stream",
       "stream": "stdout",
       "text": [
        "\n",
        "Assigned 55 agents to 18 locations with 0 unplaced"
       ]
      },
      {
       "output_type": "stream",
       "stream": "stdout",
       "text": [
        "\n",
        "Annual totals\n",
        "1183925\n",
        "1701488\n",
        "1275862"
       ]
      },
      {
       "output_type": "stream",
       "stream": "stdout",
       "text": [
        "\n",
        "872846602\n",
        "Simulating year 2012\n",
        "                                 total_number_of_jobs\n",
        "sector_id_six home_based_status                      \n",
        "1             1                                  7434\n",
        "2             1                                 24426\n",
        "3             1                                  5310\n",
        "4             1                                 10620\n",
        "5             1                                 13806\n",
        "6             1                                 63719\n",
        "1             0                                 97281\n",
        "2             0                                319637\n",
        "3             0                                 69486\n",
        "4             0                                138972\n",
        "5             0                                180664\n",
        "6             0                                833835"
       ]
      },
      {
       "output_type": "stream",
       "stream": "stdout",
       "text": [
        "\n",
        "Adding agents to match target of 1765190 \n",
        "action\n",
        "1228\n",
        "action\n",
        "6788\n",
        "action"
       ]
      },
      {
       "output_type": "stream",
       "stream": "stdout",
       "text": [
        "\n",
        "-93350\n",
        "action"
       ]
      },
      {
       "output_type": "stream",
       "stream": "stdout",
       "text": [
        "\n",
        "2952\n",
        "action"
       ]
      },
      {
       "output_type": "stream",
       "stream": "stdout",
       "text": [
        "\n",
        "3087\n",
        "action\n",
        "17682\n",
        "Histogram of agents by year:\n"
       ]
      },
      {
       "output_type": "stream",
       "stream": "stdout",
       "text": [
        "2010    161680\n",
        "2011     26443\n",
        "2012      3984\n",
        "dtype: int64\n",
        "Total new agents and movers = 3985\n",
        "Assigning units to 33 agents of segment 1"
       ]
      },
      {
       "output_type": "stream",
       "stream": "stdout",
       "text": [
        "\n",
        "Assigning units to 536 agents of segment 2"
       ]
      },
      {
       "output_type": "stream",
       "stream": "stdout",
       "text": [
        "\n",
        "WARNING: not enough options to fit agents, will result in unplaced agents\n",
        "WARNING: not enough options to fit agents, will result in unplaced agents\n",
        "Assigning units to 205 agents of segment 4"
       ]
      },
      {
       "output_type": "stream",
       "stream": "stdout",
       "text": [
        "\n",
        "Assigning units to 456 agents of segment 5"
       ]
      },
      {
       "output_type": "stream",
       "stream": "stdout",
       "text": [
        "\n",
        "Assigning units to 2755 agents of segment 6"
       ]
      },
      {
       "output_type": "stream",
       "stream": "stdout",
       "text": [
        "\n",
        "WARNING: not enough options to fit agents, will result in unplaced agents\n",
        "WARNING: not enough options to fit agents, will result in unplaced agents\n",
        "WARNING: not enough options to fit agents, will result in unplaced agents\n",
        "WARNING: not enough options to fit agents, will result in unplaced agents\n",
        "WARNING: not enough options to fit agents, will result in unplaced agents\n",
        "WARNING: not enough options to fit agents, will result in unplaced agents\n",
        "WARNING: not enough options to fit agents, will result in unplaced agents\n",
        "Assigned 3985 agents to 3490 locations with 9 unplaced"
       ]
      },
      {
       "output_type": "stream",
       "stream": "stdout",
       "text": [
        "\n",
        "total_number_of_households    23537\n",
        "persons                       45228\n",
        "dtype: int32\n",
        "Adding agents to match target of 68765 \n",
        "Histogram of agents by year:\n"
       ]
      },
      {
       "output_type": "stream",
       "stream": "stdout",
       "text": [
        "2010    1160387\n",
        "2011      23538\n",
        "2012      23537\n",
        "dtype: int64\n",
        "Histogram of relocation rates:"
       ]
      },
      {
       "output_type": "stream",
       "stream": "stdout",
       "text": [
        "\n",
        "0.0148    160106\n",
        "0.0000    154551\n",
        "0.0309    131231\n",
        "0.0274    129234\n",
        "0.0145    116026\n",
        "0.0311     76880\n",
        "0.0183     65458\n",
        "0.0348     60281\n",
        "0.0540     56383\n",
        "0.0184     50088\n",
        "0.0110     39821\n",
        "0.0220     31365\n",
        "0.0402     27205\n",
        "0.0099     20049\n",
        "0.0130     17468\n",
        "0.0124     16854\n",
        "0.0199     13180\n",
        "0.0111     12402\n",
        "0.0132     12388\n",
        "0.0117      9813\n",
        "0.0222      6679\n",
        "dtype: int64"
       ]
      },
      {
       "output_type": "stream",
       "stream": "stdout",
       "text": [
        "\n",
        "24845 agents are moving\n",
        "Total new agents and movers = 47912"
       ]
      },
      {
       "output_type": "stream",
       "stream": "stdout",
       "text": [
        "\n",
        "Assigning units to 10879 agents of segment 1"
       ]
      },
      {
       "output_type": "stream",
       "stream": "stdout",
       "text": [
        "\n",
        "num alts\n",
        "42476\n",
        "num agents\n",
        "10879\n",
        "Assigning units to 4518 agents of segment 2\n",
        "num alts\n",
        "21627\n",
        "num agents\n",
        "4518\n",
        "Assigning units to 29187 agents of segment 3\n",
        "num alts\n",
        "94997\n",
        "num agents\n",
        "29187\n",
        "Assigning units to 3328 agents of segment 4\n",
        "num alts\n",
        "51984\n",
        "num agents\n",
        "3328\n",
        "Assigned 47912 agents to 38946 locations with 0 unplaced"
       ]
      },
      {
       "output_type": "stream",
       "stream": "stdout",
       "text": [
        "\n",
        "PRE"
       ]
      },
      {
       "output_type": "stream",
       "stream": "stdout",
       "text": [
        "\n",
        "1275862\n",
        "872846602\n",
        "New units to build (vacancy_diff * denom):\n"
       ]
      },
      {
       "output_type": "stream",
       "stream": "stdout",
       "text": [
        "building_type_id\n",
        "2                   5554.415576\n",
        "3                   1086.061652\n",
        "8                    727.763518\n",
        "17                   229.940016\n",
        "20                  4192.467498\n",
        "dtype: float64\n",
        "                            0\n",
        "building_type_id             \n",
        "2                 5554.415576\n",
        "3                 1086.061652\n",
        "8                  727.763518\n",
        "17                 229.940016\n",
        "20                4192.467498\n",
        "Adding agents to match target of 11790 \n",
        "action\n",
        "5554.41557608\n",
        "action"
       ]
      },
      {
       "output_type": "stream",
       "stream": "stdout",
       "text": [
        "\n",
        "1086.06165205\n",
        "action"
       ]
      },
      {
       "output_type": "stream",
       "stream": "stdout",
       "text": [
        "\n",
        "727.763517588\n",
        "action"
       ]
      },
      {
       "output_type": "stream",
       "stream": "stdout",
       "text": [
        "\n",
        "229.940016036\n",
        "action"
       ]
      },
      {
       "output_type": "stream",
       "stream": "stdout",
       "text": [
        "\n",
        "4192.46749759\n",
        "Histogram of agents by year:\n"
       ]
      },
      {
       "output_type": "stream",
       "stream": "stdout",
       "text": [
        "2012    4108\n",
        "dtype: int64\n",
        "POST\n",
        "1285773\n",
        "873058221\n",
        "Total new agents and movers = 4091"
       ]
      },
      {
       "output_type": "stream",
       "stream": "stdout",
       "text": [
        "\n",
        "Assigning units to 514 agents of segment 2"
       ]
      },
      {
       "output_type": "stream",
       "stream": "stdout",
       "text": [
        "\n",
        "Assigning units to 104 agents of segment 3"
       ]
      },
      {
       "output_type": "stream",
       "stream": "stdout",
       "text": [
        "\n",
        "Assigning units to 3473 agents of segment 20"
       ]
      },
      {
       "output_type": "stream",
       "stream": "stdout",
       "text": [
        "\n",
        "Assigned 4091 agents to 3637 locations with 0 unplaced\n",
        "Total new agents and movers = 17"
       ]
      },
      {
       "output_type": "stream",
       "stream": "stdout",
       "text": [
        "\n",
        "Assigning units to 12 agents of segment 8"
       ]
      },
      {
       "output_type": "stream",
       "stream": "stdout",
       "text": [
        "\n",
        "Assigning units to 5 agents of segment 17\n",
        "Assigned 17 agents to 2 locations with 0 unplaced\n",
        "Annual totals"
       ]
      },
      {
       "output_type": "stream",
       "stream": "stdout",
       "text": [
        "\n",
        "1207462\n",
        "1657855\n",
        "1285773\n",
        "873058221\n",
        "{'households': [1160387], 'price': [], 'non_residential_sqft': [872568980], 'employment': [1605033], 'residential_units': [1239015]}\n",
        "Household diffs"
       ]
      },
      {
       "output_type": "stream",
       "stream": "stdout",
       "text": [
        "\n",
        "county_id\n",
        "8001          4700\n",
        "8005          6849\n",
        "8013          6376\n",
        "8014          2775\n",
        "8019           488\n",
        "8031          8500\n",
        "8035         10322\n",
        "8039           270\n",
        "8047           590\n",
        "8059          1993\n",
        "8123          4212\n",
        "dtype: int64\n",
        "Employment diffs\n",
        "county_id\n",
        "8001          -429\n",
        "8005         -8482\n",
        "8013          3766\n",
        "8014          4134\n",
        "8019          -216\n",
        "8031         41667\n",
        "8035         -2211\n",
        "8039          -331\n",
        "8047          1086\n",
        "8059          1882\n",
        "8123          5695\n",
        "Name: employees, dtype: int32\n",
        "Resunit diffs\n",
        "county_id\n",
        "8001          4495\n",
        "8005          5290\n",
        "8013          5302\n",
        "8014           675\n",
        "8019          5011\n",
        "8031          7850\n",
        "8035          5247\n",
        "8039           416\n",
        "8047           359\n",
        "8059         10159\n",
        "8123          1954\n",
        "Name: residential_units, dtype: int32\n",
        "NR sqft diffs\n",
        "county_id\n",
        "8001              0\n",
        "8005           9627\n",
        "8013         114458\n",
        "8014           4703\n",
        "8019          60400\n",
        "8031          75615\n",
        "8035          26512\n",
        "8039              0\n",
        "8047              0\n",
        "8059         197926\n",
        "8123              0\n",
        "Name: non_residential_sqft, dtype: int32\n",
        "TOTAL elapsed time: 43.6210000515 seconds.\n",
        "Done running all three scenarios.\n"
       ]
      }
     ],
     "prompt_number": 2
    },
    {
     "cell_type": "code",
     "collapsed": false,
     "input": [
      "b = dset.fetch('buildings')\n",
      "b = b[['building_type_id','improvement_value','land_area','non_residential_sqft','parcel_id','residential_units','sqft_per_unit','stories','tax_exempt','year_built','bldg_sq_ft','unit_price_non_residential','unit_price_residential','building_sqft_per_job','non_residential_units','base_year_jobs','all_units']]"
     ],
     "language": "python",
     "metadata": {},
     "outputs": [],
     "prompt_number": 4
    },
    {
     "cell_type": "code",
     "collapsed": false,
     "input": [
      "parcels = dset.fetch('parcels')"
     ],
     "language": "python",
     "metadata": {},
     "outputs": [],
     "prompt_number": 8
    },
    {
     "cell_type": "code",
     "collapsed": false,
     "input": [
      "parcels"
     ],
     "language": "python",
     "metadata": {},
     "outputs": [
      {
       "html": [
        "<pre>\n",
        "&lt;class 'pandas.core.frame.DataFrame'&gt;\n",
        "Int64Index: 949484 entries, 985323 to 658763\n",
        "Data columns (total 22 columns):\n",
        "county_id                949484  non-null values\n",
        "parcel_sqft              949484  non-null values\n",
        "land_value               949484  non-null values\n",
        "zone_id                  949484  non-null values\n",
        "city_id                  949484  non-null values\n",
        "gen_lu_type_id           949484  non-null values\n",
        "lu_type_id               949484  non-null values\n",
        "tax_exempt_flag          949484  non-null values\n",
        "school_district          949484  non-null values\n",
        "zoning_id                949484  non-null values\n",
        "dist_bus                 949484  non-null values\n",
        "dist_rail                949484  non-null values\n",
        "in_ugb                   949484  non-null values\n",
        "in_uga                   949484  non-null values\n",
        "env_constr_park          949484  non-null values\n",
        "env_constr_lake          949484  non-null values\n",
        "env_constr_floodplain    949484  non-null values\n",
        "env_constr_river         949484  non-null values\n",
        "env_constr_landslide     949484  non-null values\n",
        "far_id                   949484  non-null values\n",
        "prop_constrained         949484  non-null values\n",
        "in_denver                949484  non-null values\n",
        "dtypes: float32(7), int32(15)\n",
        "</pre>"
       ],
       "metadata": {},
       "output_type": "pyout",
       "prompt_number": 9,
       "text": [
        "<class 'pandas.core.frame.DataFrame'>\n",
        "Int64Index: 949484 entries, 985323 to 658763\n",
        "Data columns (total 22 columns):\n",
        "county_id                949484  non-null values\n",
        "parcel_sqft              949484  non-null values\n",
        "land_value               949484  non-null values\n",
        "zone_id                  949484  non-null values\n",
        "city_id                  949484  non-null values\n",
        "gen_lu_type_id           949484  non-null values\n",
        "lu_type_id               949484  non-null values\n",
        "tax_exempt_flag          949484  non-null values\n",
        "school_district          949484  non-null values\n",
        "zoning_id                949484  non-null values\n",
        "dist_bus                 949484  non-null values\n",
        "dist_rail                949484  non-null values\n",
        "in_ugb                   949484  non-null values\n",
        "in_uga                   949484  non-null values\n",
        "env_constr_park          949484  non-null values\n",
        "env_constr_lake          949484  non-null values\n",
        "env_constr_floodplain    949484  non-null values\n",
        "env_constr_river         949484  non-null values\n",
        "env_constr_landslide     949484  non-null values\n",
        "far_id                   949484  non-null values\n",
        "prop_constrained         949484  non-null values\n",
        "in_denver                949484  non-null values\n",
        "dtypes: float32(7), int32(15)"
       ]
      }
     ],
     "prompt_number": 9
    },
    {
     "cell_type": "code",
     "collapsed": false,
     "input": [
      "zoning = dset.fetch('zoning')\n",
      "fars = dset.fetch('fars')"
     ],
     "language": "python",
     "metadata": {},
     "outputs": [
      {
       "output_type": "stream",
       "stream": "stdout",
       "text": [
        "Fetching zoning\n",
        "Fetching modify_table\n",
        "Fetching fars\n",
        "Fetching modify_table\n"
       ]
      }
     ],
     "prompt_number": 10
    },
    {
     "cell_type": "code",
     "collapsed": false,
     "input": [
      "fars"
     ],
     "language": "python",
     "metadata": {},
     "outputs": [
      {
       "html": [
        "<pre>\n",
        "&lt;class 'pandas.core.frame.DataFrame'&gt;\n",
        "Int64Index: 2336 entries, 2836024 to 3034031\n",
        "Data columns (total 3 columns):\n",
        "far                  2336  non-null values\n",
        "place_description    2336  non-null values\n",
        "far_flag             2336  non-null values\n",
        "dtypes: float32(1), int32(1), object(1)\n",
        "</pre>"
       ],
       "metadata": {},
       "output_type": "pyout",
       "prompt_number": 12,
       "text": [
        "<class 'pandas.core.frame.DataFrame'>\n",
        "Int64Index: 2336 entries, 2836024 to 3034031\n",
        "Data columns (total 3 columns):\n",
        "far                  2336  non-null values\n",
        "place_description    2336  non-null values\n",
        "far_flag             2336  non-null values\n",
        "dtypes: float32(1), int32(1), object(1)"
       ]
      }
     ],
     "prompt_number": 12
    }
   ],
   "metadata": {}
  }
 ]
}