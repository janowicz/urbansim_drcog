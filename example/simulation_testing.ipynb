{
 "metadata": {
  "name": ""
 },
 "nbformat": 3,
 "nbformat_minor": 0,
 "worksheets": [
  {
   "cells": [
    {
     "cell_type": "code",
     "collapsed": false,
     "input": [
      "import numpy as np, pandas as pd, os, statsmodels.api as sm\n",
      "import synthicity.urbansim.interaction as interaction\n",
      "from synthicity.utils import misc\n",
      "import dataset, copy, time, math\n",
      "dset = dataset.DRCOGDataset(os.path.join(misc.data_dir(),'drcog.h5'))\n",
      "np.random.seed(1)\n",
      "sim_year = 2011 ##For testing.  This is first_year, actual_year in the actual simulation code.\n",
      "scenario = 'baseline' ##For testing\n",
      "\n",
      "#VARIABLE LIBRARY\n",
      "#parcel\n",
      "p = dset.fetch('parcels')\n",
      "p['in_denver'] = (p.county_id==8031).astype('int32')\n",
      "#building\n",
      "b = dset.fetch('buildings')\n",
      "b['zone_id'] = p.zone_id[b.parcel_id].values\n",
      "#b['btype_dplcm'] = 1*(b.building_type_id==2) + 2*(b.building_type_id==3) + 3*(b.building_type_id==20) + 4*(b.building_type_id==24) + 6*np.invert(np.in1d(b.building_type_id,[2,3,20,24]))\n",
      "b['btype_hlcm'] = 1*(b.building_type_id==2) + 2*(b.building_type_id==3) + 3*(b.building_type_id==20) + 4*np.invert(np.in1d(b.building_type_id,[2,3,20]))\n",
      "#household\n",
      "hh_estim = dset.fetch('households_for_estimation')\n",
      "hh = dset.fetch('households')\n",
      "for table in [hh_estim, hh]:\n",
      "    choosers = table\n",
      "    choosers['building_type_id'] = b.building_type_id[choosers.building_id].values\n",
      "    choosers['btype'] = 1*(choosers.building_type_id==2) + 2*(choosers.building_type_id==3) + 3*(choosers.building_type_id==20) + 4*np.invert(np.in1d(choosers.building_type_id,[2,3,20]))\n",
      "#establishment\n",
      "e = dset.fetch('establishments')\n",
      "e['sector_id_six'] = 1*(e.sector_id==61) + 2*(e.sector_id==71) + 3*np.in1d(e.sector_id,[11,21,22,23,31,32,33,42,48,49]) + 4*np.in1d(e.sector_id,[7221,7222,7224]) + 5*np.in1d(e.sector_id,[44,45,7211,7212,7213,7223]) + 6*np.in1d(e.sector_id,[51,52,53,54,55,56,62,81,92])\n",
      "#zone\n",
      "z = dset.fetch('zones')\n",
      "z['residential_units_zone'] = b.groupby('zone_id').residential_units.sum()\n",
      "z['non_residential_sqft_zone'] = b.groupby('zone_id').non_residential_sqft.sum()\n",
      "z['percent_sf'] = b[b.btype_hlcm==3].groupby('zone_id').residential_units.sum()*100.0/(b.groupby('zone_id').residential_units.sum())\n",
      "#merge parcels with zones\n",
      "pz = pd.merge(p,z,left_on='zone_id',right_index=True)\n",
      "#merge buildings with parcels/zones\n",
      "bpz = pd.merge(b,pz,left_on='parcel_id',right_index=True)\n",
      "bpz['residential_units_capacity'] = bpz.parcel_sqft/1500 - bpz.residential_units\n",
      "bpz.residential_units_capacity[bpz.residential_units_capacity<0] = 0\n",
      "dset.d['buildings'] = bpz\n",
      "\n",
      "###########################\n",
      "print 'HLCM'\n",
      "##HCLM ESTIMATION\n",
      "\n",
      "depvar = 'building_id'\n",
      "SAMPLE_SIZE=100 ##for alts\n",
      "max_segment_size = 1200 ##for obs\n",
      "estimation_table = 'households_for_estimation'\n",
      "output_csv, output_title, coeff_name, output_varname = (\"drcog-coeff-hlcm-%s.csv\",\"DRCOG HOUSEHOLD LOCATION CHOICE MODELS (%s)\",\"hh_location_%s\",\"household_building_ids\")\n",
      "agents_groupby_txt = ['btype',]\n",
      "\n",
      "choosers = dset.fetch(estimation_table)\n",
      "#Filter on agents\n",
      "\n",
      "#ALTS\n",
      "alternatives = dset.buildings  #alternatives = dset.buildings[(dset.buildings.residential_units>0)]\n",
      "##We have 4 markets-  1. apartment, 2. condo, 3. single family, 4. townhome and other\n",
      "alts1 = alternatives[alternatives.btype_hlcm==1]\n",
      "alts2 = alternatives[alternatives.btype_hlcm==2]\n",
      "alts3 = alternatives[alternatives.btype_hlcm==3]\n",
      "alts4 = alternatives[alternatives.btype_hlcm==4]\n",
      "ind_vars1=['residential_units_zone','non_residential_sqft_zone','allpurpose_agglosum','acreage','unit_price_residential','in_denver']\n",
      "ind_vars2=['residential_units_zone','non_residential_sqft_zone','allpurpose_agglosum','acreage','unit_price_residential','in_denver']\n",
      "ind_vars3=['residential_units_zone','non_residential_sqft_zone','allpurpose_agglosum','acreage','unit_price_residential','in_denver']\n",
      "ind_vars4=['residential_units_zone','non_residential_sqft_zone','allpurpose_agglosum','acreage','unit_price_residential','in_denver']\n",
      "\n",
      "segments = choosers.groupby(agents_groupby_txt)\n",
      "for name, segment in segments:\n",
      "    if name == 1:\n",
      "        alts = alts1\n",
      "        ind_vars = ind_vars1\n",
      "    if name == 2:\n",
      "        alts = alts2\n",
      "        ind_vars = ind_vars2\n",
      "    if name == 3:\n",
      "        alts = alts3\n",
      "        ind_vars = ind_vars3\n",
      "    if name == 4:\n",
      "        alts = alts4\n",
      "        ind_vars = ind_vars4\n",
      "    name = str(name)\n",
      "    tmp_outcsv, tmp_outtitle, tmp_coeffname = output_csv%name, output_title%name, coeff_name%name\n",
      "    if len(segment[depvar]) > max_segment_size: #reduce size of segment if too big so things don't bog down\n",
      "        segment = segment.ix[np.random.choice(segment.index, max_segment_size,replace=False)]\n",
      "    #,weight_var='residential_units')\n",
      "    sample, alternative_sample, est_params = interaction.mnl_interaction_dataset(segment,alts,SAMPLE_SIZE,chosenalts=segment[depvar])\n",
      "    ##Interaction variables defined here\n",
      "    print \"Estimating parameters for segment = %s, size = %d\" % (name, len(segment.index)) \n",
      "    if len(segment.index) > 50:\n",
      "        est_data = pd.DataFrame(index=alternative_sample.index)\n",
      "        for varname in ind_vars:\n",
      "            est_data[varname] = alternative_sample[varname]\n",
      "        est_data = est_data.fillna(0)\n",
      "        data = est_data.as_matrix()\n",
      "        try:\n",
      "            fit, results = interaction.estimate(data, est_params, SAMPLE_SIZE)\n",
      "            fnames = interaction.add_fnames(ind_vars,est_params)\n",
      "            print misc.resultstotable(fnames,results)\n",
      "            misc.resultstocsv(fit,fnames,results,tmp_outcsv,tblname=tmp_outtitle)\n",
      "            dset.store_coeff(tmp_coeffname,zip(*results)[0],fnames)\n",
      "        except:\n",
      "            print 'SINGULAR MATRIX OR OTHER DATA/ESTIMATION PROBLEM'\n",
      "    else:\n",
      "        print 'SAMPLE SIZE TOO SMALL'\n",
      "        \n",
      "########################\n",
      "print 'ELCM'\n",
      "#ELCM ESTIMATION\n",
      "\n",
      "depvar = 'building_id'\n",
      "SAMPLE_SIZE=100 ##for alts\n",
      "max_segment_size = 1200 ##for obs\n",
      "estimation_table = 'establishments'\n",
      "output_csv, output_title, coeff_name, output_varname = (\"drcog-coeff-elcm-%s.csv\",\"DRCOG EMPLOYMENT LOCATION CHOICE MODELS (%s)\",\"emp_location_%s\",\"establishment_building_ids\")\n",
      "agents_groupby_txt = ['sector_id_six',]\n",
      "\n",
      "choosers = dset.fetch(estimation_table)\n",
      "#Filter on agents\n",
      "choosers = choosers[(choosers.building_id>0)*(choosers.home_based_status==0)]\n",
      "#ALTS\n",
      "alts = dset.buildings  #alts = dset.buildings[(dset.buildings.non_residential_sqft>0)]\n",
      "ind_vars1=['residential_units_zone','non_residential_sqft_zone','allpurpose_agglosum','acreage','unit_price_non_residential','in_denver',]\n",
      "ind_vars2=['residential_units_zone','non_residential_sqft_zone','allpurpose_agglosum','acreage','unit_price_non_residential','in_denver',]\n",
      "ind_vars3=['residential_units_zone','non_residential_sqft_zone','allpurpose_agglosum','acreage','unit_price_non_residential','in_denver',]\n",
      "ind_vars4=['residential_units_zone','non_residential_sqft_zone','allpurpose_agglosum','acreage','unit_price_non_residential','in_denver',]\n",
      "ind_vars5=['residential_units_zone','non_residential_sqft_zone','allpurpose_agglosum','acreage','unit_price_non_residential','in_denver',]\n",
      "ind_vars6=['residential_units_zone','non_residential_sqft_zone','allpurpose_agglosum','acreage','unit_price_non_residential','in_denver',]\n",
      "\n",
      "segments = choosers.groupby(agents_groupby_txt)\n",
      "for name, segment in segments:\n",
      "    print name\n",
      "    if name == 1:\n",
      "        ind_vars = ind_vars1\n",
      "    if name == 2:\n",
      "        ind_vars = ind_vars2\n",
      "    if name == 3:\n",
      "        ind_vars = ind_vars3\n",
      "    if name == 4:\n",
      "        ind_vars = ind_vars4\n",
      "    if name == 5:\n",
      "        ind_vars = ind_vars5\n",
      "    if name == 6:\n",
      "        ind_vars = ind_vars6\n",
      "    name = str(name)\n",
      "    tmp_outcsv, tmp_outtitle, tmp_coeffname = output_csv%name, output_title%name, coeff_name%name\n",
      "    if len(segment[depvar]) > max_segment_size: #reduce size of segment if too big so things don't bog down\n",
      "        segment = segment.ix[np.random.choice(segment.index, max_segment_size,replace=False)]\n",
      "    #,weight_var='non_residential_sqft')\n",
      "    sample, alternative_sample, est_params = interaction.mnl_interaction_dataset(segment,alts,SAMPLE_SIZE,chosenalts=segment[depvar])\n",
      "    ##Interaction variables defined here\n",
      "    print \"Estimating parameters for segment = %s, size = %d\" % (name, len(segment.index)) \n",
      "    if len(segment.index) > 50:\n",
      "        est_data = pd.DataFrame(index=alternative_sample.index)\n",
      "        for varname in ind_vars:\n",
      "            est_data[varname] = alternative_sample[varname]\n",
      "        est_data = est_data.fillna(0)\n",
      "        data = est_data.as_matrix()\n",
      "        try:\n",
      "            fit, results = interaction.estimate(data, est_params, SAMPLE_SIZE)\n",
      "            fnames = interaction.add_fnames(ind_vars,est_params)\n",
      "            print misc.resultstotable(fnames,results)\n",
      "            misc.resultstocsv(fit,fnames,results,tmp_outcsv,tblname=tmp_outtitle)\n",
      "            dset.store_coeff(tmp_coeffname,zip(*results)[0],fnames)\n",
      "        except:\n",
      "            print 'SINGULAR MATRIX OR OTHER DATA/ESTIMATION PROBLEM'\n",
      "    else:\n",
      "        print 'SAMPLE SIZE TOO SMALL'\n",
      "        \n",
      "\n",
      "######################\n",
      "print 'RDPLCM'\n",
      "##RDPLCM ESTIMATION\n",
      "\n",
      "depvar = 'parcel_id'\n",
      "SAMPLE_SIZE=100 ##for alts\n",
      "max_segment_size = 1200 ##for obs\n",
      "estimation_table = 'buildings'\n",
      "output_csv, output_title, coeff_name, output_varname = (\"drcog-coeff-rdplcm-%s.csv\",\"DRCOG RES DEVPROJECT LOCATION CHOICE MODELS (%s)\",\"rdp_location_%s\",\"resbuilding_parcel_ids\")\n",
      "agents_groupby_txt = ['building_type_id',]\n",
      "\n",
      "choosers = dset.store[estimation_table]\n",
      "#Filter on agents\n",
      "choosers = choosers[(np.in1d(choosers.building_type_id,[2,3,20,24]))*(choosers.year_built>2002)]\n",
      "#ALTS\n",
      "alternatives = dset.parcels  #alternatives = dset.buildings[(dset.buildings.residential_units>0)]\n",
      "##We have 4 markets-  1. apartment, 2. condo, 3. single family, 4. townhome and other\n",
      "# alts1 = alternatives[alternatives.btype_hlcm==1]\n",
      "# alts2 = alternatives[alternatives.btype_hlcm==2]\n",
      "# alts3 = alternatives[alternatives.btype_hlcm==3]\n",
      "# alts4 = alternatives[alternatives.btype_hlcm==4]\n",
      "##Need to break alternatives down by allowable use during simulation\n",
      "alts1 = alternatives\n",
      "alts2 = alternatives\n",
      "alts3 = alternatives\n",
      "alts4 = alternatives\n",
      "ind_vars1=['parcel_sqft','dist_bus','dist_rail','land_value']\n",
      "ind_vars2=['parcel_sqft','dist_bus','dist_rail','land_value']\n",
      "ind_vars3=['parcel_sqft','dist_bus','dist_rail','land_value']\n",
      "ind_vars4=['parcel_sqft','dist_bus','dist_rail','land_value']\n",
      "\n",
      "segments = choosers.groupby(agents_groupby_txt)\n",
      "for name, segment in segments:\n",
      "    if name == 2:\n",
      "        alts = alts1\n",
      "        ind_vars = ind_vars1\n",
      "    if name == 3:\n",
      "        alts = alts2\n",
      "        ind_vars = ind_vars2\n",
      "    if name == 20:\n",
      "        alts = alts3\n",
      "        ind_vars = ind_vars3\n",
      "    if name == 24:\n",
      "        alts = alts4\n",
      "        ind_vars = ind_vars4\n",
      "    name = str(name)\n",
      "    tmp_outcsv, tmp_outtitle, tmp_coeffname = output_csv%name, output_title%name, coeff_name%name\n",
      "    if len(segment[depvar]) > max_segment_size: #reduce size of segment if too big so things don't bog down\n",
      "        segment = segment.ix[np.random.choice(segment.index, max_segment_size,replace=False)]\n",
      "    #,weight_var='parcel_sqft')\n",
      "    sample, alternative_sample, est_params = interaction.mnl_interaction_dataset(segment,alts,SAMPLE_SIZE,chosenalts=segment[depvar])\n",
      "    ##Interaction variables defined here\n",
      "    print \"Estimating parameters for segment = %s, size = %d\" % (name, len(segment.index)) \n",
      "    if len(segment.index) > 50:\n",
      "        est_data = pd.DataFrame(index=alternative_sample.index)\n",
      "        for varname in ind_vars:\n",
      "            est_data[varname] = alternative_sample[varname]\n",
      "        est_data = est_data.fillna(0)\n",
      "        data = est_data.as_matrix()\n",
      "        try:\n",
      "            fit, results = interaction.estimate(data, est_params, SAMPLE_SIZE)\n",
      "            fnames = interaction.add_fnames(ind_vars,est_params)\n",
      "            print misc.resultstotable(fnames,results)\n",
      "            misc.resultstocsv(fit,fnames,results,tmp_outcsv,tblname=tmp_outtitle)\n",
      "            dset.store_coeff(tmp_coeffname,zip(*results)[0],fnames)\n",
      "        except:\n",
      "            print 'SINGULAR MATRIX OR OTHER DATA/ESTIMATION PROBLEM'\n",
      "    else:\n",
      "        print 'SAMPLE SIZE TOO SMALL'\n",
      "\n",
      "\n",
      "###########################\n",
      "print 'NRDPLCM'\n",
      "##NRDPLCM ESTIMATION\n",
      "\n",
      "depvar = 'parcel_id'\n",
      "SAMPLE_SIZE=100 ##for alts\n",
      "max_segment_size = 1200 ##for obs\n",
      "estimation_table = 'buildings'\n",
      "output_csv, output_title, coeff_name, output_varname = (\"drcog-coeff-nrdplcm-%s.csv\",\"DRCOG NONRES DEVPROJECT LOCATION CHOICE MODELS (%s)\",\"nrdp_location_%s\",\"nonresbuilding_parcel_ids\")\n",
      "agents_groupby_txt = ['building_type_id',]\n",
      "\n",
      "choosers = dset.store[estimation_table]\n",
      "#Filter on agents\n",
      "##Commercial\n",
      "choosers = choosers[(np.in1d(choosers.building_type_id,[5,8,11,16,17,18,21,23,9,22]))*(choosers.year_built>2000)] ##9 and 22 are industrial and should have different allowable parcels\n",
      "#ALTS\n",
      "alternatives = dset.parcels  #alternatives = dset.buildings[(dset.buildings.residential_units>0)]\n",
      "##We have 4 markets-  1. apartment, 2. condo, 3. single family, 4. townhome and other\n",
      "# alts1 = alternatives[alternatives.btype_hlcm==1]\n",
      "# alts2 = alternatives[alternatives.btype_hlcm==2]\n",
      "# alts3 = alternatives[alternatives.btype_hlcm==3]\n",
      "# alts4 = alternatives[alternatives.btype_hlcm==4]\n",
      "##Need to break alternatives down by allowable use during simulation\n",
      "alts1 = alternatives\n",
      "alts2 = alternatives\n",
      "alts3 = alternatives\n",
      "alts4 = alternatives\n",
      "alts5 = alternatives\n",
      "alts6 = alternatives\n",
      "alts7 = alternatives\n",
      "alts8 = alternatives\n",
      "alts9 = alternatives\n",
      "alts10 = alternatives\n",
      "ind_vars1=['parcel_sqft','dist_bus','dist_rail','land_value']\n",
      "ind_vars2=['parcel_sqft','dist_bus','dist_rail','land_value']\n",
      "ind_vars3=['parcel_sqft','dist_bus','dist_rail','land_value']\n",
      "ind_vars4=['parcel_sqft','dist_bus','dist_rail','land_value']\n",
      "ind_vars5=['parcel_sqft','dist_bus','dist_rail','land_value']\n",
      "ind_vars6=['parcel_sqft','dist_bus','dist_rail','land_value']\n",
      "ind_vars7=['parcel_sqft','dist_bus','dist_rail','land_value']\n",
      "ind_vars8=['parcel_sqft','dist_bus','dist_rail','land_value']\n",
      "ind_vars9=['parcel_sqft','dist_bus','dist_rail','land_value']\n",
      "ind_vars10=['parcel_sqft','dist_bus','dist_rail','land_value']\n",
      "\n",
      "segments = choosers.groupby(agents_groupby_txt)\n",
      "for name, segment in segments:\n",
      "    if name == 5:\n",
      "        alts = alts1\n",
      "        ind_vars = ind_vars1\n",
      "    if name == 8:\n",
      "        alts = alts2\n",
      "        ind_vars = ind_vars2\n",
      "    if name == 11:\n",
      "        alts = alts3\n",
      "        ind_vars = ind_vars3\n",
      "    if name == 16:\n",
      "        alts = alts4\n",
      "        ind_vars = ind_vars4\n",
      "    if name == 17:\n",
      "        alts = alts5\n",
      "        ind_vars = ind_vars5\n",
      "    if name == 18:\n",
      "        alts = alts6\n",
      "        ind_vars = ind_vars6\n",
      "    if name == 21:\n",
      "        alts = alts7\n",
      "        ind_vars = ind_vars7\n",
      "    if name == 23:\n",
      "        alts = alts8\n",
      "        ind_vars = ind_vars8\n",
      "    if name == 9:\n",
      "        alts = alts9\n",
      "        ind_vars = ind_vars9\n",
      "    if name == 22:\n",
      "        alts = alts10\n",
      "        ind_vars = ind_vars10\n",
      "    name = str(name)\n",
      "    tmp_outcsv, tmp_outtitle, tmp_coeffname = output_csv%name, output_title%name, coeff_name%name\n",
      "    if len(segment[depvar]) > max_segment_size: #reduce size of segment if too big so things don't bog down\n",
      "        segment = segment.ix[np.random.choice(segment.index, max_segment_size,replace=False)]\n",
      "    #,weight_var='parcel_sqft')\n",
      "    sample, alternative_sample, est_params = interaction.mnl_interaction_dataset(segment,alts,SAMPLE_SIZE,chosenalts=segment[depvar])\n",
      "    ##Interaction variables defined here\n",
      "    print \"Estimating parameters for segment = %s, size = %d\" % (name, len(segment.index)) \n",
      "    if len(segment.index) > 50:\n",
      "        est_data = pd.DataFrame(index=alternative_sample.index)\n",
      "        for varname in ind_vars:\n",
      "            est_data[varname] = alternative_sample[varname]\n",
      "        est_data = est_data.fillna(0)\n",
      "        data = est_data.as_matrix()\n",
      "        try:\n",
      "            fit, results = interaction.estimate(data, est_params, SAMPLE_SIZE)\n",
      "            fnames = interaction.add_fnames(ind_vars,est_params)\n",
      "            print misc.resultstotable(fnames,results)\n",
      "            misc.resultstocsv(fit,fnames,results,tmp_outcsv,tblname=tmp_outtitle)\n",
      "            dset.store_coeff(tmp_coeffname,zip(*results)[0],fnames)\n",
      "        except:\n",
      "            print 'SINGULAR MATRIX OR OTHER DATA/ESTIMATION PROBLEM'\n",
      "    else:\n",
      "        print 'SAMPLE SIZE TOO SMALL'"
     ],
     "language": "python",
     "metadata": {},
     "outputs": [
      {
       "output_type": "stream",
       "stream": "stdout",
       "text": [
        "Fetching parcels\n",
        "Fetching modify_table"
       ]
      },
      {
       "output_type": "stream",
       "stream": "stdout",
       "text": [
        "\n",
        "Fetching buildings\n",
        "Fetching establishments"
       ]
      },
      {
       "output_type": "stream",
       "stream": "stdout",
       "text": [
        "\n",
        "Fetching modify_table"
       ]
      },
      {
       "output_type": "stream",
       "stream": "stdout",
       "text": [
        "\n",
        "Fetching modify_table"
       ]
      },
      {
       "output_type": "stream",
       "stream": "stdout",
       "text": [
        "\n",
        "Fetching households_for_estimation"
       ]
      },
      {
       "output_type": "stream",
       "stream": "stdout",
       "text": [
        "\n",
        "Fetching modify_table\n",
        "Fetching households\n",
        "Fetching modify_table"
       ]
      },
      {
       "output_type": "stream",
       "stream": "stdout",
       "text": [
        "\n",
        "Fetching zones"
       ]
      },
      {
       "output_type": "stream",
       "stream": "stdout",
       "text": [
        "\n",
        "Fetching modify_table"
       ]
      },
      {
       "output_type": "stream",
       "stream": "stdout",
       "text": [
        "\n",
        "HLCM"
       ]
      },
      {
       "output_type": "stream",
       "stream": "stdout",
       "text": [
        "\n",
        "Estimating parameters for segment = 1, size = 231"
       ]
      },
      {
       "output_type": "stream",
       "stream": "stdout",
       "text": [
        "\n",
        "Null Log-liklihood: -1063.794313"
       ]
      },
      {
       "output_type": "stream",
       "stream": "stdout",
       "text": [
        "\n",
        "Log-liklihood at convergence: -1054.144792\n",
        "Log-liklihood ratio: 0.009071\n",
        "+---------------------------+-------------+--------+---------+--------------+\n",
        "|         Variables         | Coefficient | Stderr | T-score | Significance |\n",
        "+===========================+=============+========+=========+==============+\n",
        "|    residential units zone |           0 |      0 |   2.980 | **           |\n",
        "+---------------------------+-------------+--------+---------+--------------+\n",
        "| non residential sqft zone |           0 |      0 |   2.750 | **           |\n",
        "+---------------------------+-------------+--------+---------+--------------+\n",
        "|       allpurpose agglosum |           0 |  0.010 |   0.020 |              |\n",
        "+---------------------------+-------------+--------+---------+--------------+\n",
        "|                   acreage |           0 |      0 |  -5.420 | ***          |\n",
        "+---------------------------+-------------+--------+---------+--------------+\n",
        "|    unit price residential |           0 |      0 |   0.420 |              |\n",
        "+---------------------------+-------------+--------+---------+--------------+\n",
        "|                 in denver |           0 |  0.150 |       0 |              |\n",
        "+---------------------------+-------------+--------+---------+--------------+\n",
        "Estimating parameters for segment = 2, size = 162\n",
        "Null Log-liklihood: -746.037570"
       ]
      },
      {
       "output_type": "stream",
       "stream": "stdout",
       "text": [
        "\n",
        "Log-liklihood at convergence: -707.611829\n",
        "Log-liklihood ratio: 0.051506\n",
        "+---------------------------+-------------+--------+---------+--------------+\n",
        "|         Variables         | Coefficient | Stderr | T-score | Significance |\n",
        "+===========================+=============+========+=========+==============+\n",
        "|    residential units zone |           0 |      0 |   5.400 | ***          |\n",
        "+---------------------------+-------------+--------+---------+--------------+\n",
        "| non residential sqft zone |           0 |      0 |   0.360 |              |\n",
        "+---------------------------+-------------+--------+---------+--------------+\n",
        "|       allpurpose agglosum |           0 |  0.020 |   0.080 |              |\n",
        "+---------------------------+-------------+--------+---------+--------------+\n",
        "|                   acreage |           0 |      0 |  -6.880 | ***          |\n",
        "+---------------------------+-------------+--------+---------+--------------+\n",
        "|    unit price residential |           0 |      0 |   2.530 | **           |\n",
        "+---------------------------+-------------+--------+---------+--------------+\n",
        "|                 in denver |           0 |  0.210 |   0.010 |              |\n",
        "+---------------------------+-------------+--------+---------+--------------+\n",
        "Estimating parameters for segment = 3, size = 887"
       ]
      },
      {
       "output_type": "stream",
       "stream": "stdout",
       "text": [
        "\n",
        "Null Log-liklihood: -4084.785955"
       ]
      },
      {
       "output_type": "stream",
       "stream": "stdout",
       "text": [
        "\n",
        "Log-liklihood at convergence: -4065.367622\n",
        "Log-liklihood ratio: 0.004754\n",
        "+---------------------------+-------------+--------+---------+--------------+\n",
        "|         Variables         | Coefficient | Stderr | T-score | Significance |\n",
        "+===========================+=============+========+=========+==============+\n",
        "|    residential units zone |           0 |      0 |   0.330 |              |\n",
        "+---------------------------+-------------+--------+---------+--------------+\n",
        "| non residential sqft zone |           0 |      0 |   0.180 |              |\n",
        "+---------------------------+-------------+--------+---------+--------------+\n",
        "|       allpurpose agglosum |           0 |  0.010 |       0 |              |\n",
        "+---------------------------+-------------+--------+---------+--------------+\n",
        "|                   acreage |           0 |      0 |  -1.460 | .            |\n",
        "+---------------------------+-------------+--------+---------+--------------+\n",
        "|    unit price residential |           0 |      0 |   5.440 | ***          |\n",
        "+---------------------------+-------------+--------+---------+--------------+\n",
        "|                 in denver |           0 |  0.080 |       0 |              |\n",
        "+---------------------------+-------------+--------+---------+--------------+\n",
        "Estimating parameters for segment = 4, size = 162"
       ]
      },
      {
       "output_type": "stream",
       "stream": "stdout",
       "text": [
        "\n",
        "Null Log-liklihood: -746.037570"
       ]
      },
      {
       "output_type": "stream",
       "stream": "stdout",
       "text": [
        "\n",
        "Log-liklihood at convergence: -734.880362\n",
        "Log-liklihood ratio: 0.014955\n",
        "+---------------------------+-------------+--------+---------+--------------+\n",
        "|         Variables         | Coefficient | Stderr | T-score | Significance |\n",
        "+===========================+=============+========+=========+==============+\n",
        "|    residential units zone |           0 |      0 |   3.880 | ***          |\n",
        "+---------------------------+-------------+--------+---------+--------------+\n",
        "| non residential sqft zone |           0 |      0 |  -1.820 | *            |\n",
        "+---------------------------+-------------+--------+---------+--------------+\n",
        "|       allpurpose agglosum |           0 |  0.010 |   0.010 |              |\n",
        "+---------------------------+-------------+--------+---------+--------------+\n",
        "|                   acreage |           0 |      0 |  -0.750 |              |\n",
        "+---------------------------+-------------+--------+---------+--------------+\n",
        "|    unit price residential |           0 |      0 |   1.360 | .            |\n",
        "+---------------------------+-------------+--------+---------+--------------+\n",
        "|                 in denver |           0 |  0.180 |       0 |              |\n",
        "+---------------------------+-------------+--------+---------+--------------+\n",
        "ELCM\n",
        "1\n",
        "Estimating parameters for segment = 1, size = 1200"
       ]
      },
      {
       "output_type": "stream",
       "stream": "stdout",
       "text": [
        "\n",
        "Null Log-liklihood: -5526.204223"
       ]
      },
      {
       "output_type": "stream",
       "stream": "stdout",
       "text": [
        "\n",
        "Log-liklihood at convergence: -5301.832716\n",
        "Log-liklihood ratio: 0.040601\n",
        "+----------------------------+-------------+--------+---------+--------------+\n",
        "|         Variables          | Coefficient | Stderr | T-score | Significance |\n",
        "+============================+=============+========+=========+==============+\n",
        "|     residential units zone |           0 |      0 | -11.520 | ***          |\n",
        "+----------------------------+-------------+--------+---------+--------------+\n",
        "|  non residential sqft zone |           0 |      0 |  22.130 | ***          |\n",
        "+----------------------------+-------------+--------+---------+--------------+\n",
        "|        allpurpose agglosum |           0 |      0 |  -0.040 |              |\n",
        "+----------------------------+-------------+--------+---------+--------------+\n",
        "|                    acreage |           0 |      0 |  -8.320 | ***          |\n",
        "+----------------------------+-------------+--------+---------+--------------+\n",
        "| unit price non residential |           0 |      0 |   0.590 |              |\n",
        "+----------------------------+-------------+--------+---------+--------------+\n",
        "|                  in denver |           0 |  0.070 |       0 |              |\n",
        "+----------------------------+-------------+--------+---------+--------------+\n",
        "2\n",
        "Estimating parameters for segment = 2, size = 1200"
       ]
      },
      {
       "output_type": "stream",
       "stream": "stdout",
       "text": [
        "\n",
        "Null Log-liklihood: -5526.204223"
       ]
      },
      {
       "output_type": "stream",
       "stream": "stdout",
       "text": [
        "\n",
        "Log-liklihood at convergence: -5235.624769\n",
        "Log-liklihood ratio: 0.052582\n",
        "+----------------------------+-------------+--------+---------+--------------+\n",
        "|         Variables          | Coefficient | Stderr | T-score | Significance |\n",
        "+============================+=============+========+=========+==============+\n",
        "|     residential units zone |           0 |      0 | -21.540 | ***          |\n",
        "+----------------------------+-------------+--------+---------+--------------+\n",
        "|  non residential sqft zone |           0 |      0 |  15.460 | ***          |\n",
        "+----------------------------+-------------+--------+---------+--------------+\n",
        "|        allpurpose agglosum |           0 |      0 |   0.070 |              |\n",
        "+----------------------------+-------------+--------+---------+--------------+\n",
        "|                    acreage |           0 |      0 |  -3.270 | ***          |\n",
        "+----------------------------+-------------+--------+---------+--------------+\n",
        "| unit price non residential |           0 |      0 |   0.090 |              |\n",
        "+----------------------------+-------------+--------+---------+--------------+\n",
        "|                  in denver |           0 |  0.070 |       0 |              |\n",
        "+----------------------------+-------------+--------+---------+--------------+\n",
        "3\n",
        "Estimating parameters for segment = 3, size = 1200"
       ]
      },
      {
       "output_type": "stream",
       "stream": "stdout",
       "text": [
        "\n",
        "Null Log-liklihood: -5526.204223"
       ]
      },
      {
       "output_type": "stream",
       "stream": "stdout",
       "text": [
        "\n",
        "Log-liklihood at convergence: -5005.382520\n",
        "Log-liklihood ratio: 0.094246\n",
        "+----------------------------+-------------+--------+---------+--------------+\n",
        "|         Variables          | Coefficient | Stderr | T-score | Significance |\n",
        "+============================+=============+========+=========+==============+\n",
        "|     residential units zone |           0 |      0 | -24.590 | ***          |\n",
        "+----------------------------+-------------+--------+---------+--------------+\n",
        "|  non residential sqft zone |           0 |      0 |  28.940 | ***          |\n",
        "+----------------------------+-------------+--------+---------+--------------+\n",
        "|        allpurpose agglosum |           0 |      0 |  -0.020 |              |\n",
        "+----------------------------+-------------+--------+---------+--------------+\n",
        "|                    acreage |           0 |      0 |  -4.590 | ***          |\n",
        "+----------------------------+-------------+--------+---------+--------------+\n",
        "| unit price non residential |           0 |      0 |  -0.010 |              |\n",
        "+----------------------------+-------------+--------+---------+--------------+\n",
        "|                  in denver |           0 |  0.070 |       0 |              |\n",
        "+----------------------------+-------------+--------+---------+--------------+\n",
        "4\n",
        "Estimating parameters for segment = 4, size = 1200"
       ]
      },
      {
       "output_type": "stream",
       "stream": "stdout",
       "text": [
        "\n",
        "Null Log-liklihood: -5526.204223"
       ]
      },
      {
       "output_type": "stream",
       "stream": "stdout",
       "text": [
        "\n",
        "Log-liklihood at convergence: -5063.956233\n",
        "Log-liklihood ratio: 0.083647\n",
        "+----------------------------+-------------+--------+---------+--------------+\n",
        "|         Variables          | Coefficient | Stderr | T-score | Significance |\n",
        "+============================+=============+========+=========+==============+\n",
        "|     residential units zone |           0 |      0 | -18.850 | ***          |\n",
        "+----------------------------+-------------+--------+---------+--------------+\n",
        "|  non residential sqft zone |           0 |      0 |  27.560 | ***          |\n",
        "+----------------------------+-------------+--------+---------+--------------+\n",
        "|        allpurpose agglosum |       0.090 |      0 |  21.870 | ***          |\n",
        "+----------------------------+-------------+--------+---------+--------------+\n",
        "|                    acreage |           0 |      0 | -14.220 | ***          |\n",
        "+----------------------------+-------------+--------+---------+--------------+\n",
        "| unit price non residential |           0 |      0 |  -0.020 |              |\n",
        "+----------------------------+-------------+--------+---------+--------------+\n",
        "|                  in denver |       0.030 |  0.070 |   0.440 |              |\n",
        "+----------------------------+-------------+--------+---------+--------------+\n",
        "5\n",
        "Estimating parameters for segment = 5, size = 1200"
       ]
      },
      {
       "output_type": "stream",
       "stream": "stdout",
       "text": [
        "\n",
        "Null Log-liklihood: -5526.204223"
       ]
      },
      {
       "output_type": "stream",
       "stream": "stdout",
       "text": [
        "\n",
        "Log-liklihood at convergence: -5030.628918\n",
        "Log-liklihood ratio: 0.089677\n",
        "+----------------------------+-------------+--------+---------+--------------+\n",
        "|         Variables          | Coefficient | Stderr | T-score | Significance |\n",
        "+============================+=============+========+=========+==============+\n",
        "|     residential units zone |           0 |      0 | -24.310 | ***          |\n",
        "+----------------------------+-------------+--------+---------+--------------+\n",
        "|  non residential sqft zone |           0 |      0 |  27.160 | ***          |\n",
        "+----------------------------+-------------+--------+---------+--------------+\n",
        "|        allpurpose agglosum |           0 |      0 |  -0.090 |              |\n",
        "+----------------------------+-------------+--------+---------+--------------+\n",
        "|                    acreage |           0 |      0 | -11.620 | ***          |\n",
        "+----------------------------+-------------+--------+---------+--------------+\n",
        "| unit price non residential |           0 |      0 |  -0.010 |              |\n",
        "+----------------------------+-------------+--------+---------+--------------+\n",
        "|                  in denver |           0 |  0.070 |       0 |              |\n",
        "+----------------------------+-------------+--------+---------+--------------+\n",
        "6\n",
        "Estimating parameters for segment = 6, size = 1200"
       ]
      },
      {
       "output_type": "stream",
       "stream": "stdout",
       "text": [
        "\n",
        "Null Log-liklihood: -5526.204223"
       ]
      },
      {
       "output_type": "stream",
       "stream": "stdout",
       "text": [
        "\n",
        "Log-liklihood at convergence: -5135.420379\n",
        "Log-liklihood ratio: 0.070715\n",
        "+----------------------------+-------------+--------+---------+--------------+\n",
        "|         Variables          | Coefficient | Stderr | T-score | Significance |\n",
        "+============================+=============+========+=========+==============+\n",
        "|     residential units zone |           0 |      0 | -19.290 | ***          |\n",
        "+----------------------------+-------------+--------+---------+--------------+\n",
        "|  non residential sqft zone |           0 |      0 |  27.280 | ***          |\n",
        "+----------------------------+-------------+--------+---------+--------------+\n",
        "|        allpurpose agglosum |           0 |      0 |  -0.050 |              |\n",
        "+----------------------------+-------------+--------+---------+--------------+\n",
        "|                    acreage |           0 |      0 |  -9.870 | ***          |\n",
        "+----------------------------+-------------+--------+---------+--------------+\n",
        "| unit price non residential |           0 |      0 |   0.050 |              |\n",
        "+----------------------------+-------------+--------+---------+--------------+\n",
        "|                  in denver |           0 |  0.070 |       0 |              |\n",
        "+----------------------------+-------------+--------+---------+--------------+\n",
        "RDPLCM\n",
        "Estimating parameters for segment = 2, size = 774"
       ]
      },
      {
       "output_type": "stream",
       "stream": "stdout",
       "text": [
        "\n",
        "Null Log-liklihood: -3564.401724"
       ]
      },
      {
       "output_type": "stream",
       "stream": "stdout",
       "text": [
        "\n",
        "Log-liklihood at convergence: -2868.214700\n",
        "Log-liklihood ratio: 0.195317\n",
        "+-------------+-------------+--------+---------+--------------+\n",
        "|  Variables  | Coefficient | Stderr | T-score | Significance |\n",
        "+=============+=============+========+=========+==============+\n",
        "| parcel sqft |           0 |      0 |  -5.600 | ***          |\n",
        "+-------------+-------------+--------+---------+--------------+\n",
        "|    dist bus |           0 |      0 |  -5.280 | ***          |\n",
        "+-------------+-------------+--------+---------+--------------+\n",
        "|   dist rail |           0 |      0 | -10.140 | ***          |\n",
        "+-------------+-------------+--------+---------+--------------+\n",
        "|  land value |           0 |      0 | 139.540 | ***          |\n",
        "+-------------+-------------+--------+---------+--------------+\n",
        "Estimating parameters for segment = 3, size = 1200"
       ]
      },
      {
       "output_type": "stream",
       "stream": "stdout",
       "text": [
        "\n",
        "Null Log-liklihood: -5526.204223"
       ]
      },
      {
       "output_type": "stream",
       "stream": "stdout",
       "text": [
        "\n",
        "Log-liklihood at convergence: -4878.963294\n",
        "Log-liklihood ratio: 0.117122\n",
        "+-------------+-------------+--------+---------+--------------+\n",
        "|  Variables  | Coefficient | Stderr | T-score | Significance |\n",
        "+=============+=============+========+=========+==============+\n",
        "| parcel sqft |           0 |      0 | -96.420 | ***          |\n",
        "+-------------+-------------+--------+---------+--------------+\n",
        "|    dist bus |           0 |      0 |  -6.050 | ***          |\n",
        "+-------------+-------------+--------+---------+--------------+\n",
        "|   dist rail |           0 |      0 |  -0.260 |              |\n",
        "+-------------+-------------+--------+---------+--------------+\n",
        "|  land value |           0 |      0 | 123.100 | ***          |\n",
        "+-------------+-------------+--------+---------+--------------+\n",
        "Estimating parameters for segment = 20, size = 1200"
       ]
      },
      {
       "output_type": "stream",
       "stream": "stdout",
       "text": [
        "\n",
        "Null Log-liklihood: -5526.204223"
       ]
      },
      {
       "output_type": "stream",
       "stream": "stdout",
       "text": [
        "\n",
        "Log-liklihood at convergence: -5474.859129\n",
        "Log-liklihood ratio: 0.009291\n",
        "+-------------+-------------+--------+---------+--------------+\n",
        "|  Variables  | Coefficient | Stderr | T-score | Significance |\n",
        "+=============+=============+========+=========+==============+\n",
        "| parcel sqft |           0 |      0 |  -3.730 | ***          |\n",
        "+-------------+-------------+--------+---------+--------------+\n",
        "|    dist bus |           0 |      0 |   2.550 | **           |\n",
        "+-------------+-------------+--------+---------+--------------+\n",
        "|   dist rail |           0 |      0 |   8.060 | ***          |\n",
        "+-------------+-------------+--------+---------+--------------+\n",
        "|  land value |           0 |      0 |   0.060 |              |\n",
        "+-------------+-------------+--------+---------+--------------+\n",
        "Estimating parameters for segment = 24, size = 1200"
       ]
      },
      {
       "output_type": "stream",
       "stream": "stdout",
       "text": [
        "\n",
        "Null Log-liklihood: -5526.204223"
       ]
      },
      {
       "output_type": "stream",
       "stream": "stdout",
       "text": [
        "\n",
        "Log-liklihood at convergence: -5422.158979\n",
        "Log-liklihood ratio: 0.018828\n",
        "+-------------+-------------+--------+---------+--------------+\n",
        "|  Variables  | Coefficient | Stderr | T-score | Significance |\n",
        "+=============+=============+========+=========+==============+\n",
        "| parcel sqft |           0 |      0 |  -1.210 |              |\n",
        "+-------------+-------------+--------+---------+--------------+\n",
        "|    dist bus |           0 |      0 |   1.080 |              |\n",
        "+-------------+-------------+--------+---------+--------------+\n",
        "|   dist rail |           0 |      0 | -10.870 | ***          |\n",
        "+-------------+-------------+--------+---------+--------------+\n",
        "|  land value |           0 |      0 |  25.320 | ***          |\n",
        "+-------------+-------------+--------+---------+--------------+\n",
        "NRDPLCM\n",
        "Estimating parameters for segment = 5, size = 1014"
       ]
      },
      {
       "output_type": "stream",
       "stream": "stdout",
       "text": [
        "\n",
        "Null Log-liklihood: -4669.642569"
       ]
      },
      {
       "output_type": "stream",
       "stream": "stdout",
       "text": [
        "\n",
        "Log-liklihood at convergence: -4443.068761\n",
        "Log-liklihood ratio: 0.048521\n",
        "+-------------+-------------+--------+---------+--------------+\n",
        "|  Variables  | Coefficient | Stderr | T-score | Significance |\n",
        "+=============+=============+========+=========+==============+\n",
        "| parcel sqft |           0 |      0 |  -1.100 |              |\n",
        "+-------------+-------------+--------+---------+--------------+\n",
        "|    dist bus |           0 |      0 |  -2.010 | *            |\n",
        "+-------------+-------------+--------+---------+--------------+\n",
        "|   dist rail |           0 |      0 |   0.670 |              |\n",
        "+-------------+-------------+--------+---------+--------------+\n",
        "|  land value |           0 |      0 |  44.600 | ***          |\n",
        "+-------------+-------------+--------+---------+--------------+\n",
        "Estimating parameters for segment = 8, size = 153"
       ]
      },
      {
       "output_type": "stream",
       "stream": "stdout",
       "text": [
        "\n",
        "Null Log-liklihood: -704.591038"
       ]
      },
      {
       "output_type": "stream",
       "stream": "stdout",
       "text": [
        "\n",
        "Log-liklihood at convergence: -626.082669\n",
        "Log-liklihood ratio: 0.111424\n",
        "+-------------+-------------+--------+---------+--------------+\n",
        "|  Variables  | Coefficient | Stderr | T-score | Significance |\n",
        "+=============+=============+========+=========+==============+\n",
        "| parcel sqft |           0 |      0 |   0.280 |              |\n",
        "+-------------+-------------+--------+---------+--------------+\n",
        "|    dist bus |           0 |      0 |  -1.840 | *            |\n",
        "+-------------+-------------+--------+---------+--------------+\n",
        "|   dist rail |           0 |      0 |  -0.580 |              |\n",
        "+-------------+-------------+--------+---------+--------------+\n",
        "|  land value |           0 |      0 |  27.150 | ***          |\n",
        "+-------------+-------------+--------+---------+--------------+\n",
        "Estimating parameters for segment = 9, size = 309"
       ]
      },
      {
       "output_type": "stream",
       "stream": "stdout",
       "text": [
        "\n",
        "Null Log-liklihood: -1422.997587"
       ]
      },
      {
       "output_type": "stream",
       "stream": "stdout",
       "text": [
        "\n",
        "Log-liklihood at convergence: -1370.986780\n",
        "Log-liklihood ratio: 0.036550\n",
        "+-------------+-------------+--------+---------+--------------+\n",
        "|  Variables  | Coefficient | Stderr | T-score | Significance |\n",
        "+=============+=============+========+=========+==============+\n",
        "| parcel sqft |           0 |      0 |  -0.430 |              |\n",
        "+-------------+-------------+--------+---------+--------------+\n",
        "|    dist bus |           0 |      0 |  -0.180 |              |\n",
        "+-------------+-------------+--------+---------+--------------+\n",
        "|   dist rail |           0 |      0 |   6.190 | ***          |\n",
        "+-------------+-------------+--------+---------+--------------+\n",
        "|  land value |           0 |      0 |  13.080 | ***          |\n",
        "+-------------+-------------+--------+---------+--------------+\n",
        "Estimating parameters for segment = 11, size = 130"
       ]
      },
      {
       "output_type": "stream",
       "stream": "stdout",
       "text": [
        "\n",
        "Null Log-liklihood: -598.672124"
       ]
      },
      {
       "output_type": "stream",
       "stream": "stdout",
       "text": [
        "\n",
        "Log-liklihood at convergence: -544.399880\n",
        "Log-liklihood ratio: 0.090654\n",
        "+-------------+-------------+--------+---------+--------------+\n",
        "|  Variables  | Coefficient | Stderr | T-score | Significance |\n",
        "+=============+=============+========+=========+==============+\n",
        "| parcel sqft |           0 |      0 |  -0.150 |              |\n",
        "+-------------+-------------+--------+---------+--------------+\n",
        "|    dist bus |           0 |      0 |  -2.720 | **           |\n",
        "+-------------+-------------+--------+---------+--------------+\n",
        "|   dist rail |           0 |      0 |  16.970 | ***          |\n",
        "+-------------+-------------+--------+---------+--------------+\n",
        "|  land value |           0 |      0 |   7.170 | ***          |\n",
        "+-------------+-------------+--------+---------+--------------+\n",
        "Estimating parameters for segment = 16, size = 396"
       ]
      },
      {
       "output_type": "stream",
       "stream": "stdout",
       "text": [
        "\n",
        "Null Log-liklihood: -1823.647394"
       ]
      },
      {
       "output_type": "stream",
       "stream": "stdout",
       "text": [
        "\n",
        "Log-liklihood at convergence: -1726.354371\n",
        "Log-liklihood ratio: 0.053351\n",
        "+-------------+-------------+--------+---------+--------------+\n",
        "|  Variables  | Coefficient | Stderr | T-score | Significance |\n",
        "+=============+=============+========+=========+==============+\n",
        "| parcel sqft |           0 |      0 |   3.890 | ***          |\n",
        "+-------------+-------------+--------+---------+--------------+\n",
        "|    dist bus |           0 |      0 |   0.850 |              |\n",
        "+-------------+-------------+--------+---------+--------------+\n",
        "|   dist rail |           0 |      0 |  -0.720 |              |\n",
        "+-------------+-------------+--------+---------+--------------+\n",
        "|  land value |           0 |      0 |  29.730 | ***          |\n",
        "+-------------+-------------+--------+---------+--------------+\n",
        "Estimating parameters for segment = 17, size = 390"
       ]
      },
      {
       "output_type": "stream",
       "stream": "stdout",
       "text": [
        "\n",
        "Null Log-liklihood: -1796.016373"
       ]
      },
      {
       "output_type": "stream",
       "stream": "stdout",
       "text": [
        "\n",
        "Log-liklihood at convergence: -1656.629253\n",
        "Log-liklihood ratio: 0.077609\n",
        "+-------------+-------------+--------+---------+--------------+\n",
        "|  Variables  | Coefficient | Stderr | T-score | Significance |\n",
        "+=============+=============+========+=========+==============+\n",
        "| parcel sqft |           0 |      0 |  -9.560 | ***          |\n",
        "+-------------+-------------+--------+---------+--------------+\n",
        "|    dist bus |           0 |      0 |  -6.080 | ***          |\n",
        "+-------------+-------------+--------+---------+--------------+\n",
        "|   dist rail |           0 |      0 |   0.740 |              |\n",
        "+-------------+-------------+--------+---------+--------------+\n",
        "|  land value |           0 |      0 |  26.550 | ***          |\n",
        "+-------------+-------------+--------+---------+--------------+\n",
        "Estimating parameters for segment = 18, size = 1200"
       ]
      },
      {
       "output_type": "stream",
       "stream": "stdout",
       "text": [
        "\n",
        "Null Log-liklihood: -5526.204223"
       ]
      },
      {
       "output_type": "stream",
       "stream": "stdout",
       "text": [
        "\n",
        "Log-liklihood at convergence: -5110.212216\n",
        "Log-liklihood ratio: 0.075276\n",
        "+-------------+-------------+--------+---------+--------------+\n",
        "|  Variables  | Coefficient | Stderr | T-score | Significance |\n",
        "+=============+=============+========+=========+==============+\n",
        "| parcel sqft |           0 |      0 |  -3.520 | ***          |\n",
        "+-------------+-------------+--------+---------+--------------+\n",
        "|    dist bus |           0 |      0 |  -2.670 | **           |\n",
        "+-------------+-------------+--------+---------+--------------+\n",
        "|   dist rail |           0 |      0 |  -1.330 | .            |\n",
        "+-------------+-------------+--------+---------+--------------+\n",
        "|  land value |           0 |      0 |  91.470 | ***          |\n",
        "+-------------+-------------+--------+---------+--------------+\n",
        "Estimating parameters for segment = 21, size = 185"
       ]
      },
      {
       "output_type": "stream",
       "stream": "stdout",
       "text": [
        "\n",
        "Null Log-liklihood: -851.956484"
       ]
      },
      {
       "output_type": "stream",
       "stream": "stdout",
       "text": [
        "\n",
        "Log-liklihood at convergence: -741.712755\n",
        "Log-liklihood ratio: 0.129401\n",
        "+-------------+-------------+--------+---------+--------------+\n",
        "|  Variables  | Coefficient | Stderr | T-score | Significance |\n",
        "+=============+=============+========+=========+==============+\n",
        "| parcel sqft |           0 |      0 |   5.090 | ***          |\n",
        "+-------------+-------------+--------+---------+--------------+\n",
        "|    dist bus |           0 |      0 |  -3.750 | ***          |\n",
        "+-------------+-------------+--------+---------+--------------+\n",
        "|   dist rail |           0 |      0 |  18.500 | ***          |\n",
        "+-------------+-------------+--------+---------+--------------+\n",
        "|  land value |           0 |      0 |   7.320 | ***          |\n",
        "+-------------+-------------+--------+---------+--------------+\n",
        "Estimating parameters for segment = 22, size = 1200"
       ]
      },
      {
       "output_type": "stream",
       "stream": "stdout",
       "text": [
        "\n",
        "Null Log-liklihood: -5526.204223"
       ]
      },
      {
       "output_type": "stream",
       "stream": "stdout",
       "text": [
        "\n",
        "Log-liklihood at convergence: -5380.308019\n",
        "Log-liklihood ratio: 0.026401\n",
        "+-------------+-------------+--------+---------+--------------+\n",
        "|  Variables  | Coefficient | Stderr | T-score | Significance |\n",
        "+=============+=============+========+=========+==============+\n",
        "| parcel sqft |           0 |      0 |   0.070 |              |\n",
        "+-------------+-------------+--------+---------+--------------+\n",
        "|    dist bus |           0 |      0 |   5.680 | ***          |\n",
        "+-------------+-------------+--------+---------+--------------+\n",
        "|   dist rail |           0 |      0 |   2.830 | **           |\n",
        "+-------------+-------------+--------+---------+--------------+\n",
        "|  land value |           0 |      0 |  48.130 | ***          |\n",
        "+-------------+-------------+--------+---------+--------------+\n",
        "Estimating parameters for segment = 23, size = 64"
       ]
      },
      {
       "output_type": "stream",
       "stream": "stdout",
       "text": [
        "\n",
        "Null Log-liklihood: -294.730892\n",
        "Log-liklihood at convergence: -241.157031\n",
        "Log-liklihood ratio: 0.181772\n",
        "+-------------+-------------+--------+---------+--------------+\n",
        "|  Variables  | Coefficient | Stderr | T-score | Significance |\n",
        "+=============+=============+========+=========+==============+\n",
        "| parcel sqft |           0 |      0 |  -0.640 |              |\n",
        "+-------------+-------------+--------+---------+--------------+\n",
        "|    dist bus |           0 |      0 |  -1.270 |              |\n",
        "+-------------+-------------+--------+---------+--------------+\n",
        "|   dist rail |           0 |      0 |   2.210 | *            |\n",
        "+-------------+-------------+--------+---------+--------------+\n",
        "|  land value |           0 |      0 |  17.550 | ***          |\n",
        "+-------------+-------------+--------+---------+--------------+\n"
       ]
      }
     ],
     "prompt_number": 1
    },
    {
     "cell_type": "heading",
     "level": 2,
     "metadata": {},
     "source": [
      "SIMULATION"
     ]
    },
    {
     "cell_type": "code",
     "collapsed": false,
     "input": [
      "title = '_ref_base'\n",
      "for scenario in ['baseline',]: #'low_impact','scen0'\n",
      "    print 'Running scenario: ' + scenario\n",
      "    import time\n",
      "    seconds_start = time.time()\n",
      "    print seconds_start\n",
      "    import numpy as np, pandas as pd, os, statsmodels.api as sm\n",
      "    import synthicity.urbansim.interaction as interaction\n",
      "    from synthicity.utils import misc\n",
      "    import dataset, copy, math\n",
      "    np.random.seed(1)\n",
      "    first_year = 2010\n",
      "    last_year = 2020\n",
      "    summary = {'employment':[],'households':[],'non_residential_sqft':[],'residential_units':[],'price':[]}\n",
      "#     dset = dataset.DRCOGDataset(os.path.join(misc.data_dir(),'drcog.h5'))  ####Note commented out since we do estimation in the same notebook\n",
      "    \n",
      "    for sim_year in range(first_year,last_year+1):\n",
      "        print 'Simulating year ' + str(sim_year)\n",
      "\n",
      "    #####Variable calculations\n",
      "        #parcel\n",
      "        p = dset.fetch('parcels')\n",
      "        p['in_denver'] = (p.county_id==8031).astype('int32')\n",
      "        #building\n",
      "        b = dset.fetch('buildings')\n",
      "        b = b[['building_type_id','improvement_value','land_area','non_residential_sqft','parcel_id','residential_units','sqft_per_unit','stories','tax_exempt','year_built','bldg_sq_ft','unit_price_non_residential','unit_price_residential','building_sqft_per_job','non_residential_units','base_year_jobs','all_units']]\n",
      "        b['zone_id'] = p.zone_id[b.parcel_id].values\n",
      "        b['county_id'] = p.county_id[b.parcel_id].values\n",
      "        #b['btype_dplcm'] = 1*(b.building_type_id==2) + 2*(b.building_type_id==3) + 3*(b.building_type_id==20) + 4*(b.building_type_id==24) + 6*np.invert(np.in1d(b.building_type_id,[2,3,20,24]))\n",
      "        b['btype_hlcm'] = 1*(b.building_type_id==2) + 2*(b.building_type_id==3) + 3*(b.building_type_id==20) + 4*np.invert(np.in1d(b.building_type_id,[2,3,20]))\n",
      "        #household\n",
      "        hh_estim = dset.fetch('households_for_estimation')\n",
      "        hh = dset.fetch('households')\n",
      "        for table in [hh_estim, hh]:\n",
      "            choosers = table\n",
      "            choosers['building_type_id'] = b.building_type_id[choosers.building_id].values\n",
      "            choosers['county_id'] = b.county_id[choosers.building_id].values\n",
      "            choosers['btype'] = 1*(choosers.building_type_id==2) + 2*(choosers.building_type_id==3) + 3*(choosers.building_type_id==20) + 4*np.invert(np.in1d(choosers.building_type_id,[2,3,20]))\n",
      "        #establishment\n",
      "        e = dset.fetch('establishments')\n",
      "        e['county_id'] = b.county_id[e.building_id].values\n",
      "        e['sector_id_six'] = 1*(e.sector_id==61) + 2*(e.sector_id==71) + 3*np.in1d(e.sector_id,[11,21,22,23,31,32,33,42,48,49]) + 4*np.in1d(e.sector_id,[7221,7222,7224]) + 5*np.in1d(e.sector_id,[44,45,7211,7212,7213,7223]) + 6*np.in1d(e.sector_id,[51,52,53,54,55,56,62,81,92])\n",
      "        #zone\n",
      "        z = dset.fetch('zones')\n",
      "        z['residential_units_zone'] = b.groupby('zone_id').residential_units.sum()\n",
      "        z['non_residential_sqft_zone'] = b.groupby('zone_id').non_residential_sqft.sum()\n",
      "        z['percent_sf'] = b[b.btype_hlcm==3].groupby('zone_id').residential_units.sum()*100.0/(b.groupby('zone_id').residential_units.sum())\n",
      "        #merge parcels with zones\n",
      "        pz = pd.merge(p,z,left_on='zone_id',right_index=True)\n",
      "        #merge buildings with parcels/zones\n",
      "        bpz = pd.merge(b,pz,left_on='parcel_id',right_index=True)\n",
      "        bpz['residential_units_capacity'] = bpz.parcel_sqft/1500 - bpz.residential_units\n",
      "        bpz.residential_units_capacity[bpz.residential_units_capacity<0] = 0\n",
      "        dset.d['buildings'] = bpz\n",
      "                \n",
      "        #Record base values for temporal comparison\n",
      "        if sim_year==first_year:\n",
      "            summary['employment'].append(e[e.building_id>0].employees.sum())\n",
      "            summary['households'].append(len(hh[hh.building_id>0].building_id))\n",
      "            summary['non_residential_sqft'].append(b.non_residential_sqft.sum())\n",
      "            summary['residential_units'].append(b.residential_units.sum())\n",
      "            print len(dset.households.index)\n",
      "            print dset.establishments.employees.sum()\n",
      "            print dset.buildings.residential_units.sum()\n",
      "            print dset.buildings.non_residential_sqft.sum()\n",
      "            base_hh_county = hh.groupby('county_id').size()\n",
      "            base_emp_county = e.groupby('county_id').employees.sum()\n",
      "            base_ru_county = b.groupby('county_id').residential_units.sum()\n",
      "            base_nr_county = b.groupby('county_id').non_residential_sqft.sum()\n",
      "\n",
      "############     ELCM SIMULATION\n",
      "\n",
      "        depvar = 'building_id'\n",
      "        simulation_table = 'establishments'\n",
      "        output_csv, output_title, coeff_name, output_varname = (\"drcog-coeff-elcm-%s.csv\",\"DRCOG EMPLOYMENT LOCATION CHOICE MODELS (%s)\",\"emp_location_%s\",\"establishment_building_ids\")\n",
      "        agents_groupby_txt = ['sector_id_six',]\n",
      "        \n",
      "        output_csv, output_title, coeff_name, output_varname = (\"drcog-coeff-elcm-%s.csv\",\"DRCOG EMPLOYMENT LOCATION CHOICE MODELS (%s)\",\"emp_location_%s\",\"establishment_building_ids\")\n",
      "        dset.establishments['home_based_status']=0\n",
      "        if scenario == 'baseline':\n",
      "            new_jobs = {\"table\": \"dset.establishments\",\"writetotmp\": \"establishments\",\"model\": \"transitionmodel\",\"first_year\": 2010,\"control_totals\": \"dset.annual_employment_control_totals\",\n",
      "                        \"geography_field\": \"building_id\",\"amount_field\": \"total_number_of_jobs\",\"size_field\":\"employees\"}\n",
      "        import synthicity.urbansim.transitionmodel as transitionmodel\n",
      "        transitionmodel.simulate(dset,new_jobs,year=sim_year,show=True)\n",
      "        year = sim_year\n",
      "        choosers = dset.fetch(simulation_table)\n",
      "        #     rate_table = dset.annual_job_relocation_rates\n",
      "        #     rate_table = rate_table*.1\n",
      "        #     rate_field = \"job_relocation_probability\"\n",
      "        #     movers = dset.relocation_rates(choosers,rate_table,rate_field)\n",
      "        #     choosers[depvar].ix[movers] = -1\n",
      "        movers = choosers[choosers[depvar]==-1]\n",
      "        print \"Total new agents and movers = %d\" % len(movers.index)\n",
      "        alternatives = dset.buildings[(dset.buildings.non_residential_sqft>0)]\n",
      "        #alternatives['building_sqft_per_job'] = 250\n",
      "        alternatives['job_spaces'] = alternatives.non_residential_sqft/alternatives.building_sqft_per_job\n",
      "        empty_units = alternatives.job_spaces.sub(choosers.groupby('building_id').employees.sum(),fill_value=0).astype('int')\n",
      "        alts = alternatives.ix[empty_units.index]\n",
      "        alts[\"supply\"] = empty_units\n",
      "        lotterychoices = True\n",
      "        pdf = pd.DataFrame(index=alts.index)\n",
      "        segments = movers.groupby(agents_groupby_txt)\n",
      "        \n",
      "        ind_vars1=['residential_units_zone','non_residential_sqft_zone','allpurpose_agglosum','acreage','unit_price_non_residential','in_denver',]\n",
      "        ind_vars2=['residential_units_zone','non_residential_sqft_zone','allpurpose_agglosum','acreage','unit_price_non_residential','in_denver',]\n",
      "        ind_vars3=['residential_units_zone','non_residential_sqft_zone','allpurpose_agglosum','acreage','unit_price_non_residential','in_denver',]\n",
      "        ind_vars4=['residential_units_zone','non_residential_sqft_zone','allpurpose_agglosum','acreage','unit_price_non_residential','in_denver',]\n",
      "        ind_vars5=['residential_units_zone','non_residential_sqft_zone','allpurpose_agglosum','acreage','unit_price_non_residential','in_denver',]\n",
      "        ind_vars6=['residential_units_zone','non_residential_sqft_zone','allpurpose_agglosum','acreage','unit_price_non_residential','in_denver',]\n",
      "        \n",
      "        for name, segment in segments:\n",
      "            if name == 1:\n",
      "                ind_vars = ind_vars1 \n",
      "            if name == 2:\n",
      "                ind_vars = ind_vars2\n",
      "            if name == 3:\n",
      "                ind_vars = ind_vars3\n",
      "            if name == 4:\n",
      "                ind_vars = ind_vars4\n",
      "            if name == 5:\n",
      "                ind_vars = ind_vars5\n",
      "            if name == 6:\n",
      "                ind_vars = ind_vars6\n",
      "             \n",
      "            segment = segment.head(1)\n",
      "            name_coeff= str(name)\n",
      "            name = str(name)\n",
      "            tmp_outcsv, tmp_outtitle, tmp_coeffname = output_csv%name, output_title%name, coeff_name%name_coeff\n",
      "            SAMPLE_SIZE = alts.index.size \n",
      "            numchoosers = segment.shape[0]\n",
      "            numalts = alts.shape[0]\n",
      "            sample = np.tile(alts.index.values,numchoosers)\n",
      "            alts_sample = alts #sample#alternatives\n",
      "            alts_sample['join_index'] = np.repeat(segment.index,SAMPLE_SIZE)\n",
      "            alts_sample = pd.merge(alts_sample,segment,left_on='join_index',right_index=True,suffixes=('','_r'))\n",
      "            chosen = np.zeros((numchoosers,SAMPLE_SIZE))\n",
      "            chosen[:,0] = 1\n",
      "            sample, alternative_sample, est_params = sample, alts_sample, ('mnl',chosen)\n",
      "            ##Define interaction variables here\n",
      "            est_data = pd.DataFrame(index=alternative_sample.index)\n",
      "            for varname in ind_vars:\n",
      "                est_data[varname] = alternative_sample[varname]\n",
      "            est_data = est_data.fillna(0)\n",
      "            data = est_data\n",
      "            data = data.as_matrix()\n",
      "            coeff = dset.load_coeff(tmp_coeffname)\n",
      "            probs = interaction.mnl_simulate(data,coeff,numalts=SAMPLE_SIZE,returnprobs=1)\n",
      "            pdf['segment%s'%name] = pd.Series(probs.flatten(),index=alts.index) \n",
      "                \n",
      "        new_homes = pd.Series(np.ones(len(movers.index))*-1,index=movers.index)\n",
      "        mask = np.zeros(len(alts.index),dtype='bool')\n",
      "        \n",
      "        for name, segment in segments:\n",
      "            name = str(name)\n",
      "            print \"Assigning units to %d agents of segment %s\" % (len(segment.index),name)\n",
      "            p=pdf['segment%s'%name].values\n",
      "            #p=pdf['segment%s'%name].values\n",
      "            def choose(p,mask,alternatives,segment,new_homes,minsize=None):\n",
      "                p = copy.copy(p)\n",
      "                p[alternatives.supply<minsize] = 0\n",
      "                #print \"Choosing from %d nonzero alts\" % np.count_nonzero(p)\n",
      "                try: \n",
      "                  indexes = np.random.choice(len(alternatives.index),len(segment.index),replace=False,p=p/p.sum())\n",
      "                except:\n",
      "                  print \"WARNING: not enough options to fit agents, will result in unplaced agents\"\n",
      "                  return mask,new_homes\n",
      "                new_homes.ix[segment.index] = alternatives.index.values[indexes]\n",
      "                alternatives[\"supply\"].ix[alternatives.index.values[indexes]] -= minsize\n",
      "                return mask,new_homes\n",
      "            tmp = segment['employees']\n",
      "            #tmp /= 100.0 ##If scaling demand amount is desired\n",
      "            for name, subsegment in reversed(list(segment.groupby(tmp.astype('int')))):\n",
      "                #print \"Running subsegment with size = %s, num agents = %d\" % (name, len(subsegment.index))\n",
      "                mask,new_homes = choose(p,mask,alts,subsegment,new_homes,minsize=int(name))\n",
      "        \n",
      "        build_cnts = new_homes.value_counts()  #num estabs place in each building\n",
      "        print \"Assigned %d agents to %d locations with %d unplaced\" % (new_homes.size,build_cnts.size,build_cnts.get(-1,0))\n",
      "        \n",
      "        table = dset.establishments # need to go back to the whole dataset\n",
      "        table[depvar].ix[new_homes.index] = new_homes.values.astype('int32')\n",
      "        dset.store_attr(output_varname,year,copy.deepcopy(table[depvar]))\n",
      "                \n",
      "#################     HLCM simulation\n",
      "        depvar = 'building_id'\n",
      "        simulation_table = 'households'\n",
      "        output_csv, output_title, coeff_name, output_varname = (\"drcog-coeff-hlcm-%s.csv\",\"DRCOG HOUSEHOLD LOCATION CHOICE MODELS (%s)\",\"hh_location_%s\",\"household_building_ids\")\n",
      "        agents_groupby_txt = ['btype',]\n",
      "        \n",
      "        if scenario == 'baseline':\n",
      "            new_hhlds = {\"table\": \"dset.households\",\"writetotmp\": \"households\",\"model\": \"transitionmodel\",\"first_year\": 2010,\"control_totals\": \"dset.annual_household_control_totals\",\n",
      "                         \"geography_field\": \"building_id\",\"amount_field\": \"total_number_of_households\"}\n",
      "        import synthicity.urbansim.transitionmodel as transitionmodel\n",
      "        transitionmodel.simulate(dset,new_hhlds,year=sim_year,show=True,subtract=True)\n",
      "        year = sim_year\n",
      "        choosers = dset.fetch(simulation_table)\n",
      "        rate_table = dset.annual_household_relocation_rates.copy()\n",
      "        rate_field = \"probability_of_relocating\"\n",
      "        rate_table[rate_field] = rate_table[rate_field]*.1\n",
      "        movers = dset.relocation_rates(choosers,rate_table,rate_field)\n",
      "        choosers[depvar].ix[movers] = -1\n",
      "        movers = choosers[choosers[depvar]==-1]\n",
      "        print \"Total new agents and movers = %d\" % len(movers.index)\n",
      "        alternatives = dset.buildings[(dset.buildings.residential_units>0)]\n",
      "        empty_units = dset.buildings[(dset.buildings.residential_units>0)].residential_units.sub(choosers.groupby('building_id').size(),fill_value=0)\n",
      "        empty_units = empty_units[empty_units>0].order(ascending=False)\n",
      "        alternatives = alternatives.ix[np.repeat(empty_units.index,empty_units.values.astype('int'))]\n",
      "        alts1 = alternatives[alternatives.btype_hlcm==1]\n",
      "        alts2 = alternatives[alternatives.btype_hlcm==2]\n",
      "        alts3 = alternatives[alternatives.btype_hlcm==3]\n",
      "        alts4 = alternatives[alternatives.btype_hlcm==4]\n",
      "        pdf1 = pd.DataFrame(index=alts1.index)\n",
      "        pdf2 = pd.DataFrame(index=alts2.index) \n",
      "        pdf3 = pd.DataFrame(index=alts3.index)\n",
      "        pdf4 = pd.DataFrame(index=alts4.index)\n",
      "        \n",
      "        segments = movers.groupby(agents_groupby_txt)\n",
      "        \n",
      "        ind_vars1=['residential_units_zone','non_residential_sqft_zone','allpurpose_agglosum','acreage','unit_price_residential','in_denver',]\n",
      "        ind_vars2=['residential_units_zone','non_residential_sqft_zone','allpurpose_agglosum','acreage','unit_price_residential','in_denver',]\n",
      "        ind_vars3=['residential_units_zone','non_residential_sqft_zone','allpurpose_agglosum','acreage','unit_price_residential','in_denver',]\n",
      "        ind_vars4=['residential_units_zone','non_residential_sqft_zone','allpurpose_agglosum','acreage','unit_price_residential','in_denver',]\n",
      "        \n",
      "        for name, segment in segments:\n",
      "            if name == 1:\n",
      "                alts = alts1\n",
      "                ind_vars = ind_vars1\n",
      "            if name == 2:\n",
      "                alts = alts2\n",
      "                ind_vars = ind_vars2\n",
      "            if name == 3:\n",
      "                alts = alts3\n",
      "                ind_vars = ind_vars3\n",
      "            if name == 4:\n",
      "                alts = alts4\n",
      "                ind_vars = ind_vars4\n",
      "            segment = segment.head(1)\n",
      "            name_coeff = str(name)\n",
      "            name = str(name)\n",
      "            tmp_outcsv, tmp_outtitle, tmp_coeffname = output_csv%name, output_title%name, coeff_name%name_coeff\n",
      "            SAMPLE_SIZE = alts.index.size \n",
      "            numchoosers = segment.shape[0]\n",
      "            numalts = alts.shape[0]\n",
      "            sample = np.tile(alts.index.values,numchoosers)\n",
      "            alts_sample = alts\n",
      "            alts_sample['join_index'] = np.repeat(segment.index,SAMPLE_SIZE)\n",
      "            alts_sample = pd.merge(alts_sample,segment,left_on='join_index',right_index=True,suffixes=('','_r'))\n",
      "            chosen = np.zeros((numchoosers,SAMPLE_SIZE))\n",
      "            chosen[:,0] = 1\n",
      "            sample, alternative_sample, est_params = sample, alts_sample, ('mnl',chosen)\n",
      "            ##Interaction variables defined here\n",
      "            est_data = pd.DataFrame(index=alternative_sample.index)\n",
      "            for varname in ind_vars:\n",
      "                est_data[varname] = alternative_sample[varname]\n",
      "            est_data = est_data.fillna(0)\n",
      "            data = est_data\n",
      "            data = data.as_matrix()\n",
      "            coeff = dset.load_coeff(tmp_coeffname)\n",
      "            probs = interaction.mnl_simulate(data,coeff,numalts=SAMPLE_SIZE,returnprobs=1)\n",
      "            if int(name_coeff) == 1:\n",
      "                pdf1['segment%s'%name] = pd.Series(probs.flatten(),index=alts.index)  \n",
      "            if int(name_coeff) == 2:\n",
      "                pdf2['segment%s'%name] = pd.Series(probs.flatten(),index=alts.index) \n",
      "            if int(name_coeff) == 3:\n",
      "                pdf3['segment%s'%name] = pd.Series(probs.flatten(),index=alts.index) \n",
      "            if int(name_coeff) == 4:\n",
      "                pdf4['segment%s'%name] = pd.Series(probs.flatten(),index=alts.index) \n",
      "        \n",
      "        new_homes = pd.Series(np.ones(len(movers.index))*-1,index=movers.index)\n",
      "        for name, segment in segments:\n",
      "            name_coeff = str(name)\n",
      "            name = str(name)\n",
      "            if int(name_coeff) == 1:\n",
      "                p=pdf1['segment%s'%name].values\n",
      "                mask = np.zeros(len(alts1.index),dtype='bool')\n",
      "            if int(name_coeff) == 2:\n",
      "                p=pdf2['segment%s'%name].values \n",
      "                mask = np.zeros(len(alts2.index),dtype='bool')\n",
      "            if int(name_coeff) == 3:\n",
      "                p=pdf3['segment%s'%name].values \n",
      "                mask = np.zeros(len(alts3.index),dtype='bool')\n",
      "            if int(name_coeff) == 4:\n",
      "                p=pdf4['segment%s'%name].values\n",
      "                mask = np.zeros(len(alts4.index),dtype='bool')\n",
      "            print \"Assigning units to %d agents of segment %s\" % (len(segment.index),name)\n",
      "         \n",
      "            def choose(p,mask,alternatives,segment,new_homes,minsize=None):\n",
      "                p = copy.copy(p)\n",
      "                p[mask] = 0 # already chosen\n",
      "                print 'num alts'\n",
      "                print len(alternatives.index)\n",
      "                print 'num agents'\n",
      "                print len(segment.index)\n",
      "                try: \n",
      "                  indexes = np.random.choice(len(alternatives.index),len(segment.index),replace=False,p=p/p.sum())\n",
      "                except:\n",
      "                  print \"WARNING: not enough options to fit agents, will result in unplaced agents\"\n",
      "                  return mask,new_homes\n",
      "                new_homes.ix[segment.index] = alternatives.index.values[indexes]\n",
      "                mask[indexes] = 1\n",
      "              \n",
      "                return mask,new_homes\n",
      "            if int(name_coeff) == 1:\n",
      "                mask,new_homes = choose(p,mask,alts1,segment,new_homes)\n",
      "            if int(name_coeff) == 2:\n",
      "                mask,new_homes = choose(p,mask,alts2,segment,new_homes)\n",
      "            if int(name_coeff) == 3:\n",
      "                mask,new_homes = choose(p,mask,alts3,segment,new_homes)\n",
      "            if int(name_coeff) == 4:\n",
      "                mask,new_homes = choose(p,mask,alts4,segment,new_homes)\n",
      "            \n",
      "        build_cnts = new_homes.value_counts()  #num households place in each building\n",
      "        print \"Assigned %d agents to %d locations with %d unplaced\" % (new_homes.size,build_cnts.size,build_cnts.get(-1,0))\n",
      "        \n",
      "        table = dset.households # need to go back to the whole dataset\n",
      "        table[depvar].ix[new_homes.index] = new_homes.values.astype('int32')\n",
      "        dset.store_attr(output_varname,year,copy.deepcopy(table[depvar]))\n",
      "    \n",
      "        ############     RDPLCM SIMULATION\n",
      "        depvar = 'parcel_id'\n",
      "        simulation_table = 'buildings'\n",
      "        output_csv, output_title, coeff_name, output_varname = (\"drcog-coeff-rdplcm-%s.csv\",\"DRCOG RES DEVPROJECT LOCATION CHOICE MODELS (%s)\",\"rdp_location_%s\",\"resbuilding_parcel_ids\")\n",
      "        agents_groupby_txt = ['building_type_id',]\n",
      "        \n",
      "        if scenario == 'baseline':\n",
      "            new_dev = {\"table\": \"dset.buildings\",\"writetotmp\": \"buildings\",\"model\": \"transitionmodel\",\"first_year\": 2010,\"vacancy_targets\": {\"targets\": \"dset.target_vacancies\",\n",
      "                       \"supply\": \"dset.buildings.groupby('building_type_id').all_units.sum()\",\n",
      "                       \"demands\": [\"dset.households.groupby(dset.buildings.building_type_id[dset.households.building_id].values).size()\",\n",
      "                       \"dset.establishments.groupby(dset.buildings.building_type_id[dset.establishments.building_id].values).employees.sum()\"]},\"size_field\": \"all_units\",\"geography_field\": \"parcel_id\"}\n",
      "        \n",
      "        import synthicity.urbansim.transitionmodel as transitionmodel\n",
      "        print 'PRE'\n",
      "        print dset.buildings.residential_units.sum()\n",
      "        print dset.buildings.non_residential_sqft.sum()\n",
      "        transitionmodel.simulate(dset,new_dev,year=sim_year,show=True)\n",
      "        print 'POST'\n",
      "        b = dset.fetch('buildings')\n",
      "        print b.residential_units.sum()\n",
      "        print b.non_residential_sqft.sum()\n",
      "        \n",
      "        year = sim_year\n",
      "        choosers = dset.fetch(simulation_table)\n",
      "        choosers = choosers[(np.in1d(choosers.building_type_id,[2,3,20,24]))]\n",
      "        movers = choosers[choosers[depvar]==-1]\n",
      "        print \"Total new agents and movers = %d\" % len(movers.index)\n",
      "        \n",
      "        #ALTS\n",
      "        alternatives = dset.parcels\n",
      "        alts1 = alternatives\n",
      "        alts2 = alternatives\n",
      "        alts3 = alternatives\n",
      "        alts4 = alternatives\n",
      "        \n",
      "        alternatives = dset.parcels[(dset.parcels.parcel_sqft>2000)]\n",
      "        # alts1 = alternatives\n",
      "        # alts2 = alternatives\n",
      "        # alts3 = alternatives\n",
      "        # alts4 = alternatives\n",
      "        alternatives['ru_spaces'] = alternatives.parcel_sqft/2000\n",
      "        empty_units = alternatives.ru_spaces.sub(choosers.groupby('parcel_id').residential_units.sum(),fill_value=0).astype('int')\n",
      "        alts = alternatives.ix[empty_units.index]\n",
      "        alts[\"supply\"] = empty_units\n",
      "        lotterychoices = True\n",
      "        pdf = pd.DataFrame(index=alts.index)\n",
      "        segments = movers.groupby(agents_groupby_txt)\n",
      "        \n",
      "        ind_vars1=['parcel_sqft','dist_bus','dist_rail','land_value']\n",
      "        ind_vars2=['parcel_sqft','dist_bus','dist_rail','land_value']\n",
      "        ind_vars3=['parcel_sqft','dist_bus','dist_rail','land_value']\n",
      "        ind_vars4=['parcel_sqft','dist_bus','dist_rail','land_value']\n",
      "        \n",
      "        for name, segment in segments:\n",
      "            if name == 1:\n",
      "                ind_vars = ind_vars1 \n",
      "            if name == 2:\n",
      "                ind_vars = ind_vars2\n",
      "            if name == 3:\n",
      "                ind_vars = ind_vars3\n",
      "            if name == 4:\n",
      "                ind_vars = ind_vars4\n",
      "             \n",
      "            segment = segment.head(1)\n",
      "            name_coeff= str(name)\n",
      "            name = str(name)\n",
      "            tmp_outcsv, tmp_outtitle, tmp_coeffname = output_csv%name, output_title%name, coeff_name%name_coeff\n",
      "            SAMPLE_SIZE = alts.index.size \n",
      "            numchoosers = segment.shape[0]\n",
      "            numalts = alts.shape[0]\n",
      "            sample = np.tile(alts.index.values,numchoosers)\n",
      "            alts_sample = alts\n",
      "            alts_sample['join_index'] = np.repeat(segment.index,SAMPLE_SIZE)\n",
      "            alts_sample = pd.merge(alts_sample,segment,left_on='join_index',right_index=True,suffixes=('','_r'))\n",
      "            chosen = np.zeros((numchoosers,SAMPLE_SIZE))\n",
      "            chosen[:,0] = 1\n",
      "            sample, alternative_sample, est_params = sample, alts_sample, ('mnl',chosen)\n",
      "            ##Define interaction variables here\n",
      "            est_data = pd.DataFrame(index=alternative_sample.index)\n",
      "            for varname in ind_vars:\n",
      "                est_data[varname] = alternative_sample[varname]\n",
      "            est_data = est_data.fillna(0)\n",
      "            data = est_data\n",
      "            data = data.as_matrix()\n",
      "            coeff = dset.load_coeff(tmp_coeffname)\n",
      "            probs = interaction.mnl_simulate(data,coeff,numalts=SAMPLE_SIZE,returnprobs=1)\n",
      "            pdf['segment%s'%name] = pd.Series(probs.flatten(),index=alts.index) \n",
      "                \n",
      "        new_homes = pd.Series(np.ones(len(movers.index))*-1,index=movers.index)\n",
      "        mask = np.zeros(len(alts.index),dtype='bool')\n",
      "        \n",
      "        for name, segment in segments:\n",
      "            name = str(name)\n",
      "            print \"Assigning units to %d agents of segment %s\" % (len(segment.index),name)\n",
      "            p=pdf['segment%s'%name].values\n",
      "            #p=pdf['segment%s'%name].values\n",
      "            def choose(p,mask,alternatives,segment,new_homes,minsize=None):\n",
      "                p = copy.copy(p)\n",
      "                p[alternatives.supply<minsize] = 0\n",
      "                #print \"Choosing from %d nonzero alts\" % np.count_nonzero(p)\n",
      "                try: \n",
      "                  indexes = np.random.choice(len(alternatives.index),len(segment.index),replace=False,p=p/p.sum())\n",
      "                except:\n",
      "                  print \"WARNING: not enough options to fit agents, will result in unplaced agents\"\n",
      "                  return mask,new_homes\n",
      "                new_homes.ix[segment.index] = alternatives.index.values[indexes]\n",
      "                alternatives[\"supply\"].ix[alternatives.index.values[indexes]] -= minsize\n",
      "                return mask,new_homes\n",
      "            tmp = segment['residential_units']\n",
      "            #tmp /= 100.0 ##If scaling demand amount is desired\n",
      "            for name, subsegment in reversed(list(segment.groupby(tmp.astype('int')))):\n",
      "                #print \"Running subsegment with size = %s, num agents = %d\" % (name, len(subsegment.index))\n",
      "                mask,new_homes = choose(p,mask,alts,subsegment,new_homes,minsize=int(name))\n",
      "        \n",
      "        build_cnts = new_homes.value_counts()  #num estabs place in each building\n",
      "        print \"Assigned %d agents to %d locations with %d unplaced\" % (new_homes.size,build_cnts.size,build_cnts.get(-1,0))\n",
      "        \n",
      "        table = dset.fetch(simulation_table)  # need to go back to the whole dataset, for rdplcm this is buildings\n",
      "        table[depvar].ix[new_homes.index] = new_homes.values.astype('int32')\n",
      "        dset.store_attr(output_varname,year,copy.deepcopy(table[depvar]))\n",
      "    \n",
      "        ############     NRDPLCM SIMULATION\n",
      "        depvar = 'parcel_id'\n",
      "        simulation_table = 'buildings'\n",
      "        output_csv, output_title, coeff_name, output_varname = (\"drcog-coeff-nrdplcm-%s.csv\",\"DRCOG NONRES DEVPROJECT LOCATION CHOICE MODELS (%s)\",\"nrdp_location_%s\",\"nonresbuilding_parcel_ids\")\n",
      "        agents_groupby_txt = ['building_type_id',]\n",
      "        \n",
      "        year = sim_year\n",
      "        choosers = dset.fetch(simulation_table)\n",
      "        choosers = choosers[(np.in1d(choosers.building_type_id,[5,8,11,16,17,18,21,23,9,22]))] ##9 and 22 are industrial and should have different allowable parcels\n",
      "        movers = choosers[choosers[depvar]==-1]\n",
      "        print \"Total new agents and movers = %d\" % len(movers.index)\n",
      "        \n",
      "        #ALTS\n",
      "        alternatives = dset.parcels[(dset.parcels.parcel_sqft>5000)]\n",
      "        alternatives = alternatives.ix[np.random.choice(alternatives.index, 30000,replace=False)]\n",
      "        alternatives['nr_spaces'] = alternatives.parcel_sqft/10\n",
      "        empty_units = alternatives.nr_spaces.sub(choosers.groupby('parcel_id').non_residential_sqft.sum(),fill_value=0).astype('int')\n",
      "        alts = alternatives.ix[empty_units.index]\n",
      "        alts[\"supply\"] = empty_units\n",
      "        lotterychoices = True\n",
      "        pdf = pd.DataFrame(index=alts.index)\n",
      "        segments = movers.groupby(agents_groupby_txt)\n",
      "        \n",
      "        ##Need to break alternatives down by allowable use during simulation\n",
      "        alts1 = alts\n",
      "        alts2 = alts\n",
      "        alts3 = alts\n",
      "        alts4 = alts\n",
      "        alts5 = alts\n",
      "        alts6 = alts\n",
      "        alts7 = alts\n",
      "        alts8 = alts\n",
      "        alts9 = alts\n",
      "        alts10 = alts\n",
      "        ind_vars1=['parcel_sqft','dist_bus','dist_rail','land_value']\n",
      "        ind_vars2=['parcel_sqft','dist_bus','dist_rail','land_value']\n",
      "        ind_vars3=['parcel_sqft','dist_bus','dist_rail','land_value']\n",
      "        ind_vars4=['parcel_sqft','dist_bus','dist_rail','land_value']\n",
      "        ind_vars5=['parcel_sqft','dist_bus','dist_rail','land_value']\n",
      "        ind_vars6=['parcel_sqft','dist_bus','dist_rail','land_value']\n",
      "        ind_vars7=['parcel_sqft','dist_bus','dist_rail','land_value']\n",
      "        ind_vars8=['parcel_sqft','dist_bus','dist_rail','land_value']\n",
      "        ind_vars9=['parcel_sqft','dist_bus','dist_rail','land_value']\n",
      "        ind_vars10=['parcel_sqft','dist_bus','dist_rail','land_value']\n",
      "        \n",
      "        for name, segment in segments:\n",
      "            if name == 5:\n",
      "                alts = alts1\n",
      "                ind_vars = ind_vars1\n",
      "            if name == 8:\n",
      "                alts = alts2\n",
      "                ind_vars = ind_vars2\n",
      "            if name == 11:\n",
      "                alts = alts3\n",
      "                ind_vars = ind_vars3\n",
      "            if name == 16:\n",
      "                alts = alts4\n",
      "                ind_vars = ind_vars4\n",
      "            if name == 17:\n",
      "                alts = alts5\n",
      "                ind_vars = ind_vars5\n",
      "            if name == 18:\n",
      "                alts = alts6\n",
      "                ind_vars = ind_vars6\n",
      "            if name == 21:\n",
      "                alts = alts7\n",
      "                ind_vars = ind_vars7\n",
      "            if name == 23:\n",
      "                alts = alts8\n",
      "                ind_vars = ind_vars8\n",
      "            if name == 9:\n",
      "                alts = alts9\n",
      "                ind_vars = ind_vars9\n",
      "            if name == 22:\n",
      "                alts = alts10\n",
      "                ind_vars = ind_vars10\n",
      "             \n",
      "            segment = segment.head(1)\n",
      "            name_coeff= str(name)\n",
      "            name = str(name)\n",
      "            tmp_outcsv, tmp_outtitle, tmp_coeffname = output_csv%name, output_title%name, coeff_name%name_coeff\n",
      "            SAMPLE_SIZE = alts.index.size \n",
      "            numchoosers = segment.shape[0]\n",
      "            numalts = alts.shape[0]\n",
      "            sample = np.tile(alts.index.values,numchoosers)\n",
      "            alts_sample = alts\n",
      "            alts_sample['join_index'] = np.repeat(segment.index,SAMPLE_SIZE)\n",
      "            alts_sample = pd.merge(alts_sample,segment,left_on='join_index',right_index=True,suffixes=('','_r'))\n",
      "            chosen = np.zeros((numchoosers,SAMPLE_SIZE))\n",
      "            chosen[:,0] = 1\n",
      "            sample, alternative_sample, est_params = sample, alts_sample, ('mnl',chosen)\n",
      "            ##Define interaction variables here\n",
      "            est_data = pd.DataFrame(index=alternative_sample.index)\n",
      "            for varname in ind_vars:\n",
      "                est_data[varname] = alternative_sample[varname]\n",
      "            est_data = est_data.fillna(0)\n",
      "            data = est_data\n",
      "            data = data.as_matrix()\n",
      "            coeff = dset.load_coeff(tmp_coeffname)\n",
      "            probs = interaction.mnl_simulate(data,coeff,numalts=SAMPLE_SIZE,returnprobs=1)\n",
      "            pdf['segment%s'%name] = pd.Series(probs.flatten(),index=alts.index) \n",
      "                \n",
      "        new_homes = pd.Series(np.ones(len(movers.index))*-1,index=movers.index)\n",
      "        mask = np.zeros(len(alts.index),dtype='bool')\n",
      "        \n",
      "        for name, segment in segments:\n",
      "            name = str(name)\n",
      "            print \"Assigning units to %d agents of segment %s\" % (len(segment.index),name)\n",
      "            p=pdf['segment%s'%name].values\n",
      "            #p=pdf['segment%s'%name].values\n",
      "            def choose(p,mask,alternatives,segment,new_homes,minsize=None):\n",
      "                p = copy.copy(p)\n",
      "                p[alternatives.supply<minsize] = 0\n",
      "                #print \"Choosing from %d nonzero alts\" % np.count_nonzero(p)\n",
      "                try: \n",
      "                  indexes = np.random.choice(len(alternatives.index),len(segment.index),replace=False,p=p/p.sum())\n",
      "                except:\n",
      "                  print \"WARNING: not enough options to fit agents, will result in unplaced agents\"\n",
      "                  return mask,new_homes\n",
      "                new_homes.ix[segment.index] = alternatives.index.values[indexes]\n",
      "                alternatives[\"supply\"].ix[alternatives.index.values[indexes]] -= minsize\n",
      "                return mask,new_homes\n",
      "            tmp = segment['non_residential_sqft']\n",
      "            #tmp /= 100.0 ##If scaling demand amount is desired\n",
      "            for name, subsegment in reversed(list(segment.groupby(tmp.astype('int')))):\n",
      "                #print \"Running subsegment with size = %s, num agents = %d\" % (name, len(subsegment.index))\n",
      "                mask,new_homes = choose(p,mask,alts,subsegment,new_homes,minsize=int(name))\n",
      "        \n",
      "        build_cnts = new_homes.value_counts()  #num estabs place in each building\n",
      "        print \"Assigned %d agents to %d locations with %d unplaced\" % (new_homes.size,build_cnts.size,build_cnts.get(-1,0))\n",
      "        \n",
      "        table = dset.fetch(simulation_table)  # need to go back to the whole dataset, for rdplcm this is buildings\n",
      "        table[depvar].ix[new_homes.index] = new_homes.values.astype('int32')\n",
      "        dset.store_attr(output_varname,year,copy.deepcopy(table[depvar]))\n",
      "        \n",
      "        #####SUMMARIES\n",
      "        #########################\n",
      "        print 'Annual totals'\n",
      "        print len(dset.households.index)\n",
      "        print dset.establishments.employees.sum()\n",
      "        print dset.buildings.residential_units.sum()\n",
      "        print dset.buildings.non_residential_sqft.sum()\n",
      "        \n",
      "        if sim_year == last_year:\n",
      "            print summary\n",
      "            b = dset.fetch('buildings')\n",
      "            e = dset.fetch('establishments')\n",
      "            hh = dset.fetch('households')\n",
      "            p = dset.fetch('parcels')\n",
      "            b['county_id'] = p.county_id[b.parcel_id].values\n",
      "            hh['county_id'] = b.county_id[hh.building_id].values\n",
      "            e['county_id'] = b.county_id[e.building_id].values\n",
      "            sim_hh_county = hh.groupby('county_id').size()\n",
      "            sim_emp_county = e.groupby('county_id').employees.sum()\n",
      "            sim_ru_county = b.groupby('county_id').residential_units.sum()\n",
      "            sim_nr_county = b.groupby('county_id').non_residential_sqft.sum()\n",
      "            hh_diff_county = sim_hh_county - base_hh_county\n",
      "            emp_diff_county = sim_emp_county - base_emp_county\n",
      "            ru_diff_county = sim_ru_county - base_ru_county\n",
      "            nr_diff_county = sim_nr_county - base_nr_county\n",
      "            print 'Household diffs'\n",
      "            print hh_diff_county\n",
      "            print 'Employment diffs'\n",
      "            print emp_diff_county\n",
      "            print 'Resunit diffs'\n",
      "            print ru_diff_county\n",
      "            print 'NR sqft diffs'\n",
      "            print nr_diff_county\n",
      "            \n",
      "    elapsed = time.time() - seconds_start\n",
      "    print \"TOTAL elapsed time: \" + str(elapsed) + \" seconds.\"\n",
      "    \n",
      "print 'Done running all three scenarios.'"
     ],
     "language": "python",
     "metadata": {},
     "outputs": [
      {
       "output_type": "stream",
       "stream": "stdout",
       "text": [
        "Running scenario: baseline\n",
        "1390337832.42\n",
        "Simulating year 2010\n",
        "1160387"
       ]
      },
      {
       "output_type": "stream",
       "stream": "stdout",
       "text": [
        "\n",
        "1606882\n",
        "1239015\n",
        "872568980\n",
        "Total new agents and movers = 1849"
       ]
      },
      {
       "output_type": "stream",
       "stream": "stdout",
       "text": [
        "\n",
        "Assigning units to 20 agents of segment 1"
       ]
      },
      {
       "output_type": "stream",
       "stream": "stdout",
       "text": [
        "\n",
        "Assigning units to 53 agents of segment 2\n",
        "Assigning units to 667 agents of segment 3\n",
        "Assigning units to 2 agents of segment 4\n",
        "Assigning units to 100 agents of segment 5\n",
        "Assigning units to 1007 agents of segment 6\n",
        "Assigned 1849 agents to 1677 locations with 0 unplaced\n",
        "Fetching annual_household_relocation_rates"
       ]
      },
      {
       "output_type": "stream",
       "stream": "stdout",
       "text": [
        "\n",
        "Fetching modify_table\n",
        "Histogram of relocation rates:"
       ]
      },
      {
       "output_type": "stream",
       "stream": "stdout",
       "text": [
        "\n",
        "0.0148    153792\n",
        "0.0000    148576\n",
        "0.0309    126137\n",
        "0.0274    124192\n",
        "0.0145    111425\n",
        "0.0311     73881\n",
        "0.0183     62880\n",
        "0.0348     57917\n",
        "0.0540     54238\n",
        "0.0184     48129\n",
        "0.0110     38269\n",
        "0.0220     30130\n",
        "0.0402     26160\n",
        "0.0099     19318\n",
        "0.0130     16762\n",
        "0.0124     16254\n",
        "0.0199     12650\n",
        "0.0111     11921\n",
        "0.0132     11878\n",
        "0.0117      9452\n",
        "0.0222      6426\n",
        "dtype: int64"
       ]
      },
      {
       "output_type": "stream",
       "stream": "stdout",
       "text": [
        "\n",
        "24074 agents are moving"
       ]
      },
      {
       "output_type": "stream",
       "stream": "stdout",
       "text": [
        "\n",
        "Total new agents and movers = 24074\n",
        "Assigning units to 5926 agents of segment 1"
       ]
      },
      {
       "output_type": "stream",
       "stream": "stdout",
       "text": [
        "\n",
        "num alts\n",
        "40253\n",
        "num agents\n",
        "5926\n",
        "Assigning units to 2246 agents of segment 2\n",
        "num alts\n",
        "24842\n",
        "num agents\n",
        "2246\n",
        "Assigning units to 14242 agents of segment 3\n",
        "num alts\n",
        "85475\n",
        "num agents\n",
        "14242\n",
        "Assigning units to 1660 agents of segment 4\n",
        "num alts\n",
        "54693\n",
        "num agents\n",
        "1660\n",
        "Assigned 24074 agents to 19395 locations with 0 unplaced\n",
        "PRE\n",
        "1239015\n",
        "872568980\n",
        "POST"
       ]
      },
      {
       "output_type": "stream",
       "stream": "stdout",
       "text": [
        "\n",
        "1239015\n",
        "872568980\n",
        "Total new agents and movers = 0"
       ]
      },
      {
       "output_type": "stream",
       "stream": "stdout",
       "text": [
        "\n",
        "Assigned 0 agents to 0 locations with 0 unplaced"
       ]
      },
      {
       "output_type": "stream",
       "stream": "stdout",
       "text": [
        "\n",
        "Total new agents and movers = 0"
       ]
      },
      {
       "output_type": "stream",
       "stream": "stdout",
       "text": [
        "\n",
        "Assigned 0 agents to 0 locations with 0 unplaced"
       ]
      },
      {
       "output_type": "stream",
       "stream": "stdout",
       "text": [
        "\n",
        "Annual totals\n",
        "1160387\n",
        "1606882\n",
        "1239015\n",
        "872568980\n",
        "Simulating year 2011\n",
        "Fetching annual_employment_control_totals"
       ]
      },
      {
       "output_type": "stream",
       "stream": "stdout",
       "text": [
        "\n",
        "Fetching modify_table"
       ]
      },
      {
       "output_type": "stream",
       "stream": "stdout",
       "text": [
        "\n",
        "                                 total_number_of_jobs\n",
        "sector_id_six home_based_status                      \n",
        "1             1                                  7276\n",
        "2             1                                 23908\n",
        "3             1                                  5197\n",
        "4             1                                 10395\n",
        "5             1                                 13513\n",
        "6             1                                 62368\n",
        "1             0                                 95218\n",
        "2             0                                312859\n",
        "3             0                                 68013\n",
        "4             0                                136026\n",
        "5             0                                176833\n",
        "6             0                                816154\n",
        "Adding agents to match target of 1727760 \n",
        "action"
       ]
      },
      {
       "output_type": "stream",
       "stream": "stdout",
       "text": [
        "\n",
        "-17256\n",
        "action"
       ]
      },
      {
       "output_type": "stream",
       "stream": "stdout",
       "text": [
        "\n",
        "279241\n",
        "action"
       ]
      },
      {
       "output_type": "stream",
       "stream": "stdout",
       "text": [
        "\n",
        "-287067\n",
        "action"
       ]
      },
      {
       "output_type": "stream",
       "stream": "stdout",
       "text": [
        "\n",
        "10696\n",
        "action\n",
        "-18043\n",
        "action"
       ]
      },
      {
       "output_type": "stream",
       "stream": "stdout",
       "text": [
        "\n",
        "30650\n",
        "Histogram of agents by year:\n"
       ]
      },
      {
       "output_type": "stream",
       "stream": "stdout",
       "text": [
        "2010    171958\n",
        "2011     26543\n",
        "dtype: int64\n",
        "Total new agents and movers = 26543\n",
        "Assigning units to 20756 agents of segment 2"
       ]
      },
      {
       "output_type": "stream",
       "stream": "stdout",
       "text": [
        "\n",
        "Assigning units to 689 agents of segment 4"
       ]
      },
      {
       "output_type": "stream",
       "stream": "stdout",
       "text": [
        "\n",
        "Assigning units to 5098 agents of segment 6"
       ]
      },
      {
       "output_type": "stream",
       "stream": "stdout",
       "text": [
        "\n",
        "Assigned 26543 agents to 16668 locations with 0 unplaced"
       ]
      },
      {
       "output_type": "stream",
       "stream": "stdout",
       "text": [
        "\n",
        "Fetching annual_household_control_totals\n",
        "Fetching modify_table\n",
        "total_number_of_households    23538\n",
        "persons                       45227\n",
        "dtype: int32\n",
        "Adding agents to match target of 68765 \n",
        "Histogram of agents by year:\n"
       ]
      },
      {
       "output_type": "stream",
       "stream": "stdout",
       "text": [
        "2010    1160387\n",
        "2011      23538\n",
        "dtype: int64\n",
        "Histogram of relocation rates:"
       ]
      },
      {
       "output_type": "stream",
       "stream": "stdout",
       "text": [
        "\n",
        "0.0148    156919\n",
        "0.0000    151567\n",
        "0.0309    128679\n",
        "0.0274    126690\n",
        "0.0145    113741\n",
        "0.0311     75359\n",
        "0.0183     64163\n",
        "0.0348     59063\n",
        "0.0540     55343\n",
        "0.0184     49084\n",
        "0.0110     39055\n",
        "0.0220     30808\n",
        "0.0402     26692\n",
        "0.0099     19683\n",
        "0.0130     17119\n",
        "0.0124     16572\n",
        "0.0199     12926\n",
        "0.0111     12142\n",
        "0.0132     12108\n",
        "0.0117      9655\n",
        "0.0222      6557\n",
        "dtype: int64"
       ]
      },
      {
       "output_type": "stream",
       "stream": "stdout",
       "text": [
        "\n",
        "24507 agents are moving\n",
        "Total new agents and movers = 47577"
       ]
      },
      {
       "output_type": "stream",
       "stream": "stdout",
       "text": [
        "\n",
        "Assigning units to 10944 agents of segment 1"
       ]
      },
      {
       "output_type": "stream",
       "stream": "stdout",
       "text": [
        "\n",
        "num alts\n",
        "39091\n",
        "num agents\n",
        "10944\n",
        "Assigning units to 4585 agents of segment 2\n",
        "num alts\n",
        "24289\n",
        "num agents\n",
        "4585\n",
        "Assigning units to 28811 agents of segment 3\n",
        "num alts\n",
        "83557\n",
        "num agents\n",
        "28811\n",
        "Assigning units to 3237 agents of segment 4\n",
        "num alts\n",
        "54142\n",
        "num agents\n",
        "3237\n",
        "Assigned 47577 agents to 37687 locations with 0 unplaced"
       ]
      },
      {
       "output_type": "stream",
       "stream": "stdout",
       "text": [
        "\n",
        "PRE"
       ]
      },
      {
       "output_type": "stream",
       "stream": "stdout",
       "text": [
        "\n",
        "1239015\n",
        "872568980\n",
        "Fetching target_vacancies"
       ]
      },
      {
       "output_type": "stream",
       "stream": "stdout",
       "text": [
        "\n",
        "Fetching modify_table\n",
        "New units to build (vacancy_diff * denom):\n",
        "building_type_id\n",
        "2                    9683.942503\n",
        "8                     302.763518\n",
        "17                   1898.972060\n",
        "20                  33591.375373\n",
        "dtype: float64\n",
        "                             0\n",
        "building_type_id              \n",
        "2                  9683.942503\n",
        "8                   302.763518\n",
        "17                 1898.972060\n",
        "20                33591.375373\n",
        "Adding agents to match target of 45477 \n",
        "action\n",
        "9683.9425035\n",
        "action"
       ]
      },
      {
       "output_type": "stream",
       "stream": "stdout",
       "text": [
        "\n",
        "302.763517588\n",
        "action"
       ]
      },
      {
       "output_type": "stream",
       "stream": "stdout",
       "text": [
        "\n",
        "1898.97205968\n",
        "action"
       ]
      },
      {
       "output_type": "stream",
       "stream": "stdout",
       "text": [
        "\n",
        "33591.3753733\n",
        "Histogram of agents by year:\n"
       ]
      },
      {
       "output_type": "stream",
       "stream": "stdout",
       "text": [
        "2011    28359\n",
        "dtype: int64\n",
        "POST\n",
        "1275856\n",
        "872931825\n",
        "Total new agents and movers = 28284"
       ]
      },
      {
       "output_type": "stream",
       "stream": "stdout",
       "text": [
        "\n",
        "Assigning units to 821 agents of segment 2"
       ]
      },
      {
       "output_type": "stream",
       "stream": "stdout",
       "text": [
        "\n",
        "Assigning units to 27463 agents of segment 20"
       ]
      },
      {
       "output_type": "stream",
       "stream": "stdout",
       "text": [
        "\n",
        "Assigned 28284 agents to 27710 locations with 0 unplaced"
       ]
      },
      {
       "output_type": "stream",
       "stream": "stdout",
       "text": [
        "\n",
        "Total new agents and movers = 75"
       ]
      },
      {
       "output_type": "stream",
       "stream": "stdout",
       "text": [
        "\n",
        "Assigning units to 2 agents of segment 8"
       ]
      },
      {
       "output_type": "stream",
       "stream": "stdout",
       "text": [
        "\n",
        "Assigning units to 73 agents of segment 17\n",
        "Assigned 75 agents to 5 locations with 0 unplaced"
       ]
      },
      {
       "output_type": "stream",
       "stream": "stdout",
       "text": [
        "\n",
        "Annual totals\n",
        "1183925\n",
        "1701492\n",
        "1275856\n",
        "872931825"
       ]
      },
      {
       "output_type": "stream",
       "stream": "stdout",
       "text": [
        "\n",
        "Simulating year 2012\n",
        "                                 total_number_of_jobs\n",
        "sector_id_six home_based_status                      \n",
        "1             1                                  7434\n",
        "2             1                                 24426\n",
        "3             1                                  5310\n",
        "4             1                                 10620\n",
        "5             1                                 13806\n",
        "6             1                                 63719\n",
        "1             0                                 97281\n",
        "2             0                                319637\n",
        "3             0                                 69486\n",
        "4             0                                138972\n",
        "5             0                                180664\n",
        "6             0                                833835"
       ]
      },
      {
       "output_type": "stream",
       "stream": "stdout",
       "text": [
        "\n",
        "Adding agents to match target of 1765190 \n",
        "action\n",
        "799\n",
        "action"
       ]
      },
      {
       "output_type": "stream",
       "stream": "stdout",
       "text": [
        "\n",
        "6913\n",
        "action\n",
        "-93234\n",
        "action"
       ]
      },
      {
       "output_type": "stream",
       "stream": "stdout",
       "text": [
        "\n",
        "2952\n",
        "action\n",
        "3266\n",
        "action"
       ]
      },
      {
       "output_type": "stream",
       "stream": "stdout",
       "text": [
        "\n",
        "17687\n",
        "Histogram of agents by year:\n",
        "2010    161487\n",
        "2011     26543\n",
        "2012      3792\n",
        "dtype: int64"
       ]
      },
      {
       "output_type": "stream",
       "stream": "stdout",
       "text": [
        "\n",
        "Total new agents and movers = 3792\n",
        "Assigning units to 2 agents of segment 1"
       ]
      },
      {
       "output_type": "stream",
       "stream": "stdout",
       "text": [
        "\n",
        "Assigning units to 538 agents of segment 2\n",
        "WARNING: not enough options to fit agents, will result in unplaced agents\n",
        "Assigning units to 214 agents of segment 4"
       ]
      },
      {
       "output_type": "stream",
       "stream": "stdout",
       "text": [
        "\n",
        "Assigning units to 338 agents of segment 5"
       ]
      },
      {
       "output_type": "stream",
       "stream": "stdout",
       "text": [
        "\n",
        "Assigning units to 2700 agents of segment 6"
       ]
      },
      {
       "output_type": "stream",
       "stream": "stdout",
       "text": [
        "\n",
        "WARNING: not enough options to fit agents, will result in unplaced agents\n",
        "WARNING: not enough options to fit agents, will result in unplaced agents\n",
        "WARNING: not enough options to fit agents, will result in unplaced agents\n",
        "WARNING: not enough options to fit agents, will result in unplaced agents\n",
        "WARNING: not enough options to fit agents, will result in unplaced agents\n",
        "WARNING: not enough options to fit agents, will result in unplaced agents\n",
        "WARNING: not enough options to fit agents, will result in unplaced agents\n",
        "WARNING: not enough options to fit agents, will result in unplaced agents\n",
        "Assigned 3792 agents to 3328 locations with 10 unplaced"
       ]
      },
      {
       "output_type": "stream",
       "stream": "stdout",
       "text": [
        "\n",
        "total_number_of_households    23537\n",
        "persons                       45228\n",
        "dtype: int32\n",
        "Adding agents to match target of 68765 \n",
        "Histogram of agents by year:\n"
       ]
      },
      {
       "output_type": "stream",
       "stream": "stdout",
       "text": [
        "2010    1160387\n",
        "2011      23538\n",
        "2012      23537\n",
        "dtype: int64\n",
        "Histogram of relocation rates:"
       ]
      },
      {
       "output_type": "stream",
       "stream": "stdout",
       "text": [
        "\n",
        "0.0148    160063\n",
        "0.0000    154530\n",
        "0.0309    131297\n",
        "0.0274    129163\n",
        "0.0145    115890\n",
        "0.0311     76874\n",
        "0.0183     65440\n",
        "0.0348     60233\n",
        "0.0540     56486\n",
        "0.0184     50094\n",
        "0.0110     39853\n",
        "0.0220     31414\n",
        "0.0402     27268\n",
        "0.0099     20091\n",
        "0.0130     17460\n",
        "0.0124     16895\n",
        "0.0199     13179\n",
        "0.0111     12381\n",
        "0.0132     12336\n",
        "0.0117      9832\n",
        "0.0222      6683\n",
        "dtype: int64"
       ]
      },
      {
       "output_type": "stream",
       "stream": "stdout",
       "text": [
        "\n",
        "24945 agents are moving\n",
        "Total new agents and movers = 47990"
       ]
      },
      {
       "output_type": "stream",
       "stream": "stdout",
       "text": [
        "\n",
        "Assigning units to 10863 agents of segment 1"
       ]
      },
      {
       "output_type": "stream",
       "stream": "stdout",
       "text": [
        "\n",
        "num alts\n",
        "42376\n",
        "num agents\n",
        "10863\n",
        "Assigning units to 4616 agents of segment 2\n",
        "num alts\n",
        "21578\n",
        "num agents\n",
        "4616\n",
        "Assigning units to 29236 agents of segment 3\n",
        "num alts\n",
        "94984\n",
        "num agents\n",
        "29236\n",
        "Assigning units to 3275 agents of segment 4\n",
        "num alts\n",
        "52035\n",
        "num agents\n",
        "3275\n",
        "Assigned 47990 agents to 39018 locations with 0 unplaced"
       ]
      },
      {
       "output_type": "stream",
       "stream": "stdout",
       "text": [
        "\n",
        "PRE"
       ]
      },
      {
       "output_type": "stream",
       "stream": "stdout",
       "text": [
        "\n",
        "1275856\n",
        "872931825\n",
        "New units to build (vacancy_diff * denom):\n"
       ]
      },
      {
       "output_type": "stream",
       "stream": "stdout",
       "text": [
        "building_type_id\n",
        "2                   5507.461576\n",
        "3                   1161.061652\n",
        "8                   1213.646818\n",
        "17                   168.401508\n",
        "20                  5594.563497\n",
        "dtype: float64\n",
        "                            0\n",
        "building_type_id             \n",
        "2                 5507.461576\n",
        "3                 1161.061652\n",
        "8                 1213.646818\n",
        "17                 168.401508\n",
        "20                5594.563497\n",
        "Adding agents to match target of 13645 \n",
        "action\n",
        "5507.46157613\n",
        "action"
       ]
      },
      {
       "output_type": "stream",
       "stream": "stdout",
       "text": [
        "\n",
        "1161.06165205\n",
        "action"
       ]
      },
      {
       "output_type": "stream",
       "stream": "stdout",
       "text": [
        "\n",
        "1213.64681784\n",
        "action"
       ]
      },
      {
       "output_type": "stream",
       "stream": "stdout",
       "text": [
        "\n",
        "168.401508434\n",
        "action"
       ]
      },
      {
       "output_type": "stream",
       "stream": "stdout",
       "text": [
        "\n",
        "5594.56349748\n",
        "Histogram of agents by year:\n"
       ]
      },
      {
       "output_type": "stream",
       "stream": "stdout",
       "text": [
        "2012    5336\n",
        "dtype: int64\n",
        "POST\n",
        "1287011\n",
        "873452519\n",
        "Total new agents and movers = 5307"
       ]
      },
      {
       "output_type": "stream",
       "stream": "stdout",
       "text": [
        "\n",
        "Assigning units to 486 agents of segment 2"
       ]
      },
      {
       "output_type": "stream",
       "stream": "stdout",
       "text": [
        "\n",
        "Assigning units to 152 agents of segment 3"
       ]
      },
      {
       "output_type": "stream",
       "stream": "stdout",
       "text": [
        "\n",
        "Assigning units to 4669 agents of segment 20"
       ]
      },
      {
       "output_type": "stream",
       "stream": "stdout",
       "text": [
        "\n",
        "Assigned 5307 agents to 4823 locations with 0 unplaced\n",
        "Total new agents and movers = 29"
       ]
      },
      {
       "output_type": "stream",
       "stream": "stdout",
       "text": [
        "\n",
        "Assigning units to 21 agents of segment 8"
       ]
      },
      {
       "output_type": "stream",
       "stream": "stdout",
       "text": [
        "\n",
        "Assigning units to 8 agents of segment 17"
       ]
      },
      {
       "output_type": "stream",
       "stream": "stdout",
       "text": [
        "\n",
        "Assigned 29 agents to 2 locations with 0 unplaced\n",
        "Annual totals"
       ]
      },
      {
       "output_type": "stream",
       "stream": "stdout",
       "text": [
        "\n",
        "1207462\n",
        "1661626\n",
        "1287011\n",
        "873452519\n",
        "Simulating year 2013\n",
        "                                 total_number_of_jobs\n",
        "sector_id_six home_based_status                      \n",
        "1             1                                  7592\n",
        "2             1                                 24944\n",
        "3             1                                  5423\n",
        "4             1                                 10845\n",
        "5             1                                 14099\n",
        "6             1                                 65070\n",
        "1             0                                 99343\n",
        "2             0                                326414\n",
        "3             0                                 70960\n",
        "4             0                                141919\n",
        "5             0                                184495\n",
        "6             0                                851515"
       ]
      },
      {
       "output_type": "stream",
       "stream": "stdout",
       "text": [
        "\n",
        "Adding agents to match target of 1802619 \n",
        "action\n",
        "2680\n",
        "action\n",
        "6852\n",
        "action"
       ]
      },
      {
       "output_type": "stream",
       "stream": "stdout",
       "text": [
        "\n",
        "-21024\n",
        "action"
       ]
      },
      {
       "output_type": "stream",
       "stream": "stdout",
       "text": [
        "\n",
        "2955\n",
        "action\n",
        "3874\n",
        "action"
       ]
      },
      {
       "output_type": "stream",
       "stream": "stdout",
       "text": [
        "\n",
        "17683\n",
        "Histogram of agents by year:\n",
        "2010    158622\n",
        "2011     26543\n",
        "2012      3792\n",
        "2013      3779\n",
        "dtype: int64"
       ]
      },
      {
       "output_type": "stream",
       "stream": "stdout",
       "text": [
        "\n",
        "Total new agents and movers = 3789\n",
        "Assigning units to 127 agents of segment 1"
       ]
      },
      {
       "output_type": "stream",
       "stream": "stdout",
       "text": [
        "\n",
        "Assigning units to 492 agents of segment 2"
       ]
      },
      {
       "output_type": "stream",
       "stream": "stdout",
       "text": [
        "\n",
        "WARNING: not enough options to fit agents, will result in unplaced agents\n",
        "WARNING: not enough options to fit agents, will result in unplaced agents\n",
        "WARNING: not enough options to fit agents, will result in unplaced agents\n",
        "WARNING: not enough options to fit agents, will result in unplaced agents\n",
        "Assigning units to 180 agents of segment 4"
       ]
      },
      {
       "output_type": "stream",
       "stream": "stdout",
       "text": [
        "\n",
        "Assigning units to 397 agents of segment 5"
       ]
      },
      {
       "output_type": "stream",
       "stream": "stdout",
       "text": [
        "\n",
        "WARNING: not enough options to fit agents, will result in unplaced agents\n",
        "Assigning units to 2593 agents of segment 6"
       ]
      },
      {
       "output_type": "stream",
       "stream": "stdout",
       "text": [
        "\n",
        "WARNING: not enough options to fit agents, will result in unplaced agents\n",
        "WARNING: not enough options to fit agents, will result in unplaced agents\n",
        "WARNING: not enough options to fit agents, will result in unplaced agents\n",
        "WARNING: not enough options to fit agents, will result in unplaced agents\n",
        "WARNING: not enough options to fit agents, will result in unplaced agents\n",
        "WARNING: not enough options to fit agents, will result in unplaced agents\n",
        "WARNING: not enough options to fit agents, will result in unplaced agents\n",
        "WARNING: not enough options to fit agents, will result in unplaced agents\n",
        "WARNING: not enough options to fit agents, will result in unplaced agents\n",
        "WARNING: not enough options to fit agents, will result in unplaced agents\n",
        "WARNING: not enough options to fit agents, will result in unplaced agents\n",
        "WARNING: not enough options to fit agents, will result in unplaced agents\n",
        "WARNING: not enough options to fit agents, will result in unplaced agents\n",
        "WARNING: not enough options to fit agents, will result in unplaced agents\n",
        "WARNING: not enough options to fit agents, will result in unplaced agents\n",
        "Assigned 3789 agents to 3362 locations with 29 unplaced"
       ]
      },
      {
       "output_type": "stream",
       "stream": "stdout",
       "text": [
        "\n",
        "total_number_of_households    23537\n",
        "persons                       45227\n",
        "dtype: int32\n",
        "Adding agents to match target of 68764 \n",
        "Histogram of agents by year:\n"
       ]
      },
      {
       "output_type": "stream",
       "stream": "stdout",
       "text": [
        "2010    1160387\n",
        "2011      23538\n",
        "2013      23537\n",
        "2012      23537\n",
        "dtype: int64\n",
        "Histogram of relocation rates:"
       ]
      },
      {
       "output_type": "stream",
       "stream": "stdout",
       "text": [
        "\n",
        "0.0148    163237\n",
        "0.0000    157466\n",
        "0.0309    133822\n",
        "0.0274    131686\n",
        "0.0145    118121\n",
        "0.0311     78331\n",
        "0.0183     66726\n",
        "0.0348     61430\n",
        "0.0540     57590\n",
        "0.0184     51072\n",
        "0.0110     40651\n",
        "0.0220     32028\n",
        "0.0402     27810\n",
        "0.0099     20453\n",
        "0.0130     17789\n",
        "0.0124     17262\n",
        "0.0199     13465\n",
        "0.0111     12619\n",
        "0.0132     12602\n",
        "0.0117     10021\n",
        "0.0222      6818\n",
        "dtype: int64"
       ]
      },
      {
       "output_type": "stream",
       "stream": "stdout",
       "text": [
        "\n",
        "25447 agents are moving\n",
        "Total new agents and movers = 48501"
       ]
      },
      {
       "output_type": "stream",
       "stream": "stdout",
       "text": [
        "\n",
        "Assigning units to 11014 agents of segment 1"
       ]
      },
      {
       "output_type": "stream",
       "stream": "stdout",
       "text": [
        "\n",
        "num alts\n",
        "42211\n",
        "num agents\n",
        "11014\n",
        "Assigning units to 4553 agents of segment 2\n",
        "num alts\n",
        "19979\n",
        "num agents\n",
        "4553\n",
        "Assigning units to 29549 agents of segment 3\n",
        "num alts\n",
        "83551\n",
        "num agents\n",
        "29549\n",
        "Assigning units to 3385 agents of segment 4\n",
        "num alts\n",
        "50000\n",
        "num agents\n",
        "3385\n",
        "Assigned 48501 agents to 40043 locations with 0 unplaced\n",
        "PRE"
       ]
      },
      {
       "output_type": "stream",
       "stream": "stdout",
       "text": [
        "\n",
        "1287011\n",
        "873452519\n",
        "New units to build (vacancy_diff * denom):\n"
       ]
      },
      {
       "output_type": "stream",
       "stream": "stdout",
       "text": [
        "building_type_id\n",
        "2                    5268.612588\n",
        "3                    2226.596651\n",
        "8                     980.127285\n",
        "17                    182.030812\n",
        "20                  12249.955518\n",
        "dtype: float64\n",
        "                             0\n",
        "building_type_id              \n",
        "2                  5268.612588\n",
        "3                  2226.596651\n",
        "8                   980.127285\n",
        "17                  182.030812\n",
        "20                12249.955518\n",
        "Adding agents to match target of 20907 \n",
        "action\n",
        "5268.61258827\n",
        "action"
       ]
      },
      {
       "output_type": "stream",
       "stream": "stdout",
       "text": [
        "\n",
        "2226.59665068\n",
        "action"
       ]
      },
      {
       "output_type": "stream",
       "stream": "stdout",
       "text": [
        "\n",
        "980.127284931\n",
        "action"
       ]
      },
      {
       "output_type": "stream",
       "stream": "stdout",
       "text": [
        "\n",
        "182.030811606\n",
        "action"
       ]
      },
      {
       "output_type": "stream",
       "stream": "stdout",
       "text": [
        "\n",
        "12249.9555182\n",
        "Histogram of agents by year:\n"
       ]
      },
      {
       "output_type": "stream",
       "stream": "stdout",
       "text": [
        "2013    10964\n",
        "dtype: int64\n",
        "POST\n",
        "1304480\n",
        "873817772\n",
        "Total new agents and movers = 10934"
       ]
      },
      {
       "output_type": "stream",
       "stream": "stdout",
       "text": [
        "\n",
        "Assigning units to 444 agents of segment 2"
       ]
      },
      {
       "output_type": "stream",
       "stream": "stdout",
       "text": [
        "\n",
        "Assigning units to 259 agents of segment 3"
       ]
      },
      {
       "output_type": "stream",
       "stream": "stdout",
       "text": [
        "\n",
        "Assigning units to 10231 agents of segment 20"
       ]
      },
      {
       "output_type": "stream",
       "stream": "stdout",
       "text": [
        "\n",
        "Assigned 10934 agents to 10370 locations with 0 unplaced"
       ]
      },
      {
       "output_type": "stream",
       "stream": "stdout",
       "text": [
        "\n",
        "Total new agents and movers = 30"
       ]
      },
      {
       "output_type": "stream",
       "stream": "stdout",
       "text": [
        "\n",
        "Assigning units to 25 agents of segment 8"
       ]
      },
      {
       "output_type": "stream",
       "stream": "stdout",
       "text": [
        "\n",
        "Assigning units to 5 agents of segment 17"
       ]
      },
      {
       "output_type": "stream",
       "stream": "stdout",
       "text": [
        "\n",
        "Assigned 30 agents to 2 locations with 0 unplaced\n",
        "Annual totals"
       ]
      },
      {
       "output_type": "stream",
       "stream": "stdout",
       "text": [
        "\n",
        "1230999\n",
        "1676751\n",
        "1304480\n",
        "873817772\n",
        "Simulating year 2014\n",
        "                                 total_number_of_jobs\n",
        "sector_id_six home_based_status                      \n",
        "1             1                                  7749\n",
        "2             1                                 25462\n",
        "3             1                                  5535\n",
        "4             1                                 11070\n",
        "5             1                                 14391\n",
        "6             1                                 66421\n",
        "1             0                                101406\n",
        "2             0                                333192\n",
        "3             0                                 72433\n",
        "4             0                                144866\n",
        "5             0                                188326\n",
        "6             0                                869196"
       ]
      },
      {
       "output_type": "stream",
       "stream": "stdout",
       "text": [
        "\n",
        "Adding agents to match target of 1840047 \n",
        "action\n",
        "2064\n",
        "action\n",
        "6781\n",
        "action"
       ]
      },
      {
       "output_type": "stream",
       "stream": "stdout",
       "text": [
        "\n",
        "-721\n",
        "action\n",
        "3022\n",
        "action"
       ]
      },
      {
       "output_type": "stream",
       "stream": "stdout",
       "text": [
        "\n",
        "3837\n",
        "action\n",
        "17685\n",
        "Histogram of agents by year:\n"
       ]
      },
      {
       "output_type": "stream",
       "stream": "stdout",
       "text": [
        "2010    158590\n",
        "2011     26543\n",
        "2014      4177\n",
        "2012      3792\n",
        "2013      3779\n",
        "dtype: int64\n",
        "Total new agents and movers = 4206\n",
        "Assigning units to 96 agents of segment 1"
       ]
      },
      {
       "output_type": "stream",
       "stream": "stdout",
       "text": [
        "\n",
        "Assigning units to 670 agents of segment 2"
       ]
      },
      {
       "output_type": "stream",
       "stream": "stdout",
       "text": [
        "\n",
        "WARNING: not enough options to fit agents, will result in unplaced agents\n",
        "WARNING: not enough options to fit agents, will result in unplaced agents\n",
        "WARNING: not enough options to fit agents, will result in unplaced agents\n",
        "WARNING: not enough options to fit agents, will result in unplaced agents\n",
        "WARNING: not enough options to fit agents, will result in unplaced agents\n",
        "WARNING: not enough options to fit agents, will result in unplaced agents\n",
        "WARNING: not enough options to fit agents, will result in unplaced agents\n",
        "Assigning units to 188 agents of segment 4"
       ]
      },
      {
       "output_type": "stream",
       "stream": "stdout",
       "text": [
        "\n",
        "Assigning units to 486 agents of segment 5"
       ]
      },
      {
       "output_type": "stream",
       "stream": "stdout",
       "text": [
        "\n",
        "WARNING: not enough options to fit agents, will result in unplaced agents\n",
        "WARNING: not enough options to fit agents, will result in unplaced agents\n",
        "WARNING: not enough options to fit agents, will result in unplaced agents\n",
        "WARNING: not enough options to fit agents, will result in unplaced agents\n",
        "Assigning units to 2766 agents of segment 6"
       ]
      },
      {
       "output_type": "stream",
       "stream": "stdout",
       "text": [
        "\n",
        "WARNING: not enough options to fit agents, will result in unplaced agents\n",
        "WARNING: not enough options to fit agents, will result in unplaced agents\n",
        "WARNING: not enough options to fit agents, will result in unplaced agents\n",
        "WARNING: not enough options to fit agents, will result in unplaced agents\n",
        "WARNING: not enough options to fit agents, will result in unplaced agents\n",
        "WARNING: not enough options to fit agents, will result in unplaced agents\n",
        "WARNING: not enough options to fit agents, will result in unplaced agents\n",
        "WARNING: not enough options to fit agents, will result in unplaced agents\n",
        "WARNING: not enough options to fit agents, will result in unplaced agents\n",
        "WARNING: not enough options to fit agents, will result in unplaced agents\n",
        "WARNING: not enough options to fit agents, will result in unplaced agents\n",
        "WARNING: not enough options to fit agents, will result in unplaced agents\n",
        "WARNING: not enough options to fit agents, will result in unplaced agents\n",
        "WARNING: not enough options to fit agents, will result in unplaced agents\n",
        "WARNING: not enough options to fit agents, will result in unplaced agents\n",
        "WARNING: not enough options to fit agents, will result in unplaced agents\n",
        "WARNING: not enough options to fit agents, will result in unplaced agents\n",
        "WARNING: not enough options to fit agents, will result in unplaced agents\n",
        "WARNING: not enough options to fit agents, will result in unplaced agents\n",
        "WARNING: not enough options to fit agents, will result in unplaced agents\n",
        "WARNING: not enough options to fit agents, will result in unplaced agents\n",
        "WARNING: not enough options to fit agents, will result in unplaced agents\n",
        "WARNING: not enough options to fit agents, will result in unplaced agents\n",
        "WARNING: not enough options to fit agents, will result in unplaced agents\n",
        "WARNING: not enough options to fit agents, will result in unplaced agents\n",
        "WARNING: not enough options to fit agents, will result in unplaced agents\n",
        "WARNING: not enough options to fit agents, will result in unplaced agents\n",
        "Assigned 4206 agents to 3756 locations with 49 unplaced"
       ]
      },
      {
       "output_type": "stream",
       "stream": "stdout",
       "text": [
        "\n",
        "total_number_of_households    23537\n",
        "persons                       45227\n",
        "dtype: int32\n",
        "Adding agents to match target of 68764 \n",
        "Histogram of agents by year:\n"
       ]
      },
      {
       "output_type": "stream",
       "stream": "stdout",
       "text": [
        "2010    1160387\n",
        "2011      23538\n",
        "2014      23537\n",
        "2013      23537\n",
        "2012      23537\n",
        "dtype: int64\n",
        "Histogram of relocation rates:"
       ]
      },
      {
       "output_type": "stream",
       "stream": "stdout",
       "text": [
        "\n",
        "0.0148    166357\n",
        "0.0000    160413\n",
        "0.0309    136402\n",
        "0.0274    134241\n",
        "0.0145    120326\n",
        "0.0311     79785\n",
        "0.0183     68007\n",
        "0.0348     62620\n",
        "0.0540     58732\n",
        "0.0184     52071\n",
        "0.0110     41395\n",
        "0.0220     32674\n",
        "0.0402     28343\n",
        "0.0099     20844\n",
        "0.0130     18121\n",
        "0.0124     17635\n",
        "0.0199     13713\n",
        "0.0111     12854\n",
        "0.0132     12840\n",
        "0.0117     10200\n",
        "0.0222      6963\n",
        "dtype: int64"
       ]
      },
      {
       "output_type": "stream",
       "stream": "stdout",
       "text": [
        "\n",
        "25881 agents are moving\n",
        "Total new agents and movers = 48938"
       ]
      },
      {
       "output_type": "stream",
       "stream": "stdout",
       "text": [
        "\n",
        "Assigning units to 11231 agents of segment 1"
       ]
      },
      {
       "output_type": "stream",
       "stream": "stdout",
       "text": [
        "\n",
        "num alts\n",
        "41882\n",
        "num agents\n",
        "11231\n",
        "Assigning units to 4542 agents of segment 2\n",
        "num alts\n",
        "19526\n",
        "num agents\n",
        "4542\n",
        "Assigning units to 29684 agents of segment 3\n",
        "num alts\n",
        "77514\n",
        "num agents\n",
        "29684\n",
        "Assigning units to 3481 agents of segment 4\n",
        "num alts\n",
        "47925\n",
        "num agents\n",
        "3481\n",
        "Assigned 48938 agents to 40714 locations with 0 unplaced"
       ]
      },
      {
       "output_type": "stream",
       "stream": "stdout",
       "text": [
        "\n",
        "PRE"
       ]
      },
      {
       "output_type": "stream",
       "stream": "stdout",
       "text": [
        "\n",
        "1304480\n",
        "873817772\n",
        "New units to build (vacancy_diff * denom):\n"
       ]
      },
      {
       "output_type": "stream",
       "stream": "stdout",
       "text": [
        "building_type_id\n",
        "2                    5399.746600\n",
        "3                    2377.356648\n",
        "8                    1650.667372\n",
        "17                    344.009850\n",
        "20                  15643.887563\n",
        "23                    100.031805\n",
        "dtype: float64\n",
        "                             0\n",
        "building_type_id              \n",
        "2                  5399.746600\n",
        "3                  2377.356648\n",
        "8                  1650.667372\n",
        "17                  344.009850\n",
        "20                15643.887563\n",
        "23                  100.031805\n",
        "Adding agents to match target of 25515 \n",
        "action\n",
        "5399.74659983\n",
        "action"
       ]
      },
      {
       "output_type": "stream",
       "stream": "stdout",
       "text": [
        "\n",
        "2377.35664805\n",
        "action"
       ]
      },
      {
       "output_type": "stream",
       "stream": "stdout",
       "text": [
        "\n",
        "1650.66737155\n",
        "action"
       ]
      },
      {
       "output_type": "stream",
       "stream": "stdout",
       "text": [
        "\n",
        "344.009849623\n",
        "action"
       ]
      },
      {
       "output_type": "stream",
       "stream": "stdout",
       "text": [
        "\n",
        "15643.8875634\n",
        "action"
       ]
      },
      {
       "output_type": "stream",
       "stream": "stdout",
       "text": [
        "\n",
        "100.031805203\n",
        "Histogram of agents by year:\n"
       ]
      },
      {
       "output_type": "stream",
       "stream": "stdout",
       "text": [
        "2014    13107\n",
        "dtype: int64\n",
        "POST\n",
        "1324169\n",
        "874621808\n",
        "Total new agents and movers = 13057"
       ]
      },
      {
       "output_type": "stream",
       "stream": "stdout",
       "text": [
        "\n",
        "Assigning units to 494 agents of segment 2"
       ]
      },
      {
       "output_type": "stream",
       "stream": "stdout",
       "text": [
        "\n",
        "Assigning units to 253 agents of segment 3"
       ]
      },
      {
       "output_type": "stream",
       "stream": "stdout",
       "text": [
        "\n",
        "Assigning units to 12310 agents of segment 20"
       ]
      },
      {
       "output_type": "stream",
       "stream": "stdout",
       "text": [
        "\n",
        "Assigned 13057 agents to 12465 locations with 0 unplaced"
       ]
      },
      {
       "output_type": "stream",
       "stream": "stdout",
       "text": [
        "\n",
        "Total new agents and movers = 50"
       ]
      },
      {
       "output_type": "stream",
       "stream": "stdout",
       "text": [
        "\n",
        "Assigning units to 32 agents of segment 8"
       ]
      },
      {
       "output_type": "stream",
       "stream": "stdout",
       "text": [
        "\n",
        "Assigning units to 12 agents of segment 17"
       ]
      },
      {
       "output_type": "stream",
       "stream": "stdout",
       "text": [
        "\n",
        "Assigning units to 6 agents of segment 23\n",
        "Assigned 50 agents to 2 locations with 0 unplaced\n",
        "Annual totals"
       ]
      },
      {
       "output_type": "stream",
       "stream": "stdout",
       "text": [
        "\n",
        "1254536\n",
        "1709328\n",
        "1324169\n",
        "874621808\n",
        "Simulating year 2015\n",
        "                                 total_number_of_jobs\n",
        "sector_id_six home_based_status                      \n",
        "1             1                                  7907\n",
        "2             1                                 25979\n",
        "3             1                                  5648\n",
        "4             1                                 11295\n",
        "5             1                                 14684\n",
        "6             1                                 67772\n",
        "1             0                                103469\n",
        "2             0                                339969\n",
        "3             0                                 73906\n",
        "4             0                                147813\n",
        "5             0                                192157\n",
        "6             0                                886877"
       ]
      },
      {
       "output_type": "stream",
       "stream": "stdout",
       "text": [
        "\n",
        "Adding agents to match target of 1877476 \n",
        "action\n",
        "2117\n",
        "action"
       ]
      },
      {
       "output_type": "stream",
       "stream": "stdout",
       "text": [
        "\n",
        "6846\n",
        "action\n",
        "1331\n",
        "action\n",
        "2967\n",
        "action"
       ]
      },
      {
       "output_type": "stream",
       "stream": "stdout",
       "text": [
        "\n",
        "3907\n",
        "action\n",
        "17695\n",
        "Histogram of agents by year:\n"
       ]
      },
      {
       "output_type": "stream",
       "stream": "stdout",
       "text": [
        "2010    158590\n",
        "2011     26543\n",
        "2015      4584\n",
        "2014      4177\n",
        "2012      3792\n",
        "2013      3779\n",
        "dtype: int64\n",
        "Total new agents and movers = 4633\n",
        "Assigning units to 79 agents of segment 1"
       ]
      },
      {
       "output_type": "stream",
       "stream": "stdout",
       "text": [
        "\n",
        "Assigning units to 605 agents of segment 2"
       ]
      },
      {
       "output_type": "stream",
       "stream": "stdout",
       "text": [
        "\n",
        "WARNING: not enough options to fit agents, will result in unplaced agents\n",
        "WARNING: not enough options to fit agents, will result in unplaced agents\n",
        "WARNING: not enough options to fit agents, will result in unplaced agents\n",
        "WARNING: not enough options to fit agents, will result in unplaced agents\n",
        "WARNING: not enough options to fit agents, will result in unplaced agents\n",
        "WARNING: not enough options to fit agents, will result in unplaced agents\n",
        "WARNING: not enough options to fit agents, will result in unplaced agents\n",
        "WARNING: not enough options to fit agents, will result in unplaced agents\n",
        "WARNING: not enough options to fit agents, will result in unplaced agents\n",
        "WARNING: not enough options to fit agents, will result in unplaced agents\n",
        "WARNING: not enough options to fit agents, will result in unplaced agents\n",
        "WARNING: not enough options to fit agents, will result in unplaced agents\n",
        "WARNING: not enough options to fit agents, will result in unplaced agents\n",
        "WARNING: not enough options to fit agents, will result in unplaced agents\n",
        "WARNING: not enough options to fit agents, will result in unplaced agents\n",
        "WARNING: not enough options to fit agents, will result in unplaced agents\n",
        "WARNING: not enough options to fit agents, will result in unplaced agents\n",
        "WARNING: not enough options to fit agents, will result in unplaced agents\n",
        "WARNING: not enough options to fit agents, will result in unplaced agents\n",
        "WARNING: not enough options to fit agents, will result in unplaced agents\n",
        "Assigning units to 233 agents of segment 3"
       ]
      },
      {
       "output_type": "stream",
       "stream": "stdout",
       "text": [
        "\n",
        "WARNING: not enough options to fit agents, will result in unplaced agents\n",
        "WARNING: not enough options to fit agents, will result in unplaced agents\n",
        "Assigning units to 212 agents of segment 4"
       ]
      },
      {
       "output_type": "stream",
       "stream": "stdout",
       "text": [
        "\n",
        "Assigning units to 476 agents of segment 5"
       ]
      },
      {
       "output_type": "stream",
       "stream": "stdout",
       "text": [
        "\n",
        "WARNING: not enough options to fit agents, will result in unplaced agents\n",
        "WARNING: not enough options to fit agents, will result in unplaced agents\n",
        "WARNING: not enough options to fit agents, will result in unplaced agents\n",
        "WARNING: not enough options to fit agents, will result in unplaced agents\n",
        "WARNING: not enough options to fit agents, will result in unplaced agents\n",
        "WARNING: not enough options to fit agents, will result in unplaced agents\n",
        "WARNING: not enough options to fit agents, will result in unplaced agents\n",
        "WARNING: not enough options to fit agents, will result in unplaced agents\n",
        "WARNING: not enough options to fit agents, will result in unplaced agents\n",
        "WARNING: not enough options to fit agents, will result in unplaced agents\n",
        "Assigning units to 3028 agents of segment 6"
       ]
      },
      {
       "output_type": "stream",
       "stream": "stdout",
       "text": [
        "\n",
        "WARNING: not enough options to fit agents, will result in unplaced agents\n",
        "WARNING: not enough options to fit agents, will result in unplaced agents\n",
        "WARNING: not enough options to fit agents, will result in unplaced agents\n",
        "WARNING: not enough options to fit agents, will result in unplaced agents\n",
        "WARNING: not enough options to fit agents, will result in unplaced agents\n",
        "WARNING: not enough options to fit agents, will result in unplaced agents\n",
        "WARNING: not enough options to fit agents, will result in unplaced agents\n",
        "WARNING: not enough options to fit agents, will result in unplaced agents\n",
        "WARNING: not enough options to fit agents, will result in unplaced agents\n",
        "WARNING: not enough options to fit agents, will result in unplaced agents\n",
        "WARNING: not enough options to fit agents, will result in unplaced agents\n",
        "WARNING: not enough options to fit agents, will result in unplaced agents\n",
        "WARNING: not enough options to fit agents, will result in unplaced agents\n",
        "WARNING: not enough options to fit agents, will result in unplaced agents\n",
        "WARNING: not enough options to fit agents, will result in unplaced agents\n",
        "WARNING: not enough options to fit agents, will result in unplaced agents\n",
        "WARNING: not enough options to fit agents, will result in unplaced agents\n",
        "WARNING: not enough options to fit agents, will result in unplaced agents\n",
        "WARNING: not enough options to fit agents, will result in unplaced agents\n",
        "WARNING: not enough options to fit agents, will result in unplaced agents\n",
        "WARNING: not enough options to fit agents, will result in unplaced agents\n",
        "WARNING: not enough options to fit agents, will result in unplaced agents\n",
        "WARNING: not enough options to fit agents, will result in unplaced agents\n",
        "WARNING: not enough options to fit agents, will result in unplaced agents\n",
        "WARNING: not enough options to fit agents, will result in unplaced agents\n",
        "WARNING: not enough options to fit agents, will result in unplaced agents\n",
        "WARNING: not enough options to fit agents, will result in unplaced agents\n",
        "WARNING: not enough options to fit agents, will result in unplaced agents\n",
        "WARNING: not enough options to fit agents, will result in unplaced agents\n",
        "WARNING: not enough options to fit agents, will result in unplaced agents"
       ]
      },
      {
       "output_type": "stream",
       "stream": "stdout",
       "text": [
        "\n",
        "WARNING: not enough options to fit agents, will result in unplaced agents\n",
        "WARNING: not enough options to fit agents, will result in unplaced agents\n",
        "WARNING: not enough options to fit agents, will result in unplaced agents\n",
        "WARNING: not enough options to fit agents, will result in unplaced agents\n",
        "WARNING: not enough options to fit agents, will result in unplaced agents\n",
        "WARNING: not enough options to fit agents, will result in unplaced agents\n",
        "WARNING: not enough options to fit agents, will result in unplaced agents\n",
        "WARNING: not enough options to fit agents, will result in unplaced agents\n",
        "WARNING: not enough options to fit agents, will result in unplaced agents\n",
        "WARNING: not enough options to fit agents, will result in unplaced agents\n",
        "WARNING: not enough options to fit agents, will result in unplaced agents\n",
        "WARNING: not enough options to fit agents, will result in unplaced agents\n",
        "WARNING: not enough options to fit agents, will result in unplaced agents\n",
        "WARNING: not enough options to fit agents, will result in unplaced agents\n",
        "WARNING: not enough options to fit agents, will result in unplaced agents\n",
        "WARNING: not enough options to fit agents, will result in unplaced agents\n",
        "Assigned 4633 agents to 4062 locations with 97 unplaced"
       ]
      },
      {
       "output_type": "stream",
       "stream": "stdout",
       "text": [
        "\n",
        "total_number_of_households    23538\n",
        "persons                       45227\n",
        "dtype: int32\n",
        "Adding agents to match target of 68765 \n",
        "Histogram of agents by year:\n"
       ]
      },
      {
       "output_type": "stream",
       "stream": "stdout",
       "text": [
        "2010    1160387\n",
        "2015      23538\n",
        "2011      23538\n",
        "2014      23537\n",
        "2013      23537\n",
        "2012      23537\n",
        "dtype: int64\n",
        "Histogram of relocation rates:"
       ]
      },
      {
       "output_type": "stream",
       "stream": "stdout",
       "text": [
        "\n",
        "0.0148    169442\n",
        "0.0000    163488\n",
        "0.0309    138868\n",
        "0.0274    136807\n",
        "0.0145    122574\n",
        "0.0311     81287\n",
        "0.0183     69253\n",
        "0.0348     63765\n",
        "0.0540     59841\n",
        "0.0184     53069\n",
        "0.0110     42164\n",
        "0.0220     33308\n",
        "0.0402     28876\n",
        "0.0099     21246\n",
        "0.0130     18481\n",
        "0.0124     17987\n",
        "0.0199     13978\n",
        "0.0111     13089\n",
        "0.0132     13071\n",
        "0.0117     10400\n",
        "0.0222      7080\n",
        "dtype: int64"
       ]
      },
      {
       "output_type": "stream",
       "stream": "stdout",
       "text": [
        "\n",
        "26249 agents are moving\n",
        "Total new agents and movers = 49317"
       ]
      },
      {
       "output_type": "stream",
       "stream": "stdout",
       "text": [
        "\n",
        "Assigning units to 11348 agents of segment 1"
       ]
      },
      {
       "output_type": "stream",
       "stream": "stdout",
       "text": [
        "\n",
        "num alts\n",
        "41532\n",
        "num agents\n",
        "11348\n",
        "Assigning units to 4675 agents of segment 2\n",
        "num alts\n",
        "19269\n",
        "num agents\n",
        "4675\n",
        "Assigning units to 29921 agents of segment 3\n",
        "num alts\n",
        "73842\n",
        "num agents\n",
        "29921\n",
        "Assigning units to 3373 agents of segment 4\n",
        "num alts\n",
        "45748\n",
        "num agents\n",
        "3373\n",
        "Assigned 49317 agents to 41087 locations with 0 unplaced"
       ]
      },
      {
       "output_type": "stream",
       "stream": "stdout",
       "text": [
        "\n",
        "PRE"
       ]
      },
      {
       "output_type": "stream",
       "stream": "stdout",
       "text": [
        "\n",
        "1324169\n",
        "874621808\n",
        "New units to build (vacancy_diff * denom):\n"
       ]
      },
      {
       "output_type": "stream",
       "stream": "stdout",
       "text": [
        "building_type_id\n",
        "2                    5610.737612\n",
        "3                    2474.171645\n",
        "8                    1725.706529\n",
        "17                    612.012009\n",
        "20                  15836.611621\n",
        "23                    238.383155\n",
        "dtype: float64\n",
        "                             0\n",
        "building_type_id              \n",
        "2                  5610.737612\n",
        "3                  2474.171645\n",
        "8                  1725.706529\n",
        "17                  612.012009\n",
        "20                15836.611621\n",
        "23                  238.383155\n",
        "Adding agents to match target of 26497 \n",
        "action\n",
        "5610.73761171\n",
        "action"
       ]
      },
      {
       "output_type": "stream",
       "stream": "stdout",
       "text": [
        "\n",
        "2474.17164521\n",
        "action"
       ]
      },
      {
       "output_type": "stream",
       "stream": "stdout",
       "text": [
        "\n",
        "1725.70652913\n",
        "action"
       ]
      },
      {
       "output_type": "stream",
       "stream": "stdout",
       "text": [
        "\n",
        "612.012009038\n",
        "action"
       ]
      },
      {
       "output_type": "stream",
       "stream": "stdout",
       "text": [
        "\n",
        "15836.6116212\n",
        "action"
       ]
      },
      {
       "output_type": "stream",
       "stream": "stdout",
       "text": [
        "\n",
        "238.383155365\n",
        "Histogram of agents by year:\n"
       ]
      },
      {
       "output_type": "stream",
       "stream": "stdout",
       "text": [
        "2015    14039\n",
        "dtype: int64\n",
        "POST\n",
        "1345129\n",
        "875796654\n",
        "Total new agents and movers = 13985"
       ]
      },
      {
       "output_type": "stream",
       "stream": "stdout",
       "text": [
        "\n",
        "Assigning units to 532 agents of segment 2"
       ]
      },
      {
       "output_type": "stream",
       "stream": "stdout",
       "text": [
        "\n",
        "Assigning units to 273 agents of segment 3"
       ]
      },
      {
       "output_type": "stream",
       "stream": "stdout",
       "text": [
        "\n",
        "Assigning units to 13180 agents of segment 20"
       ]
      },
      {
       "output_type": "stream",
       "stream": "stdout",
       "text": [
        "\n",
        "Assigned 13985 agents to 13350 locations with 0 unplaced"
       ]
      },
      {
       "output_type": "stream",
       "stream": "stdout",
       "text": [
        "\n",
        "Total new agents and movers = 54"
       ]
      },
      {
       "output_type": "stream",
       "stream": "stdout",
       "text": [
        "\n",
        "Assigning units to 26 agents of segment 8"
       ]
      },
      {
       "output_type": "stream",
       "stream": "stdout",
       "text": [
        "\n",
        "Assigning units to 16 agents of segment 17"
       ]
      },
      {
       "output_type": "stream",
       "stream": "stdout",
       "text": [
        "\n",
        "Assigning units to 12 agents of segment 23\n",
        "Assigned 54 agents to 3 locations with 0 unplaced"
       ]
      },
      {
       "output_type": "stream",
       "stream": "stdout",
       "text": [
        "\n",
        "Annual totals\n",
        "1278074\n",
        "1743500\n",
        "1345129"
       ]
      },
      {
       "output_type": "stream",
       "stream": "stdout",
       "text": [
        "\n",
        "875796654\n",
        "Simulating year 2016\n",
        "                                 total_number_of_jobs\n",
        "sector_id_six home_based_status                      \n",
        "1             1                                  8023\n",
        "2             1                                 26362\n",
        "3             1                                  5731\n",
        "4             1                                 11462\n",
        "5             1                                 14901\n",
        "6             1                                 68772\n",
        "1             0                                104995\n",
        "2             0                                344982\n",
        "3             0                                 74996\n",
        "4             0                                149992\n",
        "5             0                                194990\n",
        "6             0                                899953"
       ]
      },
      {
       "output_type": "stream",
       "stream": "stdout",
       "text": [
        "\n",
        "Adding agents to match target of 1905159 \n",
        "action\n",
        "2045\n",
        "action"
       ]
      },
      {
       "output_type": "stream",
       "stream": "stdout",
       "text": [
        "\n",
        "5080\n",
        "action\n",
        "1141\n",
        "action"
       ]
      },
      {
       "output_type": "stream",
       "stream": "stdout",
       "text": [
        "\n",
        "2223\n",
        "action\n",
        "2840\n",
        "action"
       ]
      },
      {
       "output_type": "stream",
       "stream": "stdout",
       "text": [
        "\n",
        "13079\n",
        "Histogram of agents by year:\n",
        "2010    158590\n",
        "2011     26543\n",
        "2015      4584\n",
        "2014      4177\n",
        "2012      3792\n",
        "2013      3779\n",
        "2016      2802\n",
        "dtype: int64"
       ]
      },
      {
       "output_type": "stream",
       "stream": "stdout",
       "text": [
        "\n",
        "Total new agents and movers = 2899\n",
        "Assigning units to 94 agents of segment 1"
       ]
      },
      {
       "output_type": "stream",
       "stream": "stdout",
       "text": [
        "\n",
        "Assigning units to 446 agents of segment 2"
       ]
      },
      {
       "output_type": "stream",
       "stream": "stdout",
       "text": [
        "\n",
        "WARNING: not enough options to fit agents, will result in unplaced agents\n",
        "WARNING: not enough options to fit agents, will result in unplaced agents\n",
        "WARNING: not enough options to fit agents, will result in unplaced agents\n",
        "WARNING: not enough options to fit agents, will result in unplaced agents\n",
        "WARNING: not enough options to fit agents, will result in unplaced agents\n",
        "WARNING: not enough options to fit agents, will result in unplaced agents\n",
        "WARNING: not enough options to fit agents, will result in unplaced agents\n",
        "WARNING: not enough options to fit agents, will result in unplaced agents\n",
        "WARNING: not enough options to fit agents, will result in unplaced agents\n",
        "WARNING: not enough options to fit agents, will result in unplaced agents\n",
        "WARNING: not enough options to fit agents, will result in unplaced agents\n",
        "WARNING: not enough options to fit agents, will result in unplaced agents\n",
        "WARNING: not enough options to fit agents, will result in unplaced agents\n",
        "WARNING: not enough options to fit agents, will result in unplaced agents\n",
        "WARNING: not enough options to fit agents, will result in unplaced agents\n",
        "WARNING: not enough options to fit agents, will result in unplaced agents\n",
        "WARNING: not enough options to fit agents, will result in unplaced agents\n",
        "WARNING: not enough options to fit agents, will result in unplaced agents\n",
        "WARNING: not enough options to fit agents, will result in unplaced agents\n",
        "WARNING: not enough options to fit agents, will result in unplaced agents\n",
        "WARNING: not enough options to fit agents, will result in unplaced agents\n",
        "WARNING: not enough options to fit agents, will result in unplaced agents\n",
        "WARNING: not enough options to fit agents, will result in unplaced agents\n",
        "WARNING: not enough options to fit agents, will result in unplaced agents\n",
        "WARNING: not enough options to fit agents, will result in unplaced agents\n",
        "WARNING: not enough options to fit agents, will result in unplaced agents"
       ]
      },
      {
       "output_type": "stream",
       "stream": "stdout",
       "text": [
        "\n",
        "WARNING: not enough options to fit agents, will result in unplaced agents\n",
        "WARNING: not enough options to fit agents, will result in unplaced agents\n",
        "WARNING: not enough options to fit agents, will result in unplaced agents\n",
        "WARNING: not enough options to fit agents, will result in unplaced agents\n",
        "WARNING: not enough options to fit agents, will result in unplaced agents\n",
        "WARNING: not enough options to fit agents, will result in unplaced agents\n",
        "WARNING: not enough options to fit agents, will result in unplaced agents\n",
        "Assigning units to 171 agents of segment 3"
       ]
      },
      {
       "output_type": "stream",
       "stream": "stdout",
       "text": [
        "\n",
        "WARNING: not enough options to fit agents, will result in unplaced agents\n",
        "WARNING: not enough options to fit agents, will result in unplaced agents\n",
        "WARNING: not enough options to fit agents, will result in unplaced agents\n",
        "WARNING: not enough options to fit agents, will result in unplaced agents\n",
        "WARNING: not enough options to fit agents, will result in unplaced agents\n",
        "Assigning units to 147 agents of segment 4"
       ]
      },
      {
       "output_type": "stream",
       "stream": "stdout",
       "text": [
        "\n",
        "WARNING: not enough options to fit agents, will result in unplaced agents\n",
        "WARNING: not enough options to fit agents, will result in unplaced agents\n",
        "Assigning units to 227 agents of segment 5"
       ]
      },
      {
       "output_type": "stream",
       "stream": "stdout",
       "text": [
        "\n",
        "WARNING: not enough options to fit agents, will result in unplaced agents\n",
        "WARNING: not enough options to fit agents, will result in unplaced agents\n",
        "WARNING: not enough options to fit agents, will result in unplaced agents\n",
        "WARNING: not enough options to fit agents, will result in unplaced agents\n",
        "WARNING: not enough options to fit agents, will result in unplaced agents\n",
        "WARNING: not enough options to fit agents, will result in unplaced agents\n",
        "WARNING: not enough options to fit agents, will result in unplaced agents\n",
        "WARNING: not enough options to fit agents, will result in unplaced agents\n",
        "WARNING: not enough options to fit agents, will result in unplaced agents\n",
        "WARNING: not enough options to fit agents, will result in unplaced agents\n",
        "WARNING: not enough options to fit agents, will result in unplaced agents\n",
        "WARNING: not enough options to fit agents, will result in unplaced agents\n",
        "WARNING: not enough options to fit agents, will result in unplaced agents\n",
        "WARNING: not enough options to fit agents, will result in unplaced agents\n",
        "WARNING: not enough options to fit agents, will result in unplaced agents\n",
        "WARNING: not enough options to fit agents, will result in unplaced agents\n",
        "Assigning units to 1814 agents of segment 6"
       ]
      },
      {
       "output_type": "stream",
       "stream": "stdout",
       "text": [
        "\n",
        "WARNING: not enough options to fit agents, will result in unplaced agents\n",
        "WARNING: not enough options to fit agents, will result in unplaced agents\n",
        "WARNING: not enough options to fit agents, will result in unplaced agents\n",
        "WARNING: not enough options to fit agents, will result in unplaced agents\n",
        "WARNING: not enough options to fit agents, will result in unplaced agents\n",
        "WARNING: not enough options to fit agents, will result in unplaced agents\n",
        "WARNING: not enough options to fit agents, will result in unplaced agents\n",
        "WARNING: not enough options to fit agents, will result in unplaced agents\n",
        "WARNING: not enough options to fit agents, will result in unplaced agents\n",
        "WARNING: not enough options to fit agents, will result in unplaced agents\n",
        "WARNING: not enough options to fit agents, will result in unplaced agents\n",
        "WARNING: not enough options to fit agents, will result in unplaced agents\n",
        "WARNING: not enough options to fit agents, will result in unplaced agents\n",
        "WARNING: not enough options to fit agents, will result in unplaced agents\n",
        "WARNING: not enough options to fit agents, will result in unplaced agents\n",
        "WARNING: not enough options to fit agents, will result in unplaced agents\n",
        "WARNING: not enough options to fit agents, will result in unplaced agents\n",
        "WARNING: not enough options to fit agents, will result in unplaced agents\n",
        "WARNING: not enough options to fit agents, will result in unplaced agents\n",
        "WARNING: not enough options to fit agents, will result in unplaced agents\n",
        "WARNING: not enough options to fit agents, will result in unplaced agents\n",
        "WARNING: not enough options to fit agents, will result in unplaced agents\n",
        "WARNING: not enough options to fit agents, will result in unplaced agents\n",
        "WARNING: not enough options to fit agents, will result in unplaced agents\n",
        "WARNING: not enough options to fit agents, will result in unplaced agents\n",
        "WARNING: not enough options to fit agents, will result in unplaced agents\n",
        "WARNING: not enough options to fit agents, will result in unplaced agents\n",
        "WARNING: not enough options to fit agents, will result in unplaced agents\n",
        "WARNING: not enough options to fit agents, will result in unplaced agents\n",
        "WARNING: not enough options to fit agents, will result in unplaced agents"
       ]
      },
      {
       "output_type": "stream",
       "stream": "stdout",
       "text": [
        "\n",
        "WARNING: not enough options to fit agents, will result in unplaced agents\n",
        "WARNING: not enough options to fit agents, will result in unplaced agents\n",
        "WARNING: not enough options to fit agents, will result in unplaced agents\n",
        "WARNING: not enough options to fit agents, will result in unplaced agents\n",
        "WARNING: not enough options to fit agents, will result in unplaced agents\n",
        "WARNING: not enough options to fit agents, will result in unplaced agents\n",
        "WARNING: not enough options to fit agents, will result in unplaced agents\n",
        "WARNING: not enough options to fit agents, will result in unplaced agents\n",
        "WARNING: not enough options to fit agents, will result in unplaced agents\n",
        "WARNING: not enough options to fit agents, will result in unplaced agents\n",
        "WARNING: not enough options to fit agents, will result in unplaced agents\n",
        "WARNING: not enough options to fit agents, will result in unplaced agents\n",
        "WARNING: not enough options to fit agents, will result in unplaced agents\n",
        "WARNING: not enough options to fit agents, will result in unplaced agents\n",
        "WARNING: not enough options to fit agents, will result in unplaced agents\n",
        "WARNING: not enough options to fit agents, will result in unplaced agents\n",
        "WARNING: not enough options to fit agents, will result in unplaced agents\n",
        "WARNING: not enough options to fit agents, will result in unplaced agents\n",
        "WARNING: not enough options to fit agents, will result in unplaced agents\n",
        "WARNING: not enough options to fit agents, will result in unplaced agents\n",
        "WARNING: not enough options to fit agents, will result in unplaced agents\n",
        "WARNING: not enough options to fit agents, will result in unplaced agents\n",
        "WARNING: not enough options to fit agents, will result in unplaced agents\n",
        "WARNING: not enough options to fit agents, will result in unplaced agents\n",
        "WARNING: not enough options to fit agents, will result in unplaced agents\n",
        "WARNING: not enough options to fit agents, will result in unplaced agents\n",
        "WARNING: not enough options to fit agents, will result in unplaced agents\n",
        "WARNING: not enough options to fit agents, will result in unplaced agents\n",
        "WARNING: not enough options to fit agents, will result in unplaced agents\n",
        "WARNING: not enough options to fit agents, will result in unplaced agents\n",
        "WARNING: not enough options to fit agents, will result in unplaced agents\n",
        "WARNING: not enough options to fit agents, will result in unplaced agents\n",
        "WARNING: not enough options to fit agents, will result in unplaced agents\n",
        "WARNING: not enough options to fit agents, will result in unplaced agents\n",
        "WARNING: not enough options to fit agents, will result in unplaced agents\n",
        "Assigned 2899 agents to 2576 locations with 152 unplaced"
       ]
      },
      {
       "output_type": "stream",
       "stream": "stdout",
       "text": [
        "\n",
        "total_number_of_households    25004\n",
        "persons                       55212\n",
        "dtype: int32\n",
        "Adding agents to match target of 80216 \n",
        "Histogram of agents by year:\n"
       ]
      },
      {
       "output_type": "stream",
       "stream": "stdout",
       "text": [
        "2010    1160387\n",
        "2016      25004\n",
        "2015      23538\n",
        "2011      23538\n",
        "2014      23537\n",
        "2013      23537\n",
        "2012      23537\n",
        "dtype: int64\n",
        "Histogram of relocation rates:"
       ]
      },
      {
       "output_type": "stream",
       "stream": "stdout",
       "text": [
        "\n",
        "0.0148    172628\n",
        "0.0000    166666\n",
        "0.0309    141588\n",
        "0.0274    139484\n",
        "0.0145    124984\n",
        "0.0311     82847\n",
        "0.0183     70650\n",
        "0.0348     65028\n",
        "0.0540     61039\n",
        "0.0184     54131\n",
        "0.0110     43017\n",
        "0.0220     33931\n",
        "0.0402     29466\n",
        "0.0099     21661\n",
        "0.0130     18820\n",
        "0.0124     18358\n",
        "0.0199     14268\n",
        "0.0111     13352\n",
        "0.0132     13345\n",
        "0.0117     10600\n",
        "0.0222      7215\n",
        "dtype: int64"
       ]
      },
      {
       "output_type": "stream",
       "stream": "stdout",
       "text": [
        "\n",
        "26922 agents are moving\n",
        "Total new agents and movers = 51415"
       ]
      },
      {
       "output_type": "stream",
       "stream": "stdout",
       "text": [
        "\n",
        "Assigning units to 11828 agents of segment 1"
       ]
      },
      {
       "output_type": "stream",
       "stream": "stdout",
       "text": [
        "\n",
        "num alts\n",
        "41565\n",
        "num agents\n",
        "11828\n",
        "Assigning units to 4857 agents of segment 2\n",
        "num alts\n",
        "19081\n",
        "num agents\n",
        "4857\n",
        "Assigning units to 31135 agents of segment 3\n",
        "num alts\n",
        "71164\n",
        "num agents\n",
        "31135\n",
        "Assigning units to 3595 agents of segment 4\n",
        "num alts\n",
        "43782\n",
        "num agents\n",
        "3595\n",
        "Assigned 51415 agents to 43023 locations with 0 unplaced"
       ]
      },
      {
       "output_type": "stream",
       "stream": "stdout",
       "text": [
        "\n",
        "PRE"
       ]
      },
      {
       "output_type": "stream",
       "stream": "stdout",
       "text": [
        "\n",
        "1345129\n",
        "875796654\n",
        "New units to build (vacancy_diff * denom):\n"
       ]
      },
      {
       "output_type": "stream",
       "stream": "stdout",
       "text": [
        "building_type_id\n",
        "2                    5809.537624\n",
        "3                    2584.106642\n",
        "8                    1820.938069\n",
        "17                    301.054729\n",
        "20                  16690.391680\n",
        "23                    230.974911\n",
        "dtype: float64\n",
        "                             0\n",
        "building_type_id              \n",
        "2                  5809.537624\n",
        "3                  2584.106642\n",
        "8                  1820.938069\n",
        "17                  301.054729\n",
        "20                16690.391680\n",
        "23                  230.974911\n",
        "Adding agents to match target of 27437 \n",
        "action\n",
        "5809.53762406\n",
        "action"
       ]
      },
      {
       "output_type": "stream",
       "stream": "stdout",
       "text": [
        "\n",
        "2584.10664227\n",
        "action"
       ]
      },
      {
       "output_type": "stream",
       "stream": "stdout",
       "text": [
        "\n",
        "1820.93806886\n",
        "action"
       ]
      },
      {
       "output_type": "stream",
       "stream": "stdout",
       "text": [
        "\n",
        "301.054729256\n",
        "action"
       ]
      },
      {
       "output_type": "stream",
       "stream": "stdout",
       "text": [
        "\n",
        "16690.3916797\n",
        "action"
       ]
      },
      {
       "output_type": "stream",
       "stream": "stdout",
       "text": [
        "\n",
        "230.974910749\n",
        "Histogram of agents by year:\n"
       ]
      },
      {
       "output_type": "stream",
       "stream": "stdout",
       "text": [
        "2016    14491\n",
        "dtype: int64\n",
        "POST\n",
        "1366884\n",
        "876584801\n",
        "Total new agents and movers = 14448"
       ]
      },
      {
       "output_type": "stream",
       "stream": "stdout",
       "text": [
        "\n",
        "Assigning units to 532 agents of segment 2"
       ]
      },
      {
       "output_type": "stream",
       "stream": "stdout",
       "text": [
        "\n",
        "Assigning units to 277 agents of segment 3"
       ]
      },
      {
       "output_type": "stream",
       "stream": "stdout",
       "text": [
        "\n",
        "Assigning units to 13639 agents of segment 20"
       ]
      },
      {
       "output_type": "stream",
       "stream": "stdout",
       "text": [
        "\n",
        "Assigned 14448 agents to 13796 locations with 0 unplaced"
       ]
      },
      {
       "output_type": "stream",
       "stream": "stdout",
       "text": [
        "\n",
        "Total new agents and movers = 43"
       ]
      },
      {
       "output_type": "stream",
       "stream": "stdout",
       "text": [
        "\n",
        "Assigning units to 24 agents of segment 8"
       ]
      },
      {
       "output_type": "stream",
       "stream": "stdout",
       "text": [
        "\n",
        "Assigning units to 13 agents of segment 17"
       ]
      },
      {
       "output_type": "stream",
       "stream": "stdout",
       "text": [
        "\n",
        "Assigning units to 6 agents of segment 23\n",
        "Assigned 43 agents to 8 locations with 0 unplaced\n",
        "Annual totals"
       ]
      },
      {
       "output_type": "stream",
       "stream": "stdout",
       "text": [
        "\n",
        "1303078\n",
        "1769689\n",
        "1366884\n",
        "876584801\n",
        "Simulating year 2017\n",
        "                                 total_number_of_jobs\n",
        "sector_id_six home_based_status                      \n",
        "1             1                                  8140\n",
        "2             1                                 26746\n",
        "3             1                                  5814\n",
        "4             1                                 11628\n",
        "5             1                                 15117\n",
        "6             1                                 69771\n",
        "1             0                                106520\n",
        "2             0                                349995\n",
        "3             0                                 76086\n",
        "4             0                                152172\n",
        "5             0                                197823\n",
        "6             0                                913029"
       ]
      },
      {
       "output_type": "stream",
       "stream": "stdout",
       "text": [
        "\n",
        "Adding agents to match target of 1932841 \n",
        "action\n",
        "1539\n",
        "action"
       ]
      },
      {
       "output_type": "stream",
       "stream": "stdout",
       "text": [
        "\n",
        "5114\n",
        "action"
       ]
      },
      {
       "output_type": "stream",
       "stream": "stdout",
       "text": [
        "\n",
        "1117\n",
        "action\n",
        "2182\n",
        "action\n",
        "2905\n",
        "action"
       ]
      },
      {
       "output_type": "stream",
       "stream": "stdout",
       "text": [
        "\n",
        "13079\n",
        "Histogram of agents by year:\n",
        "2010    158590\n",
        "2011     26543\n",
        "2015      4584\n",
        "2014      4177\n",
        "2012      3792\n",
        "2017      3790\n",
        "2013      3779\n",
        "2016      2802\n",
        "dtype: int64"
       ]
      },
      {
       "output_type": "stream",
       "stream": "stdout",
       "text": [
        "\n",
        "Total new agents and movers = 3942\n",
        "Assigning units to 48 agents of segment 1"
       ]
      },
      {
       "output_type": "stream",
       "stream": "stdout",
       "text": [
        "\n",
        "WARNING: not enough options to fit agents, will result in unplaced agents\n",
        "Assigning units to 560 agents of segment 2"
       ]
      },
      {
       "output_type": "stream",
       "stream": "stdout",
       "text": [
        "\n",
        "WARNING: not enough options to fit agents, will result in unplaced agents\n",
        "WARNING: not enough options to fit agents, will result in unplaced agents\n",
        "WARNING: not enough options to fit agents, will result in unplaced agents\n",
        "WARNING: not enough options to fit agents, will result in unplaced agents\n",
        "WARNING: not enough options to fit agents, will result in unplaced agents\n",
        "WARNING: not enough options to fit agents, will result in unplaced agents\n",
        "WARNING: not enough options to fit agents, will result in unplaced agents\n",
        "WARNING: not enough options to fit agents, will result in unplaced agents\n",
        "WARNING: not enough options to fit agents, will result in unplaced agents\n",
        "WARNING: not enough options to fit agents, will result in unplaced agents\n",
        "WARNING: not enough options to fit agents, will result in unplaced agents\n",
        "WARNING: not enough options to fit agents, will result in unplaced agents\n",
        "WARNING: not enough options to fit agents, will result in unplaced agents\n",
        "WARNING: not enough options to fit agents, will result in unplaced agents\n",
        "WARNING: not enough options to fit agents, will result in unplaced agents\n",
        "WARNING: not enough options to fit agents, will result in unplaced agents\n",
        "WARNING: not enough options to fit agents, will result in unplaced agents\n",
        "WARNING: not enough options to fit agents, will result in unplaced agents\n",
        "WARNING: not enough options to fit agents, will result in unplaced agents\n",
        "WARNING: not enough options to fit agents, will result in unplaced agents\n",
        "WARNING: not enough options to fit agents, will result in unplaced agents\n",
        "WARNING: not enough options to fit agents, will result in unplaced agents\n",
        "WARNING: not enough options to fit agents, will result in unplaced agents\n",
        "WARNING: not enough options to fit agents, will result in unplaced agents\n",
        "WARNING: not enough options to fit agents, will result in unplaced agents\n",
        "WARNING: not enough options to fit agents, will result in unplaced agents\n",
        "WARNING: not enough options to fit agents, will result in unplaced agents\n",
        "WARNING: not enough options to fit agents, will result in unplaced agents\n",
        "WARNING: not enough options to fit agents, will result in unplaced agents\n",
        "WARNING: not enough options to fit agents, will result in unplaced agents\n",
        "WARNING: not enough options to fit agents, will result in unplaced agents\n",
        "WARNING: not enough options to fit agents, will result in unplaced agents\n",
        "WARNING: not enough options to fit agents, will result in unplaced agents\n",
        "WARNING: not enough options to fit agents, will result in unplaced agents"
       ]
      },
      {
       "output_type": "stream",
       "stream": "stdout",
       "text": [
        "\n",
        "WARNING: not enough options to fit agents, will result in unplaced agents\n",
        "WARNING: not enough options to fit agents, will result in unplaced agents\n",
        "WARNING: not enough options to fit agents, will result in unplaced agents\n",
        "WARNING: not enough options to fit agents, will result in unplaced agents\n",
        "WARNING: not enough options to fit agents, will result in unplaced agents\n",
        "WARNING: not enough options to fit agents, will result in unplaced agents\n",
        "WARNING: not enough options to fit agents, will result in unplaced agents\n",
        "WARNING: not enough options to fit agents, will result in unplaced agents\n",
        "Assigning units to 216 agents of segment 3"
       ]
      },
      {
       "output_type": "stream",
       "stream": "stdout",
       "text": [
        "\n",
        "WARNING: not enough options to fit agents, will result in unplaced agents\n",
        "WARNING: not enough options to fit agents, will result in unplaced agents\n",
        "WARNING: not enough options to fit agents, will result in unplaced agents\n",
        "WARNING: not enough options to fit agents, will result in unplaced agents\n",
        "WARNING: not enough options to fit agents, will result in unplaced agents\n",
        "WARNING: not enough options to fit agents, will result in unplaced agents\n",
        "Assigning units to 161 agents of segment 4"
       ]
      },
      {
       "output_type": "stream",
       "stream": "stdout",
       "text": [
        "\n",
        "WARNING: not enough options to fit agents, will result in unplaced agents\n",
        "WARNING: not enough options to fit agents, will result in unplaced agents\n",
        "WARNING: not enough options to fit agents, will result in unplaced agents\n",
        "WARNING: not enough options to fit agents, will result in unplaced agents\n",
        "WARNING: not enough options to fit agents, will result in unplaced agents\n",
        "WARNING: not enough options to fit agents, will result in unplaced agents\n",
        "WARNING: not enough options to fit agents, will result in unplaced agents\n",
        "Assigning units to 470 agents of segment 5"
       ]
      },
      {
       "output_type": "stream",
       "stream": "stdout",
       "text": [
        "\n",
        "WARNING: not enough options to fit agents, will result in unplaced agents\n",
        "WARNING: not enough options to fit agents, will result in unplaced agents\n",
        "WARNING: not enough options to fit agents, will result in unplaced agents\n",
        "WARNING: not enough options to fit agents, will result in unplaced agents\n",
        "WARNING: not enough options to fit agents, will result in unplaced agents\n",
        "WARNING: not enough options to fit agents, will result in unplaced agents\n",
        "WARNING: not enough options to fit agents, will result in unplaced agents\n",
        "WARNING: not enough options to fit agents, will result in unplaced agents\n",
        "WARNING: not enough options to fit agents, will result in unplaced agents\n",
        "WARNING: not enough options to fit agents, will result in unplaced agents\n",
        "WARNING: not enough options to fit agents, will result in unplaced agents\n",
        "WARNING: not enough options to fit agents, will result in unplaced agents\n",
        "WARNING: not enough options to fit agents, will result in unplaced agents\n",
        "WARNING: not enough options to fit agents, will result in unplaced agents\n",
        "WARNING: not enough options to fit agents, will result in unplaced agents\n",
        "WARNING: not enough options to fit agents, will result in unplaced agents\n",
        "WARNING: not enough options to fit agents, will result in unplaced agents\n",
        "WARNING: not enough options to fit agents, will result in unplaced agents\n",
        "Assigning units to 2487 agents of segment 6"
       ]
      },
      {
       "output_type": "stream",
       "stream": "stdout",
       "text": [
        "\n",
        "WARNING: not enough options to fit agents, will result in unplaced agents\n",
        "WARNING: not enough options to fit agents, will result in unplaced agents\n",
        "WARNING: not enough options to fit agents, will result in unplaced agents\n",
        "WARNING: not enough options to fit agents, will result in unplaced agents\n",
        "WARNING: not enough options to fit agents, will result in unplaced agents\n",
        "WARNING: not enough options to fit agents, will result in unplaced agents\n",
        "WARNING: not enough options to fit agents, will result in unplaced agents\n",
        "WARNING: not enough options to fit agents, will result in unplaced agents\n",
        "WARNING: not enough options to fit agents, will result in unplaced agents\n",
        "WARNING: not enough options to fit agents, will result in unplaced agents\n",
        "WARNING: not enough options to fit agents, will result in unplaced agents\n",
        "WARNING: not enough options to fit agents, will result in unplaced agents\n",
        "WARNING: not enough options to fit agents, will result in unplaced agents\n",
        "WARNING: not enough options to fit agents, will result in unplaced agents\n",
        "WARNING: not enough options to fit agents, will result in unplaced agents\n",
        "WARNING: not enough options to fit agents, will result in unplaced agents\n",
        "WARNING: not enough options to fit agents, will result in unplaced agents\n",
        "WARNING: not enough options to fit agents, will result in unplaced agents\n",
        "WARNING: not enough options to fit agents, will result in unplaced agents\n",
        "WARNING: not enough options to fit agents, will result in unplaced agents\n",
        "WARNING: not enough options to fit agents, will result in unplaced agents\n",
        "WARNING: not enough options to fit agents, will result in unplaced agents\n",
        "WARNING: not enough options to fit agents, will result in unplaced agents\n",
        "WARNING: not enough options to fit agents, will result in unplaced agents\n",
        "WARNING: not enough options to fit agents, will result in unplaced agents\n",
        "WARNING: not enough options to fit agents, will result in unplaced agents\n",
        "WARNING: not enough options to fit agents, will result in unplaced agents\n",
        "WARNING: not enough options to fit agents, will result in unplaced agents\n",
        "WARNING: not enough options to fit agents, will result in unplaced agents\n",
        "WARNING: not enough options to fit agents, will result in unplaced agents"
       ]
      },
      {
       "output_type": "stream",
       "stream": "stdout",
       "text": [
        "\n",
        "WARNING: not enough options to fit agents, will result in unplaced agents\n",
        "WARNING: not enough options to fit agents, will result in unplaced agents\n",
        "WARNING: not enough options to fit agents, will result in unplaced agents\n",
        "WARNING: not enough options to fit agents, will result in unplaced agents\n",
        "WARNING: not enough options to fit agents, will result in unplaced agents\n",
        "WARNING: not enough options to fit agents, will result in unplaced agents\n",
        "WARNING: not enough options to fit agents, will result in unplaced agents\n",
        "WARNING: not enough options to fit agents, will result in unplaced agents\n",
        "WARNING: not enough options to fit agents, will result in unplaced agents\n",
        "WARNING: not enough options to fit agents, will result in unplaced agents\n",
        "WARNING: not enough options to fit agents, will result in unplaced agents\n",
        "WARNING: not enough options to fit agents, will result in unplaced agents\n",
        "WARNING: not enough options to fit agents, will result in unplaced agents\n",
        "WARNING: not enough options to fit agents, will result in unplaced agents\n",
        "WARNING: not enough options to fit agents, will result in unplaced agents\n",
        "WARNING: not enough options to fit agents, will result in unplaced agents\n",
        "WARNING: not enough options to fit agents, will result in unplaced agents\n",
        "WARNING: not enough options to fit agents, will result in unplaced agents\n",
        "WARNING: not enough options to fit agents, will result in unplaced agents\n",
        "WARNING: not enough options to fit agents, will result in unplaced agents\n",
        "WARNING: not enough options to fit agents, will result in unplaced agents\n",
        "WARNING: not enough options to fit agents, will result in unplaced agents\n",
        "WARNING: not enough options to fit agents, will result in unplaced agents\n",
        "WARNING: not enough options to fit agents, will result in unplaced agents\n",
        "WARNING: not enough options to fit agents, will result in unplaced agents\n",
        "WARNING: not enough options to fit agents, will result in unplaced agents\n",
        "WARNING: not enough options to fit agents, will result in unplaced agents\n",
        "WARNING: not enough options to fit agents, will result in unplaced agents\n",
        "WARNING: not enough options to fit agents, will result in unplaced agents\n",
        "WARNING: not enough options to fit agents, will result in unplaced agents\n",
        "WARNING: not enough options to fit agents, will result in unplaced agents\n",
        "WARNING: not enough options to fit agents, will result in unplaced agents\n",
        "WARNING: not enough options to fit agents, will result in unplaced agents\n",
        "WARNING: not enough options to fit agents, will result in unplaced agents\n",
        "WARNING: not enough options to fit agents, will result in unplaced agents\n",
        "WARNING: not enough options to fit agents, will result in unplaced agents\n",
        "WARNING: not enough options to fit agents, will result in unplaced agents\n",
        "WARNING: not enough options to fit agents, will result in unplaced agents"
       ]
      },
      {
       "output_type": "stream",
       "stream": "stdout",
       "text": [
        "\n",
        "WARNING: not enough options to fit agents, will result in unplaced agents\n",
        "WARNING: not enough options to fit agents, will result in unplaced agents\n",
        "WARNING: not enough options to fit agents, will result in unplaced agents\n",
        "WARNING: not enough options to fit agents, will result in unplaced agents\n",
        "WARNING: not enough options to fit agents, will result in unplaced agents\n",
        "WARNING: not enough options to fit agents, will result in unplaced agents\n",
        "WARNING: not enough options to fit agents, will result in unplaced agents\n",
        "WARNING: not enough options to fit agents, will result in unplaced agents\n",
        "WARNING: not enough options to fit agents, will result in unplaced agents\n",
        "WARNING: not enough options to fit agents, will result in unplaced agents\n",
        "WARNING: not enough options to fit agents, will result in unplaced agents\n",
        "WARNING: not enough options to fit agents, will result in unplaced agents\n",
        "WARNING: not enough options to fit agents, will result in unplaced agents\n",
        "WARNING: not enough options to fit agents, will result in unplaced agents\n",
        "WARNING: not enough options to fit agents, will result in unplaced agents\n",
        "WARNING: not enough options to fit agents, will result in unplaced agents\n",
        "WARNING: not enough options to fit agents, will result in unplaced agents\n",
        "WARNING: not enough options to fit agents, will result in unplaced agents\n",
        "Assigned 3942 agents to 3443 locations with 213 unplaced"
       ]
      },
      {
       "output_type": "stream",
       "stream": "stdout",
       "text": [
        "\n",
        "total_number_of_households    25005\n",
        "persons                       55211\n",
        "dtype: int32\n",
        "Adding agents to match target of 80216 \n",
        "Histogram of agents by year:\n"
       ]
      },
      {
       "output_type": "stream",
       "stream": "stdout",
       "text": [
        "2010    1160387\n",
        "2017      25005\n",
        "2016      25004\n",
        "2015      23538\n",
        "2011      23538\n",
        "2014      23537\n",
        "2013      23537\n",
        "2012      23537\n",
        "dtype: int64\n",
        "Histogram of relocation rates:"
       ]
      },
      {
       "output_type": "stream",
       "stream": "stdout",
       "text": [
        "\n",
        "0.0148    175918\n",
        "0.0000    169870\n",
        "0.0309    144234\n",
        "0.0274    142154\n",
        "0.0145    127363\n",
        "0.0311     84477\n",
        "0.0183     71989\n",
        "0.0348     66334\n",
        "0.0540     62188\n",
        "0.0184     55169\n",
        "0.0110     43848\n",
        "0.0220     34609\n",
        "0.0402     30020\n",
        "0.0099     22108\n",
        "0.0130     19171\n",
        "0.0124     18740\n",
        "0.0199     14545\n",
        "0.0111     13615\n",
        "0.0132     13576\n",
        "0.0117     10803\n",
        "0.0222      7352\n",
        "dtype: int64"
       ]
      },
      {
       "output_type": "stream",
       "stream": "stdout",
       "text": [
        "\n",
        "27433 agents are moving\n",
        "Total new agents and movers = 51979"
       ]
      },
      {
       "output_type": "stream",
       "stream": "stdout",
       "text": [
        "\n",
        "Assigning units to 11807 agents of segment 1"
       ]
      },
      {
       "output_type": "stream",
       "stream": "stdout",
       "text": [
        "\n",
        "num alts\n",
        "41452\n",
        "num agents\n",
        "11807\n",
        "Assigning units to 4873 agents of segment 2\n",
        "num alts\n",
        "18881\n",
        "num agents\n",
        "4873\n",
        "Assigning units to 31769 agents of segment 3\n",
        "num alts\n",
        "68276\n",
        "num agents\n",
        "31769\n",
        "Assigning units to 3530 agents of segment 4\n",
        "num alts\n",
        "41644\n",
        "num agents\n",
        "3530\n",
        "Assigned 51979 agents to 43393 locations with 0 unplaced"
       ]
      },
      {
       "output_type": "stream",
       "stream": "stdout",
       "text": [
        "\n",
        "PRE"
       ]
      },
      {
       "output_type": "stream",
       "stream": "stdout",
       "text": [
        "\n",
        "1366884\n",
        "876584801\n",
        "New units to build (vacancy_diff * denom):\n"
       ]
      },
      {
       "output_type": "stream",
       "stream": "stdout",
       "text": [
        "building_type_id\n",
        "2                    5830.495637\n",
        "3                    2598.826639\n",
        "8                    2082.743093\n",
        "17                    391.124998\n",
        "20                  16865.311741\n",
        "23                    362.682336\n",
        "dtype: float64\n",
        "                             0\n",
        "building_type_id              \n",
        "2                  5830.495637\n",
        "3                  2598.826639\n",
        "8                  2082.743093\n",
        "17                  391.124998\n",
        "20                16865.311741\n",
        "23                  362.682336\n",
        "Adding agents to match target of 28131 \n",
        "action\n",
        "5830.49563686\n",
        "action"
       ]
      },
      {
       "output_type": "stream",
       "stream": "stdout",
       "text": [
        "\n",
        "2598.8266392\n",
        "action"
       ]
      },
      {
       "output_type": "stream",
       "stream": "stdout",
       "text": [
        "\n",
        "2082.7430933\n",
        "action"
       ]
      },
      {
       "output_type": "stream",
       "stream": "stdout",
       "text": [
        "\n",
        "391.124998476\n",
        "action"
       ]
      },
      {
       "output_type": "stream",
       "stream": "stdout",
       "text": [
        "\n",
        "16865.3117414\n",
        "action"
       ]
      },
      {
       "output_type": "stream",
       "stream": "stdout",
       "text": [
        "\n",
        "362.682336245\n",
        "Histogram of agents by year:\n"
       ]
      },
      {
       "output_type": "stream",
       "stream": "stdout",
       "text": [
        "2017    14517\n",
        "dtype: int64\n",
        "POST\n",
        "1388590\n",
        "877852535\n",
        "Total new agents and movers = 14460"
       ]
      },
      {
       "output_type": "stream",
       "stream": "stdout",
       "text": [
        "\n",
        "Assigning units to 514 agents of segment 2"
       ]
      },
      {
       "output_type": "stream",
       "stream": "stdout",
       "text": [
        "\n",
        "Assigning units to 317 agents of segment 3"
       ]
      },
      {
       "output_type": "stream",
       "stream": "stdout",
       "text": [
        "\n",
        "Assigning units to 13629 agents of segment 20"
       ]
      },
      {
       "output_type": "stream",
       "stream": "stdout",
       "text": [
        "\n",
        "Assigned 14460 agents to 13801 locations with 0 unplaced"
       ]
      },
      {
       "output_type": "stream",
       "stream": "stdout",
       "text": [
        "\n",
        "Total new agents and movers = 57"
       ]
      },
      {
       "output_type": "stream",
       "stream": "stdout",
       "text": [
        "\n",
        "Assigning units to 23 agents of segment 8"
       ]
      },
      {
       "output_type": "stream",
       "stream": "stdout",
       "text": [
        "\n",
        "Assigning units to 12 agents of segment 17"
       ]
      },
      {
       "output_type": "stream",
       "stream": "stdout",
       "text": [
        "\n",
        "Assigning units to 22 agents of segment 23\n",
        "Assigned 57 agents to 4 locations with 0 unplaced"
       ]
      },
      {
       "output_type": "stream",
       "stream": "stdout",
       "text": [
        "\n",
        "Annual totals"
       ]
      },
      {
       "output_type": "stream",
       "stream": "stdout",
       "text": [
        "\n",
        "1328083\n",
        "1795127\n",
        "1388590\n",
        "877852535\n",
        "Simulating year 2018\n",
        "                                 total_number_of_jobs\n",
        "sector_id_six home_based_status                      \n",
        "1             1                                  8257\n",
        "2             1                                 27129\n",
        "3             1                                  5898\n",
        "4             1                                 11795\n",
        "5             1                                 15334\n",
        "6             1                                 70770\n",
        "1             0                                108046\n",
        "2             0                                355007\n",
        "3             0                                 77175\n",
        "4             0                                154351\n",
        "5             0                                200656\n",
        "6             0                                926106"
       ]
      },
      {
       "output_type": "stream",
       "stream": "stdout",
       "text": [
        "\n",
        "Adding agents to match target of 1960524 \n",
        "action\n",
        "1984\n",
        "action"
       ]
      },
      {
       "output_type": "stream",
       "stream": "stdout",
       "text": [
        "\n",
        "5023\n",
        "action\n",
        "1104\n",
        "action"
       ]
      },
      {
       "output_type": "stream",
       "stream": "stdout",
       "text": [
        "\n",
        "2182\n",
        "action\n",
        "2839\n",
        "action"
       ]
      },
      {
       "output_type": "stream",
       "stream": "stdout",
       "text": [
        "\n",
        "13082\n",
        "Histogram of agents by year:\n",
        "2010    158590\n",
        "2011     26543\n",
        "2015      4584\n",
        "2014      4177\n",
        "2012      3792\n",
        "2017      3790\n",
        "2013      3779\n",
        "2018      3053\n",
        "2016      2802\n",
        "dtype: int64"
       ]
      },
      {
       "output_type": "stream",
       "stream": "stdout",
       "text": [
        "\n",
        "Total new agents and movers = 3266\n",
        "Assigning units to 43 agents of segment 1"
       ]
      },
      {
       "output_type": "stream",
       "stream": "stdout",
       "text": [
        "\n",
        "Assigning units to 566 agents of segment 2"
       ]
      },
      {
       "output_type": "stream",
       "stream": "stdout",
       "text": [
        "\n",
        "WARNING: not enough options to fit agents, will result in unplaced agents\n",
        "WARNING: not enough options to fit agents, will result in unplaced agents\n",
        "WARNING: not enough options to fit agents, will result in unplaced agents\n",
        "WARNING: not enough options to fit agents, will result in unplaced agents\n",
        "WARNING: not enough options to fit agents, will result in unplaced agents\n",
        "WARNING: not enough options to fit agents, will result in unplaced agents\n",
        "WARNING: not enough options to fit agents, will result in unplaced agents\n",
        "WARNING: not enough options to fit agents, will result in unplaced agents\n",
        "WARNING: not enough options to fit agents, will result in unplaced agents\n",
        "WARNING: not enough options to fit agents, will result in unplaced agents\n",
        "WARNING: not enough options to fit agents, will result in unplaced agents\n",
        "WARNING: not enough options to fit agents, will result in unplaced agents\n",
        "WARNING: not enough options to fit agents, will result in unplaced agents\n",
        "WARNING: not enough options to fit agents, will result in unplaced agents\n",
        "WARNING: not enough options to fit agents, will result in unplaced agents\n",
        "WARNING: not enough options to fit agents, will result in unplaced agents\n",
        "WARNING: not enough options to fit agents, will result in unplaced agents\n",
        "WARNING: not enough options to fit agents, will result in unplaced agents\n",
        "WARNING: not enough options to fit agents, will result in unplaced agents\n",
        "WARNING: not enough options to fit agents, will result in unplaced agents\n",
        "WARNING: not enough options to fit agents, will result in unplaced agents\n",
        "WARNING: not enough options to fit agents, will result in unplaced agents\n",
        "WARNING: not enough options to fit agents, will result in unplaced agents\n",
        "WARNING: not enough options to fit agents, will result in unplaced agents\n",
        "WARNING: not enough options to fit agents, will result in unplaced agents\n",
        "WARNING: not enough options to fit agents, will result in unplaced agents\n",
        "WARNING: not enough options to fit agents, will result in unplaced agents"
       ]
      },
      {
       "output_type": "stream",
       "stream": "stdout",
       "text": [
        "\n",
        "WARNING: not enough options to fit agents, will result in unplaced agents\n",
        "WARNING: not enough options to fit agents, will result in unplaced agents\n",
        "WARNING: not enough options to fit agents, will result in unplaced agents\n",
        "WARNING: not enough options to fit agents, will result in unplaced agents\n",
        "WARNING: not enough options to fit agents, will result in unplaced agents\n",
        "WARNING: not enough options to fit agents, will result in unplaced agents\n",
        "WARNING: not enough options to fit agents, will result in unplaced agents\n",
        "WARNING: not enough options to fit agents, will result in unplaced agents\n",
        "WARNING: not enough options to fit agents, will result in unplaced agents\n",
        "WARNING: not enough options to fit agents, will result in unplaced agents\n",
        "WARNING: not enough options to fit agents, will result in unplaced agents\n",
        "WARNING: not enough options to fit agents, will result in unplaced agents\n",
        "WARNING: not enough options to fit agents, will result in unplaced agents\n",
        "WARNING: not enough options to fit agents, will result in unplaced agents\n",
        "WARNING: not enough options to fit agents, will result in unplaced agents\n",
        "WARNING: not enough options to fit agents, will result in unplaced agents\n",
        "WARNING: not enough options to fit agents, will result in unplaced agents\n",
        "WARNING: not enough options to fit agents, will result in unplaced agents\n",
        "WARNING: not enough options to fit agents, will result in unplaced agents\n",
        "WARNING: not enough options to fit agents, will result in unplaced agents\n",
        "Assigning units to 142 agents of segment 3"
       ]
      },
      {
       "output_type": "stream",
       "stream": "stdout",
       "text": [
        "\n",
        "WARNING: not enough options to fit agents, will result in unplaced agents\n",
        "WARNING: not enough options to fit agents, will result in unplaced agents\n",
        "WARNING: not enough options to fit agents, will result in unplaced agents\n",
        "WARNING: not enough options to fit agents, will result in unplaced agents\n",
        "WARNING: not enough options to fit agents, will result in unplaced agents\n",
        "WARNING: not enough options to fit agents, will result in unplaced agents\n",
        "WARNING: not enough options to fit agents, will result in unplaced agents\n",
        "WARNING: not enough options to fit agents, will result in unplaced agents\n",
        "WARNING: not enough options to fit agents, will result in unplaced agents\n",
        "Assigning units to 137 agents of segment 4"
       ]
      },
      {
       "output_type": "stream",
       "stream": "stdout",
       "text": [
        "\n",
        "WARNING: not enough options to fit agents, will result in unplaced agents\n",
        "WARNING: not enough options to fit agents, will result in unplaced agents\n",
        "WARNING: not enough options to fit agents, will result in unplaced agents\n",
        "WARNING: not enough options to fit agents, will result in unplaced agents\n",
        "WARNING: not enough options to fit agents, will result in unplaced agents\n",
        "WARNING: not enough options to fit agents, will result in unplaced agents\n",
        "WARNING: not enough options to fit agents, will result in unplaced agents\n",
        "WARNING: not enough options to fit agents, will result in unplaced agents\n",
        "WARNING: not enough options to fit agents, will result in unplaced agents\n",
        "WARNING: not enough options to fit agents, will result in unplaced agents\n",
        "WARNING: not enough options to fit agents, will result in unplaced agents\n",
        "WARNING: not enough options to fit agents, will result in unplaced agents\n",
        "Assigning units to 405 agents of segment 5"
       ]
      },
      {
       "output_type": "stream",
       "stream": "stdout",
       "text": [
        "\n",
        "WARNING: not enough options to fit agents, will result in unplaced agents\n",
        "WARNING: not enough options to fit agents, will result in unplaced agents\n",
        "WARNING: not enough options to fit agents, will result in unplaced agents\n",
        "WARNING: not enough options to fit agents, will result in unplaced agents\n",
        "WARNING: not enough options to fit agents, will result in unplaced agents\n",
        "WARNING: not enough options to fit agents, will result in unplaced agents\n",
        "WARNING: not enough options to fit agents, will result in unplaced agents\n",
        "WARNING: not enough options to fit agents, will result in unplaced agents\n",
        "WARNING: not enough options to fit agents, will result in unplaced agents\n",
        "WARNING: not enough options to fit agents, will result in unplaced agents\n",
        "WARNING: not enough options to fit agents, will result in unplaced agents\n",
        "WARNING: not enough options to fit agents, will result in unplaced agents\n",
        "WARNING: not enough options to fit agents, will result in unplaced agents\n",
        "WARNING: not enough options to fit agents, will result in unplaced agents\n",
        "WARNING: not enough options to fit agents, will result in unplaced agents\n",
        "WARNING: not enough options to fit agents, will result in unplaced agents\n",
        "WARNING: not enough options to fit agents, will result in unplaced agents\n",
        "WARNING: not enough options to fit agents, will result in unplaced agents\n",
        "WARNING: not enough options to fit agents, will result in unplaced agents\n",
        "WARNING: not enough options to fit agents, will result in unplaced agents\n",
        "WARNING: not enough options to fit agents, will result in unplaced agents\n",
        "WARNING: not enough options to fit agents, will result in unplaced agents\n",
        "WARNING: not enough options to fit agents, will result in unplaced agents\n",
        "WARNING: not enough options to fit agents, will result in unplaced agents\n",
        "WARNING: not enough options to fit agents, will result in unplaced agents\n",
        "Assigning units to 1973 agents of segment 6"
       ]
      },
      {
       "output_type": "stream",
       "stream": "stdout",
       "text": [
        "\n",
        "WARNING: not enough options to fit agents, will result in unplaced agents\n",
        "WARNING: not enough options to fit agents, will result in unplaced agents\n",
        "WARNING: not enough options to fit agents, will result in unplaced agents\n",
        "WARNING: not enough options to fit agents, will result in unplaced agents\n",
        "WARNING: not enough options to fit agents, will result in unplaced agents\n",
        "WARNING: not enough options to fit agents, will result in unplaced agents\n",
        "WARNING: not enough options to fit agents, will result in unplaced agents\n",
        "WARNING: not enough options to fit agents, will result in unplaced agents\n",
        "WARNING: not enough options to fit agents, will result in unplaced agents\n",
        "WARNING: not enough options to fit agents, will result in unplaced agents\n",
        "WARNING: not enough options to fit agents, will result in unplaced agents\n",
        "WARNING: not enough options to fit agents, will result in unplaced agents\n",
        "WARNING: not enough options to fit agents, will result in unplaced agents\n",
        "WARNING: not enough options to fit agents, will result in unplaced agents\n",
        "WARNING: not enough options to fit agents, will result in unplaced agents\n",
        "WARNING: not enough options to fit agents, will result in unplaced agents\n",
        "WARNING: not enough options to fit agents, will result in unplaced agents\n",
        "WARNING: not enough options to fit agents, will result in unplaced agents\n",
        "WARNING: not enough options to fit agents, will result in unplaced agents\n",
        "WARNING: not enough options to fit agents, will result in unplaced agents\n",
        "WARNING: not enough options to fit agents, will result in unplaced agents\n",
        "WARNING: not enough options to fit agents, will result in unplaced agents\n",
        "WARNING: not enough options to fit agents, will result in unplaced agents\n",
        "WARNING: not enough options to fit agents, will result in unplaced agents\n",
        "WARNING: not enough options to fit agents, will result in unplaced agents\n",
        "WARNING: not enough options to fit agents, will result in unplaced agents\n",
        "WARNING: not enough options to fit agents, will result in unplaced agents\n",
        "WARNING: not enough options to fit agents, will result in unplaced agents\n",
        "WARNING: not enough options to fit agents, will result in unplaced agents\n",
        "WARNING: not enough options to fit agents, will result in unplaced agents\n",
        "WARNING: not enough options to fit agents, will result in unplaced agents"
       ]
      },
      {
       "output_type": "stream",
       "stream": "stdout",
       "text": [
        "\n",
        "WARNING: not enough options to fit agents, will result in unplaced agents\n",
        "WARNING: not enough options to fit agents, will result in unplaced agents\n",
        "WARNING: not enough options to fit agents, will result in unplaced agents\n",
        "WARNING: not enough options to fit agents, will result in unplaced agents\n",
        "WARNING: not enough options to fit agents, will result in unplaced agents\n",
        "WARNING: not enough options to fit agents, will result in unplaced agents\n",
        "WARNING: not enough options to fit agents, will result in unplaced agents\n",
        "WARNING: not enough options to fit agents, will result in unplaced agents\n",
        "WARNING: not enough options to fit agents, will result in unplaced agents\n",
        "WARNING: not enough options to fit agents, will result in unplaced agents\n",
        "WARNING: not enough options to fit agents, will result in unplaced agents\n",
        "WARNING: not enough options to fit agents, will result in unplaced agents\n",
        "WARNING: not enough options to fit agents, will result in unplaced agents\n",
        "WARNING: not enough options to fit agents, will result in unplaced agents\n",
        "WARNING: not enough options to fit agents, will result in unplaced agents\n",
        "WARNING: not enough options to fit agents, will result in unplaced agents\n",
        "WARNING: not enough options to fit agents, will result in unplaced agents\n",
        "WARNING: not enough options to fit agents, will result in unplaced agents\n",
        "WARNING: not enough options to fit agents, will result in unplaced agents\n",
        "WARNING: not enough options to fit agents, will result in unplaced agents\n",
        "WARNING: not enough options to fit agents, will result in unplaced agents\n",
        "WARNING: not enough options to fit agents, will result in unplaced agents\n",
        "WARNING: not enough options to fit agents, will result in unplaced agents\n",
        "WARNING: not enough options to fit agents, will result in unplaced agents\n",
        "WARNING: not enough options to fit agents, will result in unplaced agents\n",
        "WARNING: not enough options to fit agents, will result in unplaced agents\n",
        "WARNING: not enough options to fit agents, will result in unplaced agents\n",
        "WARNING: not enough options to fit agents, will result in unplaced agents\n",
        "WARNING: not enough options to fit agents, will result in unplaced agents\n",
        "WARNING: not enough options to fit agents, will result in unplaced agents\n",
        "WARNING: not enough options to fit agents, will result in unplaced agents\n",
        "WARNING: not enough options to fit agents, will result in unplaced agents\n",
        "WARNING: not enough options to fit agents, will result in unplaced agents\n",
        "WARNING: not enough options to fit agents, will result in unplaced agents\n",
        "WARNING: not enough options to fit agents, will result in unplaced agents\n",
        "WARNING: not enough options to fit agents, will result in unplaced agents\n",
        "WARNING: not enough options to fit agents, will result in unplaced agents\n",
        "WARNING: not enough options to fit agents, will result in unplaced agents\n",
        "WARNING: not enough options to fit agents, will result in unplaced agents"
       ]
      },
      {
       "output_type": "stream",
       "stream": "stdout",
       "text": [
        "\n",
        "WARNING: not enough options to fit agents, will result in unplaced agents\n",
        "WARNING: not enough options to fit agents, will result in unplaced agents\n",
        "WARNING: not enough options to fit agents, will result in unplaced agents\n",
        "WARNING: not enough options to fit agents, will result in unplaced agents\n",
        "WARNING: not enough options to fit agents, will result in unplaced agents\n",
        "WARNING: not enough options to fit agents, will result in unplaced agents\n",
        "WARNING: not enough options to fit agents, will result in unplaced agents\n",
        "WARNING: not enough options to fit agents, will result in unplaced agents\n",
        "WARNING: not enough options to fit agents, will result in unplaced agents\n",
        "WARNING: not enough options to fit agents, will result in unplaced agents\n",
        "WARNING: not enough options to fit agents, will result in unplaced agents\n",
        "WARNING: not enough options to fit agents, will result in unplaced agents\n",
        "WARNING: not enough options to fit agents, will result in unplaced agents\n",
        "WARNING: not enough options to fit agents, will result in unplaced agents\n",
        "WARNING: not enough options to fit agents, will result in unplaced agents\n",
        "WARNING: not enough options to fit agents, will result in unplaced agents\n",
        "WARNING: not enough options to fit agents, will result in unplaced agents\n",
        "WARNING: not enough options to fit agents, will result in unplaced agents\n",
        "WARNING: not enough options to fit agents, will result in unplaced agents\n",
        "WARNING: not enough options to fit agents, will result in unplaced agents\n",
        "WARNING: not enough options to fit agents, will result in unplaced agents\n",
        "WARNING: not enough options to fit agents, will result in unplaced agents\n",
        "WARNING: not enough options to fit agents, will result in unplaced agents\n",
        "WARNING: not enough options to fit agents, will result in unplaced agents\n",
        "WARNING: not enough options to fit agents, will result in unplaced agents\n",
        "WARNING: not enough options to fit agents, will result in unplaced agents\n",
        "WARNING: not enough options to fit agents, will result in unplaced agents\n",
        "WARNING: not enough options to fit agents, will result in unplaced agents\n",
        "WARNING: not enough options to fit agents, will result in unplaced agents\n",
        "WARNING: not enough options to fit agents, will result in unplaced agents\n",
        "WARNING: not enough options to fit agents, will result in unplaced agents\n",
        "WARNING: not enough options to fit agents, will result in unplaced agents\n",
        "WARNING: not enough options to fit agents, will result in unplaced agents\n",
        "WARNING: not enough options to fit agents, will result in unplaced agents\n",
        "WARNING: not enough options to fit agents, will result in unplaced agents\n",
        "WARNING: not enough options to fit agents, will result in unplaced agents\n",
        "WARNING: not enough options to fit agents, will result in unplaced agents\n",
        "WARNING: not enough options to fit agents, will result in unplaced agents"
       ]
      },
      {
       "output_type": "stream",
       "stream": "stdout",
       "text": [
        "\n",
        "WARNING: not enough options to fit agents, will result in unplaced agents\n",
        "WARNING: not enough options to fit agents, will result in unplaced agents\n",
        "WARNING: not enough options to fit agents, will result in unplaced agents\n",
        "Assigned 3266 agents to 2812 locations with 282 unplaced"
       ]
      },
      {
       "output_type": "stream",
       "stream": "stdout",
       "text": [
        "\n",
        "total_number_of_households    25004\n",
        "persons                       55212\n",
        "dtype: int32\n",
        "Adding agents to match target of 80216 \n",
        "Histogram of agents by year:\n"
       ]
      },
      {
       "output_type": "stream",
       "stream": "stdout",
       "text": [
        "2010    1160387\n",
        "2017      25005\n",
        "2018      25004\n",
        "2016      25004\n",
        "2015      23538\n",
        "2011      23538\n",
        "2014      23537\n",
        "2013      23537\n",
        "2012      23537\n",
        "dtype: int64\n",
        "Histogram of relocation rates:"
       ]
      },
      {
       "output_type": "stream",
       "stream": "stdout",
       "text": [
        "\n",
        "0.0148    179200\n",
        "0.0000    173041\n",
        "0.0309    146987\n",
        "0.0274    144847\n",
        "0.0145    129652\n",
        "0.0311     86066\n",
        "0.0183     73294\n",
        "0.0348     67665\n",
        "0.0540     63372\n",
        "0.0184     56197\n",
        "0.0110     44737\n",
        "0.0220     35306\n",
        "0.0402     30559\n",
        "0.0099     22513\n",
        "0.0130     19529\n",
        "0.0124     19086\n",
        "0.0199     14848\n",
        "0.0111     13866\n",
        "0.0132     13822\n",
        "0.0117     11037\n",
        "0.0222      7463\n",
        "dtype: int64"
       ]
      },
      {
       "output_type": "stream",
       "stream": "stdout",
       "text": [
        "\n",
        "27927 agents are moving\n",
        "Total new agents and movers = 52383"
       ]
      },
      {
       "output_type": "stream",
       "stream": "stdout",
       "text": [
        "\n",
        "Assigning units to 12049 agents of segment 1"
       ]
      },
      {
       "output_type": "stream",
       "stream": "stdout",
       "text": [
        "\n",
        "num alts\n",
        "41547\n",
        "num agents\n",
        "12049\n",
        "Assigning units to 4942 agents of segment 2\n",
        "num alts\n",
        "18790\n",
        "num agents\n",
        "4942\n",
        "Assigning units to 31644 agents of segment 3\n",
        "num alts\n",
        "64827\n",
        "num agents\n",
        "31644\n",
        "Assigning units to 3748 agents of segment 4\n",
        "num alts\n",
        "39645\n",
        "num agents\n",
        "3748\n",
        "Assigned 52383 agents to 43458 locations with 0 unplaced"
       ]
      },
      {
       "output_type": "stream",
       "stream": "stdout",
       "text": [
        "\n",
        "PRE"
       ]
      },
      {
       "output_type": "stream",
       "stream": "stdout",
       "text": [
        "\n",
        "1388590\n",
        "877852535\n",
        "New units to build (vacancy_diff * denom):\n"
       ]
      },
      {
       "output_type": "stream",
       "stream": "stdout",
       "text": [
        "building_type_id\n",
        "2                    5852.662650\n",
        "3                    2601.071636\n",
        "8                    2073.529278\n",
        "17                    239.080533\n",
        "20                  16771.131804\n",
        "23                    394.217920\n",
        "dtype: float64\n",
        "                             0\n",
        "building_type_id              \n",
        "2                  5852.662650\n",
        "3                  2601.071636\n",
        "8                  2073.529278\n",
        "17                  239.080533\n",
        "20                16771.131804\n",
        "23                  394.217920\n",
        "Adding agents to match target of 27931 \n",
        "action\n",
        "5852.66264969\n",
        "action"
       ]
      },
      {
       "output_type": "stream",
       "stream": "stdout",
       "text": [
        "\n",
        "2601.07163613\n",
        "action"
       ]
      },
      {
       "output_type": "stream",
       "stream": "stdout",
       "text": [
        "\n",
        "2073.5292783\n",
        "action"
       ]
      },
      {
       "output_type": "stream",
       "stream": "stdout",
       "text": [
        "\n",
        "239.080532926\n",
        "action"
       ]
      },
      {
       "output_type": "stream",
       "stream": "stdout",
       "text": [
        "\n",
        "16771.1318038\n",
        "action"
       ]
      },
      {
       "output_type": "stream",
       "stream": "stdout",
       "text": [
        "\n",
        "394.217920188\n",
        "Histogram of agents by year:\n"
       ]
      },
      {
       "output_type": "stream",
       "stream": "stdout",
       "text": [
        "2018    14880\n",
        "dtype: int64\n",
        "POST\n",
        "1410827\n",
        "878827668\n",
        "Total new agents and movers = 14812"
       ]
      },
      {
       "output_type": "stream",
       "stream": "stdout",
       "text": [
        "\n",
        "Assigning units to 517 agents of segment 2"
       ]
      },
      {
       "output_type": "stream",
       "stream": "stdout",
       "text": [
        "\n",
        "Assigning units to 272 agents of segment 3"
       ]
      },
      {
       "output_type": "stream",
       "stream": "stdout",
       "text": [
        "\n",
        "Assigning units to 14023 agents of segment 20"
       ]
      },
      {
       "output_type": "stream",
       "stream": "stdout",
       "text": [
        "\n",
        "Assigned 14812 agents to 14190 locations with 0 unplaced"
       ]
      },
      {
       "output_type": "stream",
       "stream": "stdout",
       "text": [
        "\n",
        "Total new agents and movers = 68"
       ]
      },
      {
       "output_type": "stream",
       "stream": "stdout",
       "text": [
        "\n",
        "Assigning units to 15 agents of segment 8"
       ]
      },
      {
       "output_type": "stream",
       "stream": "stdout",
       "text": [
        "\n",
        "Assigning units to 11 agents of segment 17"
       ]
      },
      {
       "output_type": "stream",
       "stream": "stdout",
       "text": [
        "\n",
        "Assigning units to 42 agents of segment 23\n",
        "Assigned 68 agents to 7 locations with 0 unplaced"
       ]
      },
      {
       "output_type": "stream",
       "stream": "stdout",
       "text": [
        "\n",
        "Annual totals\n",
        "1353087\n",
        "1819853\n",
        "1410827"
       ]
      },
      {
       "output_type": "stream",
       "stream": "stdout",
       "text": [
        "\n",
        "878827668\n",
        "Simulating year 2019\n",
        "                                 total_number_of_jobs\n",
        "sector_id_six home_based_status                      \n",
        "1             1                                  8373\n",
        "2             1                                 27512\n",
        "3             1                                  5981\n",
        "4             1                                 11962\n",
        "5             1                                 15550\n",
        "6             1                                 71769\n",
        "1             0                                109571\n",
        "2             0                                360020\n",
        "3             0                                 78265\n",
        "4             0                                156530\n",
        "5             0                                203490\n",
        "6             0                                939182"
       ]
      },
      {
       "output_type": "stream",
       "stream": "stdout",
       "text": [
        "\n",
        "Adding agents to match target of 1988205 \n",
        "action\n",
        "2888\n",
        "action"
       ]
      },
      {
       "output_type": "stream",
       "stream": "stdout",
       "text": [
        "\n",
        "5014\n",
        "action\n",
        "1113\n",
        "action"
       ]
      },
      {
       "output_type": "stream",
       "stream": "stdout",
       "text": [
        "\n",
        "2206\n",
        "action\n",
        "2844\n",
        "action"
       ]
      },
      {
       "output_type": "stream",
       "stream": "stdout",
       "text": [
        "\n",
        "13140\n",
        "Histogram of agents by year:\n",
        "2010    158590\n",
        "2011     26543\n",
        "2015      4584\n",
        "2014      4177\n",
        "2012      3792\n",
        "2017      3790\n",
        "2013      3779\n",
        "2018      3053\n",
        "2019      3038\n",
        "2016      2802\n",
        "dtype: int64"
       ]
      },
      {
       "output_type": "stream",
       "stream": "stdout",
       "text": [
        "\n",
        "Total new agents and movers = 3320\n",
        "Assigning units to 141 agents of segment 1"
       ]
      },
      {
       "output_type": "stream",
       "stream": "stdout",
       "text": [
        "\n",
        "WARNING: not enough options to fit agents, will result in unplaced agents\n",
        "WARNING: not enough options to fit agents, will result in unplaced agents\n",
        "WARNING: not enough options to fit agents, will result in unplaced agents\n",
        "WARNING: not enough options to fit agents, will result in unplaced agents\n",
        "WARNING: not enough options to fit agents, will result in unplaced agents\n",
        "WARNING: not enough options to fit agents, will result in unplaced agents\n",
        "WARNING: not enough options to fit agents, will result in unplaced agents\n",
        "WARNING: not enough options to fit agents, will result in unplaced agents\n",
        "WARNING: not enough options to fit agents, will result in unplaced agents\n",
        "WARNING: not enough options to fit agents, will result in unplaced agents\n",
        "WARNING: not enough options to fit agents, will result in unplaced agents\n",
        "WARNING: not enough options to fit agents, will result in unplaced agents\n",
        "WARNING: not enough options to fit agents, will result in unplaced agents\n",
        "WARNING: not enough options to fit agents, will result in unplaced agents\n",
        "WARNING: not enough options to fit agents, will result in unplaced agents\n",
        "WARNING: not enough options to fit agents, will result in unplaced agents\n",
        "WARNING: not enough options to fit agents, will result in unplaced agents\n",
        "WARNING: not enough options to fit agents, will result in unplaced agents\n",
        "Assigning units to 434 agents of segment 2"
       ]
      },
      {
       "output_type": "stream",
       "stream": "stdout",
       "text": [
        "\n",
        "WARNING: not enough options to fit agents, will result in unplaced agents\n",
        "WARNING: not enough options to fit agents, will result in unplaced agents\n",
        "WARNING: not enough options to fit agents, will result in unplaced agents\n",
        "WARNING: not enough options to fit agents, will result in unplaced agents\n",
        "WARNING: not enough options to fit agents, will result in unplaced agents\n",
        "WARNING: not enough options to fit agents, will result in unplaced agents\n",
        "WARNING: not enough options to fit agents, will result in unplaced agents\n",
        "WARNING: not enough options to fit agents, will result in unplaced agents\n",
        "WARNING: not enough options to fit agents, will result in unplaced agents\n",
        "WARNING: not enough options to fit agents, will result in unplaced agents\n",
        "WARNING: not enough options to fit agents, will result in unplaced agents\n",
        "WARNING: not enough options to fit agents, will result in unplaced agents\n",
        "WARNING: not enough options to fit agents, will result in unplaced agents\n",
        "WARNING: not enough options to fit agents, will result in unplaced agents\n",
        "WARNING: not enough options to fit agents, will result in unplaced agents\n",
        "WARNING: not enough options to fit agents, will result in unplaced agents\n",
        "WARNING: not enough options to fit agents, will result in unplaced agents\n",
        "WARNING: not enough options to fit agents, will result in unplaced agents\n",
        "WARNING: not enough options to fit agents, will result in unplaced agents\n",
        "WARNING: not enough options to fit agents, will result in unplaced agents\n",
        "WARNING: not enough options to fit agents, will result in unplaced agents\n",
        "WARNING: not enough options to fit agents, will result in unplaced agents\n",
        "WARNING: not enough options to fit agents, will result in unplaced agents\n",
        "WARNING: not enough options to fit agents, will result in unplaced agents\n",
        "WARNING: not enough options to fit agents, will result in unplaced agents\n",
        "WARNING: not enough options to fit agents, will result in unplaced agents\n",
        "WARNING: not enough options to fit agents, will result in unplaced agents\n",
        "WARNING: not enough options to fit agents, will result in unplaced agents\n",
        "WARNING: not enough options to fit agents, will result in unplaced agents\n",
        "WARNING: not enough options to fit agents, will result in unplaced agents\n",
        "WARNING: not enough options to fit agents, will result in unplaced agents\n",
        "WARNING: not enough options to fit agents, will result in unplaced agents\n",
        "WARNING: not enough options to fit agents, will result in unplaced agents"
       ]
      },
      {
       "output_type": "stream",
       "stream": "stdout",
       "text": [
        "\n",
        "WARNING: not enough options to fit agents, will result in unplaced agents\n",
        "WARNING: not enough options to fit agents, will result in unplaced agents\n",
        "WARNING: not enough options to fit agents, will result in unplaced agents\n",
        "WARNING: not enough options to fit agents, will result in unplaced agents\n",
        "WARNING: not enough options to fit agents, will result in unplaced agents\n",
        "WARNING: not enough options to fit agents, will result in unplaced agents\n",
        "WARNING: not enough options to fit agents, will result in unplaced agents\n",
        "WARNING: not enough options to fit agents, will result in unplaced agents\n",
        "WARNING: not enough options to fit agents, will result in unplaced agents\n",
        "WARNING: not enough options to fit agents, will result in unplaced agents\n",
        "WARNING: not enough options to fit agents, will result in unplaced agents\n",
        "WARNING: not enough options to fit agents, will result in unplaced agents\n",
        "WARNING: not enough options to fit agents, will result in unplaced agents\n",
        "WARNING: not enough options to fit agents, will result in unplaced agents\n",
        "WARNING: not enough options to fit agents, will result in unplaced agents\n",
        "WARNING: not enough options to fit agents, will result in unplaced agents\n",
        "WARNING: not enough options to fit agents, will result in unplaced agents\n",
        "WARNING: not enough options to fit agents, will result in unplaced agents\n",
        "WARNING: not enough options to fit agents, will result in unplaced agents\n",
        "WARNING: not enough options to fit agents, will result in unplaced agents\n",
        "WARNING: not enough options to fit agents, will result in unplaced agents\n",
        "WARNING: not enough options to fit agents, will result in unplaced agents\n",
        "WARNING: not enough options to fit agents, will result in unplaced agents\n",
        "WARNING: not enough options to fit agents, will result in unplaced agents\n",
        "WARNING: not enough options to fit agents, will result in unplaced agents\n",
        "Assigning units to 87 agents of segment 3"
       ]
      },
      {
       "output_type": "stream",
       "stream": "stdout",
       "text": [
        "\n",
        "WARNING: not enough options to fit agents, will result in unplaced agents\n",
        "WARNING: not enough options to fit agents, will result in unplaced agents\n",
        "WARNING: not enough options to fit agents, will result in unplaced agents\n",
        "WARNING: not enough options to fit agents, will result in unplaced agents\n",
        "WARNING: not enough options to fit agents, will result in unplaced agents\n",
        "WARNING: not enough options to fit agents, will result in unplaced agents\n",
        "WARNING: not enough options to fit agents, will result in unplaced agents\n",
        "WARNING: not enough options to fit agents, will result in unplaced agents\n",
        "WARNING: not enough options to fit agents, will result in unplaced agents\n",
        "WARNING: not enough options to fit agents, will result in unplaced agents\n",
        "WARNING: not enough options to fit agents, will result in unplaced agents\n",
        "WARNING: not enough options to fit agents, will result in unplaced agents\n",
        "WARNING: not enough options to fit agents, will result in unplaced agents\n",
        "Assigning units to 162 agents of segment 4"
       ]
      },
      {
       "output_type": "stream",
       "stream": "stdout",
       "text": [
        "\n",
        "WARNING: not enough options to fit agents, will result in unplaced agents\n",
        "WARNING: not enough options to fit agents, will result in unplaced agents\n",
        "WARNING: not enough options to fit agents, will result in unplaced agents\n",
        "WARNING: not enough options to fit agents, will result in unplaced agents\n",
        "WARNING: not enough options to fit agents, will result in unplaced agents\n",
        "WARNING: not enough options to fit agents, will result in unplaced agents\n",
        "WARNING: not enough options to fit agents, will result in unplaced agents\n",
        "WARNING: not enough options to fit agents, will result in unplaced agents\n",
        "WARNING: not enough options to fit agents, will result in unplaced agents\n",
        "WARNING: not enough options to fit agents, will result in unplaced agents\n",
        "WARNING: not enough options to fit agents, will result in unplaced agents\n",
        "WARNING: not enough options to fit agents, will result in unplaced agents\n",
        "WARNING: not enough options to fit agents, will result in unplaced agents\n",
        "WARNING: not enough options to fit agents, will result in unplaced agents\n",
        "WARNING: not enough options to fit agents, will result in unplaced agents\n",
        "WARNING: not enough options to fit agents, will result in unplaced agents\n",
        "WARNING: not enough options to fit agents, will result in unplaced agents\n",
        "WARNING: not enough options to fit agents, will result in unplaced agents\n",
        "WARNING: not enough options to fit agents, will result in unplaced agents\n",
        "WARNING: not enough options to fit agents, will result in unplaced agents\n",
        "WARNING: not enough options to fit agents, will result in unplaced agents\n",
        "WARNING: not enough options to fit agents, will result in unplaced agents\n",
        "Assigning units to 329 agents of segment 5"
       ]
      },
      {
       "output_type": "stream",
       "stream": "stdout",
       "text": [
        "\n",
        "WARNING: not enough options to fit agents, will result in unplaced agents\n",
        "WARNING: not enough options to fit agents, will result in unplaced agents\n",
        "WARNING: not enough options to fit agents, will result in unplaced agents\n",
        "WARNING: not enough options to fit agents, will result in unplaced agents\n",
        "WARNING: not enough options to fit agents, will result in unplaced agents\n",
        "WARNING: not enough options to fit agents, will result in unplaced agents\n",
        "WARNING: not enough options to fit agents, will result in unplaced agents\n",
        "WARNING: not enough options to fit agents, will result in unplaced agents\n",
        "WARNING: not enough options to fit agents, will result in unplaced agents\n",
        "WARNING: not enough options to fit agents, will result in unplaced agents\n",
        "WARNING: not enough options to fit agents, will result in unplaced agents\n",
        "WARNING: not enough options to fit agents, will result in unplaced agents\n",
        "WARNING: not enough options to fit agents, will result in unplaced agents\n",
        "WARNING: not enough options to fit agents, will result in unplaced agents\n",
        "WARNING: not enough options to fit agents, will result in unplaced agents\n",
        "WARNING: not enough options to fit agents, will result in unplaced agents\n",
        "WARNING: not enough options to fit agents, will result in unplaced agents\n",
        "WARNING: not enough options to fit agents, will result in unplaced agents\n",
        "WARNING: not enough options to fit agents, will result in unplaced agents\n",
        "WARNING: not enough options to fit agents, will result in unplaced agents\n",
        "WARNING: not enough options to fit agents, will result in unplaced agents\n",
        "WARNING: not enough options to fit agents, will result in unplaced agents\n",
        "WARNING: not enough options to fit agents, will result in unplaced agents\n",
        "WARNING: not enough options to fit agents, will result in unplaced agents\n",
        "WARNING: not enough options to fit agents, will result in unplaced agents\n",
        "WARNING: not enough options to fit agents, will result in unplaced agents\n",
        "WARNING: not enough options to fit agents, will result in unplaced agents\n",
        "WARNING: not enough options to fit agents, will result in unplaced agents\n",
        "WARNING: not enough options to fit agents, will result in unplaced agents\n",
        "WARNING: not enough options to fit agents, will result in unplaced agents\n",
        "WARNING: not enough options to fit agents, will result in unplaced agents\n",
        "WARNING: not enough options to fit agents, will result in unplaced agents\n",
        "WARNING: not enough options to fit agents, will result in unplaced agents\n",
        "WARNING: not enough options to fit agents, will result in unplaced agents\n",
        "Assigning units to 2167 agents of segment 6"
       ]
      },
      {
       "output_type": "stream",
       "stream": "stdout",
       "text": [
        "\n",
        "WARNING: not enough options to fit agents, will result in unplaced agents\n",
        "WARNING: not enough options to fit agents, will result in unplaced agents\n",
        "WARNING: not enough options to fit agents, will result in unplaced agents\n",
        "WARNING: not enough options to fit agents, will result in unplaced agents\n",
        "WARNING: not enough options to fit agents, will result in unplaced agents\n",
        "WARNING: not enough options to fit agents, will result in unplaced agents\n",
        "WARNING: not enough options to fit agents, will result in unplaced agents\n",
        "WARNING: not enough options to fit agents, will result in unplaced agents\n",
        "WARNING: not enough options to fit agents, will result in unplaced agents\n",
        "WARNING: not enough options to fit agents, will result in unplaced agents\n",
        "WARNING: not enough options to fit agents, will result in unplaced agents\n",
        "WARNING: not enough options to fit agents, will result in unplaced agents\n",
        "WARNING: not enough options to fit agents, will result in unplaced agents\n",
        "WARNING: not enough options to fit agents, will result in unplaced agents\n",
        "WARNING: not enough options to fit agents, will result in unplaced agents\n",
        "WARNING: not enough options to fit agents, will result in unplaced agents\n",
        "WARNING: not enough options to fit agents, will result in unplaced agents\n",
        "WARNING: not enough options to fit agents, will result in unplaced agents\n",
        "WARNING: not enough options to fit agents, will result in unplaced agents\n",
        "WARNING: not enough options to fit agents, will result in unplaced agents\n",
        "WARNING: not enough options to fit agents, will result in unplaced agents\n",
        "WARNING: not enough options to fit agents, will result in unplaced agents\n",
        "WARNING: not enough options to fit agents, will result in unplaced agents\n",
        "WARNING: not enough options to fit agents, will result in unplaced agents\n",
        "WARNING: not enough options to fit agents, will result in unplaced agents\n",
        "WARNING: not enough options to fit agents, will result in unplaced agents\n",
        "WARNING: not enough options to fit agents, will result in unplaced agents\n",
        "WARNING: not enough options to fit agents, will result in unplaced agents\n",
        "WARNING: not enough options to fit agents, will result in unplaced agents"
       ]
      },
      {
       "output_type": "stream",
       "stream": "stdout",
       "text": [
        "\n",
        "WARNING: not enough options to fit agents, will result in unplaced agents\n",
        "WARNING: not enough options to fit agents, will result in unplaced agents\n",
        "WARNING: not enough options to fit agents, will result in unplaced agents\n",
        "WARNING: not enough options to fit agents, will result in unplaced agents\n",
        "WARNING: not enough options to fit agents, will result in unplaced agents\n",
        "WARNING: not enough options to fit agents, will result in unplaced agents\n",
        "WARNING: not enough options to fit agents, will result in unplaced agents\n",
        "WARNING: not enough options to fit agents, will result in unplaced agents\n",
        "WARNING: not enough options to fit agents, will result in unplaced agents\n",
        "WARNING: not enough options to fit agents, will result in unplaced agents\n",
        "WARNING: not enough options to fit agents, will result in unplaced agents\n",
        "WARNING: not enough options to fit agents, will result in unplaced agents\n",
        "WARNING: not enough options to fit agents, will result in unplaced agents\n",
        "WARNING: not enough options to fit agents, will result in unplaced agents\n",
        "WARNING: not enough options to fit agents, will result in unplaced agents\n",
        "WARNING: not enough options to fit agents, will result in unplaced agents\n",
        "WARNING: not enough options to fit agents, will result in unplaced agents\n",
        "WARNING: not enough options to fit agents, will result in unplaced agents\n",
        "WARNING: not enough options to fit agents, will result in unplaced agents\n",
        "WARNING: not enough options to fit agents, will result in unplaced agents\n",
        "WARNING: not enough options to fit agents, will result in unplaced agents\n",
        "WARNING: not enough options to fit agents, will result in unplaced agents\n",
        "WARNING: not enough options to fit agents, will result in unplaced agents\n",
        "WARNING: not enough options to fit agents, will result in unplaced agents\n",
        "WARNING: not enough options to fit agents, will result in unplaced agents\n",
        "WARNING: not enough options to fit agents, will result in unplaced agents\n",
        "WARNING: not enough options to fit agents, will result in unplaced agents\n",
        "WARNING: not enough options to fit agents, will result in unplaced agents\n",
        "WARNING: not enough options to fit agents, will result in unplaced agents\n",
        "WARNING: not enough options to fit agents, will result in unplaced agents\n",
        "WARNING: not enough options to fit agents, will result in unplaced agents\n",
        "WARNING: not enough options to fit agents, will result in unplaced agents\n",
        "WARNING: not enough options to fit agents, will result in unplaced agents\n",
        "WARNING: not enough options to fit agents, will result in unplaced agents\n",
        "WARNING: not enough options to fit agents, will result in unplaced agents\n",
        "WARNING: not enough options to fit agents, will result in unplaced agents\n",
        "WARNING: not enough options to fit agents, will result in unplaced agents\n",
        "WARNING: not enough options to fit agents, will result in unplaced agents"
       ]
      },
      {
       "output_type": "stream",
       "stream": "stdout",
       "text": [
        "\n",
        "WARNING: not enough options to fit agents, will result in unplaced agents\n",
        "WARNING: not enough options to fit agents, will result in unplaced agents\n",
        "WARNING: not enough options to fit agents, will result in unplaced agents\n",
        "WARNING: not enough options to fit agents, will result in unplaced agents\n",
        "WARNING: not enough options to fit agents, will result in unplaced agents\n",
        "WARNING: not enough options to fit agents, will result in unplaced agents\n",
        "WARNING: not enough options to fit agents, will result in unplaced agents\n",
        "WARNING: not enough options to fit agents, will result in unplaced agents\n",
        "WARNING: not enough options to fit agents, will result in unplaced agents\n",
        "WARNING: not enough options to fit agents, will result in unplaced agents\n",
        "WARNING: not enough options to fit agents, will result in unplaced agents\n",
        "WARNING: not enough options to fit agents, will result in unplaced agents\n",
        "WARNING: not enough options to fit agents, will result in unplaced agents\n",
        "WARNING: not enough options to fit agents, will result in unplaced agents\n",
        "WARNING: not enough options to fit agents, will result in unplaced agents\n",
        "WARNING: not enough options to fit agents, will result in unplaced agents\n",
        "WARNING: not enough options to fit agents, will result in unplaced agents\n",
        "WARNING: not enough options to fit agents, will result in unplaced agents\n",
        "WARNING: not enough options to fit agents, will result in unplaced agents\n",
        "WARNING: not enough options to fit agents, will result in unplaced agents\n",
        "WARNING: not enough options to fit agents, will result in unplaced agents\n",
        "WARNING: not enough options to fit agents, will result in unplaced agents\n",
        "WARNING: not enough options to fit agents, will result in unplaced agents\n",
        "WARNING: not enough options to fit agents, will result in unplaced agents\n",
        "WARNING: not enough options to fit agents, will result in unplaced agents\n",
        "WARNING: not enough options to fit agents, will result in unplaced agents\n",
        "WARNING: not enough options to fit agents, will result in unplaced agents\n",
        "WARNING: not enough options to fit agents, will result in unplaced agents\n",
        "WARNING: not enough options to fit agents, will result in unplaced agents\n",
        "WARNING: not enough options to fit agents, will result in unplaced agents\n",
        "WARNING: not enough options to fit agents, will result in unplaced agents\n",
        "WARNING: not enough options to fit agents, will result in unplaced agents\n",
        "WARNING: not enough options to fit agents, will result in unplaced agents\n",
        "WARNING: not enough options to fit agents, will result in unplaced agents\n",
        "WARNING: not enough options to fit agents, will result in unplaced agents\n",
        "WARNING: not enough options to fit agents, will result in unplaced agents\n",
        "WARNING: not enough options to fit agents, will result in unplaced agents\n",
        "WARNING: not enough options to fit agents, will result in unplaced agents"
       ]
      },
      {
       "output_type": "stream",
       "stream": "stdout",
       "text": [
        "\n",
        "WARNING: not enough options to fit agents, will result in unplaced agents\n",
        "WARNING: not enough options to fit agents, will result in unplaced agents\n",
        "WARNING: not enough options to fit agents, will result in unplaced agents\n",
        "WARNING: not enough options to fit agents, will result in unplaced agents\n",
        "WARNING: not enough options to fit agents, will result in unplaced agents\n",
        "WARNING: not enough options to fit agents, will result in unplaced agents\n",
        "WARNING: not enough options to fit agents, will result in unplaced agents\n",
        "WARNING: not enough options to fit agents, will result in unplaced agents\n",
        "WARNING: not enough options to fit agents, will result in unplaced agents\n",
        "WARNING: not enough options to fit agents, will result in unplaced agents\n",
        "WARNING: not enough options to fit agents, will result in unplaced agents\n",
        "WARNING: not enough options to fit agents, will result in unplaced agents\n",
        "WARNING: not enough options to fit agents, will result in unplaced agents\n",
        "WARNING: not enough options to fit agents, will result in unplaced agents\n",
        "WARNING: not enough options to fit agents, will result in unplaced agents\n",
        "WARNING: not enough options to fit agents, will result in unplaced agents\n",
        "WARNING: not enough options to fit agents, will result in unplaced agents\n",
        "WARNING: not enough options to fit agents, will result in unplaced agents\n",
        "WARNING: not enough options to fit agents, will result in unplaced agents\n",
        "WARNING: not enough options to fit agents, will result in unplaced agents\n",
        "WARNING: not enough options to fit agents, will result in unplaced agents\n",
        "WARNING: not enough options to fit agents, will result in unplaced agents\n",
        "WARNING: not enough options to fit agents, will result in unplaced agents\n",
        "WARNING: not enough options to fit agents, will result in unplaced agents\n",
        "Assigned 3320 agents to 2758 locations with 408 unplaced"
       ]
      },
      {
       "output_type": "stream",
       "stream": "stdout",
       "text": [
        "\n",
        "total_number_of_households    25005\n",
        "persons                       55212\n",
        "dtype: int32\n",
        "Adding agents to match target of 80217 \n",
        "Histogram of agents by year:\n"
       ]
      },
      {
       "output_type": "stream",
       "stream": "stdout",
       "text": [
        "2010    1160387\n",
        "2019      25005\n",
        "2017      25005\n",
        "2018      25004\n",
        "2016      25004\n",
        "2015      23538\n",
        "2011      23538\n",
        "2014      23537\n",
        "2013      23537\n",
        "2012      23537\n",
        "dtype: int64\n",
        "Histogram of relocation rates:"
       ]
      },
      {
       "output_type": "stream",
       "stream": "stdout",
       "text": [
        "\n",
        "0.0148    182498\n",
        "0.0000    176230\n",
        "0.0309    149709\n",
        "0.0274    147536\n",
        "0.0145    132094\n",
        "0.0311     87699\n",
        "0.0183     74649\n",
        "0.0348     68913\n",
        "0.0540     64544\n",
        "0.0184     57192\n",
        "0.0110     45590\n",
        "0.0220     35924\n",
        "0.0402     31124\n",
        "0.0099     22927\n",
        "0.0130     19896\n",
        "0.0124     19436\n",
        "0.0199     15123\n",
        "0.0111     14119\n",
        "0.0132     14054\n",
        "0.0117     11239\n",
        "0.0222      7596\n",
        "dtype: int64"
       ]
      },
      {
       "output_type": "stream",
       "stream": "stdout",
       "text": [
        "\n",
        "28532 agents are moving\n",
        "Total new agents and movers = 53054"
       ]
      },
      {
       "output_type": "stream",
       "stream": "stdout",
       "text": [
        "\n",
        "Assigning units to 12153 agents of segment 1"
       ]
      },
      {
       "output_type": "stream",
       "stream": "stdout",
       "text": [
        "\n",
        "num alts\n",
        "41662\n",
        "num agents\n",
        "12153\n",
        "Assigning units to 4883 agents of segment 2\n",
        "num alts\n",
        "18667\n",
        "num agents\n",
        "4883\n",
        "Assigning units to 32323 agents of segment 3\n",
        "num alts\n",
        "62571\n",
        "num agents\n",
        "32323\n",
        "Assigning units to 3695 agents of segment 4\n",
        "num alts\n",
        "37468\n",
        "num agents\n",
        "3695\n",
        "Assigned 53054 agents to 44074 locations with 0 unplaced"
       ]
      },
      {
       "output_type": "stream",
       "stream": "stdout",
       "text": [
        "\n",
        "PRE"
       ]
      },
      {
       "output_type": "stream",
       "stream": "stdout",
       "text": [
        "\n",
        "1410827\n",
        "878827668\n",
        "New units to build (vacancy_diff * denom):\n"
       ]
      },
      {
       "output_type": "stream",
       "stream": "stdout",
       "text": [
        "building_type_id\n",
        "2                    5819.712663\n",
        "3                    2529.786633\n",
        "8                    1622.673649\n",
        "17                    289.720253\n",
        "20                  16868.559866\n",
        "23                    335.569946\n",
        "dtype: float64\n",
        "                             0\n",
        "building_type_id              \n",
        "2                  5819.712663\n",
        "3                  2529.786633\n",
        "8                  1622.673649\n",
        "17                  289.720253\n",
        "20                16868.559866\n",
        "23                  335.569946\n",
        "Adding agents to match target of 27466 \n",
        "action\n",
        "5819.71266259\n",
        "action"
       ]
      },
      {
       "output_type": "stream",
       "stream": "stdout",
       "text": [
        "\n",
        "2529.78663303\n",
        "action"
       ]
      },
      {
       "output_type": "stream",
       "stream": "stdout",
       "text": [
        "\n",
        "1622.67364861\n",
        "action"
       ]
      },
      {
       "output_type": "stream",
       "stream": "stdout",
       "text": [
        "\n",
        "289.720252849\n",
        "action"
       ]
      },
      {
       "output_type": "stream",
       "stream": "stdout",
       "text": [
        "\n",
        "16868.5598657\n",
        "action"
       ]
      },
      {
       "output_type": "stream",
       "stream": "stdout",
       "text": [
        "\n",
        "335.569945819\n",
        "Histogram of agents by year:\n"
       ]
      },
      {
       "output_type": "stream",
       "stream": "stdout",
       "text": [
        "2019    14861\n",
        "dtype: int64\n",
        "POST\n",
        "1432734\n",
        "879868950\n",
        "Total new agents and movers = 14807"
       ]
      },
      {
       "output_type": "stream",
       "stream": "stdout",
       "text": [
        "\n",
        "Assigning units to 558 agents of segment 2"
       ]
      },
      {
       "output_type": "stream",
       "stream": "stdout",
       "text": [
        "\n",
        "Assigning units to 299 agents of segment 3"
       ]
      },
      {
       "output_type": "stream",
       "stream": "stdout",
       "text": [
        "\n",
        "Assigning units to 13950 agents of segment 20"
       ]
      },
      {
       "output_type": "stream",
       "stream": "stdout",
       "text": [
        "\n",
        "Assigned 14807 agents to 14133 locations with 0 unplaced"
       ]
      },
      {
       "output_type": "stream",
       "stream": "stdout",
       "text": [
        "\n",
        "Total new agents and movers = 54"
       ]
      },
      {
       "output_type": "stream",
       "stream": "stdout",
       "text": [
        "\n",
        "Assigning units to 25 agents of segment 8"
       ]
      },
      {
       "output_type": "stream",
       "stream": "stdout",
       "text": [
        "\n",
        "Assigning units to 10 agents of segment 17"
       ]
      },
      {
       "output_type": "stream",
       "stream": "stdout",
       "text": [
        "\n",
        "Assigning units to 19 agents of segment 23\n",
        "Assigned 54 agents to 21 locations with 0 unplaced"
       ]
      },
      {
       "output_type": "stream",
       "stream": "stdout",
       "text": [
        "\n",
        "Annual totals"
       ]
      },
      {
       "output_type": "stream",
       "stream": "stdout",
       "text": [
        "\n",
        "1378092\n",
        "1846256\n",
        "1432734\n",
        "879868950\n",
        "Simulating year 2020\n",
        "                                 total_number_of_jobs\n",
        "sector_id_six home_based_status                      \n",
        "1             1                                  8490\n",
        "2             1                                 27895\n",
        "3             1                                  6064\n",
        "4             1                                 12128\n",
        "5             1                                 15767\n",
        "6             1                                 72769\n",
        "1             0                                111097\n",
        "2             0                                365033\n",
        "3             0                                 79355\n",
        "4             0                                158710\n",
        "5             0                                206323\n",
        "6             0                                952259"
       ]
      },
      {
       "output_type": "stream",
       "stream": "stdout",
       "text": [
        "\n",
        "Adding agents to match target of 2015890 \n",
        "action\n",
        "1531\n",
        "action"
       ]
      },
      {
       "output_type": "stream",
       "stream": "stdout",
       "text": [
        "\n",
        "5014\n",
        "action"
       ]
      },
      {
       "output_type": "stream",
       "stream": "stdout",
       "text": [
        "\n",
        "1665\n",
        "action\n",
        "2183\n",
        "action\n",
        "2845\n",
        "action"
       ]
      },
      {
       "output_type": "stream",
       "stream": "stdout",
       "text": [
        "\n",
        "13283\n",
        "Histogram of agents by year:\n",
        "2010    158590\n",
        "2011     26543\n",
        "2015      4584\n",
        "2014      4177\n",
        "2012      3792\n",
        "2017      3790\n",
        "2013      3779\n",
        "2020      3572\n",
        "2018      3053\n",
        "2019      3038\n",
        "2016      2802\n",
        "dtype: int64"
       ]
      },
      {
       "output_type": "stream",
       "stream": "stdout",
       "text": [
        "\n",
        "Total new agents and movers = 3980\n",
        "Assigning units to 95 agents of segment 1"
       ]
      },
      {
       "output_type": "stream",
       "stream": "stdout",
       "text": [
        "\n",
        "WARNING: not enough options to fit agents, will result in unplaced agents\n",
        "WARNING: not enough options to fit agents, will result in unplaced agents\n",
        "WARNING: not enough options to fit agents, will result in unplaced agents\n",
        "WARNING: not enough options to fit agents, will result in unplaced agents\n",
        "WARNING: not enough options to fit agents, will result in unplaced agents\n",
        "WARNING: not enough options to fit agents, will result in unplaced agents\n",
        "WARNING: not enough options to fit agents, will result in unplaced agents\n",
        "WARNING: not enough options to fit agents, will result in unplaced agents\n",
        "WARNING: not enough options to fit agents, will result in unplaced agents\n",
        "WARNING: not enough options to fit agents, will result in unplaced agents"
       ]
      },
      {
       "output_type": "stream",
       "stream": "stdout",
       "text": [
        "\n",
        "WARNING: not enough options to fit agents, will result in unplaced agents\n",
        "WARNING: not enough options to fit agents, will result in unplaced agents\n",
        "WARNING: not enough options to fit agents, will result in unplaced agents\n",
        "WARNING: not enough options to fit agents, will result in unplaced agents\n",
        "WARNING: not enough options to fit agents, will result in unplaced agents\n",
        "WARNING: not enough options to fit agents, will result in unplaced agents\n",
        "WARNING: not enough options to fit agents, will result in unplaced agents\n",
        "WARNING: not enough options to fit agents, will result in unplaced agents\n",
        "WARNING: not enough options to fit agents, will result in unplaced agents\n",
        "WARNING: not enough options to fit agents, will result in unplaced agents\n",
        "WARNING: not enough options to fit agents, will result in unplaced agents\n",
        "Assigning units to 422 agents of segment 2"
       ]
      },
      {
       "output_type": "stream",
       "stream": "stdout",
       "text": [
        "\n",
        "WARNING: not enough options to fit agents, will result in unplaced agents\n",
        "WARNING: not enough options to fit agents, will result in unplaced agents\n",
        "WARNING: not enough options to fit agents, will result in unplaced agents\n",
        "WARNING: not enough options to fit agents, will result in unplaced agents\n",
        "WARNING: not enough options to fit agents, will result in unplaced agents\n",
        "WARNING: not enough options to fit agents, will result in unplaced agents\n",
        "WARNING: not enough options to fit agents, will result in unplaced agents\n",
        "WARNING: not enough options to fit agents, will result in unplaced agents\n",
        "WARNING: not enough options to fit agents, will result in unplaced agents\n",
        "WARNING: not enough options to fit agents, will result in unplaced agents\n",
        "WARNING: not enough options to fit agents, will result in unplaced agents\n",
        "WARNING: not enough options to fit agents, will result in unplaced agents\n",
        "WARNING: not enough options to fit agents, will result in unplaced agents\n",
        "WARNING: not enough options to fit agents, will result in unplaced agents\n",
        "WARNING: not enough options to fit agents, will result in unplaced agents\n",
        "WARNING: not enough options to fit agents, will result in unplaced agents\n",
        "WARNING: not enough options to fit agents, will result in unplaced agents\n",
        "WARNING: not enough options to fit agents, will result in unplaced agents\n",
        "WARNING: not enough options to fit agents, will result in unplaced agents\n",
        "WARNING: not enough options to fit agents, will result in unplaced agents\n",
        "WARNING: not enough options to fit agents, will result in unplaced agents\n",
        "WARNING: not enough options to fit agents, will result in unplaced agents\n",
        "WARNING: not enough options to fit agents, will result in unplaced agents\n",
        "WARNING: not enough options to fit agents, will result in unplaced agents\n",
        "WARNING: not enough options to fit agents, will result in unplaced agents\n",
        "WARNING: not enough options to fit agents, will result in unplaced agents"
       ]
      },
      {
       "output_type": "stream",
       "stream": "stdout",
       "text": [
        "\n",
        "WARNING: not enough options to fit agents, will result in unplaced agents\n",
        "WARNING: not enough options to fit agents, will result in unplaced agents\n",
        "WARNING: not enough options to fit agents, will result in unplaced agents\n",
        "WARNING: not enough options to fit agents, will result in unplaced agents\n",
        "WARNING: not enough options to fit agents, will result in unplaced agents\n",
        "WARNING: not enough options to fit agents, will result in unplaced agents\n",
        "WARNING: not enough options to fit agents, will result in unplaced agents\n",
        "WARNING: not enough options to fit agents, will result in unplaced agents\n",
        "WARNING: not enough options to fit agents, will result in unplaced agents\n",
        "WARNING: not enough options to fit agents, will result in unplaced agents\n",
        "WARNING: not enough options to fit agents, will result in unplaced agents\n",
        "WARNING: not enough options to fit agents, will result in unplaced agents\n",
        "WARNING: not enough options to fit agents, will result in unplaced agents\n",
        "WARNING: not enough options to fit agents, will result in unplaced agents\n",
        "WARNING: not enough options to fit agents, will result in unplaced agents\n",
        "WARNING: not enough options to fit agents, will result in unplaced agents\n",
        "WARNING: not enough options to fit agents, will result in unplaced agents\n",
        "WARNING: not enough options to fit agents, will result in unplaced agents\n",
        "WARNING: not enough options to fit agents, will result in unplaced agents\n",
        "WARNING: not enough options to fit agents, will result in unplaced agents\n",
        "WARNING: not enough options to fit agents, will result in unplaced agents\n",
        "WARNING: not enough options to fit agents, will result in unplaced agents\n",
        "WARNING: not enough options to fit agents, will result in unplaced agents\n",
        "WARNING: not enough options to fit agents, will result in unplaced agents\n",
        "WARNING: not enough options to fit agents, will result in unplaced agents\n",
        "WARNING: not enough options to fit agents, will result in unplaced agents\n",
        "WARNING: not enough options to fit agents, will result in unplaced agents\n",
        "WARNING: not enough options to fit agents, will result in unplaced agents\n",
        "WARNING: not enough options to fit agents, will result in unplaced agents\n",
        "WARNING: not enough options to fit agents, will result in unplaced agents\n",
        "WARNING: not enough options to fit agents, will result in unplaced agents"
       ]
      },
      {
       "output_type": "stream",
       "stream": "stdout",
       "text": [
        "\n",
        "WARNING: not enough options to fit agents, will result in unplaced agents\n",
        "WARNING: not enough options to fit agents, will result in unplaced agents\n",
        "WARNING: not enough options to fit agents, will result in unplaced agents\n",
        "WARNING: not enough options to fit agents, will result in unplaced agents\n",
        "WARNING: not enough options to fit agents, will result in unplaced agents\n",
        "WARNING: not enough options to fit agents, will result in unplaced agents\n",
        "WARNING: not enough options to fit agents, will result in unplaced agents\n",
        "WARNING: not enough options to fit agents, will result in unplaced agents\n",
        "WARNING: not enough options to fit agents, will result in unplaced agents\n",
        "WARNING: not enough options to fit agents, will result in unplaced agents\n",
        "WARNING: not enough options to fit agents, will result in unplaced agents\n",
        "WARNING: not enough options to fit agents, will result in unplaced agents\n",
        "WARNING: not enough options to fit agents, will result in unplaced agents\n",
        "WARNING: not enough options to fit agents, will result in unplaced agents\n",
        "Assigning units to 255 agents of segment 3"
       ]
      },
      {
       "output_type": "stream",
       "stream": "stdout",
       "text": [
        "\n",
        "WARNING: not enough options to fit agents, will result in unplaced agents\n",
        "WARNING: not enough options to fit agents, will result in unplaced agents\n",
        "WARNING: not enough options to fit agents, will result in unplaced agents\n",
        "WARNING: not enough options to fit agents, will result in unplaced agents\n",
        "WARNING: not enough options to fit agents, will result in unplaced agents\n",
        "WARNING: not enough options to fit agents, will result in unplaced agents\n",
        "WARNING: not enough options to fit agents, will result in unplaced agents\n",
        "WARNING: not enough options to fit agents, will result in unplaced agents\n",
        "WARNING: not enough options to fit agents, will result in unplaced agents\n",
        "WARNING: not enough options to fit agents, will result in unplaced agents\n",
        "WARNING: not enough options to fit agents, will result in unplaced agents\n",
        "WARNING: not enough options to fit agents, will result in unplaced agents\n",
        "WARNING: not enough options to fit agents, will result in unplaced agents\n",
        "WARNING: not enough options to fit agents, will result in unplaced agents\n",
        "WARNING: not enough options to fit agents, will result in unplaced agents\n",
        "WARNING: not enough options to fit agents, will result in unplaced agents\n",
        "WARNING: not enough options to fit agents, will result in unplaced agents\n",
        "WARNING: not enough options to fit agents, will result in unplaced agents\n",
        "Assigning units to 177 agents of segment 4"
       ]
      },
      {
       "output_type": "stream",
       "stream": "stdout",
       "text": [
        "\n",
        "WARNING: not enough options to fit agents, will result in unplaced agents\n",
        "WARNING: not enough options to fit agents, will result in unplaced agents\n",
        "WARNING: not enough options to fit agents, will result in unplaced agents\n",
        "WARNING: not enough options to fit agents, will result in unplaced agents\n",
        "WARNING: not enough options to fit agents, will result in unplaced agents\n",
        "WARNING: not enough options to fit agents, will result in unplaced agents\n",
        "WARNING: not enough options to fit agents, will result in unplaced agents\n",
        "WARNING: not enough options to fit agents, will result in unplaced agents\n",
        "WARNING: not enough options to fit agents, will result in unplaced agents\n",
        "WARNING: not enough options to fit agents, will result in unplaced agents\n",
        "WARNING: not enough options to fit agents, will result in unplaced agents\n",
        "WARNING: not enough options to fit agents, will result in unplaced agents\n",
        "WARNING: not enough options to fit agents, will result in unplaced agents\n",
        "WARNING: not enough options to fit agents, will result in unplaced agents\n",
        "WARNING: not enough options to fit agents, will result in unplaced agents\n",
        "WARNING: not enough options to fit agents, will result in unplaced agents\n",
        "WARNING: not enough options to fit agents, will result in unplaced agents\n",
        "WARNING: not enough options to fit agents, will result in unplaced agents\n",
        "WARNING: not enough options to fit agents, will result in unplaced agents\n",
        "WARNING: not enough options to fit agents, will result in unplaced agents\n",
        "WARNING: not enough options to fit agents, will result in unplaced agents\n",
        "WARNING: not enough options to fit agents, will result in unplaced agents\n",
        "WARNING: not enough options to fit agents, will result in unplaced agents\n",
        "WARNING: not enough options to fit agents, will result in unplaced agents\n",
        "WARNING: not enough options to fit agents, will result in unplaced agents\n",
        "WARNING: not enough options to fit agents, will result in unplaced agents\n",
        "WARNING: not enough options to fit agents, will result in unplaced agents\n",
        "WARNING: not enough options to fit agents, will result in unplaced agents\n",
        "Assigning units to 364 agents of segment 5"
       ]
      },
      {
       "output_type": "stream",
       "stream": "stdout",
       "text": [
        "\n",
        "WARNING: not enough options to fit agents, will result in unplaced agents\n",
        "WARNING: not enough options to fit agents, will result in unplaced agents\n",
        "WARNING: not enough options to fit agents, will result in unplaced agents\n",
        "WARNING: not enough options to fit agents, will result in unplaced agents\n",
        "WARNING: not enough options to fit agents, will result in unplaced agents\n",
        "WARNING: not enough options to fit agents, will result in unplaced agents\n",
        "WARNING: not enough options to fit agents, will result in unplaced agents\n",
        "WARNING: not enough options to fit agents, will result in unplaced agents\n",
        "WARNING: not enough options to fit agents, will result in unplaced agents\n",
        "WARNING: not enough options to fit agents, will result in unplaced agents\n",
        "WARNING: not enough options to fit agents, will result in unplaced agents\n",
        "WARNING: not enough options to fit agents, will result in unplaced agents\n",
        "WARNING: not enough options to fit agents, will result in unplaced agents\n",
        "WARNING: not enough options to fit agents, will result in unplaced agents\n",
        "WARNING: not enough options to fit agents, will result in unplaced agents\n",
        "WARNING: not enough options to fit agents, will result in unplaced agents\n",
        "WARNING: not enough options to fit agents, will result in unplaced agents\n",
        "WARNING: not enough options to fit agents, will result in unplaced agents\n",
        "WARNING: not enough options to fit agents, will result in unplaced agents\n",
        "WARNING: not enough options to fit agents, will result in unplaced agents\n",
        "WARNING: not enough options to fit agents, will result in unplaced agents\n",
        "WARNING: not enough options to fit agents, will result in unplaced agents\n",
        "WARNING: not enough options to fit agents, will result in unplaced agents\n",
        "WARNING: not enough options to fit agents, will result in unplaced agents\n",
        "WARNING: not enough options to fit agents, will result in unplaced agents\n",
        "WARNING: not enough options to fit agents, will result in unplaced agents\n",
        "WARNING: not enough options to fit agents, will result in unplaced agents\n",
        "WARNING: not enough options to fit agents, will result in unplaced agents\n",
        "WARNING: not enough options to fit agents, will result in unplaced agents\n",
        "WARNING: not enough options to fit agents, will result in unplaced agents\n",
        "WARNING: not enough options to fit agents, will result in unplaced agents\n",
        "WARNING: not enough options to fit agents, will result in unplaced agents\n",
        "WARNING: not enough options to fit agents, will result in unplaced agents\n",
        "WARNING: not enough options to fit agents, will result in unplaced agents\n",
        "WARNING: not enough options to fit agents, will result in unplaced agents"
       ]
      },
      {
       "output_type": "stream",
       "stream": "stdout",
       "text": [
        "\n",
        "WARNING: not enough options to fit agents, will result in unplaced agents\n",
        "WARNING: not enough options to fit agents, will result in unplaced agents\n",
        "WARNING: not enough options to fit agents, will result in unplaced agents\n",
        "WARNING: not enough options to fit agents, will result in unplaced agents\n",
        "WARNING: not enough options to fit agents, will result in unplaced agents\n",
        "WARNING: not enough options to fit agents, will result in unplaced agents\n",
        "WARNING: not enough options to fit agents, will result in unplaced agents\n",
        "WARNING: not enough options to fit agents, will result in unplaced agents\n",
        "Assigning units to 2667 agents of segment 6"
       ]
      },
      {
       "output_type": "stream",
       "stream": "stdout",
       "text": [
        "\n",
        "WARNING: not enough options to fit agents, will result in unplaced agents\n",
        "WARNING: not enough options to fit agents, will result in unplaced agents\n",
        "WARNING: not enough options to fit agents, will result in unplaced agents\n",
        "WARNING: not enough options to fit agents, will result in unplaced agents\n",
        "WARNING: not enough options to fit agents, will result in unplaced agents\n",
        "WARNING: not enough options to fit agents, will result in unplaced agents\n",
        "WARNING: not enough options to fit agents, will result in unplaced agents\n",
        "WARNING: not enough options to fit agents, will result in unplaced agents\n",
        "WARNING: not enough options to fit agents, will result in unplaced agents\n",
        "WARNING: not enough options to fit agents, will result in unplaced agents\n",
        "WARNING: not enough options to fit agents, will result in unplaced agents\n",
        "WARNING: not enough options to fit agents, will result in unplaced agents\n",
        "WARNING: not enough options to fit agents, will result in unplaced agents\n",
        "WARNING: not enough options to fit agents, will result in unplaced agents\n",
        "WARNING: not enough options to fit agents, will result in unplaced agents\n",
        "WARNING: not enough options to fit agents, will result in unplaced agents\n",
        "WARNING: not enough options to fit agents, will result in unplaced agents\n",
        "WARNING: not enough options to fit agents, will result in unplaced agents\n",
        "WARNING: not enough options to fit agents, will result in unplaced agents\n",
        "WARNING: not enough options to fit agents, will result in unplaced agents\n",
        "WARNING: not enough options to fit agents, will result in unplaced agents\n",
        "WARNING: not enough options to fit agents, will result in unplaced agents\n",
        "WARNING: not enough options to fit agents, will result in unplaced agents\n",
        "WARNING: not enough options to fit agents, will result in unplaced agents\n",
        "WARNING: not enough options to fit agents, will result in unplaced agents\n",
        "WARNING: not enough options to fit agents, will result in unplaced agents\n",
        "WARNING: not enough options to fit agents, will result in unplaced agents\n",
        "WARNING: not enough options to fit agents, will result in unplaced agents\n",
        "WARNING: not enough options to fit agents, will result in unplaced agents"
       ]
      },
      {
       "output_type": "stream",
       "stream": "stdout",
       "text": [
        "\n",
        "WARNING: not enough options to fit agents, will result in unplaced agents\n",
        "WARNING: not enough options to fit agents, will result in unplaced agents\n",
        "WARNING: not enough options to fit agents, will result in unplaced agents\n",
        "WARNING: not enough options to fit agents, will result in unplaced agents\n",
        "WARNING: not enough options to fit agents, will result in unplaced agents\n",
        "WARNING: not enough options to fit agents, will result in unplaced agents\n",
        "WARNING: not enough options to fit agents, will result in unplaced agents\n",
        "WARNING: not enough options to fit agents, will result in unplaced agents\n",
        "WARNING: not enough options to fit agents, will result in unplaced agents\n",
        "WARNING: not enough options to fit agents, will result in unplaced agents\n",
        "WARNING: not enough options to fit agents, will result in unplaced agents\n",
        "WARNING: not enough options to fit agents, will result in unplaced agents\n",
        "WARNING: not enough options to fit agents, will result in unplaced agents\n",
        "WARNING: not enough options to fit agents, will result in unplaced agents\n",
        "WARNING: not enough options to fit agents, will result in unplaced agents\n",
        "WARNING: not enough options to fit agents, will result in unplaced agents\n",
        "WARNING: not enough options to fit agents, will result in unplaced agents\n",
        "WARNING: not enough options to fit agents, will result in unplaced agents\n",
        "WARNING: not enough options to fit agents, will result in unplaced agents\n",
        "WARNING: not enough options to fit agents, will result in unplaced agents\n",
        "WARNING: not enough options to fit agents, will result in unplaced agents\n",
        "WARNING: not enough options to fit agents, will result in unplaced agents\n",
        "WARNING: not enough options to fit agents, will result in unplaced agents\n",
        "WARNING: not enough options to fit agents, will result in unplaced agents\n",
        "WARNING: not enough options to fit agents, will result in unplaced agents\n",
        "WARNING: not enough options to fit agents, will result in unplaced agents\n",
        "WARNING: not enough options to fit agents, will result in unplaced agents\n",
        "WARNING: not enough options to fit agents, will result in unplaced agents\n",
        "WARNING: not enough options to fit agents, will result in unplaced agents\n",
        "WARNING: not enough options to fit agents, will result in unplaced agents\n",
        "WARNING: not enough options to fit agents, will result in unplaced agents\n",
        "WARNING: not enough options to fit agents, will result in unplaced agents\n",
        "WARNING: not enough options to fit agents, will result in unplaced agents\n",
        "WARNING: not enough options to fit agents, will result in unplaced agents\n",
        "WARNING: not enough options to fit agents, will result in unplaced agents\n",
        "WARNING: not enough options to fit agents, will result in unplaced agents\n",
        "WARNING: not enough options to fit agents, will result in unplaced agents\n",
        "WARNING: not enough options to fit agents, will result in unplaced agents"
       ]
      },
      {
       "output_type": "stream",
       "stream": "stdout",
       "text": [
        "\n",
        "WARNING: not enough options to fit agents, will result in unplaced agents\n",
        "WARNING: not enough options to fit agents, will result in unplaced agents\n",
        "WARNING: not enough options to fit agents, will result in unplaced agents\n",
        "WARNING: not enough options to fit agents, will result in unplaced agents\n",
        "WARNING: not enough options to fit agents, will result in unplaced agents\n",
        "WARNING: not enough options to fit agents, will result in unplaced agents\n",
        "WARNING: not enough options to fit agents, will result in unplaced agents\n",
        "WARNING: not enough options to fit agents, will result in unplaced agents\n",
        "WARNING: not enough options to fit agents, will result in unplaced agents\n",
        "WARNING: not enough options to fit agents, will result in unplaced agents\n",
        "WARNING: not enough options to fit agents, will result in unplaced agents\n",
        "WARNING: not enough options to fit agents, will result in unplaced agents\n",
        "WARNING: not enough options to fit agents, will result in unplaced agents\n",
        "WARNING: not enough options to fit agents, will result in unplaced agents\n",
        "WARNING: not enough options to fit agents, will result in unplaced agents\n",
        "WARNING: not enough options to fit agents, will result in unplaced agents\n",
        "WARNING: not enough options to fit agents, will result in unplaced agents\n",
        "WARNING: not enough options to fit agents, will result in unplaced agents\n",
        "WARNING: not enough options to fit agents, will result in unplaced agents\n",
        "WARNING: not enough options to fit agents, will result in unplaced agents\n",
        "WARNING: not enough options to fit agents, will result in unplaced agents\n",
        "WARNING: not enough options to fit agents, will result in unplaced agents\n",
        "WARNING: not enough options to fit agents, will result in unplaced agents\n",
        "WARNING: not enough options to fit agents, will result in unplaced agents\n",
        "WARNING: not enough options to fit agents, will result in unplaced agents\n",
        "WARNING: not enough options to fit agents, will result in unplaced agents\n",
        "WARNING: not enough options to fit agents, will result in unplaced agents\n",
        "WARNING: not enough options to fit agents, will result in unplaced agents\n",
        "WARNING: not enough options to fit agents, will result in unplaced agents\n",
        "WARNING: not enough options to fit agents, will result in unplaced agents\n",
        "WARNING: not enough options to fit agents, will result in unplaced agents\n",
        "WARNING: not enough options to fit agents, will result in unplaced agents\n",
        "WARNING: not enough options to fit agents, will result in unplaced agents\n",
        "WARNING: not enough options to fit agents, will result in unplaced agents\n",
        "WARNING: not enough options to fit agents, will result in unplaced agents\n",
        "WARNING: not enough options to fit agents, will result in unplaced agents\n",
        "WARNING: not enough options to fit agents, will result in unplaced agents\n",
        "WARNING: not enough options to fit agents, will result in unplaced agents"
       ]
      },
      {
       "output_type": "stream",
       "stream": "stdout",
       "text": [
        "\n",
        "WARNING: not enough options to fit agents, will result in unplaced agents\n",
        "WARNING: not enough options to fit agents, will result in unplaced agents\n",
        "WARNING: not enough options to fit agents, will result in unplaced agents\n",
        "WARNING: not enough options to fit agents, will result in unplaced agents\n",
        "WARNING: not enough options to fit agents, will result in unplaced agents\n",
        "WARNING: not enough options to fit agents, will result in unplaced agents\n",
        "WARNING: not enough options to fit agents, will result in unplaced agents\n",
        "WARNING: not enough options to fit agents, will result in unplaced agents\n",
        "WARNING: not enough options to fit agents, will result in unplaced agents\n",
        "WARNING: not enough options to fit agents, will result in unplaced agents\n",
        "WARNING: not enough options to fit agents, will result in unplaced agents\n",
        "WARNING: not enough options to fit agents, will result in unplaced agents\n",
        "WARNING: not enough options to fit agents, will result in unplaced agents\n",
        "WARNING: not enough options to fit agents, will result in unplaced agents\n",
        "WARNING: not enough options to fit agents, will result in unplaced agents\n",
        "WARNING: not enough options to fit agents, will result in unplaced agents\n",
        "WARNING: not enough options to fit agents, will result in unplaced agents\n",
        "WARNING: not enough options to fit agents, will result in unplaced agents\n",
        "WARNING: not enough options to fit agents, will result in unplaced agents\n",
        "WARNING: not enough options to fit agents, will result in unplaced agents\n",
        "WARNING: not enough options to fit agents, will result in unplaced agents\n",
        "WARNING: not enough options to fit agents, will result in unplaced agents\n",
        "WARNING: not enough options to fit agents, will result in unplaced agents\n",
        "WARNING: not enough options to fit agents, will result in unplaced agents\n",
        "WARNING: not enough options to fit agents, will result in unplaced agents\n",
        "WARNING: not enough options to fit agents, will result in unplaced agents\n",
        "WARNING: not enough options to fit agents, will result in unplaced agents\n",
        "WARNING: not enough options to fit agents, will result in unplaced agents\n",
        "WARNING: not enough options to fit agents, will result in unplaced agents\n",
        "WARNING: not enough options to fit agents, will result in unplaced agents\n",
        "WARNING: not enough options to fit agents, will result in unplaced agents\n",
        "WARNING: not enough options to fit agents, will result in unplaced agents\n",
        "WARNING: not enough options to fit agents, will result in unplaced agents\n",
        "WARNING: not enough options to fit agents, will result in unplaced agents\n",
        "WARNING: not enough options to fit agents, will result in unplaced agents\n",
        "WARNING: not enough options to fit agents, will result in unplaced agents\n",
        "WARNING: not enough options to fit agents, will result in unplaced agents"
       ]
      },
      {
       "output_type": "stream",
       "stream": "stdout",
       "text": [
        "\n",
        "WARNING: not enough options to fit agents, will result in unplaced agents\n",
        "WARNING: not enough options to fit agents, will result in unplaced agents\n",
        "WARNING: not enough options to fit agents, will result in unplaced agents\n",
        "Assigned 3980 agents to 3279 locations with 540 unplaced"
       ]
      },
      {
       "output_type": "stream",
       "stream": "stdout",
       "text": [
        "\n",
        "total_number_of_households    25005\n",
        "persons                       55212\n",
        "dtype: int32\n",
        "Adding agents to match target of 80217 \n",
        "Histogram of agents by year:\n"
       ]
      },
      {
       "output_type": "stream",
       "stream": "stdout",
       "text": [
        "2010    1160387\n",
        "2020      25005\n",
        "2019      25005\n",
        "2017      25005\n",
        "2018      25004\n",
        "2016      25004\n",
        "2015      23538\n",
        "2011      23538\n",
        "2014      23537\n",
        "2013      23537\n",
        "2012      23537\n",
        "dtype: int64\n",
        "Histogram of relocation rates:"
       ]
      },
      {
       "output_type": "stream",
       "stream": "stdout",
       "text": [
        "\n",
        "0.0148    185771\n",
        "0.0000    179514\n",
        "0.0309    152366\n",
        "0.0274    150181\n",
        "0.0145    134450\n",
        "0.0311     89314\n",
        "0.0183     76007\n",
        "0.0348     70174\n",
        "0.0540     65666\n",
        "0.0184     58273\n",
        "0.0110     46447\n",
        "0.0220     36609\n",
        "0.0402     31689\n",
        "0.0099     23353\n",
        "0.0130     20267\n",
        "0.0124     19762\n",
        "0.0199     15397\n",
        "0.0111     14344\n",
        "0.0132     14330\n",
        "0.0117     11441\n",
        "0.0222      7742\n",
        "dtype: int64"
       ]
      },
      {
       "output_type": "stream",
       "stream": "stdout",
       "text": [
        "\n",
        "28950 agents are moving\n",
        "Total new agents and movers = 53470"
       ]
      },
      {
       "output_type": "stream",
       "stream": "stdout",
       "text": [
        "\n",
        "Assigning units to 12334 agents of segment 1"
       ]
      },
      {
       "output_type": "stream",
       "stream": "stdout",
       "text": [
        "\n",
        "num alts\n",
        "41857\n",
        "num agents\n",
        "12334\n",
        "Assigning units to 5129 agents of segment 2\n",
        "num alts\n",
        "18663\n",
        "num agents\n",
        "5129\n",
        "Assigning units to 32289 agents of segment 3\n",
        "num alts\n",
        "59564\n",
        "num agents\n",
        "32289\n",
        "Assigning units to 3718 agents of segment 4\n",
        "num alts\n",
        "35342\n",
        "num agents\n",
        "3718\n",
        "Assigned 53470 agents to 44649 locations with 0 unplaced"
       ]
      },
      {
       "output_type": "stream",
       "stream": "stdout",
       "text": [
        "\n",
        "PRE"
       ]
      },
      {
       "output_type": "stream",
       "stream": "stdout",
       "text": [
        "\n",
        "1432734\n",
        "879868950\n",
        "New units to build (vacancy_diff * denom):\n"
       ]
      },
      {
       "output_type": "stream",
       "stream": "stdout",
       "text": [
        "building_type_id\n",
        "2                    5692.856675\n",
        "3                    2684.041630\n",
        "8                    1945.767171\n",
        "16                    442.694497\n",
        "17                    470.081556\n",
        "20                  16810.583928\n",
        "23                    447.997188\n",
        "dtype: float64\n",
        "                             0\n",
        "building_type_id              \n",
        "2                  5692.856675\n",
        "3                  2684.041630\n",
        "8                  1945.767171\n",
        "16                  442.694497\n",
        "17                  470.081556\n",
        "20                16810.583928\n",
        "23                  447.997188\n",
        "Adding agents to match target of 28494 \n",
        "action\n",
        "5692.8566754\n",
        "action"
       ]
      },
      {
       "output_type": "stream",
       "stream": "stdout",
       "text": [
        "\n",
        "2684.04163002\n",
        "action"
       ]
      },
      {
       "output_type": "stream",
       "stream": "stdout",
       "text": [
        "\n",
        "1945.76717067\n",
        "action"
       ]
      },
      {
       "output_type": "stream",
       "stream": "stdout",
       "text": [
        "\n",
        "442.694496947\n",
        "action"
       ]
      },
      {
       "output_type": "stream",
       "stream": "stdout",
       "text": [
        "\n",
        "470.081556133\n",
        "action"
       ]
      },
      {
       "output_type": "stream",
       "stream": "stdout",
       "text": [
        "\n",
        "16810.5839281\n",
        "action"
       ]
      },
      {
       "output_type": "stream",
       "stream": "stdout",
       "text": [
        "\n",
        "447.997188233\n",
        "Histogram of agents by year:\n"
       ]
      },
      {
       "output_type": "stream",
       "stream": "stdout",
       "text": [
        "2020    14586\n",
        "dtype: int64\n",
        "POST\n",
        "1454310\n",
        "881416094\n",
        "Total new agents and movers = 14540"
       ]
      },
      {
       "output_type": "stream",
       "stream": "stdout",
       "text": [
        "\n",
        "Assigning units to 520 agents of segment 2"
       ]
      },
      {
       "output_type": "stream",
       "stream": "stdout",
       "text": [
        "\n",
        "Assigning units to 287 agents of segment 3"
       ]
      },
      {
       "output_type": "stream",
       "stream": "stdout",
       "text": [
        "\n",
        "Assigning units to 13733 agents of segment 20"
       ]
      },
      {
       "output_type": "stream",
       "stream": "stdout",
       "text": [
        "\n",
        "Assigned 14540 agents to 13897 locations with 0 unplaced"
       ]
      },
      {
       "output_type": "stream",
       "stream": "stdout",
       "text": [
        "\n",
        "Total new agents and movers = 46"
       ]
      },
      {
       "output_type": "stream",
       "stream": "stdout",
       "text": [
        "\n",
        "Assigning units to 10 agents of segment 8"
       ]
      },
      {
       "output_type": "stream",
       "stream": "stdout",
       "text": [
        "\n",
        "Assigning units to 6 agents of segment 16\n",
        "Assigning units to 18 agents of segment 17\n",
        "Assigning units to 12 agents of segment 23"
       ]
      },
      {
       "output_type": "stream",
       "stream": "stdout",
       "text": [
        "\n",
        "Assigned 46 agents to 22 locations with 0 unplaced\n",
        "Annual totals"
       ]
      },
      {
       "output_type": "stream",
       "stream": "stdout",
       "text": [
        "\n",
        "1403097\n",
        "1872657\n",
        "1454310\n",
        "881416094\n",
        "{'households': [1160387], 'price': [], 'non_residential_sqft': [872568980], 'employment': [1605033], 'residential_units': [1239015]}\n",
        "Household diffs"
       ]
      },
      {
       "output_type": "stream",
       "stream": "stdout",
       "text": [
        "\n",
        "county_id\n",
        "8001         25561\n",
        "8005         33506\n",
        "8013         35201\n",
        "8014          7605\n",
        "8019          3810\n",
        "8031         50940\n",
        "8035         32531\n",
        "8039          1756\n",
        "8047          2185\n",
        "8059         35927\n",
        "8123         13688\n",
        "dtype: int64\n",
        "Employment diffs\n",
        "county_id\n",
        "8001         17821\n",
        "8005          3966\n",
        "8013         20025\n",
        "8014          5898\n",
        "8019           809\n",
        "8031         77387\n",
        "8035          5687\n",
        "8039          -392\n",
        "8047          1425\n",
        "8059         28703\n",
        "8123         19032\n",
        "Name: employees, dtype: int32\n",
        "Resunit diffs\n",
        "county_id\n",
        "8001         19909\n",
        "8005         22101\n",
        "8013         27996\n",
        "8014          2920\n",
        "8019         22204\n",
        "8031         36956\n",
        "8035         21455\n",
        "8039          1763\n",
        "8047          1471\n",
        "8059         49614\n",
        "8123          8906\n",
        "Name: residential_units, dtype: int32\n",
        "NR sqft diffs\n",
        "county_id\n",
        "8001           22280\n",
        "8005           42264\n",
        "8013          211571\n",
        "8014           13775\n",
        "8019         1759927\n",
        "8031          702526\n",
        "8035          462693\n",
        "8039               0\n",
        "8047               0\n",
        "8059         5626662\n",
        "8123            5416\n",
        "Name: non_residential_sqft, dtype: int32\n",
        "TOTAL elapsed time: 213.096000195 seconds.\n",
        "Done running all three scenarios.\n"
       ]
      }
     ],
     "prompt_number": 2
    }
   ],
   "metadata": {}
  }
 ]
}