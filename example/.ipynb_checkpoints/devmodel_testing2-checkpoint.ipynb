{
 "metadata": {
  "name": ""
 },
 "nbformat": 3,
 "nbformat_minor": 0,
 "worksheets": [
  {
   "cells": [
    {
     "cell_type": "code",
     "collapsed": false,
     "input": [
      "sim_year = 2010\n",
      "import pandas as pd, numpy as np\n",
      "import sys, time, random, string, os\n",
      "from synthicity.utils import misc\n",
      "\n",
      "from urbandeveloper import spotproforma, developer\n",
      "import dataset\n",
      "dset = dataset.DRCOGDataset(os.path.join(misc.data_dir(),'drcog.h5'))\n",
      "dev = spotproforma.Developer()\n",
      "year = sim_year\n",
      "def get_possible_rents_by_use(dset):\n",
      "    parcels = dset.parcels \n",
      "    buildings = dset.buildings\n",
      "    buildings['zone_id'] = parcels.zone_id[buildings.parcel_id].values\n",
      "    res_buildings = buildings[buildings.unit_price_residential>0]\n",
      "    \n",
      "    nonres_buildings = buildings[buildings.unit_price_non_residential>0]\n",
      "    nonres_buildings_office = nonres_buildings[nonres_buildings.building_type_id==5]\n",
      "    nonres_buildings_retail = nonres_buildings[np.in1d(nonres_buildings.building_type_id,[17,18])]\n",
      "    nonres_buildings_industrial = nonres_buildings[np.in1d(nonres_buildings.building_type_id,[9,22])]\n",
      "    res_buildings['resprice_sqft'] = res_buildings.unit_price_residential/res_buildings.sqft_per_unit\n",
      "    zonal_resprice_sqft = res_buildings.groupby('zone_id').resprice_sqft.mean()\n",
      "    zonal_nonresprice_office = nonres_buildings_office.groupby('zone_id').unit_price_non_residential.mean()\n",
      "    zonal_nonresprice_retail = nonres_buildings_retail.groupby('zone_id').unit_price_non_residential.mean()\n",
      "    zonal_nonresprice_industrial = nonres_buildings_industrial.groupby('zone_id').unit_price_non_residential.mean()\n",
      "    zonal_resrent = zonal_resprice_sqft/9  ##Note that I doulbed the dev-perceived price!\n",
      "    zonal_nonresrent_office = zonal_nonresprice_office/17.9\n",
      "    zonal_nonresrent_retail = zonal_nonresprice_retail/17.9\n",
      "    zonal_nonresrent_industrial = zonal_nonresprice_industrial/17.9\n",
      "    zonal_avg_rents = pd.DataFrame({'resrent':zonal_resrent,'nonresrent_office':zonal_nonresrent_office,'nonresrent_retail':zonal_nonresrent_retail,'nonresrent_industrial':zonal_nonresrent_industrial})\n",
      "    \n",
      "    avgrents = pd.merge(parcels,zonal_avg_rents,left_on='zone_id',right_index=True,how='left')\n",
      "    avgrents['residential'] = avgrents.resrent\n",
      "    avgrents['office'] = avgrents.nonresrent_office\n",
      "    avgrents['retail'] = avgrents.nonresrent_retail\n",
      "    avgrents['industrial'] = avgrents.nonresrent_industrial\n",
      "    avgrents = avgrents[['residential','office','retail','industrial']]\n",
      "    return avgrents\n",
      "parcels = dset.fetch('parcels')\n",
      "buildings = dset.fetch('buildings')\n",
      "avgrents = get_possible_rents_by_use(dset)\n",
      "\n",
      "buildings['bldg_sq_ft'] = buildings.non_residential_sqft + buildings.residential_units*buildings.sqft_per_unit\n",
      "buildings['impval'] = buildings.non_residential_sqft*buildings.unit_price_non_residential + buildings.residential_units*buildings.unit_price_residential\n",
      "far_predictions = pd.DataFrame(index=parcels.index)\n",
      "far_predictions['total_sqft'] = buildings.groupby('parcel_id').bldg_sq_ft.sum()\n",
      "far_predictions['total_sqft'] = far_predictions.total_sqft.fillna(0)\n",
      "far_predictions['current_yearly_rent_buildings'] = buildings.groupby('parcel_id').impval.sum()/17.9\n",
      "far_predictions['current_yearly_rent_buildings'] = far_predictions.current_yearly_rent_buildings.fillna(0)\n",
      "far_predictions['parcelsize'] = parcels.parcel_sqft\n",
      "far_predictions.parcelsize[far_predictions.parcelsize<300] = 300 # some parcels have unrealisticly small sizes ##Keep this or just filter out?\n",
      "\n",
      "# do the lookup in the developer model - this is where the profitability is computed\n",
      "for form in spotproforma.forms.keys():\n",
      "    far_predictions[form+'_feasiblefar'], far_predictions[form+'_profit'] = \\\n",
      "            dev.lookup(form,avgrents[spotproforma.uses].as_matrix(),far_predictions.current_yearly_rent_buildings,far_predictions.parcelsize)\n",
      "# we now have a far prediction per parcel\n",
      "\n",
      "zoning = dset.fetch('zoning')\n",
      "fars = dset.fetch('fars')\n",
      "if 'far' not in parcels.columns:\n",
      "    parcels = pd.merge(parcels,fars,left_on='far_id',right_index=True)\n",
      "    parcels.far = parcels.far*(1 - parcels.prop_constrained) #Adjust allowable FAR to account for undevelopable proportion of parcel land\n",
      "if 'type1' not in parcels.columns:\n",
      "    parcels = pd.merge(parcels,zoning,left_on='zoning_id',right_index=True)\n",
      "\n",
      "type_d = { \n",
      "'residential': [2,3,20,24],\n",
      "'industrial': [9,22],\n",
      "'retail': [17,18],\n",
      "'office': [5],\n",
      "#'mixedresidential': [11],  ###Turning off for now\n",
      "#'mixedoffice': [999], ##does not exist in drcog\n",
      "#Howbout hotels?  We need hotels (btype 22/23\n",
      "}\n",
      "\n",
      "# we have zoning by like 16 building types and rents/far predictions by 4 building types\n",
      "# so we have to convert one into the other - would probably be better to have rents\n",
      "# segmented by the same 16 building types if we had good observations for that\n",
      "parcel_predictions = pd.DataFrame(index=parcels.index)\n",
      "for typ, btypes in type_d.iteritems():\n",
      "    for btype in btypes:\n",
      "\n",
      "        # three questions - 1) is type allowed 2) what FAR is allowed 3) is it supported by rents\n",
      "        tmp = parcels[parcels['type%d'%btype]==1][['far']] # is type allowed\n",
      "        far_predictions['type%d_zonedfar'%btype] = tmp['far'] # at what far\n",
      "        \n",
      "        # merge zoning with feasibility\n",
      "        tmp = pd.merge(tmp,far_predictions[[typ+'_feasiblefar']],left_index=True,right_index=True,how='left').set_index(tmp.index)\n",
      "        \n",
      "        # min of zoning and feasibility\n",
      "        parcel_predictions[btype] = pd.Series(np.minimum(tmp['far'],tmp[typ+'_feasiblefar']),index=tmp.index) \n",
      "        \n",
      "parcel_predictions = parcel_predictions.dropna(how='all').sort_index(axis=1)\n",
      "print \"Average rents\\n\", avgrents.describe()\n",
      "print \"Feasibility\\n\", far_predictions.describe()\n",
      "print \"Restricted to zoning\\n\", parcel_predictions.describe()\n",
      "print \"Feasible square footage (in millions)\"\n",
      "for col in parcel_predictions.columns: \n",
      "    print col, (parcel_predictions[col]*far_predictions.parcelsize).sum()/1000000.0\n",
      "parcel_predictions.to_csv('parcel_predictions.csv',index_col='parcel_id',float_format=\"%.2f\")\n",
      "far_predictions.to_csv('far_predictions.csv',index_col='parcel_id',float_format=\"%.2f\")\n",
      "print \"Finished developer\", time.ctime()\n",
      "\n",
      "newbuildings = developer.run(dset,year)\n",
      "\n",
      "##When net residential units is less than 0, do we need to implement building demolition?\n",
      "newbuildings = newbuildings[['building_type_id','building_sqft','residential_units','lot_size']]\n",
      "newbuildings = newbuildings.reset_index()\n",
      "newbuildings.columns = ['parcel_id','building_type_id','bldg_sq_ft','residential_units','land_area']\n",
      "newbuildings.residential_units = newbuildings.residential_units.astype('int32')\n",
      "newbuildings.land_area = newbuildings.land_area.astype('int32')\n",
      "newbuildings.building_type_id = newbuildings.building_type_id.astype('int32')\n",
      "newbuildings.parcel_id = newbuildings.parcel_id.astype('int32')\n",
      "newbuildings.bldg_sq_ft = np.round(newbuildings.bldg_sq_ft).astype('int32')\n",
      "\n",
      "newbuildings['non_residential_sqft'] = 0\n",
      "newbuildings.non_residential_sqft[newbuildings.residential_units == 0] = newbuildings.bldg_sq_ft\n",
      "newbuildings['improvement_value'] = (newbuildings.non_residential_sqft*100 + newbuildings.residential_units*100000).astype('int32')\n",
      "newbuildings['sqft_per_unit'] = 0\n",
      "newbuildings.sqft_per_unit[newbuildings.residential_units>0] = 1000\n",
      "newbuildings['stories'] = np.ceil(newbuildings.bldg_sq_ft*1.0/newbuildings.land_area).astype('int32')\n",
      "newbuildings['tax_exempt'] = 0\n",
      "newbuildings['year_built'] = year\n",
      "newbuildings['unit_price_residential'] = 0.0\n",
      "newbuildings['unit_price_non_residential'] = 0.0\n",
      "newbuildings.unit_price_residential[newbuildings.residential_units>0]  = 100000.0\n",
      "newbuildings.unit_price_non_residential[newbuildings.residential_units==0] = 100.0\n",
      "newbuildings['building_sqft_per_job'] = 250.0  #####Need to replace with observed\n",
      "newbuildings['non_residential_units'] = (newbuildings.non_residential_sqft/newbuildings.building_sqft_per_job).fillna(0)\n",
      "newbuildings['base_year_jobs'] = 0.0\n",
      "newbuildings['all_units'] = newbuildings.non_residential_units + newbuildings.residential_units \n",
      "\n",
      "newbuildings.non_residential_sqft = newbuildings.non_residential_sqft.astype('int32')\n",
      "newbuildings.tax_exempt = newbuildings.tax_exempt.astype('int32')\n",
      "newbuildings.year_built = newbuildings.year_built.astype('int32')\n",
      "newbuildings.sqft_per_unit = newbuildings.sqft_per_unit.astype('int32')\n",
      "newbuildings = newbuildings.set_index(np.arange(len(newbuildings.index))+np.amax(buildings.index.values)+1)\n",
      "\n",
      "buildings = buildings[['building_type_id','improvement_value','land_area','non_residential_sqft','parcel_id','residential_units','sqft_per_unit','stories','tax_exempt','year_built','bldg_sq_ft','unit_price_non_residential','unit_price_residential','building_sqft_per_job','non_residential_units','base_year_jobs','all_units']]\n",
      "dset.d['buildings'] = pd.concat([buildings,newbuildings])"
     ],
     "language": "python",
     "metadata": {},
     "outputs": [
      {
       "output_type": "stream",
       "stream": "stdout",
       "text": [
        "Fetching parcels\n",
        "Fetching modify_table\n",
        "Fetching buildings\n",
        "Fetching establishments"
       ]
      },
      {
       "output_type": "stream",
       "stream": "stdout",
       "text": [
        "\n",
        "Fetching modify_table"
       ]
      },
      {
       "output_type": "stream",
       "stream": "stdout",
       "text": [
        "\n",
        "Fetching modify_table"
       ]
      },
      {
       "output_type": "stream",
       "stream": "stdout",
       "text": [
        "\n",
        "industrial"
       ]
      },
      {
       "output_type": "stream",
       "stream": "stdout",
       "text": [
        " Tue Jan 28 17:19:57 2014\n",
        "sqft cost\n",
        "0.10     6.09\n",
        "0.25     6.09\n",
        "0.50     6.09\n",
        "0.75     6.09\n",
        "1.00     7.28\n",
        "1.50     8.08\n",
        "2.00     8.74\n",
        "3.00      NaN\n",
        "4.00      NaN\n",
        "5.00      NaN\n",
        "7.00      NaN\n",
        "9.00      NaN\n",
        "11.00     NaN\n",
        "Name: even_rent, dtype: float64\n",
        "2.00    1900\n",
        "0.75    1727\n",
        "dtype: int64"
       ]
      },
      {
       "output_type": "stream",
       "stream": "stdout",
       "text": [
        "\n",
        "residential"
       ]
      },
      {
       "output_type": "stream",
       "stream": "stdout",
       "text": [
        " Tue Jan 28 17:20:01 2014\n",
        "sqft cost\n",
        "0.10      9.14\n",
        "0.25      9.14\n",
        "0.50      9.14\n",
        "0.75     10.46\n",
        "1.00     10.46\n",
        "1.50     10.46\n",
        "2.00     12.25\n",
        "3.00     12.25\n",
        "4.00     16.22\n",
        "5.00     16.22\n",
        "7.00     16.22\n",
        "9.00     19.53\n",
        "11.00    19.53\n",
        "Name: even_rent, dtype: float64\n",
        "0.1     132754\n",
        "1.5      23022\n",
        "3.0      14066\n",
        "0.5       6042\n",
        "7.0       2036\n",
        "11.0       650\n",
        "dtype: int64"
       ]
      },
      {
       "output_type": "stream",
       "stream": "stdout",
       "text": [
        "\n",
        "retail"
       ]
      },
      {
       "output_type": "stream",
       "stream": "stdout",
       "text": [
        " Tue Jan 28 17:20:05 2014\n",
        "sqft cost\n",
        "0.10      7.28\n",
        "0.25      7.28\n",
        "0.50      7.28\n",
        "0.75      9.27\n",
        "1.00      9.27\n",
        "1.50     10.59\n",
        "2.00     12.25\n",
        "3.00       NaN\n",
        "4.00       NaN\n",
        "5.00       NaN\n",
        "7.00       NaN\n",
        "9.00       NaN\n",
        "11.00      NaN\n",
        "Name: even_rent, dtype: float64\n",
        "0.5    518\n",
        "2.0    190\n",
        "1.0      8\n",
        "dtype: int64"
       ]
      },
      {
       "output_type": "stream",
       "stream": "stdout",
       "text": [
        "\n",
        "office"
       ]
      },
      {
       "output_type": "stream",
       "stream": "stdout",
       "text": [
        " Tue Jan 28 17:20:09 2014\n",
        "sqft cost\n",
        "0.10      7.61\n",
        "0.25      7.61\n",
        "0.50      7.61\n",
        "0.75      7.61\n",
        "1.00      9.65\n",
        "1.50     10.26\n",
        "2.00     11.75\n",
        "3.00     11.75\n",
        "4.00     15.72\n",
        "5.00     15.72\n",
        "7.00     15.72\n",
        "9.00     19.03\n",
        "11.00    19.03\n",
        "Name: even_rent, dtype: float64\n",
        "0.75     4105\n",
        "11.00     384\n",
        "3.00      210\n",
        "7.00      125\n",
        "dtype: int64"
       ]
      },
      {
       "output_type": "stream",
       "stream": "stdout",
       "text": [
        "\n",
        "Fetching zoning"
       ]
      },
      {
       "output_type": "stream",
       "stream": "stdout",
       "text": [
        "\n",
        "Fetching modify_table\n",
        "Fetching fars\n",
        "Fetching modify_table\n",
        "residential"
       ]
      },
      {
       "output_type": "stream",
       "stream": "stdout",
       "text": [
        " [2, 3, 20, 24]\n",
        "industrial"
       ]
      },
      {
       "output_type": "stream",
       "stream": "stdout",
       "text": [
        " [9, 22]\n",
        "office"
       ]
      },
      {
       "output_type": "stream",
       "stream": "stdout",
       "text": [
        " [5]\n",
        "retail"
       ]
      },
      {
       "output_type": "stream",
       "stream": "stdout",
       "text": [
        " [17, 18]\n",
        "Average rents\n"
       ]
      },
      {
       "output_type": "stream",
       "stream": "stdout",
       "text": [
        "       residential     office     retail  industrial\n",
        "count     9.40e+05  473035.00  582679.00   369470.00\n",
        "mean           inf      10.18       5.61       14.56\n",
        "std            NaN     157.71      19.97      265.28\n",
        "min       5.05e-01       0.06       0.10        0.06\n",
        "25%       1.06e+01       3.02       3.15        1.31\n",
        "50%       1.44e+01       4.34       4.27        2.04\n",
        "75%            NaN       5.87       5.59        2.98\n",
        "max            inf    4889.44     570.29     6983.24\n",
        "Feasibility\n",
        "       total_sqft  current_yearly_rent_buildings  parcelsize  \\\n",
        "count   949484.00                      949484.00    9.49e+05   \n",
        "mean      3151.16                       15152.41    1.30e+03   \n",
        "std      22074.18                      125400.88    4.14e+06   \n",
        "min          0.00                           0.00    3.00e+02   \n",
        "25%       1040.00                        5054.68    6.32e+03   \n",
        "50%       1741.00                        8458.10    8.29e+03   \n",
        "75%       2678.00                       12966.48    1.37e+04   \n",
        "max    8417415.00                    47642657.99    2.06e+09   \n",
        "\n",
        "       industrial_feasiblefar  industrial_profit  residential_feasiblefar  \\\n",
        "count                 3627.00           3.63e+03                178570.00   \n",
        "mean                     1.40           1.13e+09                     0.64   \n",
        "std                      0.62           1.95e+10                     1.27   \n",
        "min                      0.75           1.56e-01                     0.10   \n",
        "25%                      0.75           9.86e+04                     0.10   \n",
        "50%                      2.00           5.85e+05                     0.10   \n",
        "75%                      2.00           3.37e+07                     0.50   \n",
        "max                      2.00           8.42e+11                    11.00   \n",
        "\n",
        "       residential_profit  retail_feasiblefar  retail_profit  \\\n",
        "count            1.79e+05              716.00       7.16e+02   \n",
        "mean                  inf                0.90       5.47e+08   \n",
        "std                   NaN                0.66       8.35e+09   \n",
        "min              1.31e+01                0.50       3.59e+02   \n",
        "25%              5.31e+07                0.50       1.27e+05   \n",
        "50%                   inf                0.50       3.88e+05   \n",
        "75%                   NaN                2.00       1.58e+06   \n",
        "max                   inf                2.00       2.02e+11   \n",
        "\n",
        "       office_feasiblefar  office_profit  type2_zonedfar  type3_zonedfar  \\\n",
        "count             4824.00       4.82e+03       643663.00       643663.00   \n",
        "mean                 1.83       3.61e+07            0.29            0.29   \n",
        "std                  2.91       3.60e+08            0.22            0.22   \n",
        "min                  0.75       4.71e+02            0.00            0.00   \n",
        "25%                  0.75       1.76e+05            0.21            0.21   \n",
        "50%                  0.75       5.65e+05            0.25            0.25   \n",
        "75%                  0.75       2.00e+06            0.31            0.31   \n",
        "max                 11.00       2.18e+10            3.09            3.09   \n",
        "\n",
        "       type20_zonedfar  type24_zonedfar  type9_zonedfar  type22_zonedfar  \\\n",
        "count        632774.00        643484.00       118021.00        129465.00   \n",
        "mean              0.28             0.29            0.36             0.34   \n",
        "std               0.21             0.22            0.40             0.39   \n",
        "min               0.00             0.00            0.00             0.00   \n",
        "25%               0.21             0.21            0.21             0.21   \n",
        "50%               0.25             0.25            0.24             0.24   \n",
        "75%               0.31             0.31            0.34             0.34   \n",
        "max               3.09             3.09            2.10             2.10   \n",
        "\n",
        "       type5_zonedfar  type17_zonedfar  type18_zonedfar  \n",
        "count       191271.00        187432.00        187432.00  \n",
        "mean             0.36             0.39             0.39  \n",
        "std              0.34             0.35             0.35  \n",
        "min              0.00             0.00             0.00  \n",
        "25%              0.23             0.23             0.23  \n",
        "50%              0.26             0.29             0.29  \n",
        "75%              0.39             0.40             0.40  \n",
        "max              3.09             3.09             3.09  "
       ]
      },
      {
       "output_type": "stream",
       "stream": "stdout",
       "text": [
        "\n",
        "Restricted to zoning\n",
        "              2          3       5       9       17      18         20      22         24\n",
        "count  102938.00  102938.00  927.00  150.00  264.00  264.00  100489.00  210.00  102861.00\n",
        "mean        0.15       0.15    0.30    0.36    0.37    0.37       0.15    0.35       0.15\n",
        "std         0.16       0.16    0.25    0.31    0.16    0.16       0.15    0.27       0.16\n",
        "min         0.00       0.00    0.00    0.00    0.00    0.00       0.00    0.00       0.00\n",
        "25%         0.10       0.10    0.14    0.23    0.35    0.35       0.10    0.23       0.10\n",
        "50%         0.10       0.10    0.30    0.23    0.36    0.36       0.10    0.29       0.10\n",
        "75%         0.10       0.10    0.40    0.40    0.45    0.45       0.10    0.42       0.10\n",
        "max         2.10       2.10    2.10    1.97    2.00    2.00       2.10    1.97       2.10"
       ]
      },
      {
       "output_type": "stream",
       "stream": "stdout",
       "text": [
        "\n",
        "Feasible square footage (in millions)\n",
        "2 "
       ]
      },
      {
       "output_type": "stream",
       "stream": "stdout",
       "text": [
        "267.01188049\n",
        "3 "
       ]
      },
      {
       "output_type": "stream",
       "stream": "stdout",
       "text": [
        "267.01188049\n",
        "5 "
       ]
      },
      {
       "output_type": "stream",
       "stream": "stdout",
       "text": [
        "13.9280280012\n",
        "9 "
       ]
      },
      {
       "output_type": "stream",
       "stream": "stdout",
       "text": [
        "6.11844218194\n",
        "17 "
       ]
      },
      {
       "output_type": "stream",
       "stream": "stdout",
       "text": [
        "5.7131699148\n",
        "18 "
       ]
      },
      {
       "output_type": "stream",
       "stream": "stdout",
       "text": [
        "5.7131699148\n",
        "20 "
       ]
      },
      {
       "output_type": "stream",
       "stream": "stdout",
       "text": [
        "260.986033715\n",
        "22 "
       ]
      },
      {
       "output_type": "stream",
       "stream": "stdout",
       "text": [
        "7.40262160067\n",
        "24 "
       ]
      },
      {
       "output_type": "stream",
       "stream": "stdout",
       "text": [
        "266.529522727\n",
        "Finished developer"
       ]
      },
      {
       "output_type": "stream",
       "stream": "stdout",
       "text": [
        " Tue Jan 28 17:20:27 2014\n",
        "1201 new buildings for btyp 3"
       ]
      },
      {
       "output_type": "stream",
       "stream": "stdout",
       "text": [
        "\n",
        "1341 new buildings for btyp 2"
       ]
      },
      {
       "output_type": "stream",
       "stream": "stdout",
       "text": [
        "\n",
        "1405 new buildings for btyp 24"
       ]
      },
      {
       "output_type": "stream",
       "stream": "stdout",
       "text": [
        "\n",
        "1606 new buildings for btyp 20"
       ]
      },
      {
       "output_type": "stream",
       "stream": "stdout",
       "text": [
        "\n",
        "26 new buildings for btyp 5"
       ]
      },
      {
       "output_type": "stream",
       "stream": "stdout",
       "text": [
        "\n",
        "25 new buildings for btyp 17"
       ]
      },
      {
       "output_type": "stream",
       "stream": "stdout",
       "text": [
        "\n",
        "18 new buildings for btyp 18"
       ]
      },
      {
       "output_type": "stream",
       "stream": "stdout",
       "text": [
        "\n",
        "19 new buildings for btyp 9"
       ]
      },
      {
       "output_type": "stream",
       "stream": "stdout",
       "text": [
        "\n",
        "19 new buildings for btyp 22"
       ]
      },
      {
       "output_type": "stream",
       "stream": "stdout",
       "text": [
        "\n",
        "       building_type_id  building_sqft   lot_size  residential_units  \\\n",
        "count           5493.00        5493.00    5493.00            5493.00   \n",
        "mean              13.08        5384.16   28285.55               5.36   \n",
        "std                9.72       18823.20   63359.03              17.60   \n",
        "min                2.00         250.00     105.00               0.00   \n",
        "25%                3.00         630.80    6245.00               1.00   \n",
        "50%               20.00         948.70    8215.00               1.00   \n",
        "75%               22.00        2412.27   14727.00               3.00   \n",
        "max               24.00      427352.10  494092.00             428.00   \n",
        "\n",
        "       net_residential_units  \n",
        "count                5493.00  \n",
        "mean                    1.95  \n",
        "std                    18.91  \n",
        "min                  -326.00  \n",
        "25%                     0.00  \n",
        "50%                     0.00  \n",
        "75%                     1.00  \n",
        "max                   370.00  "
       ]
      },
      {
       "output_type": "stream",
       "stream": "stdout",
       "text": [
        "\n",
        "building_type_id\n",
        "2                   6839455.16\n",
        "3                   8157890.25\n",
        "5                    449318.69\n",
        "9                    652878.48\n",
        "17                   585740.52\n",
        "18                   477863.51\n",
        "20                  6082531.92\n",
        "22                   455663.54\n",
        "24                  5873872.51\n",
        "Name: building_sqft, dtype: float64\n",
        "building_type_id\n",
        "2                   7450\n",
        "3                   8678\n",
        "5                      0\n",
        "9                      0\n",
        "17                     0\n",
        "18                     0\n",
        "20                  6813\n",
        "22                     0\n",
        "24                  6514\n",
        "Name: residential_units, dtype: float64\n",
        "<class 'pandas.core.frame.DataFrame'>\n",
        "Int64Index: 5493 entries, 1015772 to 1021264\n",
        "Data columns (total 17 columns):\n",
        "parcel_id                     5493  non-null values\n",
        "building_type_id              5493  non-null values\n",
        "bldg_sq_ft                    5493  non-null values\n",
        "residential_units             5493  non-null values\n",
        "land_area                     5493  non-null values\n",
        "non_residential_sqft          5493  non-null values\n",
        "improvement_value             5493  non-null values\n",
        "sqft_per_unit                 5493  non-null values\n",
        "stories                       5493  non-null values\n",
        "tax_exempt                    5493  non-null values\n",
        "year_built                    5493  non-null values\n",
        "unit_price_residential        5493  non-null values\n",
        "unit_price_non_residential    5493  non-null values\n",
        "building_sqft_per_job         5493  non-null values\n",
        "non_residential_units         5493  non-null values\n",
        "base_year_jobs                5493  non-null values\n",
        "all_units                     5493  non-null values\n",
        "dtypes: float64(6), int32(11)\n",
        "<class 'pandas.core.frame.DataFrame'>\n",
        "Int64Index: 881751 entries, 55152 to 1015771\n",
        "Data columns (total 17 columns):\n",
        "building_type_id              881751  non-null values\n",
        "improvement_value             881751  non-null values\n",
        "land_area                     881751  non-null values\n",
        "non_residential_sqft          881751  non-null values\n",
        "parcel_id                     881751  non-null values\n",
        "residential_units             881751  non-null values\n",
        "sqft_per_unit                 881751  non-null values\n",
        "stories                       881751  non-null values\n",
        "tax_exempt                    881751  non-null values\n",
        "year_built                    881751  non-null values\n",
        "bldg_sq_ft                    881751  non-null values\n",
        "unit_price_non_residential    881751  non-null values\n",
        "unit_price_residential        881751  non-null values\n",
        "building_sqft_per_job         881750  non-null values\n",
        "non_residential_units         881750  non-null values\n",
        "base_year_jobs                104226  non-null values\n",
        "all_units                     881750  non-null values\n",
        "dtypes: float32(2), float64(4), int32(11)"
       ]
      },
      {
       "output_type": "stream",
       "stream": "stdout",
       "text": [
        "\n"
       ]
      },
      {
       "html": [
        "<pre>\n",
        "&lt;class 'pandas.core.frame.DataFrame'&gt;\n",
        "Int64Index: 887244 entries, 55152 to 1021264\n",
        "Data columns (total 17 columns):\n",
        "all_units                     887243  non-null values\n",
        "base_year_jobs                109719  non-null values\n",
        "bldg_sq_ft                    887244  non-null values\n",
        "building_sqft_per_job         887243  non-null values\n",
        "building_type_id              887244  non-null values\n",
        "improvement_value             887244  non-null values\n",
        "land_area                     887244  non-null values\n",
        "non_residential_sqft          887244  non-null values\n",
        "non_residential_units         887243  non-null values\n",
        "parcel_id                     887244  non-null values\n",
        "residential_units             887244  non-null values\n",
        "sqft_per_unit                 887244  non-null values\n",
        "stories                       887244  non-null values\n",
        "tax_exempt                    887244  non-null values\n",
        "unit_price_non_residential    887244  non-null values\n",
        "unit_price_residential        887244  non-null values\n",
        "year_built                    887244  non-null values\n",
        "dtypes: float64(6), int32(11)\n",
        "</pre>"
       ],
       "metadata": {},
       "output_type": "pyout",
       "prompt_number": 1,
       "text": [
        "<class 'pandas.core.frame.DataFrame'>\n",
        "Int64Index: 887244 entries, 55152 to 1021264\n",
        "Data columns (total 17 columns):\n",
        "all_units                     887243  non-null values\n",
        "base_year_jobs                109719  non-null values\n",
        "bldg_sq_ft                    887244  non-null values\n",
        "building_sqft_per_job         887243  non-null values\n",
        "building_type_id              887244  non-null values\n",
        "improvement_value             887244  non-null values\n",
        "land_area                     887244  non-null values\n",
        "non_residential_sqft          887244  non-null values\n",
        "non_residential_units         887243  non-null values\n",
        "parcel_id                     887244  non-null values\n",
        "residential_units             887244  non-null values\n",
        "sqft_per_unit                 887244  non-null values\n",
        "stories                       887244  non-null values\n",
        "tax_exempt                    887244  non-null values\n",
        "unit_price_non_residential    887244  non-null values\n",
        "unit_price_residential        887244  non-null values\n",
        "year_built                    887244  non-null values\n",
        "dtypes: float64(6), int32(11)"
       ]
      }
     ],
     "prompt_number": 1
    }
   ],
   "metadata": {}
  }
 ]
}